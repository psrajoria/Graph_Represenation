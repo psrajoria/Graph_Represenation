{
 "cells": [
  {
   "cell_type": "code",
   "execution_count": 1,
   "id": "66b29b0a",
   "metadata": {
    "ExecuteTime": {
     "end_time": "2023-09-08T11:44:31.481275Z",
     "start_time": "2023-09-08T11:44:31.160981Z"
    }
   },
   "outputs": [],
   "source": [
    "# Import necessary libraries and define your graph\n",
    "import networkx as nx\n",
    "\n",
    "# # # Create a sample graph (you should replace this with your own graph)\n",
    "# G = nx.Graph()\n",
    "# G.add_edges_from([(1, 2), (1, 3), (2, 4), (2, 5), (3, 6), (4, 5), (5, 6)])\n",
    "# Create a graph\n",
    "G = nx.karate_club_graph()\n",
    "# Define hyperparameters\n",
    "dimensions = 4\n",
    "walk_length = 15\n",
    "num_walks = 20\n",
    "p = 2.0\n",
    "q = 4.0\n",
    "T = 20\n",
    "learning_rate = 0.025\n",
    "window_size = 10\n",
    "epochs = 5\n",
    "negative_samples = 10"
   ]
  },
  {
   "cell_type": "code",
   "execution_count": 2,
   "id": "8a2e2558",
   "metadata": {
    "ExecuteTime": {
     "end_time": "2023-09-08T11:44:31.546540Z",
     "start_time": "2023-09-08T11:44:31.530083Z"
    }
   },
   "outputs": [
    {
     "data": {
      "text/plain": [
       "<networkx.classes.graph.Graph at 0x25d80c7bd30>"
      ]
     },
     "execution_count": 2,
     "metadata": {},
     "output_type": "execute_result"
    }
   ],
   "source": [
    "G"
   ]
  },
  {
   "cell_type": "code",
   "execution_count": 3,
   "id": "ec59d5a4",
   "metadata": {
    "ExecuteTime": {
     "end_time": "2023-09-08T11:44:31.996641Z",
     "start_time": "2023-09-08T11:44:31.966969Z"
    }
   },
   "outputs": [
    {
     "name": "stdout",
     "output_type": "stream",
     "text": [
      "Number of nodes: 34\n",
      "Number of edges: 78\n"
     ]
    }
   ],
   "source": [
    "# Find the number of nodes and edges\n",
    "num_nodes = G.number_of_nodes()\n",
    "num_edges = G.number_of_edges()\n",
    "print(\"Number of nodes:\", num_nodes)\n",
    "print(\"Number of edges:\", num_edges)"
   ]
  },
  {
   "cell_type": "code",
   "execution_count": 4,
   "id": "cea9eaef",
   "metadata": {
    "ExecuteTime": {
     "end_time": "2023-09-08T11:44:35.495749Z",
     "start_time": "2023-09-08T11:44:34.595435Z"
    }
   },
   "outputs": [],
   "source": [
    "from node2vec_def.nodevec import Node2Vec"
   ]
  },
  {
   "cell_type": "code",
   "execution_count": null,
   "id": "84f4ef46",
   "metadata": {},
   "outputs": [],
   "source": []
  },
  {
   "cell_type": "code",
   "execution_count": null,
   "id": "b47e5dd1",
   "metadata": {
    "ExecuteTime": {
     "end_time": "2023-09-05T10:29:39.623330Z",
     "start_time": "2023-09-05T10:29:39.613331Z"
    }
   },
   "outputs": [],
   "source": [
    "# Create an instance of the Node2Vec class\n",
    "node2vec = Node2Vec(G, dimensions, walk_length, num_walks, p, q, T, learning_rate, window_size, epochs, negative_samples)"
   ]
  },
  {
   "cell_type": "code",
   "execution_count": null,
   "id": "dbd488f4",
   "metadata": {
    "ExecuteTime": {
     "end_time": "2023-09-05T10:29:39.861275Z",
     "start_time": "2023-09-05T10:29:39.849165Z"
    }
   },
   "outputs": [],
   "source": [
    "embeddings_before_training = node2vec.get_embeddings()\n"
   ]
  },
  {
   "cell_type": "code",
   "execution_count": null,
   "id": "91b44847",
   "metadata": {
    "ExecuteTime": {
     "end_time": "2023-09-05T10:53:53.989919Z",
     "start_time": "2023-09-05T10:53:53.967265Z"
    }
   },
   "outputs": [],
   "source": [
    "loss_history = model.train()"
   ]
  },
  {
   "cell_type": "code",
   "execution_count": null,
   "id": "3550c3c7",
   "metadata": {
    "ExecuteTime": {
     "end_time": "2023-09-05T10:29:43.764382Z",
     "start_time": "2023-09-05T10:29:40.924575Z"
    }
   },
   "outputs": [],
   "source": [
    "# Train the embeddings\n",
    "node2vec.train()"
   ]
  },
  {
   "cell_type": "code",
   "execution_count": null,
   "id": "0bf127b7",
   "metadata": {
    "ExecuteTime": {
     "end_time": "2023-09-05T08:50:00.414760Z",
     "start_time": "2023-09-05T08:50:00.414760Z"
    }
   },
   "outputs": [],
   "source": [
    "embeddings = node2vec.get_embeddings()\n"
   ]
  },
  {
   "cell_type": "code",
   "execution_count": null,
   "id": "4513d968",
   "metadata": {
    "ExecuteTime": {
     "end_time": "2023-09-05T08:44:24.852940Z",
     "start_time": "2023-09-05T08:44:24.841982Z"
    }
   },
   "outputs": [],
   "source": [
    "embeddings"
   ]
  },
  {
   "cell_type": "code",
   "execution_count": null,
   "id": "5ae733f4",
   "metadata": {
    "ExecuteTime": {
     "end_time": "2023-09-05T08:21:12.331104Z",
     "start_time": "2023-09-05T08:21:12.307249Z"
    }
   },
   "outputs": [],
   "source": [
    "embeddings"
   ]
  },
  {
   "cell_type": "code",
   "execution_count": 9,
   "id": "0453b413",
   "metadata": {
    "ExecuteTime": {
     "end_time": "2023-09-08T11:45:24.869276Z",
     "start_time": "2023-09-08T11:45:24.611343Z"
    }
   },
   "outputs": [
    {
     "ename": "AttributeError",
     "evalue": "'dict' object has no attribute 'get_figure'",
     "output_type": "error",
     "traceback": [
      "\u001b[1;31m---------------------------------------------------------------------------\u001b[0m",
      "\u001b[1;31mAttributeError\u001b[0m                            Traceback (most recent call last)",
      "Cell \u001b[1;32mIn[9], line 9\u001b[0m\n\u001b[0;32m      6\u001b[0m fig, ax \u001b[38;5;241m=\u001b[39m plt\u001b[38;5;241m.\u001b[39msubplots()\n\u001b[0;32m      8\u001b[0m \u001b[38;5;66;03m# Draw nodes and edges\u001b[39;00m\n\u001b[1;32m----> 9\u001b[0m \u001b[43mnx\u001b[49m\u001b[38;5;241;43m.\u001b[39;49m\u001b[43mdraw\u001b[49m\u001b[43m(\u001b[49m\u001b[43mG\u001b[49m\u001b[43m,\u001b[49m\u001b[43m \u001b[49m\u001b[43max\u001b[49m\u001b[43m,\u001b[49m\u001b[43m \u001b[49m\u001b[43mwith_labels\u001b[49m\u001b[38;5;241;43m=\u001b[39;49m\u001b[38;5;28;43;01mTrue\u001b[39;49;00m\u001b[43m,\u001b[49m\u001b[43m \u001b[49m\u001b[43mnode_size\u001b[49m\u001b[38;5;241;43m=\u001b[39;49m\u001b[38;5;241;43m300\u001b[39;49m\u001b[43m,\u001b[49m\u001b[43m \u001b[49m\u001b[43mnode_color\u001b[49m\u001b[38;5;241;43m=\u001b[39;49m\u001b[38;5;124;43m'\u001b[39;49m\u001b[38;5;124;43mskyblue\u001b[39;49m\u001b[38;5;124;43m'\u001b[39;49m\u001b[43m,\u001b[49m\u001b[43m \u001b[49m\u001b[43mfont_size\u001b[49m\u001b[38;5;241;43m=\u001b[39;49m\u001b[38;5;241;43m12\u001b[39;49m\u001b[43m,\u001b[49m\u001b[43m \u001b[49m\u001b[43mfont_color\u001b[49m\u001b[38;5;241;43m=\u001b[39;49m\u001b[38;5;124;43m'\u001b[39;49m\u001b[38;5;124;43mblack\u001b[39;49m\u001b[38;5;124;43m'\u001b[39;49m\u001b[43m,\u001b[49m\u001b[43m \u001b[49m\u001b[43mfont_weight\u001b[49m\u001b[38;5;241;43m=\u001b[39;49m\u001b[38;5;124;43m'\u001b[39;49m\u001b[38;5;124;43mbold\u001b[39;49m\u001b[38;5;124;43m'\u001b[39;49m\u001b[43m,\u001b[49m\u001b[43m \u001b[49m\u001b[43medge_color\u001b[49m\u001b[38;5;241;43m=\u001b[39;49m\u001b[38;5;124;43m'\u001b[39;49m\u001b[38;5;124;43mgray\u001b[39;49m\u001b[38;5;124;43m'\u001b[39;49m\u001b[43m,\u001b[49m\u001b[43m \u001b[49m\u001b[43max\u001b[49m\u001b[38;5;241;43m=\u001b[39;49m\u001b[43mpos\u001b[49m\u001b[43m)\u001b[49m\n\u001b[0;32m     11\u001b[0m \u001b[38;5;66;03m# Add a title\u001b[39;00m\n\u001b[0;32m     12\u001b[0m ax\u001b[38;5;241m.\u001b[39mset_title(\u001b[38;5;124m'\u001b[39m\u001b[38;5;124mGraph with High Structural and Community Similarity\u001b[39m\u001b[38;5;124m'\u001b[39m)\n",
      "File \u001b[1;32m~\\miniconda3\\envs\\torch\\lib\\site-packages\\networkx\\drawing\\nx_pylab.py:110\u001b[0m, in \u001b[0;36mdraw\u001b[1;34m(G, pos, ax, **kwds)\u001b[0m\n\u001b[0;32m    108\u001b[0m     cf \u001b[38;5;241m=\u001b[39m plt\u001b[38;5;241m.\u001b[39mgcf()\n\u001b[0;32m    109\u001b[0m \u001b[38;5;28;01melse\u001b[39;00m:\n\u001b[1;32m--> 110\u001b[0m     cf \u001b[38;5;241m=\u001b[39m \u001b[43max\u001b[49m\u001b[38;5;241;43m.\u001b[39;49m\u001b[43mget_figure\u001b[49m()\n\u001b[0;32m    111\u001b[0m cf\u001b[38;5;241m.\u001b[39mset_facecolor(\u001b[38;5;124m\"\u001b[39m\u001b[38;5;124mw\u001b[39m\u001b[38;5;124m\"\u001b[39m)\n\u001b[0;32m    112\u001b[0m \u001b[38;5;28;01mif\u001b[39;00m ax \u001b[38;5;129;01mis\u001b[39;00m \u001b[38;5;28;01mNone\u001b[39;00m:\n",
      "\u001b[1;31mAttributeError\u001b[0m: 'dict' object has no attribute 'get_figure'"
     ]
    },
    {
     "data": {
      "image/png": "[encoded data removed]",
      "text/plain": [
       "<Figure size 640x480 with 1 Axes>"
      ]
     },
     "metadata": {},
     "output_type": "display_data"
    }
   ],
   "source": [
    "# Define node positions using a spring layout\n",
    "import matplotlib.pyplot as plt\n",
    "pos = nx.spring_layout(G, seed=42)\n",
    "\n",
    "# Create a Matplotlib figure and axis\n",
    "fig, ax = plt.subplots()\n",
    "\n",
    "# Draw nodes and edges\n",
    "nx.draw(G, pos, with_labels=True, node_size=300, node_color='skyblue', font_size=12, font_color='black', font_weight='bold', edge_color='gray', ax=ax)\n",
    "\n",
    "# Add a title\n",
    "ax.set_title('Graph with High Structural and Community Similarity')\n",
    "\n",
    "# Show the plot\n",
    "plt.axis('off')\n",
    "plt.show()"
   ]
  },
  {
   "cell_type": "code",
   "execution_count": null,
   "id": "4168a1c0",
   "metadata": {
    "ExecuteTime": {
     "end_time": "2023-09-05T08:08:32.701426Z",
     "start_time": "2023-09-05T08:08:32.669833Z"
    }
   },
   "outputs": [],
   "source": [
    "# Extract the node names and their corresponding embeddings\n",
    "nodes = list(embeddings.keys())\n",
    "embedding_vectors = [embeddings[node] for node in nodes]\n",
    "\n",
    "# Perform PCA to reduce dimensionality (e.g., to 2 dimensions)\n",
    "pca = PCA(n_components=2)\n",
    "principal_components = pca.fit_transform(embedding_vectors)\n",
    "\n",
    "# Create a scatter plot of the PCA components\n",
    "plt.figure(figsize=(8, 6))\n",
    "plt.scatter(principal_components[:, 0], principal_components[:, 1], alpha=0.5)\n",
    "plt.title('PCA of Node Embeddings')\n",
    "plt.xlabel('Principal Component 1')\n",
    "plt.ylabel('Principal Component 2')\n",
    "\n",
    "# Annotate the points with node labels (optional)\n",
    "for i, node in enumerate(nodes):\n",
    "    plt.annotate(node, (principal_components[i, 0], principal_components[i, 1]), fontsize=8)\n",
    "\n",
    "plt.show()"
   ]
  },
  {
   "cell_type": "code",
   "execution_count": null,
   "id": "4665e9d4",
   "metadata": {
    "ExecuteTime": {
     "end_time": "2023-09-05T06:53:25.805255Z",
     "start_time": "2023-09-05T06:53:25.792970Z"
    }
   },
   "outputs": [],
   "source": [
    "import os\n",
    "import networkx as nx\n",
    "import torch\n",
    "import torch.nn as nn\n",
    "import torch.optim as optim\n",
    "import numpy as np\n",
    "import matplotlib.pyplot as plt\n",
    "from concurrent.futures import ProcessPoolExecutor\n",
    "from tqdm import tqdm\n",
    "from datetime import datetime\n"
   ]
  },
  {
   "cell_type": "code",
   "execution_count": null,
   "id": "d27db5b9",
   "metadata": {
    "ExecuteTime": {
     "end_time": "2023-09-05T06:53:38.836418Z",
     "start_time": "2023-09-05T06:53:38.820457Z"
    }
   },
   "outputs": [],
   "source": [
    "print(torch.__version__)\n",
    "print(torch.version.cuda)"
   ]
  },
  {
   "cell_type": "code",
   "execution_count": null,
   "id": "c98c64f7",
   "metadata": {},
   "outputs": [],
   "source": []
  }
 ],
 "metadata": {
  "kernelspec": {
   "display_name": "torch",
   "language": "python",
   "name": "torch"
  },
  "language_info": {
   "codemirror_mode": {
    "name": "ipython",
    "version": 3
   },
   "file_extension": ".py",
   "mimetype": "text/x-python",
   "name": "python",
   "nbconvert_exporter": "python",
   "pygments_lexer": "ipython3",
   "version": "3.9.16"
  },
  "toc": {
   "base_numbering": 1,
   "nav_menu": {},
   "number_sections": true,
   "sideBar": true,
   "skip_h1_title": false,
   "title_cell": "Table of Contents",
   "title_sidebar": "Contents",
   "toc_cell": false,
   "toc_position": {},
   "toc_section_display": true,
   "toc_window_display": false
  }
 },
 "nbformat": 4,
 "nbformat_minor": 5
}
