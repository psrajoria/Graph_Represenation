{
 "cells": [
  {
   "cell_type": "markdown",
   "id": "696cadf4",
   "metadata": {},
   "source": [
    "# Node classification on Cora Dataset with best paramaters"
   ]
  },
  {
   "cell_type": "code",
   "execution_count": 1,
   "id": "20ece7ff",
   "metadata": {
    "ExecuteTime": {
     "end_time": "2023-09-08T18:48:24.173474Z",
     "start_time": "2023-09-08T18:48:24.055000Z"
    }
   },
   "outputs": [
    {
     "data": {
      "application/javascript": [
       "\n",
       "            setTimeout(function() {\n",
       "                var nbb_cell_id = 1;\n",
       "                var nbb_unformatted_code = \"%load_ext nb_black\";\n",
       "                var nbb_formatted_code = \"%load_ext nb_black\";\n",
       "                var nbb_cells = Jupyter.notebook.get_cells();\n",
       "                for (var i = 0; i < nbb_cells.length; ++i) {\n",
       "                    if (nbb_cells[i].input_prompt_number == nbb_cell_id) {\n",
       "                        if (nbb_cells[i].get_text() == nbb_unformatted_code) {\n",
       "                             nbb_cells[i].set_text(nbb_formatted_code);\n",
       "                        }\n",
       "                        break;\n",
       "                    }\n",
       "                }\n",
       "            }, 500);\n",
       "            "
      ],
      "text/plain": [
       "<IPython.core.display.Javascript object>"
      ]
     },
     "metadata": {},
     "output_type": "display_data"
    }
   ],
   "source": [
    "%load_ext nb_black"
   ]
  },
  {
   "cell_type": "code",
   "execution_count": 2,
   "id": "511458df",
   "metadata": {
    "ExecuteTime": {
     "end_time": "2023-09-08T18:48:26.850615Z",
     "start_time": "2023-09-08T18:48:24.243748Z"
    }
   },
   "outputs": [
    {
     "data": {
      "application/javascript": [
       "\n",
       "            setTimeout(function() {\n",
       "                var nbb_cell_id = 2;\n",
       "                var nbb_unformatted_code = \"from node2vec_algo.pytorch_node2vec import GraphEmbeddingpy, SkipGram\";\n",
       "                var nbb_formatted_code = \"from node2vec_algo.pytorch_node2vec import GraphEmbeddingpy, SkipGram\";\n",
       "                var nbb_cells = Jupyter.notebook.get_cells();\n",
       "                for (var i = 0; i < nbb_cells.length; ++i) {\n",
       "                    if (nbb_cells[i].input_prompt_number == nbb_cell_id) {\n",
       "                        if (nbb_cells[i].get_text() == nbb_unformatted_code) {\n",
       "                             nbb_cells[i].set_text(nbb_formatted_code);\n",
       "                        }\n",
       "                        break;\n",
       "                    }\n",
       "                }\n",
       "            }, 500);\n",
       "            "
      ],
      "text/plain": [
       "<IPython.core.display.Javascript object>"
      ]
     },
     "metadata": {},
     "output_type": "display_data"
    }
   ],
   "source": [
    "from node2vec_algo.pytorch_node2vec import GraphEmbeddingpy, SkipGram"
   ]
  },
  {
   "cell_type": "code",
   "execution_count": 3,
   "id": "363b4b63",
   "metadata": {
    "ExecuteTime": {
     "end_time": "2023-09-08T18:48:28.090386Z",
     "start_time": "2023-09-08T18:48:26.854526Z"
    }
   },
   "outputs": [
    {
     "data": {
      "application/javascript": [
       "\n",
       "            setTimeout(function() {\n",
       "                var nbb_cell_id = 3;\n",
       "                var nbb_unformatted_code = \"import os\\nimport collections\\nimport numpy as np\\nimport pandas as pd\\nimport json\\nimport matplotlib.pyplot as plt\\nimport seaborn as sns\\nimport scipy.sparse as sp\\nimport torch\\nfrom torch import Tensor\\nimport torch_geometric\\nfrom torch_geometric.utils import to_networkx\\nfrom torch_geometric.datasets import Planetoid\\nimport networkx as nx\\nfrom networkx.algorithms import community\";\n",
       "                var nbb_formatted_code = \"import os\\nimport collections\\nimport numpy as np\\nimport pandas as pd\\nimport json\\nimport matplotlib.pyplot as plt\\nimport seaborn as sns\\nimport scipy.sparse as sp\\nimport torch\\nfrom torch import Tensor\\nimport torch_geometric\\nfrom torch_geometric.utils import to_networkx\\nfrom torch_geometric.datasets import Planetoid\\nimport networkx as nx\\nfrom networkx.algorithms import community\";\n",
       "                var nbb_cells = Jupyter.notebook.get_cells();\n",
       "                for (var i = 0; i < nbb_cells.length; ++i) {\n",
       "                    if (nbb_cells[i].input_prompt_number == nbb_cell_id) {\n",
       "                        if (nbb_cells[i].get_text() == nbb_unformatted_code) {\n",
       "                             nbb_cells[i].set_text(nbb_formatted_code);\n",
       "                        }\n",
       "                        break;\n",
       "                    }\n",
       "                }\n",
       "            }, 500);\n",
       "            "
      ],
      "text/plain": [
       "<IPython.core.display.Javascript object>"
      ]
     },
     "metadata": {},
     "output_type": "display_data"
    }
   ],
   "source": [
    "import os\n",
    "import collections\n",
    "import numpy as np\n",
    "import pandas as pd\n",
    "import json\n",
    "import matplotlib.pyplot as plt\n",
    "import seaborn as sns\n",
    "import scipy.sparse as sp\n",
    "import torch\n",
    "from torch import Tensor\n",
    "import torch_geometric\n",
    "from torch_geometric.utils import to_networkx\n",
    "from torch_geometric.datasets import Planetoid\n",
    "import networkx as nx\n",
    "from networkx.algorithms import community"
   ]
  },
  {
   "cell_type": "code",
   "execution_count": 4,
   "id": "81b710ae",
   "metadata": {
    "ExecuteTime": {
     "end_time": "2023-09-08T18:48:28.105246Z",
     "start_time": "2023-09-08T18:48:28.092389Z"
    }
   },
   "outputs": [
    {
     "data": {
      "application/javascript": [
       "\n",
       "            setTimeout(function() {\n",
       "                var nbb_cell_id = 4;\n",
       "                var nbb_unformatted_code = \"# Set random seed for reproducibility\\nSEED = 42\\nnp.random.seed(SEED)\\ndata_dir = \\\"Data/\\\"\\nos.makedirs(data_dir, exist_ok=True)\";\n",
       "                var nbb_formatted_code = \"# Set random seed for reproducibility\\nSEED = 42\\nnp.random.seed(SEED)\\ndata_dir = \\\"Data/\\\"\\nos.makedirs(data_dir, exist_ok=True)\";\n",
       "                var nbb_cells = Jupyter.notebook.get_cells();\n",
       "                for (var i = 0; i < nbb_cells.length; ++i) {\n",
       "                    if (nbb_cells[i].input_prompt_number == nbb_cell_id) {\n",
       "                        if (nbb_cells[i].get_text() == nbb_unformatted_code) {\n",
       "                             nbb_cells[i].set_text(nbb_formatted_code);\n",
       "                        }\n",
       "                        break;\n",
       "                    }\n",
       "                }\n",
       "            }, 500);\n",
       "            "
      ],
      "text/plain": [
       "<IPython.core.display.Javascript object>"
      ]
     },
     "metadata": {},
     "output_type": "display_data"
    }
   ],
   "source": [
    "# Set random seed for reproducibility\n",
    "SEED = 42\n",
    "np.random.seed(SEED)\n",
    "data_dir = \"Data/\"\n",
    "os.makedirs(data_dir, exist_ok=True)"
   ]
  },
  {
   "cell_type": "code",
   "execution_count": 5,
   "id": "51c271c0",
   "metadata": {
    "ExecuteTime": {
     "end_time": "2023-09-08T18:48:28.131380Z",
     "start_time": "2023-09-08T18:48:28.105246Z"
    }
   },
   "outputs": [
    {
     "name": "stdout",
     "output_type": "stream",
     "text": [
      "Dataset properties\n",
      "==============================================================\n",
      "Dataset: Cora()\n",
      "Number of graphs in the dataset: 1\n",
      "Number of features: 1433\n",
      "Number of classes: 7\n"
     ]
    },
    {
     "data": {
      "application/javascript": [
       "\n",
       "            setTimeout(function() {\n",
       "                var nbb_cell_id = 5;\n",
       "                var nbb_unformatted_code = \"dataset = Planetoid(root=data_dir, name=\\\"Cora\\\")\\nprint(\\\"Dataset properties\\\")\\nprint(\\\"==============================================================\\\")\\nprint(f\\\"Dataset: {dataset}\\\")  # This prints the name of the dataset\\nprint(f\\\"Number of graphs in the dataset: {len(dataset)}\\\")\\nprint(\\n    f\\\"Number of features: {dataset.num_features}\\\"\\n)  # Number of features each node in the dataset has\\nprint(\\n    f\\\"Number of classes: {dataset.num_classes}\\\"\\n)  # Number of classes that a node can be classified into\";\n",
       "                var nbb_formatted_code = \"dataset = Planetoid(root=data_dir, name=\\\"Cora\\\")\\nprint(\\\"Dataset properties\\\")\\nprint(\\\"==============================================================\\\")\\nprint(f\\\"Dataset: {dataset}\\\")  # This prints the name of the dataset\\nprint(f\\\"Number of graphs in the dataset: {len(dataset)}\\\")\\nprint(\\n    f\\\"Number of features: {dataset.num_features}\\\"\\n)  # Number of features each node in the dataset has\\nprint(\\n    f\\\"Number of classes: {dataset.num_classes}\\\"\\n)  # Number of classes that a node can be classified into\";\n",
       "                var nbb_cells = Jupyter.notebook.get_cells();\n",
       "                for (var i = 0; i < nbb_cells.length; ++i) {\n",
       "                    if (nbb_cells[i].input_prompt_number == nbb_cell_id) {\n",
       "                        if (nbb_cells[i].get_text() == nbb_unformatted_code) {\n",
       "                             nbb_cells[i].set_text(nbb_formatted_code);\n",
       "                        }\n",
       "                        break;\n",
       "                    }\n",
       "                }\n",
       "            }, 500);\n",
       "            "
      ],
      "text/plain": [
       "<IPython.core.display.Javascript object>"
      ]
     },
     "metadata": {},
     "output_type": "display_data"
    }
   ],
   "source": [
    "dataset = Planetoid(root=data_dir, name=\"Cora\")\n",
    "print(\"Dataset properties\")\n",
    "print(\"==============================================================\")\n",
    "print(f\"Dataset: {dataset}\")  # This prints the name of the dataset\n",
    "print(f\"Number of graphs in the dataset: {len(dataset)}\")\n",
    "print(\n",
    "    f\"Number of features: {dataset.num_features}\"\n",
    ")  # Number of features each node in the dataset has\n",
    "print(\n",
    "    f\"Number of classes: {dataset.num_classes}\"\n",
    ")  # Number of classes that a node can be classified into"
   ]
  },
  {
   "cell_type": "code",
   "execution_count": 6,
   "id": "b69326cb",
   "metadata": {
    "ExecuteTime": {
     "end_time": "2023-09-08T18:48:28.165411Z",
     "start_time": "2023-09-08T18:48:28.131380Z"
    }
   },
   "outputs": [
    {
     "name": "stdout",
     "output_type": "stream",
     "text": [
      "Graph properties\n",
      "==============================================================\n",
      "Number of nodes: 2708\n",
      "Number of edges: 10556\n",
      "Average node degree: 3.90\n",
      "Contains isolated nodes: False\n",
      "Contains self-loops: False\n",
      "Is undirected: True\n"
     ]
    },
    {
     "data": {
      "application/javascript": [
       "\n",
       "            setTimeout(function() {\n",
       "                var nbb_cell_id = 6;\n",
       "                var nbb_unformatted_code = \"data = dataset[0]\\nprint(\\\"Graph properties\\\")\\nprint(\\\"==============================================================\\\")\\n\\n# Gather some statistics about the graph.\\nprint(f\\\"Number of nodes: {data.num_nodes}\\\")  # Number of nodes in the graph\\nprint(f\\\"Number of edges: {data.num_edges}\\\")  # Number of edges in the graph\\nprint(\\n    f\\\"Average node degree: {data.num_edges / data.num_nodes:.2f}\\\"\\n)  # Average number of nodes in the graph\\nprint(\\n    f\\\"Contains isolated nodes: {data.has_isolated_nodes()}\\\"\\n)  # Does the graph contains nodes that are not connected\\nprint(\\n    f\\\"Contains self-loops: {data.has_self_loops()}\\\"\\n)  # Does the graph contains nodes that are linked to themselves\\nprint(f\\\"Is undirected: {data.is_undirected()}\\\")  # Is the graph an undirected graph\";\n",
       "                var nbb_formatted_code = \"data = dataset[0]\\nprint(\\\"Graph properties\\\")\\nprint(\\\"==============================================================\\\")\\n\\n# Gather some statistics about the graph.\\nprint(f\\\"Number of nodes: {data.num_nodes}\\\")  # Number of nodes in the graph\\nprint(f\\\"Number of edges: {data.num_edges}\\\")  # Number of edges in the graph\\nprint(\\n    f\\\"Average node degree: {data.num_edges / data.num_nodes:.2f}\\\"\\n)  # Average number of nodes in the graph\\nprint(\\n    f\\\"Contains isolated nodes: {data.has_isolated_nodes()}\\\"\\n)  # Does the graph contains nodes that are not connected\\nprint(\\n    f\\\"Contains self-loops: {data.has_self_loops()}\\\"\\n)  # Does the graph contains nodes that are linked to themselves\\nprint(f\\\"Is undirected: {data.is_undirected()}\\\")  # Is the graph an undirected graph\";\n",
       "                var nbb_cells = Jupyter.notebook.get_cells();\n",
       "                for (var i = 0; i < nbb_cells.length; ++i) {\n",
       "                    if (nbb_cells[i].input_prompt_number == nbb_cell_id) {\n",
       "                        if (nbb_cells[i].get_text() == nbb_unformatted_code) {\n",
       "                             nbb_cells[i].set_text(nbb_formatted_code);\n",
       "                        }\n",
       "                        break;\n",
       "                    }\n",
       "                }\n",
       "            }, 500);\n",
       "            "
      ],
      "text/plain": [
       "<IPython.core.display.Javascript object>"
      ]
     },
     "metadata": {},
     "output_type": "display_data"
    }
   ],
   "source": [
    "data = dataset[0]\n",
    "print(\"Graph properties\")\n",
    "print(\"==============================================================\")\n",
    "\n",
    "# Gather some statistics about the graph.\n",
    "print(f\"Number of nodes: {data.num_nodes}\")  # Number of nodes in the graph\n",
    "print(f\"Number of edges: {data.num_edges}\")  # Number of edges in the graph\n",
    "print(\n",
    "    f\"Average node degree: {data.num_edges / data.num_nodes:.2f}\"\n",
    ")  # Average number of nodes in the graph\n",
    "print(\n",
    "    f\"Contains isolated nodes: {data.has_isolated_nodes()}\"\n",
    ")  # Does the graph contains nodes that are not connected\n",
    "print(\n",
    "    f\"Contains self-loops: {data.has_self_loops()}\"\n",
    ")  # Does the graph contains nodes that are linked to themselves\n",
    "print(f\"Is undirected: {data.is_undirected()}\")  # Is the graph an undirected graph"
   ]
  },
  {
   "cell_type": "code",
   "execution_count": 7,
   "id": "e0a50cf6",
   "metadata": {
    "ExecuteTime": {
     "end_time": "2023-09-08T18:48:28.180768Z",
     "start_time": "2023-09-08T18:48:28.165411Z"
    }
   },
   "outputs": [
    {
     "data": {
      "text/plain": [
       "Data(x=[2708, 1433], edge_index=[2, 10556], y=[2708], train_mask=[2708], val_mask=[2708], test_mask=[2708])"
      ]
     },
     "execution_count": 7,
     "metadata": {},
     "output_type": "execute_result"
    },
    {
     "data": {
      "application/javascript": [
       "\n",
       "            setTimeout(function() {\n",
       "                var nbb_cell_id = 7;\n",
       "                var nbb_unformatted_code = \"data\";\n",
       "                var nbb_formatted_code = \"data\";\n",
       "                var nbb_cells = Jupyter.notebook.get_cells();\n",
       "                for (var i = 0; i < nbb_cells.length; ++i) {\n",
       "                    if (nbb_cells[i].input_prompt_number == nbb_cell_id) {\n",
       "                        if (nbb_cells[i].get_text() == nbb_unformatted_code) {\n",
       "                             nbb_cells[i].set_text(nbb_formatted_code);\n",
       "                        }\n",
       "                        break;\n",
       "                    }\n",
       "                }\n",
       "            }, 500);\n",
       "            "
      ],
      "text/plain": [
       "<IPython.core.display.Javascript object>"
      ]
     },
     "metadata": {},
     "output_type": "display_data"
    }
   ],
   "source": [
    "data"
   ]
  },
  {
   "cell_type": "code",
   "execution_count": 8,
   "id": "323b08b1",
   "metadata": {
    "ExecuteTime": {
     "end_time": "2023-09-08T18:48:29.522086Z",
     "start_time": "2023-09-08T18:48:29.510087Z"
    }
   },
   "outputs": [
    {
     "name": "stdout",
     "output_type": "stream",
     "text": [
      "Average node degree: 3.90\n"
     ]
    },
    {
     "data": {
      "application/javascript": [
       "\n",
       "            setTimeout(function() {\n",
       "                var nbb_cell_id = 8;\n",
       "                var nbb_unformatted_code = \"print(f\\\"Average node degree: {data.num_edges / data.num_nodes:.2f}\\\")\";\n",
       "                var nbb_formatted_code = \"print(f\\\"Average node degree: {data.num_edges / data.num_nodes:.2f}\\\")\";\n",
       "                var nbb_cells = Jupyter.notebook.get_cells();\n",
       "                for (var i = 0; i < nbb_cells.length; ++i) {\n",
       "                    if (nbb_cells[i].input_prompt_number == nbb_cell_id) {\n",
       "                        if (nbb_cells[i].get_text() == nbb_unformatted_code) {\n",
       "                             nbb_cells[i].set_text(nbb_formatted_code);\n",
       "                        }\n",
       "                        break;\n",
       "                    }\n",
       "                }\n",
       "            }, 500);\n",
       "            "
      ],
      "text/plain": [
       "<IPython.core.display.Javascript object>"
      ]
     },
     "metadata": {},
     "output_type": "display_data"
    }
   ],
   "source": [
    "print(f\"Average node degree: {data.num_edges / data.num_nodes:.2f}\")"
   ]
  },
  {
   "cell_type": "code",
   "execution_count": 9,
   "id": "918a54f3",
   "metadata": {
    "ExecuteTime": {
     "end_time": "2023-09-08T18:48:30.518398Z",
     "start_time": "2023-09-08T18:48:30.315292Z"
    }
   },
   "outputs": [
    {
     "data": {
      "application/javascript": [
       "\n",
       "            setTimeout(function() {\n",
       "                var nbb_cell_id = 9;\n",
       "                var nbb_unformatted_code = \"G = to_networkx(data, to_undirected=True)\";\n",
       "                var nbb_formatted_code = \"G = to_networkx(data, to_undirected=True)\";\n",
       "                var nbb_cells = Jupyter.notebook.get_cells();\n",
       "                for (var i = 0; i < nbb_cells.length; ++i) {\n",
       "                    if (nbb_cells[i].input_prompt_number == nbb_cell_id) {\n",
       "                        if (nbb_cells[i].get_text() == nbb_unformatted_code) {\n",
       "                             nbb_cells[i].set_text(nbb_formatted_code);\n",
       "                        }\n",
       "                        break;\n",
       "                    }\n",
       "                }\n",
       "            }, 500);\n",
       "            "
      ],
      "text/plain": [
       "<IPython.core.display.Javascript object>"
      ]
     },
     "metadata": {},
     "output_type": "display_data"
    }
   ],
   "source": [
    "G = to_networkx(data, to_undirected=True)"
   ]
  },
  {
   "cell_type": "code",
   "execution_count": 10,
   "id": "fb090272",
   "metadata": {
    "ExecuteTime": {
     "end_time": "2023-09-08T18:48:31.190251Z",
     "start_time": "2023-09-08T18:48:31.180250Z"
    }
   },
   "outputs": [
    {
     "data": {
      "application/javascript": [
       "\n",
       "            setTimeout(function() {\n",
       "                var nbb_cell_id = 10;\n",
       "                var nbb_unformatted_code = \"def loss_function(Z, S):\\n    \\\"\\\"\\\"\\n    Calculate the objective function ||Z^T*Z - S||^2.\\n\\n    Args:\\n        Z (numpy.ndarray): The node embeddings as a numpy array.\\n        S (numpy.ndarray): The similarity matrix.\\n\\n    Returns:\\n        float: The value of the objective function.\\n    \\\"\\\"\\\"\\n    Z_transpose = np.transpose(Z)\\n    diff = np.dot(Z_transpose, Z) - S\\n    #     obj_func = np.linalg.norm(diff) ** 2\\n    obj_func = np.linalg.norm(diff)\\n    return obj_func\";\n",
       "                var nbb_formatted_code = \"def loss_function(Z, S):\\n    \\\"\\\"\\\"\\n    Calculate the objective function ||Z^T*Z - S||^2.\\n\\n    Args:\\n        Z (numpy.ndarray): The node embeddings as a numpy array.\\n        S (numpy.ndarray): The similarity matrix.\\n\\n    Returns:\\n        float: The value of the objective function.\\n    \\\"\\\"\\\"\\n    Z_transpose = np.transpose(Z)\\n    diff = np.dot(Z_transpose, Z) - S\\n    #     obj_func = np.linalg.norm(diff) ** 2\\n    obj_func = np.linalg.norm(diff)\\n    return obj_func\";\n",
       "                var nbb_cells = Jupyter.notebook.get_cells();\n",
       "                for (var i = 0; i < nbb_cells.length; ++i) {\n",
       "                    if (nbb_cells[i].input_prompt_number == nbb_cell_id) {\n",
       "                        if (nbb_cells[i].get_text() == nbb_unformatted_code) {\n",
       "                             nbb_cells[i].set_text(nbb_formatted_code);\n",
       "                        }\n",
       "                        break;\n",
       "                    }\n",
       "                }\n",
       "            }, 500);\n",
       "            "
      ],
      "text/plain": [
       "<IPython.core.display.Javascript object>"
      ]
     },
     "metadata": {},
     "output_type": "display_data"
    }
   ],
   "source": [
    "def loss_function(Z, S):\n",
    "    \"\"\"\n",
    "    Calculate the objective function ||Z^T*Z - S||^2.\n",
    "\n",
    "    Args:\n",
    "        Z (numpy.ndarray): The node embeddings as a numpy array.\n",
    "        S (numpy.ndarray): The similarity matrix.\n",
    "\n",
    "    Returns:\n",
    "        float: The value of the objective function.\n",
    "    \"\"\"\n",
    "    Z_transpose = np.transpose(Z)\n",
    "    diff = np.dot(Z_transpose, Z) - S\n",
    "    #     obj_func = np.linalg.norm(diff) ** 2\n",
    "    obj_func = np.linalg.norm(diff)\n",
    "    return obj_func"
   ]
  },
  {
   "cell_type": "code",
   "execution_count": 11,
   "id": "5de7581d",
   "metadata": {
    "ExecuteTime": {
     "end_time": "2023-09-08T18:48:32.074313Z",
     "start_time": "2023-09-08T18:48:32.061117Z"
    }
   },
   "outputs": [
    {
     "data": {
      "application/javascript": [
       "\n",
       "            setTimeout(function() {\n",
       "                var nbb_cell_id = 11;\n",
       "                var nbb_unformatted_code = \"# Load the parameters from the JSON file\\nwith open(\\\"best_hyperparameters.json\\\", \\\"r\\\") as json_file:\\n    hyperparameters = json.load(json_file)\";\n",
       "                var nbb_formatted_code = \"# Load the parameters from the JSON file\\nwith open(\\\"best_hyperparameters.json\\\", \\\"r\\\") as json_file:\\n    hyperparameters = json.load(json_file)\";\n",
       "                var nbb_cells = Jupyter.notebook.get_cells();\n",
       "                for (var i = 0; i < nbb_cells.length; ++i) {\n",
       "                    if (nbb_cells[i].input_prompt_number == nbb_cell_id) {\n",
       "                        if (nbb_cells[i].get_text() == nbb_unformatted_code) {\n",
       "                             nbb_cells[i].set_text(nbb_formatted_code);\n",
       "                        }\n",
       "                        break;\n",
       "                    }\n",
       "                }\n",
       "            }, 500);\n",
       "            "
      ],
      "text/plain": [
       "<IPython.core.display.Javascript object>"
      ]
     },
     "metadata": {},
     "output_type": "display_data"
    }
   ],
   "source": [
    "# Load the parameters from the JSON file\n",
    "with open(\"best_hyperparameters.json\", \"r\") as json_file:\n",
    "    hyperparameters = json.load(json_file)"
   ]
  },
  {
   "cell_type": "code",
   "execution_count": 12,
   "id": "1c735006",
   "metadata": {
    "ExecuteTime": {
     "end_time": "2023-09-08T18:48:32.989332Z",
     "start_time": "2023-09-08T18:48:32.972465Z"
    }
   },
   "outputs": [
    {
     "data": {
      "text/plain": [
       "{'return_param': 2.832290311184182,\n",
       " 'in_out_param': 1.3013213230530574,\n",
       " 'num_walks': 6,\n",
       " 'walk_length': 77,\n",
       " 'window_size': 8,\n",
       " 'dimension': 256,\n",
       " 'epochs': 50,\n",
       " 'negative': 3,\n",
       " 'batch_words': 16,\n",
       " 'learning_rate': 0.0001,\n",
       " 'min_count': 1,\n",
       " 'weight_decay': 0.0001}"
      ]
     },
     "execution_count": 12,
     "metadata": {},
     "output_type": "execute_result"
    },
    {
     "data": {
      "application/javascript": [
       "\n",
       "            setTimeout(function() {\n",
       "                var nbb_cell_id = 12;\n",
       "                var nbb_unformatted_code = \"hyperparameters\";\n",
       "                var nbb_formatted_code = \"hyperparameters\";\n",
       "                var nbb_cells = Jupyter.notebook.get_cells();\n",
       "                for (var i = 0; i < nbb_cells.length; ++i) {\n",
       "                    if (nbb_cells[i].input_prompt_number == nbb_cell_id) {\n",
       "                        if (nbb_cells[i].get_text() == nbb_unformatted_code) {\n",
       "                             nbb_cells[i].set_text(nbb_formatted_code);\n",
       "                        }\n",
       "                        break;\n",
       "                    }\n",
       "                }\n",
       "            }, 500);\n",
       "            "
      ],
      "text/plain": [
       "<IPython.core.display.Javascript object>"
      ]
     },
     "metadata": {},
     "output_type": "display_data"
    }
   ],
   "source": [
    "hyperparameters"
   ]
  },
  {
   "cell_type": "code",
   "execution_count": 13,
   "id": "1fb90da3",
   "metadata": {
    "ExecuteTime": {
     "end_time": "2023-09-08T18:48:34.020371Z",
     "start_time": "2023-09-08T18:48:34.008372Z"
    }
   },
   "outputs": [
    {
     "data": {
      "application/javascript": [
       "\n",
       "            setTimeout(function() {\n",
       "                var nbb_cell_id = 13;\n",
       "                var nbb_unformatted_code = \"# # Define the hyperparameter search space\\n# param_space = {\\n#     \\\"return_param\\\": np.random.uniform(0.0, 4.0, 50),  # Example: random uniform sampling\\n#     \\\"in_out_param\\\": np.random.uniform(0.0, 4.0, 50),  # Example: random uniform sampling\\n#     \\\"num_walks\\\": np.random.randint(3, 12, 8),  # Example: random integer sampling\\n#     \\\"walk_length\\\": np.random.randint(50, 100, 10),  # Example: random integer sampling\\n#     \\\"window_size\\\": np.random.randint(5, 12, 5),  # Example: random integer sampling\\n#     \\\"dimension\\\": np.random.choice([32, 64, 128, 256], 6),  # Example: random choice\\n#     #     \\\"epochs\\\": np.random.choice([10, 20, 30, 50, 60], 5),  # Example: random choice\\n#     \\\"epochs\\\": 5,  # Example: random choice\\n#     \\\"negative\\\": np.random.choice([3, 6], 5),  # Example: random choice\\n#     \\\"batch_words\\\": np.random.choice([8, 16], 5),  # Example: random choice\\n#     \\\"learning_rate\\\": np.random.choice([0.01, 0.0001, 0.02], 10),\\n#     \\\"min_count\\\": np.random.choice([0, 1, 2], 3),\\n#     \\\"weight_decay\\\": np.random.choice([1e-3, 1e-4, 1e-5, 1e-2], 4),\\n# }\\n\\n# best_loss = float(\\\"inf\\\")\\n# best_params = None\";\n",
       "                var nbb_formatted_code = \"# # Define the hyperparameter search space\\n# param_space = {\\n#     \\\"return_param\\\": np.random.uniform(0.0, 4.0, 50),  # Example: random uniform sampling\\n#     \\\"in_out_param\\\": np.random.uniform(0.0, 4.0, 50),  # Example: random uniform sampling\\n#     \\\"num_walks\\\": np.random.randint(3, 12, 8),  # Example: random integer sampling\\n#     \\\"walk_length\\\": np.random.randint(50, 100, 10),  # Example: random integer sampling\\n#     \\\"window_size\\\": np.random.randint(5, 12, 5),  # Example: random integer sampling\\n#     \\\"dimension\\\": np.random.choice([32, 64, 128, 256], 6),  # Example: random choice\\n#     #     \\\"epochs\\\": np.random.choice([10, 20, 30, 50, 60], 5),  # Example: random choice\\n#     \\\"epochs\\\": 5,  # Example: random choice\\n#     \\\"negative\\\": np.random.choice([3, 6], 5),  # Example: random choice\\n#     \\\"batch_words\\\": np.random.choice([8, 16], 5),  # Example: random choice\\n#     \\\"learning_rate\\\": np.random.choice([0.01, 0.0001, 0.02], 10),\\n#     \\\"min_count\\\": np.random.choice([0, 1, 2], 3),\\n#     \\\"weight_decay\\\": np.random.choice([1e-3, 1e-4, 1e-5, 1e-2], 4),\\n# }\\n\\n# best_loss = float(\\\"inf\\\")\\n# best_params = None\";\n",
       "                var nbb_cells = Jupyter.notebook.get_cells();\n",
       "                for (var i = 0; i < nbb_cells.length; ++i) {\n",
       "                    if (nbb_cells[i].input_prompt_number == nbb_cell_id) {\n",
       "                        if (nbb_cells[i].get_text() == nbb_unformatted_code) {\n",
       "                             nbb_cells[i].set_text(nbb_formatted_code);\n",
       "                        }\n",
       "                        break;\n",
       "                    }\n",
       "                }\n",
       "            }, 500);\n",
       "            "
      ],
      "text/plain": [
       "<IPython.core.display.Javascript object>"
      ]
     },
     "metadata": {},
     "output_type": "display_data"
    }
   ],
   "source": [
    "# # Define the hyperparameter search space\n",
    "# param_space = {\n",
    "#     \"return_param\": np.random.uniform(0.0, 4.0, 50),  # Example: random uniform sampling\n",
    "#     \"in_out_param\": np.random.uniform(0.0, 4.0, 50),  # Example: random uniform sampling\n",
    "#     \"num_walks\": np.random.randint(3, 12, 8),  # Example: random integer sampling\n",
    "#     \"walk_length\": np.random.randint(50, 100, 10),  # Example: random integer sampling\n",
    "#     \"window_size\": np.random.randint(5, 12, 5),  # Example: random integer sampling\n",
    "#     \"dimension\": np.random.choice([32, 64, 128, 256], 6),  # Example: random choice\n",
    "#     #     \"epochs\": np.random.choice([10, 20, 30, 50, 60], 5),  # Example: random choice\n",
    "#     \"epochs\": 5,  # Example: random choice\n",
    "#     \"negative\": np.random.choice([3, 6], 5),  # Example: random choice\n",
    "#     \"batch_words\": np.random.choice([8, 16], 5),  # Example: random choice\n",
    "#     \"learning_rate\": np.random.choice([0.01, 0.0001, 0.02], 10),\n",
    "#     \"min_count\": np.random.choice([0, 1, 2], 3),\n",
    "#     \"weight_decay\": np.random.choice([1e-3, 1e-4, 1e-5, 1e-2], 4),\n",
    "# }\n",
    "\n",
    "# best_loss = float(\"inf\")\n",
    "# best_params = None"
   ]
  },
  {
   "cell_type": "code",
   "execution_count": 14,
   "id": "faaa1794",
   "metadata": {
    "ExecuteTime": {
     "end_time": "2023-09-08T18:48:34.841536Z",
     "start_time": "2023-09-08T18:48:34.831531Z"
    }
   },
   "outputs": [
    {
     "data": {
      "application/javascript": [
       "\n",
       "            setTimeout(function() {\n",
       "                var nbb_cell_id = 14;\n",
       "                var nbb_unformatted_code = \"# Create an instance of your GraphEmbedding class with sampled hyperparameters\\nembedding = GraphEmbeddingpy(\\n    graph=G,\\n    return_param=hyperparameters[\\\"return_param\\\"],\\n    in_out_param=hyperparameters[\\\"in_out_param\\\"],\\n    num_walks=hyperparameters[\\\"num_walks\\\"],\\n    walk_length=hyperparameters[\\\"walk_length\\\"],\\n)\";\n",
       "                var nbb_formatted_code = \"# Create an instance of your GraphEmbedding class with sampled hyperparameters\\nembedding = GraphEmbeddingpy(\\n    graph=G,\\n    return_param=hyperparameters[\\\"return_param\\\"],\\n    in_out_param=hyperparameters[\\\"in_out_param\\\"],\\n    num_walks=hyperparameters[\\\"num_walks\\\"],\\n    walk_length=hyperparameters[\\\"walk_length\\\"],\\n)\";\n",
       "                var nbb_cells = Jupyter.notebook.get_cells();\n",
       "                for (var i = 0; i < nbb_cells.length; ++i) {\n",
       "                    if (nbb_cells[i].input_prompt_number == nbb_cell_id) {\n",
       "                        if (nbb_cells[i].get_text() == nbb_unformatted_code) {\n",
       "                             nbb_cells[i].set_text(nbb_formatted_code);\n",
       "                        }\n",
       "                        break;\n",
       "                    }\n",
       "                }\n",
       "            }, 500);\n",
       "            "
      ],
      "text/plain": [
       "<IPython.core.display.Javascript object>"
      ]
     },
     "metadata": {},
     "output_type": "display_data"
    }
   ],
   "source": [
    "# Create an instance of your GraphEmbedding class with sampled hyperparameters\n",
    "embedding = GraphEmbeddingpy(\n",
    "    graph=G,\n",
    "    return_param=hyperparameters[\"return_param\"],\n",
    "    in_out_param=hyperparameters[\"in_out_param\"],\n",
    "    num_walks=hyperparameters[\"num_walks\"],\n",
    "    walk_length=hyperparameters[\"walk_length\"],\n",
    ")\n"
   ]
  },
  {
   "cell_type": "code",
   "execution_count": 15,
   "id": "17879af7",
   "metadata": {
    "ExecuteTime": {
     "end_time": "2023-09-08T19:02:08.233979Z",
     "start_time": "2023-09-08T18:48:37.480132Z"
    }
   },
   "outputs": [
    {
     "name": "stderr",
     "output_type": "stream",
     "text": [
      "Calculating Transition Probabilities: 100%|██████████████████████████████████████████████████████████████████████████| 2708/2708 [00:00<00:00, 9684.00it/s]\n",
      "Generating Random Walks: 100%|█████████████████████████████████████████████████████████████████████████████████████████| 2708/2708 [02:52<00:00, 15.68it/s]\n",
      "Calculating Probabilities: 100%|███████████████████████████████████████████████████████████████████████████████████████| 2708/2708 [10:36<00:00,  4.26it/s]\n"
     ]
    },
    {
     "data": {
      "application/javascript": [
       "\n",
       "            setTimeout(function() {\n",
       "                var nbb_cell_id = 15;\n",
       "                var nbb_unformatted_code = \"probab = embedding.calculate_transition_probabilities()\\n# Train and evaluate with the current set of hyperparameters\\nwalks, uns = embedding.generate_random_walks()\\nS = embedding.calculate_probability_matrix(uns)\";\n",
       "                var nbb_formatted_code = \"probab = embedding.calculate_transition_probabilities()\\n# Train and evaluate with the current set of hyperparameters\\nwalks, uns = embedding.generate_random_walks()\\nS = embedding.calculate_probability_matrix(uns)\";\n",
       "                var nbb_cells = Jupyter.notebook.get_cells();\n",
       "                for (var i = 0; i < nbb_cells.length; ++i) {\n",
       "                    if (nbb_cells[i].input_prompt_number == nbb_cell_id) {\n",
       "                        if (nbb_cells[i].get_text() == nbb_unformatted_code) {\n",
       "                             nbb_cells[i].set_text(nbb_formatted_code);\n",
       "                        }\n",
       "                        break;\n",
       "                    }\n",
       "                }\n",
       "            }, 500);\n",
       "            "
      ],
      "text/plain": [
       "<IPython.core.display.Javascript object>"
      ]
     },
     "metadata": {},
     "output_type": "display_data"
    }
   ],
   "source": [
    "probab = embedding.calculate_transition_probabilities()\n",
    "# Train and evaluate with the current set of hyperparameters\n",
    "walks, uns = embedding.generate_random_walks()\n",
    "S = embedding.calculate_probability_matrix(uns)"
   ]
  },
  {
   "cell_type": "code",
   "execution_count": 17,
   "id": "e29e00c9",
   "metadata": {
    "ExecuteTime": {
     "end_time": "2023-09-08T19:38:02.243074Z",
     "start_time": "2023-09-08T19:02:59.677518Z"
    }
   },
   "outputs": [
    {
     "name": "stderr",
     "output_type": "stream",
     "text": [
      "Training Word2Vec:   0%|                                                                                                            | 0/50 [35:02<?, ?it/s]\n"
     ]
    },
    {
     "ename": "KeyboardInterrupt",
     "evalue": "",
     "output_type": "error",
     "traceback": [
      "\u001b[1;31m---------------------------------------------------------------------------\u001b[0m",
      "\u001b[1;31mKeyboardInterrupt\u001b[0m                         Traceback (most recent call last)",
      "Cell \u001b[1;32mIn[17], line 1\u001b[0m\n\u001b[1;32m----> 1\u001b[0m node_embeddings \u001b[38;5;241m=\u001b[39m \u001b[43membedding\u001b[49m\u001b[38;5;241;43m.\u001b[39;49m\u001b[43mtraining\u001b[49m\u001b[43m(\u001b[49m\n\u001b[0;32m      2\u001b[0m \u001b[43m    \u001b[49m\u001b[43mwalks\u001b[49m\u001b[43m,\u001b[49m\n\u001b[0;32m      3\u001b[0m \u001b[43m    \u001b[49m\u001b[43mwindow_size\u001b[49m\u001b[38;5;241;43m=\u001b[39;49m\u001b[43mhyperparameters\u001b[49m\u001b[43m[\u001b[49m\u001b[38;5;124;43m\"\u001b[39;49m\u001b[38;5;124;43mwindow_size\u001b[39;49m\u001b[38;5;124;43m\"\u001b[39;49m\u001b[43m]\u001b[49m\u001b[43m,\u001b[49m\n\u001b[0;32m      4\u001b[0m \u001b[43m    \u001b[49m\u001b[43mdimension\u001b[49m\u001b[38;5;241;43m=\u001b[39;49m\u001b[43mhyperparameters\u001b[49m\u001b[43m[\u001b[49m\u001b[38;5;124;43m\"\u001b[39;49m\u001b[38;5;124;43mdimension\u001b[39;49m\u001b[38;5;124;43m\"\u001b[39;49m\u001b[43m]\u001b[49m\u001b[43m,\u001b[49m\n\u001b[0;32m      5\u001b[0m \u001b[43m    \u001b[49m\u001b[38;5;66;43;03m#         sg=1,\u001b[39;49;00m\n\u001b[0;32m      6\u001b[0m \u001b[43m    \u001b[49m\u001b[43mepochs\u001b[49m\u001b[38;5;241;43m=\u001b[39;49m\u001b[43mhyperparameters\u001b[49m\u001b[43m[\u001b[49m\u001b[38;5;124;43m'\u001b[39;49m\u001b[38;5;124;43mepochs\u001b[39;49m\u001b[38;5;124;43m'\u001b[39;49m\u001b[43m]\u001b[49m\u001b[43m,\u001b[49m\n\u001b[0;32m      7\u001b[0m \u001b[43m    \u001b[49m\u001b[43mweight_decay\u001b[49m\u001b[38;5;241;43m=\u001b[39;49m\u001b[43mhyperparameters\u001b[49m\u001b[43m[\u001b[49m\u001b[38;5;124;43m\"\u001b[39;49m\u001b[38;5;124;43mweight_decay\u001b[39;49m\u001b[38;5;124;43m\"\u001b[39;49m\u001b[43m]\u001b[49m\u001b[43m,\u001b[49m\n\u001b[0;32m      8\u001b[0m \u001b[43m    \u001b[49m\u001b[38;5;66;43;03m#         negative=sampled_params['negative'],\u001b[39;49;00m\n\u001b[0;32m      9\u001b[0m \u001b[43m    \u001b[49m\u001b[38;5;66;43;03m#         batch_words=sampled_params['batch_words'],\u001b[39;49;00m\n\u001b[0;32m     10\u001b[0m \u001b[43m    \u001b[49m\u001b[43mlearning_rate\u001b[49m\u001b[38;5;241;43m=\u001b[39;49m\u001b[43mhyperparameters\u001b[49m\u001b[43m[\u001b[49m\u001b[38;5;124;43m\"\u001b[39;49m\u001b[38;5;124;43mlearning_rate\u001b[39;49m\u001b[38;5;124;43m\"\u001b[39;49m\u001b[43m]\u001b[49m\u001b[43m,\u001b[49m\n\u001b[0;32m     11\u001b[0m \u001b[43m)\u001b[49m\n",
      "File \u001b[1;32mD:\\Data\\MSc Data Science\\Uni\\Project Work\\Graph Represt - Prof Chris Brau\\Graphs_learning\\Graph_Represenation\\code\\code_submission\\node2vec_algo\\pytorch_node2vec.py:216\u001b[0m, in \u001b[0;36mGraphEmbeddingpy.training\u001b[1;34m(self, walks, window_size, dimension, epochs, weight_decay, learning_rate)\u001b[0m\n\u001b[0;32m    213\u001b[0m loss \u001b[38;5;241m=\u001b[39m \u001b[38;5;241m-\u001b[39mtorch\u001b[38;5;241m.\u001b[39mlog(torch\u001b[38;5;241m.\u001b[39msigmoid(scores))\u001b[38;5;241m.\u001b[39mmean()\n\u001b[0;32m    215\u001b[0m optimizer\u001b[38;5;241m.\u001b[39mzero_grad()\n\u001b[1;32m--> 216\u001b[0m \u001b[43mloss\u001b[49m\u001b[38;5;241;43m.\u001b[39;49m\u001b[43mbackward\u001b[49m\u001b[43m(\u001b[49m\u001b[43m)\u001b[49m\n\u001b[0;32m    217\u001b[0m optimizer\u001b[38;5;241m.\u001b[39mstep()\n\u001b[0;32m    219\u001b[0m total_loss \u001b[38;5;241m+\u001b[39m\u001b[38;5;241m=\u001b[39m loss\u001b[38;5;241m.\u001b[39mitem()\n",
      "File \u001b[1;32m~\\miniconda3\\envs\\torch\\lib\\site-packages\\torch\\_tensor.py:487\u001b[0m, in \u001b[0;36mTensor.backward\u001b[1;34m(self, gradient, retain_graph, create_graph, inputs)\u001b[0m\n\u001b[0;32m    477\u001b[0m \u001b[38;5;28;01mif\u001b[39;00m has_torch_function_unary(\u001b[38;5;28mself\u001b[39m):\n\u001b[0;32m    478\u001b[0m     \u001b[38;5;28;01mreturn\u001b[39;00m handle_torch_function(\n\u001b[0;32m    479\u001b[0m         Tensor\u001b[38;5;241m.\u001b[39mbackward,\n\u001b[0;32m    480\u001b[0m         (\u001b[38;5;28mself\u001b[39m,),\n\u001b[1;32m   (...)\u001b[0m\n\u001b[0;32m    485\u001b[0m         inputs\u001b[38;5;241m=\u001b[39minputs,\n\u001b[0;32m    486\u001b[0m     )\n\u001b[1;32m--> 487\u001b[0m \u001b[43mtorch\u001b[49m\u001b[38;5;241;43m.\u001b[39;49m\u001b[43mautograd\u001b[49m\u001b[38;5;241;43m.\u001b[39;49m\u001b[43mbackward\u001b[49m\u001b[43m(\u001b[49m\n\u001b[0;32m    488\u001b[0m \u001b[43m    \u001b[49m\u001b[38;5;28;43mself\u001b[39;49m\u001b[43m,\u001b[49m\u001b[43m \u001b[49m\u001b[43mgradient\u001b[49m\u001b[43m,\u001b[49m\u001b[43m \u001b[49m\u001b[43mretain_graph\u001b[49m\u001b[43m,\u001b[49m\u001b[43m \u001b[49m\u001b[43mcreate_graph\u001b[49m\u001b[43m,\u001b[49m\u001b[43m \u001b[49m\u001b[43minputs\u001b[49m\u001b[38;5;241;43m=\u001b[39;49m\u001b[43minputs\u001b[49m\n\u001b[0;32m    489\u001b[0m \u001b[43m\u001b[49m\u001b[43m)\u001b[49m\n",
      "File \u001b[1;32m~\\miniconda3\\envs\\torch\\lib\\site-packages\\torch\\autograd\\__init__.py:200\u001b[0m, in \u001b[0;36mbackward\u001b[1;34m(tensors, grad_tensors, retain_graph, create_graph, grad_variables, inputs)\u001b[0m\n\u001b[0;32m    195\u001b[0m     retain_graph \u001b[38;5;241m=\u001b[39m create_graph\n\u001b[0;32m    197\u001b[0m \u001b[38;5;66;03m# The reason we repeat same the comment below is that\u001b[39;00m\n\u001b[0;32m    198\u001b[0m \u001b[38;5;66;03m# some Python versions print out the first line of a multi-line function\u001b[39;00m\n\u001b[0;32m    199\u001b[0m \u001b[38;5;66;03m# calls in the traceback and some print out the last line\u001b[39;00m\n\u001b[1;32m--> 200\u001b[0m \u001b[43mVariable\u001b[49m\u001b[38;5;241;43m.\u001b[39;49m\u001b[43m_execution_engine\u001b[49m\u001b[38;5;241;43m.\u001b[39;49m\u001b[43mrun_backward\u001b[49m\u001b[43m(\u001b[49m\u001b[43m  \u001b[49m\u001b[38;5;66;43;03m# Calls into the C++ engine to run the backward pass\u001b[39;49;00m\n\u001b[0;32m    201\u001b[0m \u001b[43m    \u001b[49m\u001b[43mtensors\u001b[49m\u001b[43m,\u001b[49m\u001b[43m \u001b[49m\u001b[43mgrad_tensors_\u001b[49m\u001b[43m,\u001b[49m\u001b[43m \u001b[49m\u001b[43mretain_graph\u001b[49m\u001b[43m,\u001b[49m\u001b[43m \u001b[49m\u001b[43mcreate_graph\u001b[49m\u001b[43m,\u001b[49m\u001b[43m \u001b[49m\u001b[43minputs\u001b[49m\u001b[43m,\u001b[49m\n\u001b[0;32m    202\u001b[0m \u001b[43m    \u001b[49m\u001b[43mallow_unreachable\u001b[49m\u001b[38;5;241;43m=\u001b[39;49m\u001b[38;5;28;43;01mTrue\u001b[39;49;00m\u001b[43m,\u001b[49m\u001b[43m \u001b[49m\u001b[43maccumulate_grad\u001b[49m\u001b[38;5;241;43m=\u001b[39;49m\u001b[38;5;28;43;01mTrue\u001b[39;49;00m\u001b[43m)\u001b[49m\n",
      "\u001b[1;31mKeyboardInterrupt\u001b[0m: "
     ]
    },
    {
     "data": {
      "application/javascript": [
       "\n",
       "            setTimeout(function() {\n",
       "                var nbb_cell_id = 17;\n",
       "                var nbb_unformatted_code = \"node_embeddings = embedding.training(\\n    walks,\\n    window_size=hyperparameters[\\\"window_size\\\"],\\n    dimension=hyperparameters[\\\"dimension\\\"],\\n    #         sg=1,\\n    epochs=hyperparameters['epochs'],\\n    weight_decay=hyperparameters[\\\"weight_decay\\\"],\\n    #         negative=sampled_params['negative'],\\n    #         batch_words=sampled_params['batch_words'],\\n    learning_rate=hyperparameters[\\\"learning_rate\\\"],\\n)\";\n",
       "                var nbb_formatted_code = \"node_embeddings = embedding.training(\\n    walks,\\n    window_size=hyperparameters[\\\"window_size\\\"],\\n    dimension=hyperparameters[\\\"dimension\\\"],\\n    #         sg=1,\\n    epochs=hyperparameters[\\\"epochs\\\"],\\n    weight_decay=hyperparameters[\\\"weight_decay\\\"],\\n    #         negative=sampled_params['negative'],\\n    #         batch_words=sampled_params['batch_words'],\\n    learning_rate=hyperparameters[\\\"learning_rate\\\"],\\n)\";\n",
       "                var nbb_cells = Jupyter.notebook.get_cells();\n",
       "                for (var i = 0; i < nbb_cells.length; ++i) {\n",
       "                    if (nbb_cells[i].input_prompt_number == nbb_cell_id) {\n",
       "                        if (nbb_cells[i].get_text() == nbb_unformatted_code) {\n",
       "                             nbb_cells[i].set_text(nbb_formatted_code);\n",
       "                        }\n",
       "                        break;\n",
       "                    }\n",
       "                }\n",
       "            }, 500);\n",
       "            "
      ],
      "text/plain": [
       "<IPython.core.display.Javascript object>"
      ]
     },
     "metadata": {},
     "output_type": "display_data"
    }
   ],
   "source": [
    "node_embeddings = embedding.training(\n",
    "    walks,\n",
    "    window_size=hyperparameters[\"window_size\"],\n",
    "    dimension=hyperparameters[\"dimension\"],\n",
    "    epochs=hyperparameters['epochs'],\n",
    "    weight_decay=hyperparameters[\"weight_decay\"],\n",
    "    learning_rate=hyperparameters[\"learning_rate\"],\n",
    ")\n"
   ]
  },
  {
   "cell_type": "code",
   "execution_count": null,
   "id": "e1f51fbe",
   "metadata": {},
   "outputs": [],
   "source": [
    "embeddings_gen = node_embeddings.in_embed.weight.data\n",
    "Z = embeddings.T"
   ]
  },
  {
   "cell_type": "code",
   "execution_count": null,
   "id": "f536ef02",
   "metadata": {},
   "outputs": [],
   "source": [
    "losc_cal = loss_function(Z, S)"
   ]
  },
  {
   "cell_type": "markdown",
   "id": "9fdc969f",
   "metadata": {},
   "source": [
    "## Generating Node Embeddings using created Node2vec"
   ]
  },
  {
   "cell_type": "markdown",
   "id": "51ce839a",
   "metadata": {},
   "source": [
    "## Generating Node Embeddings using Node2vec"
   ]
  },
  {
   "cell_type": "markdown",
   "id": "213da0e2",
   "metadata": {},
   "source": [
    "## Generating Node Embeddings using Deepwalk"
   ]
  },
  {
   "cell_type": "code",
   "execution_count": null,
   "id": "e28c1166",
   "metadata": {},
   "outputs": [],
   "source": []
  }
 ],
 "metadata": {
  "kernelspec": {
   "display_name": "torch",
   "language": "python",
   "name": "torch"
  },
  "language_info": {
   "codemirror_mode": {
    "name": "ipython",
    "version": 3
   },
   "file_extension": ".py",
   "mimetype": "text/x-python",
   "name": "python",
   "nbconvert_exporter": "python",
   "pygments_lexer": "ipython3",
   "version": "3.9.16"
  },
  "toc": {
   "base_numbering": 1,
   "nav_menu": {},
   "number_sections": true,
   "sideBar": true,
   "skip_h1_title": false,
   "title_cell": "Table of Contents",
   "title_sidebar": "Contents",
   "toc_cell": false,
   "toc_position": {},
   "toc_section_display": true,
   "toc_window_display": false
  }
 },
 "nbformat": 4,
 "nbformat_minor": 5
}
