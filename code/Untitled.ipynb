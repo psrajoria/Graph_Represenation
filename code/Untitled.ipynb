{
 "cells": [
  {
   "cell_type": "code",
   "execution_count": 2,
   "id": "8a309fa9",
   "metadata": {
    "ExecuteTime": {
     "end_time": "2023-09-04T16:55:27.261025Z",
     "start_time": "2023-09-04T16:55:27.255168Z"
    }
   },
   "outputs": [],
   "source": [
    "import os\n",
    "import collections\n",
    "import numpy as np\n",
    "import pandas as pd\n",
    "import matplotlib.pyplot as plt\n",
    "import seaborn as sns\n",
    "import scipy.sparse as sp\n",
    "import torch\n",
    "from torch import Tensor\n",
    "import torch_geometric\n",
    "from torch_geometric.utils import to_networkx\n",
    "from torch_geometric.datasets import Planetoid\n",
    "import networkx as nx\n",
    "from networkx.algorithms import community"
   ]
  },
  {
   "cell_type": "code",
   "execution_count": 3,
   "id": "f6df5f5a",
   "metadata": {
    "ExecuteTime": {
     "end_time": "2023-09-04T16:55:27.271735Z",
     "start_time": "2023-09-04T16:55:27.263235Z"
    }
   },
   "outputs": [],
   "source": [
    "device = torch.device('cuda' if torch.cuda.is_available() else 'cpu')"
   ]
  },
  {
   "cell_type": "code",
   "execution_count": 4,
   "id": "d356415b",
   "metadata": {
    "ExecuteTime": {
     "end_time": "2023-09-04T16:55:27.283034Z",
     "start_time": "2023-09-04T16:55:27.271735Z"
    }
   },
   "outputs": [
    {
     "data": {
      "text/plain": [
       "device(type='cuda')"
      ]
     },
     "execution_count": 4,
     "metadata": {},
     "output_type": "execute_result"
    }
   ],
   "source": [
    "device"
   ]
  },
  {
   "cell_type": "code",
   "execution_count": 5,
   "id": "77b9ebe0",
   "metadata": {
    "ExecuteTime": {
     "end_time": "2023-09-04T16:55:27.298841Z",
     "start_time": "2023-09-04T16:55:27.283034Z"
    }
   },
   "outputs": [],
   "source": [
    "data_dir = \"Data/\""
   ]
  },
  {
   "cell_type": "code",
   "execution_count": 6,
   "id": "e9ebdea2",
   "metadata": {
    "ExecuteTime": {
     "end_time": "2023-09-04T16:55:27.304073Z",
     "start_time": "2023-09-04T16:55:27.299843Z"
    }
   },
   "outputs": [],
   "source": [
    "os.makedirs(data_dir, exist_ok=True)"
   ]
  },
  {
   "cell_type": "code",
   "execution_count": 7,
   "id": "134cdf90",
   "metadata": {
    "ExecuteTime": {
     "end_time": "2023-09-04T16:55:27.380513Z",
     "start_time": "2023-09-04T16:55:27.362345Z"
    }
   },
   "outputs": [],
   "source": [
    "dataset = Planetoid(root=data_dir, name='Cora')"
   ]
  },
  {
   "cell_type": "code",
   "execution_count": 8,
   "id": "a74d5fe5",
   "metadata": {
    "ExecuteTime": {
     "end_time": "2023-09-04T16:55:28.103300Z",
     "start_time": "2023-09-04T16:55:28.088430Z"
    }
   },
   "outputs": [
    {
     "data": {
      "text/plain": [
       "Data(x=[2708, 1433], edge_index=[2, 10556], y=[2708], train_mask=[2708], val_mask=[2708], test_mask=[2708])"
      ]
     },
     "execution_count": 8,
     "metadata": {},
     "output_type": "execute_result"
    }
   ],
   "source": [
    "dataset[0]"
   ]
  },
  {
   "cell_type": "code",
   "execution_count": 9,
   "id": "b071d13d",
   "metadata": {
    "ExecuteTime": {
     "end_time": "2023-09-04T16:55:28.536786Z",
     "start_time": "2023-09-04T16:55:28.524744Z"
    }
   },
   "outputs": [],
   "source": [
    "data = dataset[0]"
   ]
  },
  {
   "cell_type": "code",
   "execution_count": 10,
   "id": "8eed643d",
   "metadata": {
    "ExecuteTime": {
     "end_time": "2023-09-04T16:55:28.762908Z",
     "start_time": "2023-09-04T16:55:28.747403Z"
    }
   },
   "outputs": [
    {
     "data": {
      "text/plain": [
       "Data(x=[2708, 1433], edge_index=[2, 10556], y=[2708], train_mask=[2708], val_mask=[2708], test_mask=[2708])"
      ]
     },
     "execution_count": 10,
     "metadata": {},
     "output_type": "execute_result"
    }
   ],
   "source": [
    "data"
   ]
  },
  {
   "cell_type": "code",
   "execution_count": 11,
   "id": "7081ba5d",
   "metadata": {
    "ExecuteTime": {
     "end_time": "2023-09-04T16:55:28.957246Z",
     "start_time": "2023-09-04T16:55:28.942100Z"
    }
   },
   "outputs": [
    {
     "data": {
      "text/plain": [
       "2708"
      ]
     },
     "execution_count": 11,
     "metadata": {},
     "output_type": "execute_result"
    }
   ],
   "source": [
    "data.num_nodes"
   ]
  },
  {
   "cell_type": "code",
   "execution_count": 12,
   "id": "3c17b1bd",
   "metadata": {
    "ExecuteTime": {
     "end_time": "2023-09-04T16:55:29.165512Z",
     "start_time": "2023-09-04T16:55:29.142907Z"
    }
   },
   "outputs": [
    {
     "data": {
      "text/plain": [
       "10556"
      ]
     },
     "execution_count": 12,
     "metadata": {},
     "output_type": "execute_result"
    }
   ],
   "source": [
    "data.num_edges"
   ]
  },
  {
   "cell_type": "code",
   "execution_count": 13,
   "id": "655544d1",
   "metadata": {
    "ExecuteTime": {
     "end_time": "2023-09-04T16:55:30.107957Z",
     "start_time": "2023-09-04T16:55:30.088742Z"
    }
   },
   "outputs": [
    {
     "name": "stdout",
     "output_type": "stream",
     "text": [
      "Has isolated nodes: False\n",
      "Has self-loops: False\n",
      "Is undirected: True\n"
     ]
    }
   ],
   "source": [
    "print(f'Has isolated nodes: {data.has_isolated_nodes()}')  # False\n",
    "print(f'Has self-loops: {data.has_self_loops()}')  # False\n",
    "print(f'Is undirected: {data.is_undirected()}')  # True"
   ]
  },
  {
   "cell_type": "code",
   "execution_count": 14,
   "id": "29a6499e",
   "metadata": {
    "ExecuteTime": {
     "end_time": "2023-09-04T16:55:30.728238Z",
     "start_time": "2023-09-04T16:55:30.712857Z"
    }
   },
   "outputs": [],
   "source": [
    "edge_index = data.edge_index.numpy()\n"
   ]
  },
  {
   "cell_type": "code",
   "execution_count": 15,
   "id": "4542f258",
   "metadata": {
    "ExecuteTime": {
     "end_time": "2023-09-04T16:55:30.952054Z",
     "start_time": "2023-09-04T16:55:30.936644Z"
    }
   },
   "outputs": [
    {
     "name": "stdout",
     "output_type": "stream",
     "text": [
      "(2, 10556)\n"
     ]
    }
   ],
   "source": [
    "print(edge_index.shape)"
   ]
  },
  {
   "cell_type": "code",
   "execution_count": 16,
   "id": "30d44cc7",
   "metadata": {
    "ExecuteTime": {
     "end_time": "2023-09-04T16:55:31.172133Z",
     "start_time": "2023-09-04T16:55:31.156159Z"
    }
   },
   "outputs": [],
   "source": [
    "edge_example = edge_index[:, np.where(edge_index[0]==466)[0]]\n"
   ]
  },
  {
   "cell_type": "code",
   "execution_count": 17,
   "id": "bb831ae5",
   "metadata": {
    "ExecuteTime": {
     "end_time": "2023-09-04T16:55:31.401221Z",
     "start_time": "2023-09-04T16:55:31.385982Z"
    }
   },
   "outputs": [
    {
     "data": {
      "text/plain": [
       "array([[ 466,  466,  466,  466,  466],\n",
       "       [ 970, 1305, 1358, 1738, 2546]], dtype=int64)"
      ]
     },
     "execution_count": 17,
     "metadata": {},
     "output_type": "execute_result"
    }
   ],
   "source": [
    "edge_example"
   ]
  },
  {
   "cell_type": "code",
   "execution_count": 18,
   "id": "415797cd",
   "metadata": {
    "ExecuteTime": {
     "end_time": "2023-09-04T16:55:31.837695Z",
     "start_time": "2023-09-04T16:55:31.825688Z"
    }
   },
   "outputs": [],
   "source": [
    "node_example = np.unique(edge_example.flatten())"
   ]
  },
  {
   "cell_type": "code",
   "execution_count": 19,
   "id": "70b12ac6",
   "metadata": {
    "ExecuteTime": {
     "end_time": "2023-09-04T16:55:32.430188Z",
     "start_time": "2023-09-04T16:55:32.241316Z"
    }
   },
   "outputs": [
    {
     "data": {
      "image/png": "[encoded data removed]",
      "text/plain": [
       "<Figure size 1000x600 with 1 Axes>"
      ]
     },
     "metadata": {},
     "output_type": "display_data"
    }
   ],
   "source": [
    "plt.figure(figsize=(10, 6))\n",
    "G = nx.Graph()\n",
    "G.add_nodes_from(node_example)\n",
    "G.add_edges_from(list(zip(edge_example[0], edge_example[1])))\n",
    "nx.draw_networkx(G, with_labels=True)"
   ]
  },
  {
   "cell_type": "code",
   "execution_count": 20,
   "id": "143cbcda",
   "metadata": {
    "ExecuteTime": {
     "end_time": "2023-09-04T16:55:32.470443Z",
     "start_time": "2023-09-04T16:55:32.461439Z"
    }
   },
   "outputs": [
    {
     "name": "stdout",
     "output_type": "stream",
     "text": [
      "Average node degree: 3.90\n"
     ]
    }
   ],
   "source": [
    "print(f'Average node degree: {data.num_edges / data.num_nodes:.2f}')\n",
    "# Average node degree: 3.90"
   ]
  },
  {
   "cell_type": "code",
   "execution_count": 21,
   "id": "9b4b89d8",
   "metadata": {
    "ExecuteTime": {
     "end_time": "2023-09-04T16:55:34.180391Z",
     "start_time": "2023-09-04T16:55:33.816845Z"
    }
   },
   "outputs": [
    {
     "data": {
      "text/html": [
       "<div>\n",
       "<style scoped>\n",
       "    .dataframe tbody tr th:only-of-type {\n",
       "        vertical-align: middle;\n",
       "    }\n",
       "\n",
       "    .dataframe tbody tr th {\n",
       "        vertical-align: top;\n",
       "    }\n",
       "\n",
       "    .dataframe thead th {\n",
       "        text-align: right;\n",
       "    }\n",
       "</style>\n",
       "<table border=\"1\" class=\"dataframe\">\n",
       "  <thead>\n",
       "    <tr style=\"text-align: right;\">\n",
       "      <th></th>\n",
       "      <th>count</th>\n",
       "      <th>mean</th>\n",
       "      <th>std</th>\n",
       "      <th>min</th>\n",
       "      <th>25%</th>\n",
       "      <th>50%</th>\n",
       "      <th>75%</th>\n",
       "      <th>max</th>\n",
       "    </tr>\n",
       "  </thead>\n",
       "  <tbody>\n",
       "    <tr>\n",
       "      <th>0</th>\n",
       "      <td>2708.0</td>\n",
       "      <td>3.9</td>\n",
       "      <td>5.23</td>\n",
       "      <td>1.0</td>\n",
       "      <td>2.0</td>\n",
       "      <td>3.0</td>\n",
       "      <td>5.0</td>\n",
       "      <td>168.0</td>\n",
       "    </tr>\n",
       "  </tbody>\n",
       "</table>\n",
       "</div>"
      ],
      "text/plain": [
       "    count  mean   std  min  25%  50%  75%    max\n",
       "0  2708.0   3.9  5.23  1.0  2.0  3.0  5.0  168.0"
      ]
     },
     "metadata": {},
     "output_type": "display_data"
    },
    {
     "name": "stdout",
     "output_type": "stream",
     "text": [
      "2708\n",
      "10556\n"
     ]
    },
    {
     "data": {
      "image/png": "[encoded data removed]",
      "text/plain": [
       "<Figure size 1000x600 with 1 Axes>"
      ]
     },
     "metadata": {},
     "output_type": "display_data"
    }
   ],
   "source": [
    "G = to_networkx(data, to_undirected=True)\n",
    "degrees = [val for (node, val) in G.degree()]\n",
    "display(pd.DataFrame(pd.Series(degrees).describe()).transpose().round(2))\n",
    "print(len(degrees))\n",
    "print(sum(degrees))\n",
    "plt.figure(figsize=(10, 6))\n",
    "plt.hist(degrees, bins=50)\n",
    "plt.xlabel(\"node degree\")\n",
    "plt.show()"
   ]
  },
  {
   "cell_type": "code",
   "execution_count": 22,
   "id": "a7d0629b",
   "metadata": {
    "ExecuteTime": {
     "end_time": "2023-09-04T16:55:38.067442Z",
     "start_time": "2023-09-04T16:55:38.040715Z"
    }
   },
   "outputs": [
    {
     "name": "stdout",
     "output_type": "stream",
     "text": [
      "Graph name: Graph with 2708 nodes and 5278 edges\n",
      "Nodes: [0, 1, 2, 3, 4, 5, 6, 7, 8, 9, 10, 11, 12, 13, 14, 15, 16, 17, 18, 19, 20, 21, 22, 23, 24, 25, 26, 27, 28, 29, 30, 31, 32, 33, 34, 35, 36, 37, 38, 39, 40, 41, 42, 43, 44, 45, 46, 47, 48, 49, 50, 51, 52, 53, 54, 55, 56, 57, 58, 59, 60, 61, 62, 63, 64, 65, 66, 67, 68, 69, 70, 71, 72, 73, 74, 75, 76, 77, 78, 79, 80, 81, 82, 83, 84, 85, 86, 87, 88, 89, 90, 91, 92, 93, 94, 95, 96, 97, 98, 99, 100, 101, 102, 103, 104, 105, 106, 107, 108, 109, 110, 111, 112, 113, 114, 115, 116, 117, 118, 119, 120, 121, 122, 123, 124, 125, 126, 127, 128, 129, 130, 131, 132, 133, 134, 135, 136, 137, 138, 139, 140, 141, 142, 143, 144, 145, 146, 147, 148, 149, 150, 151, 152, 153, 154, 155, 156, 157, 158, 159, 160, 161, 162, 163, 164, 165, 166, 167, 168, 169, 170, 171, 172, 173, 174, 175, 176, 177, 178, 179, 180, 181, 182, 183, 184, 185, 186, 187, 188, 189, 190, 191, 192, 193, 194, 195, 196, 197, 198, 199, 200, 201, 202, 203, 204, 205, 206, 207, 208, 209, 210, 211, 212, 213, 214, 215, 216, 217, 218, 219, 220, 221, 222, 223, 224, 225, 226, 227, 228, 229, 230, 231, 232, 233, 234, 235, 236, 237, 238, 239, 240, 241, 242, 243, 244, 245, 246, 247, 248, 249, 250, 251, 252, 253, 254, 255, 256, 257, 258, 259, 260, 261, 262, 263, 264, 265, 266, 267, 268, 269, 270, 271, 272, 273, 274, 275, 276, 277, 278, 279, 280, 281, 282, 283, 284, 285, 286, 287, 288, 289, 290, 291, 292, 293, 294, 295, 296, 297, 298, 299, 300, 301, 302, 303, 304, 305, 306, 307, 308, 309, 310, 311, 312, 313, 314, 315, 316, 317, 318, 319, 320, 321, 322, 323, 324, 325, 326, 327, 328, 329, 330, 331, 332, 333, 334, 335, 336, 337, 338, 339, 340, 341, 342, 343, 344, 345, 346, 347, 348, 349, 350, 351, 352, 353, 354, 355, 356, 357, 358, 359, 360, 361, 362, 363, 364, 365, 366, 367, 368, 369, 370, 371, 372, 373, 374, 375, 376, 377, 378, 379, 380, 381, 382, 383, 384, 385, 386, 387, 388, 389, 390, 391, 392, 393, 394, 395, 396, 397, 398, 399, 400, 401, 402, 403, 404, 405, 406, 407, 408, 409, 410, 411, 412, 413, 414, 415, 416, 417, 418, 419, 420, 421, 422, 423, 424, 425, 426, 427, 428, 429, 430, 431, 432, 433, 434, 435, 436, 437, 438, 439, 440, 441, 442, 443, 444, 445, 446, 447, 448, 449, 450, 451, 452, 453, 454, 455, 456, 457, 458, 459, 460, 461, 462, 463, 464, 465, 466, 467, 468, 469, 470, 471, 472, 473, 474, 475, 476, 477, 478, 479, 480, 481, 482, 483, 484, 485, 486, 487, 488, 489, 490, 491, 492, 493, 494, 495, 496, 497, 498, 499, 500, 501, 502, 503, 504, 505, 506, 507, 508, 509, 510, 511, 512, 513, 514, 515, 516, 517, 518, 519, 520, 521, 522, 523, 524, 525, 526, 527, 528, 529, 530, 531, 532, 533, 534, 535, 536, 537, 538, 539, 540, 541, 542, 543, 544, 545, 546, 547, 548, 549, 550, 551, 552, 553, 554, 555, 556, 557, 558, 559, 560, 561, 562, 563, 564, 565, 566, 567, 568, 569, 570, 571, 572, 573, 574, 575, 576, 577, 578, 579, 580, 581, 582, 583, 584, 585, 586, 587, 588, 589, 590, 591, 592, 593, 594, 595, 596, 597, 598, 599, 600, 601, 602, 603, 604, 605, 606, 607, 608, 609, 610, 611, 612, 613, 614, 615, 616, 617, 618, 619, 620, 621, 622, 623, 624, 625, 626, 627, 628, 629, 630, 631, 632, 633, 634, 635, 636, 637, 638, 639, 640, 641, 642, 643, 644, 645, 646, 647, 648, 649, 650, 651, 652, 653, 654, 655, 656, 657, 658, 659, 660, 661, 662, 663, 664, 665, 666, 667, 668, 669, 670, 671, 672, 673, 674, 675, 676, 677, 678, 679, 680, 681, 682, 683, 684, 685, 686, 687, 688, 689, 690, 691, 692, 693, 694, 695, 696, 697, 698, 699, 700, 701, 702, 703, 704, 705, 706, 707, 708, 709, 710, 711, 712, 713, 714, 715, 716, 717, 718, 719, 720, 721, 722, 723, 724, 725, 726, 727, 728, 729, 730, 731, 732, 733, 734, 735, 736, 737, 738, 739, 740, 741, 742, 743, 744, 745, 746, 747, 748, 749, 750, 751, 752, 753, 754, 755, 756, 757, 758, 759, 760, 761, 762, 763, 764, 765, 766, 767, 768, 769, 770, 771, 772, 773, 774, 775, 776, 777, 778, 779, 780, 781, 782, 783, 784, 785, 786, 787, 788, 789, 790, 791, 792, 793, 794, 795, 796, 797, 798, 799, 800, 801, 802, 803, 804, 805, 806, 807, 808, 809, 810, 811, 812, 813, 814, 815, 816, 817, 818, 819, 820, 821, 822, 823, 824, 825, 826, 827, 828, 829, 830, 831, 832, 833, 834, 835, 836, 837, 838, 839, 840, 841, 842, 843, 844, 845, 846, 847, 848, 849, 850, 851, 852, 853, 854, 855, 856, 857, 858, 859, 860, 861, 862, 863, 864, 865, 866, 867, 868, 869, 870, 871, 872, 873, 874, 875, 876, 877, 878, 879, 880, 881, 882, 883, 884, 885, 886, 887, 888, 889, 890, 891, 892, 893, 894, 895, 896, 897, 898, 899, 900, 901, 902, 903, 904, 905, 906, 907, 908, 909, 910, 911, 912, 913, 914, 915, 916, 917, 918, 919, 920, 921, 922, 923, 924, 925, 926, 927, 928, 929, 930, 931, 932, 933, 934, 935, 936, 937, 938, 939, 940, 941, 942, 943, 944, 945, 946, 947, 948, 949, 950, 951, 952, 953, 954, 955, 956, 957, 958, 959, 960, 961, 962, 963, 964, 965, 966, 967, 968, 969, 970, 971, 972, 973, 974, 975, 976, 977, 978, 979, 980, 981, 982, 983, 984, 985, 986, 987, 988, 989, 990, 991, 992, 993, 994, 995, 996, 997, 998, 999, 1000, 1001, 1002, 1003, 1004, 1005, 1006, 1007, 1008, 1009, 1010, 1011, 1012, 1013, 1014, 1015, 1016, 1017, 1018, 1019, 1020, 1021, 1022, 1023, 1024, 1025, 1026, 1027, 1028, 1029, 1030, 1031, 1032, 1033, 1034, 1035, 1036, 1037, 1038, 1039, 1040, 1041, 1042, 1043, 1044, 1045, 1046, 1047, 1048, 1049, 1050, 1051, 1052, 1053, 1054, 1055, 1056, 1057, 1058, 1059, 1060, 1061, 1062, 1063, 1064, 1065, 1066, 1067, 1068, 1069, 1070, 1071, 1072, 1073, 1074, 1075, 1076, 1077, 1078, 1079, 1080, 1081, 1082, 1083, 1084, 1085, 1086, 1087, 1088, 1089, 1090, 1091, 1092, 1093, 1094, 1095, 1096, 1097, 1098, 1099, 1100, 1101, 1102, 1103, 1104, 1105, 1106, 1107, 1108, 1109, 1110, 1111, 1112, 1113, 1114, 1115, 1116, 1117, 1118, 1119, 1120, 1121, 1122, 1123, 1124, 1125, 1126, 1127, 1128, 1129, 1130, 1131, 1132, 1133, 1134, 1135, 1136, 1137, 1138, 1139, 1140, 1141, 1142, 1143, 1144, 1145, 1146, 1147, 1148, 1149, 1150, 1151, 1152, 1153, 1154, 1155, 1156, 1157, 1158, 1159, 1160, 1161, 1162, 1163, 1164, 1165, 1166, 1167, 1168, 1169, 1170, 1171, 1172, 1173, 1174, 1175, 1176, 1177, 1178, 1179, 1180, 1181, 1182, 1183, 1184, 1185, 1186, 1187, 1188, 1189, 1190, 1191, 1192, 1193, 1194, 1195, 1196, 1197, 1198, 1199, 1200, 1201, 1202, 1203, 1204, 1205, 1206, 1207, 1208, 1209, 1210, 1211, 1212, 1213, 1214, 1215, 1216, 1217, 1218, 1219, 1220, 1221, 1222, 1223, 1224, 1225, 1226, 1227, 1228, 1229, 1230, 1231, 1232, 1233, 1234, 1235, 1236, 1237, 1238, 1239, 1240, 1241, 1242, 1243, 1244, 1245, 1246, 1247, 1248, 1249, 1250, 1251, 1252, 1253, 1254, 1255, 1256, 1257, 1258, 1259, 1260, 1261, 1262, 1263, 1264, 1265, 1266, 1267, 1268, 1269, 1270, 1271, 1272, 1273, 1274, 1275, 1276, 1277, 1278, 1279, 1280, 1281, 1282, 1283, 1284, 1285, 1286, 1287, 1288, 1289, 1290, 1291, 1292, 1293, 1294, 1295, 1296, 1297, 1298, 1299, 1300, 1301, 1302, 1303, 1304, 1305, 1306, 1307, 1308, 1309, 1310, 1311, 1312, 1313, 1314, 1315, 1316, 1317, 1318, 1319, 1320, 1321, 1322, 1323, 1324, 1325, 1326, 1327, 1328, 1329, 1330, 1331, 1332, 1333, 1334, 1335, 1336, 1337, 1338, 1339, 1340, 1341, 1342, 1343, 1344, 1345, 1346, 1347, 1348, 1349, 1350, 1351, 1352, 1353, 1354, 1355, 1356, 1357, 1358, 1359, 1360, 1361, 1362, 1363, 1364, 1365, 1366, 1367, 1368, 1369, 1370, 1371, 1372, 1373, 1374, 1375, 1376, 1377, 1378, 1379, 1380, 1381, 1382, 1383, 1384, 1385, 1386, 1387, 1388, 1389, 1390, 1391, 1392, 1393, 1394, 1395, 1396, 1397, 1398, 1399, 1400, 1401, 1402, 1403, 1404, 1405, 1406, 1407, 1408, 1409, 1410, 1411, 1412, 1413, 1414, 1415, 1416, 1417, 1418, 1419, 1420, 1421, 1422, 1423, 1424, 1425, 1426, 1427, 1428, 1429, 1430, 1431, 1432, 1433, 1434, 1435, 1436, 1437, 1438, 1439, 1440, 1441, 1442, 1443, 1444, 1445, 1446, 1447, 1448, 1449, 1450, 1451, 1452, 1453, 1454, 1455, 1456, 1457, 1458, 1459, 1460, 1461, 1462, 1463, 1464, 1465, 1466, 1467, 1468, 1469, 1470, 1471, 1472, 1473, 1474, 1475, 1476, 1477, 1478, 1479, 1480, 1481, 1482, 1483, 1484, 1485, 1486, 1487, 1488, 1489, 1490, 1491, 1492, 1493, 1494, 1495, 1496, 1497, 1498, 1499, 1500, 1501, 1502, 1503, 1504, 1505, 1506, 1507, 1508, 1509, 1510, 1511, 1512, 1513, 1514, 1515, 1516, 1517, 1518, 1519, 1520, 1521, 1522, 1523, 1524, 1525, 1526, 1527, 1528, 1529, 1530, 1531, 1532, 1533, 1534, 1535, 1536, 1537, 1538, 1539, 1540, 1541, 1542, 1543, 1544, 1545, 1546, 1547, 1548, 1549, 1550, 1551, 1552, 1553, 1554, 1555, 1556, 1557, 1558, 1559, 1560, 1561, 1562, 1563, 1564, 1565, 1566, 1567, 1568, 1569, 1570, 1571, 1572, 1573, 1574, 1575, 1576, 1577, 1578, 1579, 1580, 1581, 1582, 1583, 1584, 1585, 1586, 1587, 1588, 1589, 1590, 1591, 1592, 1593, 1594, 1595, 1596, 1597, 1598, 1599, 1600, 1601, 1602, 1603, 1604, 1605, 1606, 1607, 1608, 1609, 1610, 1611, 1612, 1613, 1614, 1615, 1616, 1617, 1618, 1619, 1620, 1621, 1622, 1623, 1624, 1625, 1626, 1627, 1628, 1629, 1630, 1631, 1632, 1633, 1634, 1635, 1636, 1637, 1638, 1639, 1640, 1641, 1642, 1643, 1644, 1645, 1646, 1647, 1648, 1649, 1650, 1651, 1652, 1653, 1654, 1655, 1656, 1657, 1658, 1659, 1660, 1661, 1662, 1663, 1664, 1665, 1666, 1667, 1668, 1669, 1670, 1671, 1672, 1673, 1674, 1675, 1676, 1677, 1678, 1679, 1680, 1681, 1682, 1683, 1684, 1685, 1686, 1687, 1688, 1689, 1690, 1691, 1692, 1693, 1694, 1695, 1696, 1697, 1698, 1699, 1700, 1701, 1702, 1703, 1704, 1705, 1706, 1707, 1708, 1709, 1710, 1711, 1712, 1713, 1714, 1715, 1716, 1717, 1718, 1719, 1720, 1721, 1722, 1723, 1724, 1725, 1726, 1727, 1728, 1729, 1730, 1731, 1732, 1733, 1734, 1735, 1736, 1737, 1738, 1739, 1740, 1741, 1742, 1743, 1744, 1745, 1746, 1747, 1748, 1749, 1750, 1751, 1752, 1753, 1754, 1755, 1756, 1757, 1758, 1759, 1760, 1761, 1762, 1763, 1764, 1765, 1766, 1767, 1768, 1769, 1770, 1771, 1772, 1773, 1774, 1775, 1776, 1777, 1778, 1779, 1780, 1781, 1782, 1783, 1784, 1785, 1786, 1787, 1788, 1789, 1790, 1791, 1792, 1793, 1794, 1795, 1796, 1797, 1798, 1799, 1800, 1801, 1802, 1803, 1804, 1805, 1806, 1807, 1808, 1809, 1810, 1811, 1812, 1813, 1814, 1815, 1816, 1817, 1818, 1819, 1820, 1821, 1822, 1823, 1824, 1825, 1826, 1827, 1828, 1829, 1830, 1831, 1832, 1833, 1834, 1835, 1836, 1837, 1838, 1839, 1840, 1841, 1842, 1843, 1844, 1845, 1846, 1847, 1848, 1849, 1850, 1851, 1852, 1853, 1854, 1855, 1856, 1857, 1858, 1859, 1860, 1861, 1862, 1863, 1864, 1865, 1866, 1867, 1868, 1869, 1870, 1871, 1872, 1873, 1874, 1875, 1876, 1877, 1878, 1879, 1880, 1881, 1882, 1883, 1884, 1885, 1886, 1887, 1888, 1889, 1890, 1891, 1892, 1893, 1894, 1895, 1896, 1897, 1898, 1899, 1900, 1901, 1902, 1903, 1904, 1905, 1906, 1907, 1908, 1909, 1910, 1911, 1912, 1913, 1914, 1915, 1916, 1917, 1918, 1919, 1920, 1921, 1922, 1923, 1924, 1925, 1926, 1927, 1928, 1929, 1930, 1931, 1932, 1933, 1934, 1935, 1936, 1937, 1938, 1939, 1940, 1941, 1942, 1943, 1944, 1945, 1946, 1947, 1948, 1949, 1950, 1951, 1952, 1953, 1954, 1955, 1956, 1957, 1958, 1959, 1960, 1961, 1962, 1963, 1964, 1965, 1966, 1967, 1968, 1969, 1970, 1971, 1972, 1973, 1974, 1975, 1976, 1977, 1978, 1979, 1980, 1981, 1982, 1983, 1984, 1985, 1986, 1987, 1988, 1989, 1990, 1991, 1992, 1993, 1994, 1995, 1996, 1997, 1998, 1999, 2000, 2001, 2002, 2003, 2004, 2005, 2006, 2007, 2008, 2009, 2010, 2011, 2012, 2013, 2014, 2015, 2016, 2017, 2018, 2019, 2020, 2021, 2022, 2023, 2024, 2025, 2026, 2027, 2028, 2029, 2030, 2031, 2032, 2033, 2034, 2035, 2036, 2037, 2038, 2039, 2040, 2041, 2042, 2043, 2044, 2045, 2046, 2047, 2048, 2049, 2050, 2051, 2052, 2053, 2054, 2055, 2056, 2057, 2058, 2059, 2060, 2061, 2062, 2063, 2064, 2065, 2066, 2067, 2068, 2069, 2070, 2071, 2072, 2073, 2074, 2075, 2076, 2077, 2078, 2079, 2080, 2081, 2082, 2083, 2084, 2085, 2086, 2087, 2088, 2089, 2090, 2091, 2092, 2093, 2094, 2095, 2096, 2097, 2098, 2099, 2100, 2101, 2102, 2103, 2104, 2105, 2106, 2107, 2108, 2109, 2110, 2111, 2112, 2113, 2114, 2115, 2116, 2117, 2118, 2119, 2120, 2121, 2122, 2123, 2124, 2125, 2126, 2127, 2128, 2129, 2130, 2131, 2132, 2133, 2134, 2135, 2136, 2137, 2138, 2139, 2140, 2141, 2142, 2143, 2144, 2145, 2146, 2147, 2148, 2149, 2150, 2151, 2152, 2153, 2154, 2155, 2156, 2157, 2158, 2159, 2160, 2161, 2162, 2163, 2164, 2165, 2166, 2167, 2168, 2169, 2170, 2171, 2172, 2173, 2174, 2175, 2176, 2177, 2178, 2179, 2180, 2181, 2182, 2183, 2184, 2185, 2186, 2187, 2188, 2189, 2190, 2191, 2192, 2193, 2194, 2195, 2196, 2197, 2198, 2199, 2200, 2201, 2202, 2203, 2204, 2205, 2206, 2207, 2208, 2209, 2210, 2211, 2212, 2213, 2214, 2215, 2216, 2217, 2218, 2219, 2220, 2221, 2222, 2223, 2224, 2225, 2226, 2227, 2228, 2229, 2230, 2231, 2232, 2233, 2234, 2235, 2236, 2237, 2238, 2239, 2240, 2241, 2242, 2243, 2244, 2245, 2246, 2247, 2248, 2249, 2250, 2251, 2252, 2253, 2254, 2255, 2256, 2257, 2258, 2259, 2260, 2261, 2262, 2263, 2264, 2265, 2266, 2267, 2268, 2269, 2270, 2271, 2272, 2273, 2274, 2275, 2276, 2277, 2278, 2279, 2280, 2281, 2282, 2283, 2284, 2285, 2286, 2287, 2288, 2289, 2290, 2291, 2292, 2293, 2294, 2295, 2296, 2297, 2298, 2299, 2300, 2301, 2302, 2303, 2304, 2305, 2306, 2307, 2308, 2309, 2310, 2311, 2312, 2313, 2314, 2315, 2316, 2317, 2318, 2319, 2320, 2321, 2322, 2323, 2324, 2325, 2326, 2327, 2328, 2329, 2330, 2331, 2332, 2333, 2334, 2335, 2336, 2337, 2338, 2339, 2340, 2341, 2342, 2343, 2344, 2345, 2346, 2347, 2348, 2349, 2350, 2351, 2352, 2353, 2354, 2355, 2356, 2357, 2358, 2359, 2360, 2361, 2362, 2363, 2364, 2365, 2366, 2367, 2368, 2369, 2370, 2371, 2372, 2373, 2374, 2375, 2376, 2377, 2378, 2379, 2380, 2381, 2382, 2383, 2384, 2385, 2386, 2387, 2388, 2389, 2390, 2391, 2392, 2393, 2394, 2395, 2396, 2397, 2398, 2399, 2400, 2401, 2402, 2403, 2404, 2405, 2406, 2407, 2408, 2409, 2410, 2411, 2412, 2413, 2414, 2415, 2416, 2417, 2418, 2419, 2420, 2421, 2422, 2423, 2424, 2425, 2426, 2427, 2428, 2429, 2430, 2431, 2432, 2433, 2434, 2435, 2436, 2437, 2438, 2439, 2440, 2441, 2442, 2443, 2444, 2445, 2446, 2447, 2448, 2449, 2450, 2451, 2452, 2453, 2454, 2455, 2456, 2457, 2458, 2459, 2460, 2461, 2462, 2463, 2464, 2465, 2466, 2467, 2468, 2469, 2470, 2471, 2472, 2473, 2474, 2475, 2476, 2477, 2478, 2479, 2480, 2481, 2482, 2483, 2484, 2485, 2486, 2487, 2488, 2489, 2490, 2491, 2492, 2493, 2494, 2495, 2496, 2497, 2498, 2499, 2500, 2501, 2502, 2503, 2504, 2505, 2506, 2507, 2508, 2509, 2510, 2511, 2512, 2513, 2514, 2515, 2516, 2517, 2518, 2519, 2520, 2521, 2522, 2523, 2524, 2525, 2526, 2527, 2528, 2529, 2530, 2531, 2532, 2533, 2534, 2535, 2536, 2537, 2538, 2539, 2540, 2541, 2542, 2543, 2544, 2545, 2546, 2547, 2548, 2549, 2550, 2551, 2552, 2553, 2554, 2555, 2556, 2557, 2558, 2559, 2560, 2561, 2562, 2563, 2564, 2565, 2566, 2567, 2568, 2569, 2570, 2571, 2572, 2573, 2574, 2575, 2576, 2577, 2578, 2579, 2580, 2581, 2582, 2583, 2584, 2585, 2586, 2587, 2588, 2589, 2590, 2591, 2592, 2593, 2594, 2595, 2596, 2597, 2598, 2599, 2600, 2601, 2602, 2603, 2604, 2605, 2606, 2607, 2608, 2609, 2610, 2611, 2612, 2613, 2614, 2615, 2616, 2617, 2618, 2619, 2620, 2621, 2622, 2623, 2624, 2625, 2626, 2627, 2628, 2629, 2630, 2631, 2632, 2633, 2634, 2635, 2636, 2637, 2638, 2639, 2640, 2641, 2642, 2643, 2644, 2645, 2646, 2647, 2648, 2649, 2650, 2651, 2652, 2653, 2654, 2655, 2656, 2657, 2658, 2659, 2660, 2661, 2662, 2663, 2664, 2665, 2666, 2667, 2668, 2669, 2670, 2671, 2672, 2673, 2674, 2675, 2676, 2677, 2678, 2679, 2680, 2681, 2682, 2683, 2684, 2685, 2686, 2687, 2688, 2689, 2690, 2691, 2692, 2693, 2694, 2695, 2696, 2697, 2698, 2699, 2700, 2701, 2702, 2703, 2704, 2705, 2706, 2707]\n",
      "Edges: [(0, 633), (0, 1862), (0, 2582), (1, 2), (1, 652), (1, 654), (2, 332), (2, 1454), (2, 1666), (2, 1986), (3, 2544), (4, 1016), (4, 1256), (4, 1761), (4, 2175), (4, 2176), (5, 1629), (5, 1659), (5, 2546), (6, 373), (6, 1042), (6, 1416), (6, 1602), (7, 208), (8, 269), (8, 281), (8, 1996), (9, 723), (9, 2614), (10, 476), (10, 2545), (11, 1655), (11, 1839), (12, 1001), (12, 1318), (12, 2661), (12, 2662), (13, 1701), (13, 1810), (14, 158), (14, 2034), (14, 2075), (14, 2077), (14, 2668), (15, 1090), (15, 1093), (15, 1271), (15, 2367), (16, 970), (16, 1632), (16, 2444), (16, 2642), (17, 24), (17, 927), (17, 1315), (17, 1316), (17, 2140), (18, 139), (18, 1560), (18, 1786), (18, 2082), (18, 2145), (19, 1939), (20, 1072), (20, 2269), (20, 2270), (20, 2374), (20, 2375), (21, 1043), (21, 2310), (22, 39), (22, 1234), (22, 1702), (22, 1703), (22, 2238), (23, 2159), (24, 201), (24, 598), (24, 1636), (24, 1701), (24, 2139), (24, 2141), (25, 1301), (25, 1344), (25, 2011), (25, 2317), (26, 99), (26, 122), (26, 123), (26, 2454), (26, 2455), (27, 606), (27, 1810), (27, 2360), (27, 2578), (28, 1687), (29, 963), (29, 2645), (30, 697), (30, 738), (30, 1358), (30, 1416), (30, 2162), (30, 2343), (31, 1594), (32, 279), (32, 518), (32, 1850), (32, 1973), (33, 286), (33, 588), (33, 698), (33, 911), (33, 1051), (33, 2040), (33, 2119), (33, 2120), (33, 2121), (34, 1358), (35, 895), (35, 1296), (35, 1913), (36, 1146), (36, 1505), (36, 1552), (36, 1640), (36, 1781), (36, 2094), (36, 2106), (36, 2107), (37, 60), (37, 1190), (37, 2427), (38, 429), (38, 862), (38, 863), (38, 1160), (39, 1349), (39, 1522), (39, 1532), (39, 1634), (39, 1965), (39, 2357), (40, 507), (40, 866), (40, 1364), (41, 175), (41, 596), (41, 644), (41, 1914), (42, 87), (42, 1372), (43, 152), (43, 963), (43, 1530), (43, 1653), (43, 2399), (43, 2400), (44, 1582), (44, 2624), (44, 2701), (45, 733), (45, 1219), (45, 1986), (45, 2303), (45, 2667), (45, 2668), (46, 1604), (46, 2366), (47, 163), (47, 1579), (48, 598), (48, 714), (48, 1031), (48, 1662), (48, 1666), (48, 2041), (48, 2205), (48, 2206), (48, 2471), (49, 1666), (49, 2034), (50, 1441), (51, 457), (51, 710), (51, 1392), (51, 2213), (51, 2214), (51, 2215), (52, 1139), (52, 1467), (52, 2053), (52, 2172), (52, 2182), (53, 1103), (53, 1358), (53, 1739), (54, 401), (54, 767), (55, 60), (55, 210), (55, 323), (55, 651), (55, 771), (55, 787), (55, 815), (55, 1079), (55, 1156), (55, 1983), (55, 2020), (55, 2021), (56, 412), (56, 447), (56, 1616), (56, 1849), (57, 2418), (58, 1715), (59, 105), (59, 580), (59, 609), (59, 615), (59, 1067), (59, 1287), (59, 1358), (59, 1627), (59, 1725), (59, 2651), (60, 1527), (61, 1080), (61, 1309), (61, 1416), (61, 2162), (61, 2312), (62, 485), (63, 1322), (64, 1209), (64, 1737), (64, 2616), (65, 239), (65, 543), (65, 619), (65, 771), (65, 1156), (65, 1293), (65, 1628), (65, 2021), (65, 2418), (65, 2419), (66, 2631), (67, 282), (67, 540), (67, 2628), (68, 391), (68, 1358), (68, 1986), (69, 604), (69, 1013), (69, 1351), (69, 1914), (69, 1920), (69, 1926), (69, 2189), (70, 441), (70, 2184), (71, 206), (71, 1986), (71, 2691), (72, 1103), (72, 1358), (73, 449), (73, 558), (73, 797), (73, 876), (73, 1035), (73, 1136), (73, 1189), (73, 1214), (73, 1358), (73, 1723), (73, 1745), (73, 1751), (74, 544), (74, 586), (74, 1042), (74, 1118), (74, 1416), (74, 1517), (74, 2052), (74, 2155), (74, 2419), (75, 84), (75, 583), (75, 2222), (75, 2223), (75, 2224), (75, 2225), (76, 88), (76, 2018), (76, 2178), (77, 659), (77, 1803), (78, 1219), (78, 1329), (78, 1418), (79, 603), (79, 2097), (80, 257), (80, 1117), (80, 2049), (81, 347), (81, 423), (81, 527), (81, 2180), (82, 1138), (82, 1634), (83, 1520), (83, 2581), (84, 284), (84, 2223), (84, 2224), (84, 2226), (85, 1065), (85, 2487), (85, 2488), (86, 429), (86, 1336), (86, 2034), (86, 2295), (87, 842), (87, 2164), (88, 130), (88, 162), (88, 300), (88, 415), (88, 498), (88, 696), (88, 737), (88, 743), (88, 815), (88, 841), (88, 851), (88, 1174), (88, 1288), (88, 1309), (88, 1394), (88, 1494), (88, 1527), (88, 1658), (88, 1677), (88, 1713), (88, 1732), (88, 1741), (88, 1847), (88, 1882), (88, 1908), (88, 2010), (88, 2011), (88, 2012), (88, 2013), (88, 2014), (88, 2015), (88, 2016), (88, 2017), (88, 2178), (88, 2394), (89, 258), (89, 884), (89, 1087), (89, 1094), (89, 1157), (89, 1401), (89, 1530), (89, 1585), (89, 1653), (89, 2463), (90, 155), (90, 156), (90, 817), (90, 1358), (91, 330), (91, 1046), (91, 2001), (91, 2122), (91, 2123), (91, 2380), (92, 898), (92, 1836), (93, 550), (93, 950), (93, 1495), (93, 2151), (94, 195), (94, 586), (94, 675), (94, 733), (94, 934), (94, 1649), (94, 1966), (94, 2263), (94, 2355), (94, 2357), (94, 2490), (95, 334), (95, 456), (95, 693), (95, 734), (95, 736), (95, 861), (95, 1303), (95, 1535), (95, 1580), (95, 1602), (95, 1628), (95, 1838), (95, 2054), (95, 2074), (95, 2181), (95, 2182), (95, 2183), (95, 2197), (95, 2199), (95, 2200), (95, 2201), (96, 2217), (97, 661), (97, 1353), (98, 1521), (99, 122), (99, 123), (99, 2454), (99, 2455), (99, 2604), (100, 1602), (100, 2056), (101, 281), (101, 1358), (101, 1589), (102, 109), (102, 1251), (102, 1448), (102, 1561), (102, 1623), (102, 1871), (102, 1878), (102, 2256), (103, 139), (103, 306), (103, 484), (103, 608), (103, 1775), (103, 1790), (104, 401), (104, 864), (104, 1065), (104, 2210), (105, 1721), (105, 2476), (105, 2651), (106, 2461), (107, 541), (107, 971), (107, 1113), (107, 1650), (108, 1647), (108, 2157), (108, 2209), (109, 124), (109, 133), (109, 153), (109, 176), (109, 236), (109, 289), (109, 306), (109, 318), (109, 426), (109, 459), (109, 519), (109, 563), (109, 610), (109, 1045), (109, 1337), (109, 1346), (109, 1624), (109, 1661), (109, 1769), (109, 1772), (109, 1779), (109, 1785), (109, 1787), (109, 1789), (109, 1805), (109, 1998), (109, 2045), (109, 2092), (109, 2093), (109, 2094), (109, 2095), (110, 567), (110, 1161), (110, 1262), (110, 1599), (110, 2279), (111, 758), (111, 1169), (111, 1358), (111, 1762), (111, 2492), (111, 2643), (112, 306), (112, 487), (112, 1623), (112, 2080), (113, 540), (113, 747), (113, 1884), (114, 610), (114, 2288), (114, 2506), (115, 973), (116, 1076), (116, 1501), (117, 259), (117, 2537), (118, 255), (118, 388), (118, 446), (118, 454), (118, 554), (118, 581), (118, 842), (118, 1029), (118, 1343), (118, 1507), (118, 1538), (118, 1616), (118, 1690), (118, 1851), (118, 2010), (118, 2030), (118, 2112), (118, 2165), (118, 2166), (119, 379), (119, 646), (119, 1537), (119, 1549), (119, 1901), (119, 1959), (120, 483), (120, 514), (120, 816), (120, 1842), (120, 2405), (121, 589), (121, 802), (121, 980), (121, 1158), (121, 1910), (121, 2251), (121, 2252), (122, 2454), (122, 2455), (123, 2455), (123, 2604), (124, 306), (124, 1367), (124, 1622), (124, 2478), (125, 458), (125, 2363), (126, 236), (126, 306), (126, 1551), (126, 1623), (126, 2045), (126, 2079), (127, 2604), (128, 233), (128, 370), (128, 392), (128, 2270), (129, 441), (129, 701), (130, 1982), (130, 2017), (131, 834), (131, 2169), (132, 379), (132, 479), (132, 904), (132, 1022), (132, 1959), (133, 399), (133, 452), (133, 1623), (133, 1670), (133, 1777), (133, 1784), (133, 2045), (133, 2082), (134, 406), (135, 137), (135, 2095), (135, 2144), (136, 831), (137, 2144), (137, 2329), (137, 2504), (138, 236), (138, 306), (138, 1776), (139, 306), (139, 660), (139, 910), (139, 1623), (139, 1780), (139, 2045), (140, 582), (140, 623), (141, 740), (141, 1002), (141, 2034), (142, 456), (142, 525), (142, 1628), (142, 2049), (142, 2181), (143, 316), (143, 598), (143, 1701), (144, 145), (144, 213), (144, 1593), (144, 2192), (145, 213), (145, 537), (145, 1165), (145, 1593), (145, 2622), (146, 897), (146, 1468), (146, 1907), (146, 1927), (146, 2059), (147, 1519), (147, 1976), (148, 378), (148, 381), (148, 602), (148, 714), (148, 2518), (149, 1080), (149, 1416), (149, 1655), (149, 2025), (150, 310), (150, 914), (150, 1942), (151, 1986), (151, 2236), (151, 2238), (151, 2335), (152, 884), (152, 2238), (152, 2240), (153, 236), (153, 306), (153, 459), (153, 1623), (153, 2045), (154, 326), (154, 364), (154, 819), (154, 1238), (154, 1339), (154, 1358), (154, 1444), (154, 1568), (154, 1752), (154, 1753), (154, 1754), (154, 2525), (155, 156), (155, 817), (155, 1358), (155, 1689), (155, 1736), (155, 1763), (156, 817), (156, 1358), (156, 1689), (156, 1763), (157, 598), (157, 1701), (157, 1870), (157, 2493), (158, 180), (158, 1701), (158, 2034), (159, 180), (159, 2308), (160, 277), (160, 553), (160, 743), (160, 745), (160, 1986), (160, 2000), (160, 2009), (161, 842), (161, 2010), (162, 323), (162, 1174), (162, 1268), (162, 1667), (164, 210), (164, 211), (165, 598), (165, 1473), (165, 2706), (165, 2707), (166, 271), (166, 2617), (167, 168), (167, 1056), (167, 2437), (167, 2482), (168, 2437), (168, 2438), (169, 1994), (169, 2706), (170, 1067), (170, 1358), (171, 775), (171, 790), (171, 1548), (172, 240), (172, 512), (172, 756), (172, 1692), (172, 2187), (173, 687), (173, 1033), (173, 1358), (173, 1586), (174, 629), (174, 1358), (174, 1742), (174, 2334), (175, 596), (175, 955), (175, 1914), (175, 2135), (175, 2217), (175, 2388), (176, 231), (176, 973), (177, 726), (177, 1639), (177, 2679), (177, 2682), (178, 833), (179, 197), (179, 231), (179, 1986), (180, 775), (180, 790), (180, 791), (180, 1020), (180, 1807), (180, 2004), (180, 2037), (180, 2076), (181, 1013), (181, 1359), (181, 1464), (181, 1683), (182, 183), (182, 997), (183, 997), (183, 1837), (184, 520), (185, 297), (185, 2003), (186, 1228), (186, 1319), (186, 1536), (186, 1672), (186, 2580), (186, 2702), (187, 1208), (188, 1169), (188, 1727), (189, 564), (189, 1072), (189, 1262), (189, 1509), (190, 491), (190, 2135), (191, 382), (191, 608), (191, 1677), (191, 1791), (191, 1998), (191, 2385), (192, 2472), (193, 441), (193, 458), (194, 473), (194, 1050), (194, 1451), (194, 2564), (194, 2646), (195, 2424), (196, 429), (196, 442), (196, 2122), (197, 231), (197, 2412), (198, 1255), (199, 420), (199, 1869), (200, 1439), (200, 2676), (201, 297), (201, 570), (201, 598), (201, 1701), (201, 1986), (201, 2430), (202, 353), (202, 1173), (202, 1250), (202, 1345), (203, 854), (203, 857), (203, 963), (203, 1115), (203, 1869), (204, 415), (205, 1701), (205, 1869), (206, 2691), (207, 833), (209, 2681), (210, 1079), (210, 1614), (210, 1626), (210, 1671), (210, 1905), (210, 1906), (210, 1907), (210, 2309), (211, 356), (211, 1394), (211, 1908), (211, 1909), (212, 1290), (213, 1593), (213, 2192), (214, 2194), (215, 1701), (215, 1986), (215, 2045), (216, 1542), (216, 1701), (217, 243), (217, 2473), (217, 2474), (218, 482), (218, 733), (218, 781), (218, 792), (218, 1020), (218, 1348), (218, 1382), (218, 2076), (218, 2091), (218, 2119), (218, 2594), (219, 507), (219, 1413), (219, 1542), (220, 376), (220, 817), (220, 913), (221, 817), (222, 821), (223, 744), (223, 1154), (223, 1761), (224, 1810), (224, 2034), (225, 2255), (226, 1701), (227, 534), (227, 883), (228, 322), (228, 848), (228, 1358), (228, 1721), (228, 1871), (229, 1053), (229, 1405), (229, 1894), (229, 2118), (230, 549), (230, 577), (230, 1095), (230, 1217), (230, 1810), (231, 232), (231, 387), (231, 551), (231, 1701), (231, 1868), (231, 2217), (232, 869), (232, 1701), (232, 1864), (232, 1986), (234, 610), (234, 2591), (235, 1701), (236, 306), (236, 1072), (236, 1572), (236, 2045), (236, 2046), (236, 2078), (236, 2079), (237, 2539), (238, 1828), (239, 619), (239, 887), (239, 910), (239, 1069), (239, 1220), (239, 1274), (239, 1376), (239, 1759), (239, 1909), (239, 2021), (239, 2182), (239, 2418), (240, 512), (240, 756), (240, 1472), (240, 1692), (241, 1441), (242, 279), (242, 838), (242, 1131), (242, 2280), (243, 473), (243, 2474), (243, 2647), (243, 2648), (244, 565), (244, 1072), (244, 1358), (244, 1610), (245, 782), (245, 1162), (246, 936), (246, 1358), (246, 1687), (246, 2515), (247, 2583), (248, 1264), (248, 1531), (248, 1964), (249, 621), (249, 1884), (249, 1978), (250, 2429), (251, 253), (251, 507), (251, 812), (251, 1300), (251, 1413), (251, 1542), (251, 1933), (252, 711), (252, 973), (252, 1973), (252, 2485), (253, 507), (253, 1413), (254, 507), (254, 1211), (255, 1266), (255, 1343), (255, 2112), (256, 756), (257, 964), (257, 1388), (257, 2180), (258, 963), (258, 1094), (258, 1153), (258, 1240), (258, 1401), (258, 2645), (259, 2537), (260, 365), (261, 873), (261, 1479), (261, 1701), (261, 1894), (262, 1351), (262, 1464), (263, 364), (263, 732), (263, 1103), (264, 472), (264, 844), (264, 1826), (264, 1902), (265, 1441), (266, 578), (266, 809), (266, 2227), (266, 2229), (267, 670), (267, 2000), (267, 2373), (268, 1740), (268, 2451), (269, 321), (269, 418), (269, 2543), (269, 2551), (270, 279), (270, 838), (270, 1195), (270, 1215), (270, 2280), (271, 638), (271, 1970), (271, 2387), (271, 2498), (272, 2012), (273, 374), (273, 846), (274, 748), (274, 749), (275, 805), (275, 1967), (276, 1463), (276, 1695), (276, 2133), (277, 553), (277, 696), (277, 973), (277, 1869), (278, 1185), (279, 304), (279, 502), (279, 666), (279, 838), (279, 1195), (279, 2165), (279, 2280), (279, 2344), (279, 2423), (280, 1535), (280, 2155), (281, 746), (281, 1000), (281, 1347), (281, 1382), (281, 2244), (281, 2247), (282, 747), (283, 1559), (283, 2250), (284, 583), (284, 2222), (284, 2223), (284, 2224), (284, 2225), (284, 2226), (285, 502), (285, 1999), (286, 442), (286, 698), (287, 2705), (288, 618), (289, 1358), (289, 1722), (290, 328), (290, 567), (290, 687), (290, 1765), (290, 2359), (291, 1692), (292, 2562), (293, 2038), (294, 306), (294, 2047), (295, 1176), (295, 1177), (296, 732), (296, 2685), (297, 598), (297, 899), (297, 1542), (298, 607), (298, 1095), (298, 1325), (299, 1484), (299, 2383), (299, 2386), (299, 2387), (299, 2498), (300, 415), (300, 634), (301, 1169), (301, 2492), (302, 306), (302, 350), (302, 719), (302, 1158), (302, 1253), (303, 719), (303, 1670), (303, 2143), (304, 1172), (304, 1857), (304, 2423), (305, 1416), (305, 1927), (306, 308), (306, 329), (306, 350), (306, 417), (306, 426), (306, 452), (306, 476), (306, 487), (306, 519), (306, 542), (306, 554), (306, 573), (306, 581), (306, 608), (306, 655), (306, 656), (306, 719), (306, 887), (306, 910), (306, 958), (306, 973), (306, 1009), (306, 1045), (306, 1072), (306, 1158), (306, 1193), (306, 1245), (306, 1251), (306, 1346), (306, 1367), (306, 1483), (306, 1490), (306, 1551), (306, 1572), (306, 1584), (306, 1640), (306, 1651), (306, 1656), (306, 1705), (306, 1770), (306, 1771), (306, 1772), (306, 1775), (306, 1779), (306, 1781), (306, 1782), (306, 1787), (306, 1797), (306, 1798), (306, 1799), (306, 1802), (306, 1804), (306, 1805), (306, 1856), (306, 2045), (306, 2046), (306, 2048), (306, 2078), (306, 2080), (306, 2084), (306, 2085), (306, 2086), (306, 2087), (306, 2088), (306, 2089), (306, 2090), (306, 2091), (307, 991), (308, 350), (308, 1253), (308, 1670), (308, 2045), (309, 383), (309, 2268), (309, 2305), (310, 352), (310, 875), (310, 892), (310, 990), (310, 1241), (310, 1272), (310, 1331), (310, 1581), (310, 1815), (310, 1944), (310, 1945), (310, 1946), (310, 1947), (310, 1948), (310, 1949), (310, 1950), (311, 343), (311, 690), (311, 1132), (311, 1865), (312, 1610), (312, 1722), (312, 1740), (313, 2296), (314, 1623), (314, 2000), (315, 408), (315, 423), (315, 1602), (315, 1921), (315, 2232), (316, 598), (316, 766), (316, 845), (316, 920), (316, 1073), (316, 1297), (316, 1821), (316, 1868), (316, 2004), (317, 1624), (317, 1785), (318, 563), (318, 1701), (318, 2045), (319, 1205), (320, 348), (320, 1597), (321, 1083), (321, 1450), (323, 498), (323, 2020), (323, 2022), (324, 827), (324, 2156), (324, 2194), (325, 787), (325, 1848), (326, 1358), (326, 1754), (327, 928), (327, 1325), (327, 1996), (327, 2063), (327, 2064), (328, 951), (328, 1250), (329, 1798), (329, 2598), (330, 1505), (330, 2123), (331, 1527), (331, 2480), (332, 665), (332, 2003), (332, 2122), (332, 2615), (333, 1358), (333, 1694), (334, 693), (334, 1013), (335, 1701), (335, 1986), (336, 1944), (336, 1950), (337, 1214), (337, 1358), (337, 1499), (337, 1776), (338, 1413), (338, 1542), (338, 1934), (339, 813), (340, 584), (340, 2463), (341, 613), (341, 1358), (341, 1389), (341, 1546), (341, 2045), (342, 1072), (342, 1512), (343, 1701), (344, 389), (344, 441), (344, 661), (344, 854), (344, 2323), (345, 833), (346, 999), (346, 1358), (347, 408), (347, 423), (347, 525), (348, 1643), (348, 2248), (348, 2250), (349, 419), (349, 465), (349, 2427), (350, 406), (350, 656), (350, 1623), (350, 1640), (350, 1775), (350, 1778), (350, 1782), (350, 2084), (350, 2085), (350, 2089), (350, 2090), (351, 1810), (352, 1294), (352, 1944), (353, 1173), (353, 1345), (353, 2507), (354, 659), (354, 1803), (354, 2453), (355, 1668), (356, 498), (356, 1259), (356, 2018), (356, 2116), (357, 657), (357, 1154), (357, 1358), (357, 2652), (358, 2642), (359, 389), (359, 1483), (359, 1620), (360, 1409), (360, 1824), (361, 2681), (362, 1966), (363, 1003), (364, 732), (364, 819), (364, 970), (364, 1306), (364, 1358), (364, 1606), (364, 1632), (364, 1756), (364, 2642), (365, 2469), (366, 553), (366, 745), (366, 1583), (366, 1986), (367, 2083), (367, 2451), (368, 428), (368, 996), (368, 1194), (368, 1366), (368, 1545), (368, 2249), (368, 2393), (369, 385), (369, 2484), (370, 1408), (370, 1414), (370, 1415), (370, 2269), (371, 720), (371, 1354), (371, 1414), (371, 1415), (371, 1441), (371, 1553), (371, 2375), (372, 626), (372, 1710), (372, 1834), (372, 2377), (373, 1025), (373, 1042), (374, 413), (374, 846), (374, 1101), (374, 2146), (374, 2147), (374, 2149), (375, 963), (375, 2401), (375, 2434), (375, 2435), (376, 672), (376, 1583), (377, 678), (377, 733), (377, 1265), (377, 2291), (378, 602), (379, 904), (379, 1022), (379, 1898), (379, 1959), (380, 477), (380, 930), (380, 2569), (381, 2518), (381, 2538), (382, 1203), (382, 2034), (383, 733), (383, 1704), (383, 2268), (384, 1623), (384, 1624), (385, 2483), (385, 2484), (386, 2114), (386, 2115), (386, 2117), (387, 519), (387, 2191), (388, 1899), (388, 2497), (389, 704), (389, 905), (389, 1077), (389, 1483), (389, 1743), (389, 2450), (390, 1108), (391, 493), (391, 1986), (391, 2365), (392, 720), (392, 1415), (392, 1619), (392, 1825), (392, 2269), (393, 739), (394, 577), (394, 849), (394, 1063), (394, 1064), (394, 2351), (395, 640), (395, 1147), (395, 2367), (396, 1217), (396, 1988), (397, 665), (397, 879), (397, 1096), (397, 2329), (398, 730), (398, 2177), (399, 544), (399, 1089), (399, 1769), (399, 2107), (400, 1354), (401, 733), (401, 1065), (401, 1096), (401, 1160), (402, 507), (402, 776), (402, 1413), (402, 1542), (402, 1932), (402, 1936), (402, 1940), (403, 464), (403, 806), (403, 1037), (403, 1383), (403, 1742), (403, 2503), (403, 2654), (404, 1170), (404, 1476), (405, 738), (405, 1275), (405, 1927), (405, 2059), (406, 505), (406, 2505), (407, 409), (407, 695), (407, 1681), (407, 1682), (408, 525), (408, 734), (408, 1841), (408, 2056), (409, 1624), (409, 1681), (409, 2084), (410, 676), (410, 1179), (411, 1096), (411, 1488), (411, 1577), (411, 2609), (412, 1616), (412, 1849), (414, 711), (415, 525), (415, 593), (415, 737), (415, 818), (415, 851), (415, 966), (415, 1174), (415, 1309), (415, 1527), (415, 1644), (415, 1677), (415, 1843), (415, 1847), (415, 1850), (415, 1908), (415, 2014), (415, 2178), (415, 2182), (416, 519), (416, 1701), (417, 1072), (417, 1871), (417, 2034), (417, 2494), (420, 1869), (421, 2213), (421, 2216), (422, 545), (423, 525), (423, 527), (424, 436), (424, 1203), (425, 2466), (426, 487), (426, 1772), (426, 1777), (426, 1782), (426, 1789), (426, 1805), (427, 565), (427, 1528), (428, 996), (428, 1257), (428, 2248), (428, 2671), (429, 523), (429, 705), (429, 794), (429, 863), (429, 1493), (429, 1618), (429, 1669), (429, 1807), (429, 1889), (429, 2001), (429, 2041), (429, 2043), (429, 2044), (430, 2130), (431, 2694), (431, 2695), (432, 1442), (432, 1597), (433, 436), (433, 756), (434, 1117), (434, 1524), (434, 1693), (434, 2133), (434, 2408), (435, 486), (435, 733), (435, 1912), (436, 483), (436, 498), (436, 668), (436, 816), (436, 878), (436, 885), (436, 1039), (436, 1131), (436, 1332), (436, 1494), (436, 1977), (436, 1978), (436, 1979), (436, 1980), (436, 1981), (436, 1982), (437, 498), (437, 718), (437, 950), (437, 1495), (437, 1985), (438, 718), (438, 787), (438, 1667), (438, 1983), (438, 1984), (438, 1985), (439, 1169), (439, 1642), (440, 441), (440, 725), (440, 895), (440, 1296), (440, 1913), (440, 2179), (441, 454), (441, 671), (441, 1455), (441, 1537), (441, 2094), (441, 2184), (442, 588), (442, 627), (442, 698), (442, 1051), (442, 2120), (442, 2362), (443, 1010), (443, 1264), (443, 1531), (443, 1966), (444, 488), (444, 515), (444, 582), (444, 623), (444, 828), (444, 2289), (444, 2290), (444, 2464), (445, 909), (445, 1434), (446, 903), (446, 1507), (447, 1616), (447, 1849), (447, 2638), (448, 472), (448, 1824), (448, 1826), (448, 1902), (449, 1280), (449, 1834), (449, 2581), (450, 1569), (450, 2538), (451, 671), (451, 935), (451, 2285), (452, 1258), (452, 1623), (453, 1806), (453, 2305), (453, 2306), (454, 581), (454, 973), (454, 1441), (454, 1661), (454, 1917), (454, 2022), (454, 2188), (454, 2189), (454, 2190), (455, 1664), (455, 2147), (455, 2486), (456, 525), (456, 544), (456, 667), (456, 1580), (456, 2054), (456, 2199), (456, 2347), (456, 2472), (457, 1201), (457, 2215), (457, 2216), (458, 1122), (458, 1276), (458, 1555), (458, 1953), (459, 1623), (459, 1681), (460, 1986), (460, 1989), (460, 2532), (461, 1203), (461, 2309), (462, 1048), (463, 1702), (463, 1703), (463, 1964), (463, 1966), (464, 1758), (464, 2444), (464, 2445), (465, 896), (465, 1403), (465, 1869), (465, 2304), (466, 970), (466, 1305), (466, 1358), (466, 1738), (466, 2546), (467, 1172), (467, 1701), (467, 1708), (468, 647), (468, 1311), (468, 1313), (469, 620), (469, 2304), (469, 2412), (470, 652), (470, 854), (470, 857), (470, 1097), (470, 1115), (471, 1013), (471, 2013), (471, 2394), (472, 559), (472, 844), (472, 1182), (472, 1183), (472, 1825), (472, 2029), (473, 1575), (473, 2647), (474, 1181), (475, 2219), (476, 1140), (476, 1800), (476, 1986), (477, 930), (477, 2569), (478, 514), (478, 1978), (478, 2024), (479, 1880), (480, 598), (480, 687), (480, 1426), (480, 1710), (480, 2359), (480, 2372), (481, 823), (481, 1287), (481, 1810), (481, 2291), (482, 790), (482, 1807), (482, 1810), (482, 1812), (482, 1814), (482, 2230), (482, 2307), (482, 2308), (483, 816), (483, 2405), (484, 542), (484, 1367), (484, 1699), (484, 1775), (484, 2046), (484, 2081), (485, 839), (485, 1042), (485, 2219), (486, 2077), (486, 2667), (486, 2668), (487, 655), (487, 859), (487, 1705), (487, 1772), (487, 1773), (487, 1782), (487, 1798), (487, 2026), (487, 2080), (488, 2547), (489, 1358), (489, 2390), (489, 2391), (490, 826), (490, 1131), (490, 1309), (490, 1463), (490, 1879), (490, 1973), (490, 1981), (490, 2099), (490, 2105), (492, 688), (492, 956), (492, 1257), (492, 1533), (492, 2538), (492, 2673), (492, 2678), (493, 1244), (493, 1759), (494, 2614), (495, 1327), (495, 1328), (495, 2192), (496, 596), (496, 711), (496, 992), (497, 2419), (498, 1652), (499, 2457), (499, 2458), (500, 2241), (501, 1358), (501, 1765), (502, 1976), (503, 576), (503, 1692), (503, 2001), (504, 1973), (504, 2394), (504, 2396), (505, 573), (505, 843), (505, 1180), (505, 1251), (505, 1258), (505, 1304), (505, 1448), (505, 1560), (505, 1779), (505, 2083), (506, 1013), (506, 1352), (506, 1914), (506, 1918), (507, 812), (507, 1176), (507, 1211), (507, 1300), (507, 1363), (507, 1413), (507, 1931), (507, 1933), (507, 1936), (507, 1940), (507, 1941), (507, 2508), (508, 2325), (509, 1101), (509, 2146), (509, 2148), (510, 1013), (510, 1131), (510, 1171), (511, 549), (511, 1810), (512, 756), (512, 1472), (512, 1692), (513, 565), (513, 657), (513, 1528), (514, 1314), (514, 1882), (514, 1978), (515, 623), (515, 1102), (515, 2464), (515, 2465), (515, 2547), (516, 1882), (516, 2104), (517, 952), (517, 2105), (518, 666), (518, 1373), (518, 2423), (519, 598), (519, 836), (519, 1346), (519, 1574), (519, 1670), (519, 1986), (519, 1998), (519, 2045), (521, 598), (522, 2097), (523, 949), (523, 2406), (524, 552), (524, 979), (524, 1169), (524, 1358), (524, 2476), (525, 1540), (525, 1628), (525, 2054), (525, 2057), (525, 2172), (525, 2180), (525, 2181), (525, 2182), (525, 2183), (526, 565), (526, 1007), (526, 1216), (526, 1742), (528, 803), (529, 1417), (529, 1419), (529, 2260), (530, 1013), (530, 1505), (530, 2094), (531, 606), (531, 2308), (532, 1701), (532, 1863), (533, 1742), (533, 2466), (534, 609), (534, 629), (534, 933), (535, 2392), (535, 2641), (536, 567), (536, 1894), (537, 1165), (537, 1593), (537, 1698), (537, 2192), (538, 1286), (539, 711), (539, 1616), (539, 2155), (540, 747), (540, 1441), (540, 2527), (541, 647), (541, 904), (541, 1022), (541, 1360), (541, 1896), (542, 1245), (542, 1623), (543, 984), (544, 1580), (544, 1769), (544, 2052), (544, 2199), (544, 2347), (546, 1608), (546, 2127), (547, 598), (547, 1701), (548, 809), (548, 843), (548, 1523), (548, 1937), (548, 2138), (549, 1497), (549, 1810), (551, 2388), (552, 1169), (552, 1358), (552, 2201), (553, 745), (553, 1127), (553, 1583), (553, 1995), (553, 2009), (554, 685), (555, 1463), (556, 1623), (556, 1805), (557, 1725), (558, 876), (558, 1189), (558, 1706), (558, 2585), (559, 1182), (559, 1579), (560, 774), (560, 2526), (561, 1016), (562, 704), (562, 1483), (562, 1735), (562, 2450), (563, 1337), (563, 1701), (563, 2045), (564, 1262), (564, 2476), (565, 687), (565, 1038), (565, 1361), (565, 1398), (565, 1528), (565, 1610), (565, 1723), (565, 2279), (566, 1907), (566, 1986), (567, 631), (567, 760), (567, 1262), (567, 1513), (568, 1116), (568, 1223), (568, 1810), (569, 1759), (569, 2512), (570, 2430), (571, 696), (571, 1570), (572, 1416), (572, 2025), (572, 2418), (573, 643), (573, 1313), (573, 2407), (574, 576), (574, 1692), (574, 2001), (575, 2283), (576, 665), (576, 1810), (576, 2348), (577, 849), (577, 870), (577, 906), (577, 1063), (577, 1129), (577, 1518), (577, 2351), (577, 2352), (577, 2353), (577, 2354), (578, 1105), (578, 1879), (578, 1974), (579, 994), (579, 1134), (579, 1808), (580, 744), (580, 1358), (580, 1742), (580, 1758), (580, 1765), (580, 2444), (580, 2445), (581, 1616), (581, 1623), (581, 1792), (582, 2548), (582, 2549), (583, 2224), (583, 2225), (584, 623), (584, 2289), (584, 2463), (584, 2464), (585, 2526), (586, 1218), (586, 1224), (586, 2155), (587, 1032), (588, 698), (588, 2383), (589, 980), (589, 1158), (589, 1624), (590, 1441), (590, 1954), (591, 642), (591, 1017), (591, 1078), (591, 1423), (591, 2472), (592, 2669), (593, 1115), (593, 1474), (594, 663), (594, 2195), (595, 1016), (595, 1256), (595, 2176), (596, 644), (596, 992), (596, 1914), (597, 1104), (597, 1628), (598, 637), (598, 766), (598, 845), (598, 869), (598, 968), (598, 1003), (598, 1100), (598, 1107), (598, 1297), (598, 1299), (598, 1301), (598, 1473), (598, 1573), (598, 1636), (598, 1821), (598, 1823), (598, 1864), (598, 1870), (598, 1875), (598, 2138), (598, 2707), (599, 1093), (599, 1271), (600, 2394), (601, 2229), (603, 716), (603, 795), (603, 1248), (603, 1821), (603, 1873), (603, 2045), (604, 1351), (604, 1652), (604, 1914), (604, 2109), (605, 1107), (605, 2534), (606, 1666), (606, 2230), (606, 2360), (606, 2361), (607, 1213), (607, 1664), (608, 1623), (608, 2080), (609, 883), (609, 1041), (609, 1358), (609, 2446), (609, 2447), (609, 2448), (610, 826), (610, 2287), (610, 2288), (610, 2481), (611, 2690), (612, 2235), (613, 1358), (614, 888), (614, 1475), (614, 2470), (615, 2443), (616, 1358), (616, 1739), (616, 2365), (616, 2503), (617, 705), (617, 2034), (618, 938), (620, 923), (620, 2534), (621, 1332), (621, 1978), (621, 2018), (622, 886), (622, 1002), (622, 1951), (622, 1952), (623, 2289), (623, 2464), (624, 1042), (624, 1232), (625, 1024), (626, 1358), (626, 2556), (626, 2558), (627, 2122), (627, 2238), (627, 2335), (628, 1169), (628, 1725), (628, 1764), (628, 2546), (629, 883), (630, 973), (631, 2358), (632, 1430), (633, 1701), (633, 1866), (634, 2227), (635, 2058), (636, 2233), (637, 1641), (638, 783), (638, 808), (638, 893), (638, 924), (638, 1773), (638, 2387), (639, 900), (640, 765), (640, 894), (640, 1090), (640, 1598), (640, 2420), (641, 2704), (642, 2472), (643, 1167), (643, 1538), (643, 2407), (644, 711), (644, 728), (644, 1258), (644, 2177), (645, 891), (645, 950), (645, 1267), (645, 1358), (645, 1495), (645, 1824), (645, 1826), (645, 1895), (645, 1898), (645, 1899), (645, 1900), (645, 1901), (647, 904), (647, 1267), (647, 1360), (648, 1441), (649, 1171), (649, 1457), (650, 819), (650, 1250), (650, 1486), (650, 1557), (650, 1685), (650, 1756), (650, 2083), (651, 885), (651, 1667), (651, 1984), (651, 2023), (651, 2024), (651, 2156), (653, 1231), (655, 2080), (656, 2090), (657, 867), (657, 871), (657, 1229), (657, 1254), (657, 1729), (657, 1740), (657, 2440), (657, 2442), (657, 2522), (657, 2523), (658, 2147), (659, 1803), (660, 1623), (661, 807), (661, 830), (661, 935), (661, 1028), (661, 1045), (661, 1353), (661, 1878), (661, 1879), (661, 1880), (661, 1881), (661, 1882), (661, 1883), (661, 1884), (661, 1885), (662, 932), (663, 2195), (664, 1701), (665, 2120), (665, 2122), (666, 1850), (666, 1973), (667, 2364), (667, 2472), (669, 729), (669, 1086), (669, 1124), (670, 2606), (671, 973), (671, 2025), (672, 2456), (673, 1907), (673, 1986), (674, 1907), (675, 2356), (676, 1955), (676, 2235), (677, 954), (678, 733), (679, 1395), (680, 2199), (681, 1171), (681, 1445), (681, 1446), (681, 1986), (682, 973), (682, 1224), (683, 834), (683, 2169), (684, 1282), (684, 1358), (686, 1358), (686, 2366), (687, 1033), (687, 1171), (687, 1358), (687, 1546), (687, 1586), (687, 1610), (687, 1710), (687, 1721), (687, 1725), (687, 2359), (687, 2372), (688, 1257), (689, 1169), (689, 1292), (689, 1317), (689, 1358), (689, 1721), (691, 2034), (691, 2130), (692, 2629), (693, 763), (693, 1851), (693, 2108), (694, 1478), (694, 2516), (695, 948), (695, 1012), (695, 1336), (695, 1681), (695, 1682), (695, 1790), (695, 1998), (695, 2319), (696, 1570), (697, 1080), (698, 1015), (699, 1701), (699, 2045), (699, 2327), (700, 1691), (701, 735), (701, 739), (701, 2062), (702, 777), (702, 779), (702, 822), (702, 993), (702, 1368), (702, 1637), (702, 2069), (702, 2070), (702, 2101), (703, 801), (703, 1961), (703, 2497), (704, 969), (704, 1412), (704, 1483), (704, 1743), (704, 2113), (704, 2450), (706, 805), (706, 963), (706, 1240), (706, 2238), (706, 2645), (707, 763), (708, 836), (708, 1358), (708, 2212), (708, 2216), (709, 1896), (709, 1903), (710, 1392), (710, 2212), (710, 2213), (711, 1285), (711, 2111), (711, 2112), (711, 2113), (712, 850), (712, 1464), (712, 2480), (713, 1044), (714, 1385), (715, 2291), (716, 1810), (716, 1821), (716, 2409), (717, 1907), (718, 1416), (718, 2059), (718, 2261), (719, 1623), (719, 1810), (720, 1441), (721, 1034), (722, 1273), (722, 1567), (722, 1874), (722, 2500), (722, 2501), (723, 2614), (724, 1344), (724, 2394), (724, 2395), (725, 1104), (725, 1137), (725, 1652), (725, 2071), (726, 1533), (726, 2671), (727, 1386), (727, 2570), (728, 1070), (728, 1296), (728, 2388), (728, 2553), (729, 1159), (729, 1221), (729, 1701), (729, 2534), (731, 901), (731, 1279), (731, 2199), (731, 2203), (732, 1756), (732, 2685), (733, 759), (733, 794), (733, 862), (733, 1062), (733, 1160), (733, 1192), (733, 1265), (733, 1294), (733, 1329), (733, 1682), (733, 1817), (733, 1818), (733, 2008), (733, 2011), (733, 2035), (733, 2268), (733, 2291), (733, 2301), (733, 2302), (733, 2303), (733, 2304), (734, 736), (734, 751), (734, 964), (734, 1006), (734, 1388), (734, 1841), (734, 2056), (734, 2197), (734, 2202), (734, 2277), (735, 739), (735, 1237), (735, 1543), (735, 1881), (735, 1958), (735, 2060), (735, 2061), (735, 2062), (736, 751), (736, 964), (736, 1006), (736, 1388), (736, 1631), (736, 1841), (736, 2197), (736, 2202), (737, 1269), (737, 1630), (737, 1974), (737, 2136), (737, 2178), (738, 1080), (738, 1927), (738, 2162), (739, 1237), (739, 1543), (739, 1881), (739, 1958), (740, 1002), (740, 2033), (741, 831), (741, 1011), (741, 1088), (741, 1282), (741, 2093), (742, 1483), (742, 1620), (742, 1743), (743, 745), (743, 1239), (743, 1570), (743, 1986), (744, 1154), (744, 1358), (745, 1127), (745, 1986), (745, 1995), (745, 2009), (746, 1303), (746, 2006), (747, 1538), (748, 1103), (748, 1145), (748, 1169), (748, 1358), (748, 1374), (748, 1550), (748, 1568), (748, 1617), (748, 1732), (748, 2553), (749, 1333), (749, 2155), (750, 1441), (751, 1204), (751, 2198), (751, 2202), (752, 957), (752, 2083), (752, 2451), (753, 1269), (753, 1880), (754, 1358), (754, 1483), (754, 2450), (755, 1277), (755, 1898), (755, 2071), (756, 885), (756, 1469), (756, 1472), (756, 1692), (756, 2186), (756, 2187), (757, 1284), (757, 1358), (757, 2421), (758, 1358), (758, 1762), (758, 2492), (759, 1703), (760, 985), (760, 1426), (760, 1513), (760, 2459), (760, 2460), (761, 1401), (761, 1443), (762, 859), (762, 2448), (763, 1635), (764, 796), (764, 1358), (764, 1606), (764, 1612), (765, 1147), (765, 2367), (766, 845), (766, 1297), (766, 1868), (767, 873), (767, 1701), (767, 2314), (768, 1566), (768, 1723), (768, 1724), (769, 1927), (770, 1894), (770, 2117), (771, 1080), (771, 1156), (772, 908), (773, 1072), (773, 1505), (775, 2075), (776, 1413), (776, 1542), (778, 779), (778, 1224), (778, 1370), (778, 1914), (778, 1919), (779, 1224), (779, 1370), (779, 1592), (779, 1914), (779, 1919), (779, 1973), (780, 2341), (781, 2402), (783, 893), (783, 1061), (783, 1143), (783, 2376), (784, 960), (784, 1701), (785, 1664), (786, 947), (788, 1031), (788, 1952), (788, 2033), (788, 2041), (788, 2205), (789, 1240), (789, 1703), (790, 1548), (790, 1810), (791, 2034), (791, 2130), (792, 1488), (792, 1558), (792, 1986), (792, 2555), (793, 1896), (793, 1902), (793, 1903), (793, 2592), (794, 863), (794, 1160), (794, 1590), (795, 1645), (795, 1810), (796, 1103), (796, 1317), (796, 1358), (797, 800), (797, 1358), (797, 1833), (797, 2359), (798, 1381), (798, 1793), (798, 1794), (798, 1795), (799, 961), (800, 820), (800, 889), (800, 1834), (801, 1470), (801, 1961), (801, 2516), (802, 1307), (803, 2100), (804, 1307), (805, 963), (805, 2236), (806, 1383), (807, 1226), (807, 1955), (807, 1956), (808, 924), (808, 1785), (808, 2383), (809, 1115), (809, 2228), (809, 2229), (810, 1068), (811, 855), (811, 900), (812, 1300), (812, 1413), (812, 1542), (813, 2376), (814, 893), (814, 1158), (814, 2382), (814, 2383), (815, 1174), (815, 1344), (815, 2017), (815, 2018), (816, 1842), (816, 1980), (816, 2282), (816, 2405), (817, 1736), (817, 1763), (817, 2456), (818, 1999), (819, 1358), (819, 1606), (820, 889), (822, 1973), (823, 1169), (823, 1358), (823, 1765), (823, 2221), (824, 1831), (825, 1765), (826, 2287), (826, 2528), (827, 1039), (827, 1921), (827, 1999), (828, 1795), (828, 2464), (829, 1816), (830, 1914), (830, 2100), (831, 1011), (831, 1358), (831, 1638), (831, 1733), (831, 2093), (832, 2600), (833, 1130), (833, 1641), (833, 1678), (833, 2036), (833, 2495), (833, 2595), (834, 876), (834, 2168), (835, 1121), (835, 1134), (835, 1654), (835, 1810), (836, 1013), (836, 1131), (836, 1343), (836, 1572), (836, 2078), (836, 2403), (837, 1422), (837, 2248), (837, 2670), (838, 868), (838, 1131), (838, 2280), (839, 965), (839, 2277), (840, 1903), (840, 2481), (841, 2034), (842, 2016), (843, 2339), (843, 2542), (844, 1902), (846, 2146), (847, 2189), (847, 2422), (848, 985), (848, 1373), (849, 1993), (849, 2351), (850, 1464), (850, 2278), (851, 1309), (851, 2018), (852, 1800), (853, 1169), (853, 1358), (853, 1762), (854, 857), (854, 935), (854, 1097), (854, 1884), (855, 2493), (856, 1390), (856, 2248), (857, 1097), (857, 1246), (858, 2182), (858, 2502), (859, 1030), (859, 1199), (859, 2096), (860, 1427), (860, 1527), (860, 1758), (861, 1397), (861, 2068), (861, 2330), (863, 1160), (863, 1590), (864, 1065), (864, 2210), (865, 2653), (866, 1049), (867, 871), (867, 1229), (867, 1252), (867, 2439), (867, 2440), (867, 2442), (867, 2522), (867, 2523), (868, 988), (868, 1195), (868, 1341), (868, 1526), (868, 1844), (868, 2099), (868, 2276), (869, 1440), (869, 1701), (869, 1864), (870, 1119), (870, 2126), (871, 1229), (871, 2530), (871, 2652), (872, 1340), (872, 1413), (872, 1542), (873, 1358), (873, 1479), (873, 1708), (873, 2313), (874, 1701), (875, 914), (875, 1942), (875, 1945), (875, 1950), (876, 1358), (876, 2168), (876, 2584), (877, 1176), (877, 1177), (877, 1300), (877, 1413), (877, 1542), (877, 1935), (878, 885), (878, 2326), (879, 1558), (880, 973), (880, 1013), (881, 1155), (881, 1199), (882, 1358), (883, 933), (885, 1039), (885, 2024), (885, 2386), (886, 1400), (887, 910), (887, 1623), (887, 1624), (888, 1475), (888, 1556), (889, 1830), (889, 1831), (889, 1832), (890, 1269), (890, 1314), (891, 1674), (891, 2608), (892, 1950), (893, 911), (893, 1051), (893, 2383), (894, 1845), (894, 2367), (895, 1187), (895, 1296), (895, 1913), (897, 1152), (897, 1156), (897, 1410), (897, 1494), (897, 1907), (897, 1983), (897, 2295), (898, 1835), (898, 1836), (898, 2160), (899, 1055), (899, 1858), (899, 1986), (901, 1042), (901, 1279), (901, 2073), (901, 2186), (901, 2199), (902, 1284), (902, 1358), (902, 1604), (903, 2030), (903, 2031), (904, 1312), (904, 1360), (904, 1959), (905, 1282), (905, 1483), (905, 1620), (906, 2351), (906, 2353), (907, 1351), (907, 1916), (908, 1013), (910, 1623), (910, 2085), (911, 1051), (911, 1534), (911, 2376), (912, 2130), (915, 1035), (915, 1740), (915, 2415), (915, 2597), (916, 1026), (917, 2639), (918, 1098), (918, 1542), (918, 2065), (919, 1358), (920, 1893), (921, 1914), (921, 2134), (921, 2293), (922, 1307), (922, 1406), (924, 2383), (925, 1222), (926, 1862), (927, 1316), (927, 2140), (928, 1326), (928, 2063), (929, 1358), (929, 2627), (930, 2569), (931, 1433), (933, 1038), (934, 2356), (935, 973), (935, 1873), (936, 1067), (936, 2515), (936, 2530), (936, 2641), (937, 1180), (937, 1304), (937, 2096), (938, 2027), (938, 2230), (939, 2173), (940, 1829), (941, 2517), (942, 1924), (942, 1952), (943, 1196), (944, 2138), (945, 1072), (945, 1512), (945, 1911), (945, 2388), (946, 1966), (946, 2623), (948, 1395), (948, 1681), (948, 1682), (951, 1358), (952, 2546), (953, 2565), (953, 2566), (953, 2567), (954, 1112), (955, 1482), (955, 1914), (956, 2677), (957, 1154), (957, 1358), (957, 1557), (957, 1685), (957, 1757), (957, 2083), (957, 2167), (958, 1072), (958, 1798), (959, 2529), (960, 1776), (960, 2650), (961, 1728), (961, 2555), (961, 2599), (962, 1062), (962, 1665), (962, 1806), (962, 1807), (962, 1808), (962, 1809), (962, 1810), (963, 1094), (963, 1141), (963, 1157), (963, 1417), (963, 1443), (963, 1703), (963, 1785), (963, 2240), (963, 2399), (963, 2400), (963, 2401), (963, 2434), (964, 965), (964, 1388), (964, 2198), (965, 1693), (965, 2197), (967, 2659), (968, 1603), (968, 1986), (969, 1483), (969, 1735), (969, 1743), (969, 2450), (970, 1358), (970, 2365), (971, 1650), (972, 1000), (972, 2247), (972, 2579), (972, 2580), (973, 1072), (973, 1142), (973, 1583), (973, 2016), (973, 2019), (973, 2153), (974, 1496), (975, 2097), (976, 998), (976, 1431), (977, 1281), (978, 998), (978, 1358), (979, 1303), (979, 1503), (979, 1839), (979, 1957), (979, 2207), (980, 1367), (980, 1623), (981, 1159), (981, 1221), (982, 1091), (982, 1256), (982, 1458), (982, 2175), (982, 2176), (983, 2130), (984, 1068), (984, 2265), (985, 1073), (985, 1149), (985, 1358), (986, 2697), (987, 1175), (989, 1507), (989, 1645), (989, 2285), (989, 2436), (990, 1054), (990, 1542), (993, 2155), (994, 1219), (994, 1329), (994, 2309), (995, 1309), (995, 1912), (995, 2385), (996, 1135), (996, 1257), (996, 2248), (996, 2518), (997, 1837), (998, 1103), (998, 1284), (998, 1431), (998, 2365), (999, 1358), (1000, 1325), (1000, 2543), (1001, 2662), (1002, 1952), (1002, 2033), (1002, 2034), (1003, 1373), (1003, 1687), (1003, 2607), (1004, 1489), (1004, 1810), (1005, 1541), (1006, 1302), (1007, 1154), (1007, 1742), (1007, 2466), (1008, 1416), (1008, 1922), (1008, 2059), (1008, 2575), (1009, 2096), (1010, 1966), (1012, 1336), (1012, 1681), (1012, 1682), (1012, 1797), (1013, 1120), (1013, 1293), (1013, 1403), (1013, 1464), (1013, 1521), (1013, 1583), (1013, 1625), (1013, 1644), (1013, 1661), (1013, 1675), (1013, 1729), (1013, 1840), (1013, 1841), (1013, 1842), (1013, 1843), (1013, 1844), (1013, 1845), (1013, 1846), (1013, 1847), (1013, 1848), (1013, 1849), (1013, 1850), (1013, 1851), (1013, 2045), (1014, 1558), (1015, 1068), (1015, 1143), (1015, 1385), (1015, 1425), (1015, 1452), (1015, 1481), (1015, 1519), (1015, 1618), (1015, 1788), (1015, 1789), (1015, 2262), (1015, 2263), (1016, 1256), (1016, 2176), (1017, 1475), (1017, 2472), (1018, 2378), (1019, 1457), (1020, 2075), (1020, 2077), (1020, 2667), (1021, 2309), (1022, 1168), (1022, 1276), (1022, 1961), (1022, 1962), (1022, 1963), (1023, 1701), (1023, 1986), (1023, 2568), (1025, 1042), (1026, 1303), (1026, 2034), (1026, 2531), (1027, 2394), (1029, 2166), (1031, 1952), (1033, 2168), (1035, 1433), (1035, 1486), (1035, 1740), (1035, 1801), (1035, 1833), (1036, 2562), (1037, 2447), (1037, 2654), (1038, 1358), (1038, 2503), (1040, 1169), (1040, 1317), (1040, 1358), (1040, 1765), (1041, 1243), (1041, 1358), (1041, 1466), (1041, 2390), (1041, 2448), (1042, 1047), (1042, 1118), (1042, 1125), (1042, 1198), (1042, 1481), (1042, 1517), (1042, 1628), (1042, 1925), (1042, 1926), (1042, 2051), (1042, 2052), (1042, 2054), (1042, 2055), (1042, 2073), (1042, 2198), (1042, 2333), (1043, 2309), (1045, 1571), (1045, 1773), (1046, 1510), (1046, 2336), (1046, 2387), (1046, 2587), (1047, 1588), (1047, 2333), (1049, 1432), (1049, 1894), (1049, 2610), (1050, 1081), (1050, 1230), (1050, 1320), (1050, 1342), (1050, 1380), (1050, 1569), (1050, 1634), (1050, 2563), (1050, 2564), (1051, 2122), (1051, 2383), (1052, 1701), (1053, 1405), (1054, 1099), (1054, 1432), (1054, 1577), (1054, 1605), (1054, 1950), (1055, 1577), (1056, 2482), (1057, 2409), (1058, 1195), (1059, 1600), (1060, 1441), (1061, 1196), (1061, 2376), (1062, 1192), (1062, 1810), (1063, 1518), (1064, 2351), (1064, 2352), (1065, 1096), (1065, 1699), (1065, 2211), (1066, 1574), (1067, 1216), (1067, 1830), (1067, 2307), (1067, 2448), (1070, 1072), (1070, 1167), (1070, 1358), (1070, 1470), (1070, 1725), (1070, 1829), (1071, 1135), (1071, 1257), (1071, 2248), (1071, 2671), (1072, 1262), (1072, 1358), (1072, 1478), (1072, 1483), (1072, 1505), (1072, 1725), (1072, 1733), (1072, 1740), (1072, 1784), (1072, 1797), (1072, 1798), (1072, 1799), (1072, 1800), (1072, 1801), (1072, 1802), (1072, 1803), (1072, 1804), (1072, 1805), (1073, 2163), (1074, 1501), (1074, 1675), (1074, 1676), (1075, 1124), (1075, 1701), (1077, 1483), (1077, 2113), (1077, 2450), (1079, 1218), (1079, 1914), (1080, 2162), (1080, 2344), (1081, 2563), (1082, 1534), (1082, 2386), (1083, 1232), (1083, 1450), (1083, 2114), (1084, 1213), (1085, 1421), (1085, 2109), (1085, 2110), (1085, 2394), (1086, 1124), (1086, 2247), (1086, 2579), (1087, 2434), (1088, 1089), (1089, 1552), (1089, 2086), (1090, 1093), (1090, 1147), (1090, 1271), (1090, 1598), (1090, 2367), (1091, 1256), (1091, 2176), (1092, 1106), (1092, 1171), (1092, 2501), (1093, 1271), (1093, 1598), (1093, 2367), (1094, 1369), (1094, 1443), (1094, 1653), (1095, 1325), (1095, 1810), (1095, 1986), (1095, 2613), (1096, 1633), (1097, 1115), (1097, 1869), (1098, 1477), (1098, 2066), (1098, 2067), (1099, 1577), (1099, 1607), (1100, 1701), (1101, 1242), (1101, 2146), (1101, 2148), (1102, 1207), (1102, 2290), (1102, 2464), (1102, 2465), (1103, 1123), (1103, 1284), (1103, 1358), (1103, 1480), (1103, 1520), (1103, 1718), (1103, 1748), (1103, 1760), (1103, 1886), (1103, 1887), (1103, 1888), (1104, 2264), (1106, 1874), (1106, 2501), (1107, 1810), (1107, 2243), (1107, 2379), (1109, 1533), (1109, 2671), (1109, 2674), (1109, 2675), (1110, 1120), (1110, 1224), (1110, 2025), (1110, 2295), (1111, 1119), (1111, 1273), (1111, 2125), (1111, 2126), (1111, 2129), (1113, 1650), (1114, 1717), (1114, 2560), (1115, 1529), (1115, 2276), (1116, 1223), (1117, 1628), (1117, 2499), (1118, 1416), (1118, 2155), (1119, 1235), (1119, 1273), (1119, 1462), (1119, 1663), (1119, 1697), (1119, 2124), (1119, 2125), (1119, 2126), (1119, 2127), (1119, 2128), (1119, 2129), (1120, 1583), (1120, 2025), (1120, 2194), (1121, 1131), (1121, 1410), (1121, 1655), (1121, 1810), (1121, 2136), (1123, 1358), (1125, 2332), (1126, 1823), (1127, 1583), (1127, 1986), (1128, 1441), (1128, 1954), (1128, 2275), (1129, 1518), (1129, 2351), (1129, 2352), (1129, 2353), (1130, 2495), (1131, 1133), (1131, 1215), (1131, 1224), (1131, 1500), (1131, 1538), (1131, 1655), (1131, 1909), (1131, 1930), (1131, 2155), (1131, 2185), (1131, 2280), (1131, 2281), (1131, 2282), (1131, 2283), (1133, 1500), (1133, 1538), (1133, 2185), (1134, 2296), (1135, 1257), (1135, 2248), (1135, 2518), (1135, 2671), (1135, 2678), (1136, 1189), (1136, 2359), (1136, 2554), (1138, 2248), (1138, 2250), (1139, 1628), (1139, 2054), (1139, 2182), (1141, 2294), (1142, 2326), (1143, 1618), (1143, 2155), (1143, 2262), (1143, 2376), (1144, 1245), (1144, 1623), (1145, 1169), (1145, 1358), (1146, 1505), (1146, 1506), (1146, 2254), (1147, 1598), (1147, 1865), (1147, 2367), (1147, 2371), (1148, 1317), (1148, 1747), (1148, 2220), (1148, 2221), (1149, 1358), (1149, 1894), (1149, 1986), (1150, 1243), (1151, 2570), (1151, 2700), (1152, 1927), (1152, 2155), (1152, 2416), (1153, 1401), (1154, 1358), (1154, 1714), (1154, 1715), (1154, 1742), (1154, 2514), (1154, 2515), (1155, 1229), (1157, 2240), (1157, 2463), (1158, 1635), (1158, 2251), (1158, 2252), (1158, 2382), (1159, 2534), (1160, 2268), (1162, 1510), (1163, 1402), (1163, 2132), (1164, 1287), (1165, 1593), (1166, 1986), (1166, 2582), (1168, 1955), (1169, 1358), (1169, 1714), (1169, 1719), (1169, 1720), (1169, 1731), (1169, 1734), (1169, 1737), (1169, 2220), (1169, 2476), (1169, 2492), (1170, 1476), (1171, 1295), (1171, 1355), (1171, 1855), (1171, 1909), (1171, 2359), (1173, 1250), (1174, 1912), (1174, 2394), (1175, 2359), (1176, 1542), (1176, 1935), (1177, 1542), (1177, 1935), (1178, 1529), (1178, 1908), (1178, 1984), (1178, 2350), (1179, 1955), (1180, 1304), (1182, 1183), (1182, 1579), (1183, 1354), (1183, 1579), (1183, 1824), (1183, 1825), (1184, 1190), (1184, 2100), (1185, 1460), (1185, 1992), (1185, 2349), (1185, 2358), (1185, 2589), (1185, 2590), (1186, 2535), (1186, 2574), (1187, 1188), (1189, 1358), (1189, 2359), (1190, 1387), (1191, 1558), (1191, 2241), (1191, 2339), (1192, 1621), (1193, 1705), (1194, 1366), (1194, 2670), (1196, 1367), (1196, 1624), (1196, 2300), (1197, 1791), (1197, 1998), (1199, 1214), (1199, 1566), (1199, 1599), (1199, 1716), (1200, 1502), (1200, 2207), (1200, 2414), (1201, 2214), (1201, 2533), (1202, 1428), (1202, 1510), (1202, 2336), (1202, 2376), (1202, 2524), (1203, 1215), (1203, 1410), (1203, 1842), (1203, 2155), (1204, 1330), (1204, 1602), (1204, 1838), (1204, 1839), (1205, 1358), (1205, 1761), (1206, 1257), (1206, 2671), (1207, 2290), (1207, 2464), (1209, 1358), (1209, 1737), (1210, 1648), (1212, 1701), (1213, 1290), (1214, 1499), (1214, 1716), (1214, 1745), (1215, 1894), (1216, 2446), (1216, 2503), (1218, 1927), (1218, 2116), (1221, 1577), (1221, 1607), (1221, 1949), (1222, 1224), (1224, 1291), (1224, 1341), (1224, 1370), (1224, 1525), (1224, 1526), (1224, 1583), (1224, 1587), (1224, 1660), (1224, 1732), (1224, 1848), (1224, 1851), (1224, 1919), (1224, 1975), (1224, 2151), (1224, 2152), (1224, 2153), (1224, 2154), (1224, 2155), (1224, 2156), (1225, 1450), (1225, 2579), (1226, 1955), (1226, 1956), (1226, 2528), (1227, 1269), (1228, 1536), (1228, 2580), (1229, 1254), (1229, 1308), (1229, 1358), (1229, 1384), (1229, 1506), (1229, 1627), (1229, 1749), (1229, 2439), (1229, 2440), (1229, 2441), (1229, 2442), (1230, 1342), (1233, 2433), (1234, 1702), (1234, 1703), (1234, 1966), (1235, 1462), (1235, 2126), (1235, 2577), (1236, 2479), (1237, 1958), (1238, 1358), (1239, 2027), (1239, 2611), (1240, 1443), (1240, 1702), (1240, 2237), (1241, 1701), (1241, 1950), (1242, 2146), (1242, 2148), (1243, 1358), (1245, 1770), (1245, 2080), (1247, 1679), (1248, 1651), (1248, 2045), (1249, 1483), (1249, 2556), (1249, 2558), (1250, 2507), (1251, 1448), (1251, 1623), (1252, 2656), (1254, 1308), (1255, 2248), (1256, 1761), (1256, 2175), (1256, 2176), (1257, 2248), (1257, 2249), (1257, 2518), (1257, 2538), (1257, 2671), (1257, 2673), (1257, 2677), (1257, 2678), (1257, 2679), (1259, 2342), (1260, 1559), (1260, 2250), (1261, 2130), (1262, 1509), (1263, 1407), (1264, 1531), (1265, 2291), (1266, 1529), (1266, 1984), (1267, 1824), (1268, 1929), (1268, 2309), (1269, 1314), (1269, 1630), (1269, 1880), (1269, 2227), (1270, 1622), (1270, 2034), (1271, 2367), (1272, 1945), (1272, 1947), (1272, 1950), (1273, 2034), (1273, 2124), (1273, 2125), (1273, 2126), (1273, 2129), (1275, 1468), (1276, 1962), (1278, 2268), (1278, 2305), (1278, 2306), (1279, 2186), (1279, 2203), (1280, 2612), (1281, 1358), (1281, 1746), (1281, 1748), (1282, 1283), (1282, 1483), (1282, 1735), (1282, 1776), (1282, 2324), (1283, 1776), (1283, 2324), (1284, 1358), (1284, 1604), (1284, 2450), (1285, 2182), (1287, 1358), (1288, 1309), (1289, 1622), (1289, 1705), (1290, 2258), (1291, 1660), (1291, 2154), (1292, 1317), (1292, 1358), (1293, 2418), (1295, 1987), (1296, 1910), (1296, 1911), (1296, 1912), (1296, 1913), (1298, 2703), (1299, 1701), (1299, 1810), (1300, 1542), (1300, 1933), (1300, 1940), (1300, 1941), (1300, 2508), (1301, 1315), (1301, 1316), (1301, 1542), (1301, 2140), (1303, 2163), (1305, 1358), (1306, 1317), (1307, 1444), (1307, 2536), (1308, 1627), (1309, 1338), (1309, 1625), (1309, 1677), (1309, 1741), (1309, 1882), (1309, 2015), (1309, 2102), (1309, 2103), (1309, 2178), (1310, 2692), (1311, 1312), (1311, 1313), (1311, 2080), (1312, 1313), (1313, 2407), (1316, 1679), (1317, 1719), (1317, 1720), (1317, 1739), (1317, 2220), (1317, 2221), (1318, 2661), (1318, 2662), (1319, 2034), (1320, 1349), (1320, 1491), (1320, 2684), (1321, 2501), (1322, 2265), (1323, 1701), (1324, 2035), (1324, 2265), (1325, 2063), (1325, 2247), (1326, 2063), (1327, 1328), (1327, 2161), (1328, 2160), (1330, 1837), (1330, 2068), (1331, 1576), (1331, 1810), (1332, 2024), (1333, 1973), (1333, 2195), (1333, 2312), (1334, 1542), (1334, 1577), (1334, 1701), (1334, 1941), (1334, 1950), (1335, 1856), (1335, 2087), (1335, 2090), (1336, 1452), (1336, 1797), (1336, 2032), (1336, 2033), (1336, 2034), (1337, 1701), (1337, 2045), (1338, 1912), (1338, 2385), (1339, 1358), (1339, 1753), (1340, 1413), (1340, 1542), (1340, 1943), (1341, 2425), (1343, 1507), (1343, 1645), (1343, 2165), (1343, 2316), (1344, 1928), (1344, 2315), (1346, 1670), (1347, 1997), (1348, 1810), (1348, 2163), (1348, 2605), (1349, 1634), (1349, 2684), (1350, 1443), (1351, 1362), (1351, 1535), (1351, 1592), (1351, 1972), (1351, 2134), (1351, 2282), (1354, 2270), (1355, 1957), (1356, 1613), (1357, 2025), (1357, 2170), (1358, 1384), (1358, 1389), (1358, 1444), (1358, 1471), (1358, 1480), (1358, 1483), (1358, 1492), (1358, 1499), (1358, 1516), (1358, 1546), (1358, 1550), (1358, 1562), (1358, 1565), (1358, 1568), (1358, 1599), (1358, 1604), (1358, 1620), (1358, 1646), (1358, 1708), (1358, 1709), (1358, 1710), (1358, 1711), (1358, 1712), (1358, 1713), (1358, 1714), (1358, 1715), (1358, 1716), (1358, 1717), (1358, 1718), (1358, 1719), (1358, 1720), (1358, 1721), (1358, 1722), (1358, 1723), (1358, 1724), (1358, 1725), (1358, 1726), (1358, 1727), (1358, 1728), (1358, 1729), (1358, 1730), (1358, 1731), (1358, 1732), (1358, 1733), (1358, 1734), (1358, 1735), (1358, 1736), (1358, 1737), (1358, 1738), (1358, 1739), (1358, 1740), (1358, 1741), (1358, 1742), (1358, 1743), (1358, 1744), (1358, 1745), (1358, 1746), (1358, 1747), (1358, 1748), (1358, 1749), (1358, 1750), (1358, 1751), (1358, 1752), (1358, 1753), (1358, 1754), (1358, 1755), (1358, 1756), (1358, 1757), (1358, 1758), (1358, 1759), (1358, 1760), (1358, 1761), (1358, 1762), (1358, 1763), (1358, 1764), (1358, 1765), (1358, 1766), (1358, 2597), (1359, 1464), (1359, 1914), (1359, 2278), (1359, 2480), (1360, 1650), (1360, 1902), (1360, 1904), (1360, 1960), (1360, 2491), (1361, 1528), (1362, 1372), (1362, 1914), (1363, 1413), (1365, 1702), (1365, 1703), (1365, 2509), (1365, 2519), (1366, 2248), (1367, 1584), (1367, 1656), (1367, 1778), (1367, 2080), (1367, 2143), (1368, 1911), (1368, 2553), (1369, 1530), (1369, 1653), (1370, 1525), (1370, 1919), (1370, 1975), (1370, 2274), (1370, 2485), (1371, 1393), (1375, 2586), (1376, 1848), (1376, 2232), (1377, 1840), (1377, 2068), (1377, 2069), (1377, 2070), (1377, 2388), (1378, 1544), (1378, 2058), (1378, 2150), (1379, 1380), (1379, 2564), (1380, 2564), (1381, 1794), (1382, 1502), (1382, 2176), (1382, 2283), (1385, 2335), (1386, 2570), (1386, 2571), (1388, 2181), (1388, 2197), (1389, 2597), (1390, 2681), (1391, 1693), (1392, 2212), (1394, 2137), (1395, 2072), (1395, 2189), (1395, 2266), (1395, 2267), (1396, 1399), (1396, 1421), (1396, 2109), (1396, 2228), (1396, 2394), (1396, 2395), (1398, 1528), (1399, 1501), (1399, 2227), (1399, 2309), (1399, 2394), (1400, 2698), (1401, 1585), (1402, 1482), (1402, 1616), (1402, 1919), (1402, 1972), (1403, 2317), (1404, 2375), (1405, 1508), (1405, 1894), (1406, 2387), (1408, 1553), (1408, 1826), (1408, 1828), (1408, 1829), (1409, 1553), (1409, 1826), (1409, 1827), (1409, 1828), (1410, 1655), (1411, 2218), (1412, 1483), (1412, 1735), (1412, 1743), (1412, 2450), (1413, 1542), (1413, 1931), (1413, 1932), (1413, 1933), (1413, 1934), (1413, 1935), (1413, 1936), (1414, 1415), (1414, 2270), (1415, 2269), (1416, 1468), (1416, 1602), (1416, 1921), (1416, 1922), (1416, 1923), (1416, 1924), (1416, 1925), (1416, 1926), (1417, 1452), (1417, 1529), (1417, 1703), (1417, 2260), (1417, 2350), (1419, 2259), (1419, 2260), (1420, 1421), (1420, 2394), (1420, 2396), (1421, 1975), (1421, 2109), (1421, 2110), (1421, 2394), (1423, 1692), (1424, 1621), (1424, 1813), (1425, 1618), (1426, 1751), (1427, 1725), (1427, 1742), (1427, 2446), (1428, 1429), (1428, 1534), (1428, 2336), (1428, 2376), (1428, 2520), (1428, 2524), (1429, 1534), (1429, 2520), (1430, 1718), (1432, 1950), (1432, 2663), (1433, 2359), (1434, 1986), (1435, 1927), (1435, 2059), (1435, 2071), (1436, 2259), (1437, 1688), (1438, 2664), (1439, 2676), (1440, 1701), (1441, 1619), (1441, 1700), (1441, 1707), (1441, 1954), (1441, 1957), (1441, 1958), (1441, 2271), (1441, 2272), (1441, 2273), (1441, 2274), (1441, 2275), (1442, 2462), (1443, 2240), (1443, 2399), (1443, 2645), (1444, 2323), (1445, 1446), (1447, 1928), (1448, 2034), (1448, 2045), (1449, 2681), (1451, 2564), (1453, 1701), (1453, 1986), (1455, 1537), (1456, 1457), (1459, 2080), (1459, 2218), (1460, 2349), (1460, 2358), (1461, 1634), (1461, 2248), (1462, 1611), (1462, 1663), (1463, 1695), (1463, 2131), (1463, 2132), (1463, 2133), (1464, 1482), (1464, 1683), (1464, 1914), (1465, 1488), (1465, 1799), (1467, 2172), (1469, 1498), (1469, 1692), (1469, 2346), (1469, 2349), (1469, 2358), (1469, 2590), (1470, 1555), (1470, 1824), (1470, 1953), (1470, 2553), (1471, 1646), (1472, 1692), (1472, 2187), (1473, 2706), (1473, 2707), (1474, 1908), (1474, 2261), (1474, 2335), (1475, 2469), (1475, 2470), (1477, 1542), (1477, 2066), (1477, 2067), (1478, 1902), (1479, 1701), (1479, 1894), (1481, 1669), (1481, 2332), (1481, 2335), (1482, 1973), (1482, 2132), (1483, 1620), (1483, 1726), (1483, 1735), (1483, 1743), (1483, 2083), (1483, 2113), (1483, 2208), (1484, 2383), (1484, 2498), (1484, 2520), (1485, 1914), (1486, 1745), (1487, 1501), (1487, 1849), (1487, 2017), (1487, 2137), (1488, 2601), (1490, 2085), (1490, 2327), (1492, 1765), (1497, 2034), (1498, 2025), (1498, 2349), (1498, 2590), (1499, 1776), (1500, 1538), (1500, 2185), (1501, 1676), (1501, 2228), (1501, 2395), (1502, 1503), (1502, 2163), (1503, 2241), (1503, 2243), (1504, 1647), (1504, 2209), (1505, 1552), (1505, 1624), (1505, 1699), (1505, 1788), (1505, 1801), (1505, 2086), (1505, 2107), (1507, 1645), (1507, 2436), (1508, 1894), (1508, 2117), (1510, 2387), (1511, 1519), (1512, 2023), (1512, 2145), (1513, 1830), (1514, 1692), (1515, 2182), (1515, 2234), (1516, 2612), (1519, 1534), (1519, 2108), (1519, 2335), (1519, 2640), (1520, 1750), (1520, 1765), (1522, 1697), (1522, 2680), (1523, 2449), (1524, 1693), (1524, 2499), (1525, 1914), (1525, 1973), (1526, 1879), (1526, 1977), (1526, 1981), (1526, 2099), (1526, 2425), (1527, 1668), (1527, 2274), (1527, 2450), (1529, 1908), (1529, 1984), (1529, 2350), (1530, 2240), (1530, 2464), (1531, 1889), (1532, 2648), (1533, 2671), (1535, 1916), (1535, 2155), (1535, 2293), (1536, 2580), (1536, 2702), (1538, 1842), (1538, 2185), (1539, 1914), (1540, 1628), (1540, 2054), (1542, 1577), (1542, 1607), (1542, 1931), (1542, 1935), (1542, 1936), (1542, 1939), (1542, 1940), (1542, 1941), (1542, 1942), (1542, 1943), (1543, 1881), (1543, 2029), (1545, 2248), (1546, 1804), (1546, 2169), (1547, 2169), (1549, 1901), (1549, 2286), (1550, 2083), (1552, 1778), (1552, 2591), (1553, 1827), (1554, 1657), (1554, 2686), (1554, 2687), (1554, 2688), (1555, 1953), (1555, 2363), (1557, 2083), (1557, 2168), (1558, 1986), (1558, 2338), (1558, 2339), (1558, 2340), (1560, 1623), (1561, 1623), (1562, 1765), (1563, 2633), (1564, 1772), (1564, 1786), (1565, 2365), (1566, 1732), (1566, 1895), (1566, 2071), (1567, 1654), (1567, 1874), (1567, 2500), (1568, 1729), (1569, 1966), (1572, 1776), (1573, 2698), (1574, 1986), (1576, 1810), (1578, 2497), (1579, 2029), (1580, 1892), (1580, 2199), (1580, 2200), (1581, 1810), (1581, 1819), (1583, 1995), (1583, 2025), (1584, 1798), (1585, 1653), (1586, 2168), (1587, 2154), (1588, 2055), (1588, 2333), (1589, 1745), (1589, 2596), (1591, 2541), (1592, 1914), (1592, 2071), (1592, 2485), (1595, 2246), (1596, 2476), (1598, 2367), (1599, 2441), (1599, 2460), (1599, 2614), (1601, 1750), (1602, 2054), (1602, 2072), (1602, 2073), (1602, 2074), (1605, 1950), (1605, 2663), (1608, 2124), (1608, 2126), (1608, 2489), (1609, 1790), (1609, 1791), (1609, 1912), (1610, 2556), (1610, 2557), (1610, 2558), (1611, 2124), (1614, 1671), (1614, 2034), (1615, 1665), (1616, 1849), (1616, 2050), (1618, 1789), (1619, 2269), (1620, 2450), (1622, 2425), (1623, 1767), (1623, 1768), (1623, 1769), (1623, 1770), (1623, 1771), (1623, 1772), (1623, 1773), (1623, 1774), (1623, 1775), (1623, 1776), (1623, 1777), (1623, 1778), (1623, 1779), (1623, 1780), (1623, 1781), (1623, 1782), (1623, 1783), (1623, 1784), (1624, 1705), (1624, 1777), (1624, 1778), (1624, 1779), (1624, 1780), (1624, 1785), (1624, 1786), (1624, 1787), (1624, 1788), (1625, 1729), (1627, 1740), (1628, 1635), (1628, 2021), (1628, 2053), (1628, 2054), (1628, 2055), (1628, 2056), (1628, 2057), (1628, 2172), (1629, 1659), (1629, 1711), (1630, 2227), (1631, 2196), (1632, 1756), (1634, 2393), (1635, 2383), (1636, 1701), (1636, 2139), (1636, 2141), (1637, 1973), (1639, 1688), (1639, 2679), (1641, 2495), (1642, 2657), (1642, 2658), (1647, 2160), (1647, 2209), (1651, 2045), (1652, 1848), (1652, 1972), (1654, 1952), (1654, 2034), (1655, 1839), (1655, 1842), (1655, 1894), (1655, 2136), (1655, 2282), (1655, 2295), (1655, 2384), (1656, 1798), (1657, 2686), (1657, 2688), (1658, 2018), (1660, 2154), (1661, 1851), (1662, 1666), (1662, 2381), (1662, 2398), (1663, 2577), (1664, 2147), (1665, 1701), (1665, 2034), (1666, 2381), (1669, 1892), (1669, 2332), (1671, 1929), (1671, 1968), (1671, 2136), (1671, 2137), (1673, 2660), (1674, 1914), (1674, 2608), (1675, 1676), (1675, 1914), (1676, 1914), (1676, 1975), (1677, 1908), (1678, 1746), (1679, 2140), (1680, 2056), (1680, 2576), (1681, 2318), (1681, 2319), (1681, 2320), (1682, 2189), (1682, 2291), (1682, 2319), (1682, 2320), (1682, 2321), (1683, 1973), (1683, 2132), (1684, 2486), (1684, 2513), (1685, 2083), (1686, 2647), (1687, 1721), (1688, 2671), (1690, 2112), (1692, 2186), (1692, 2187), (1692, 2302), (1692, 2345), (1692, 2346), (1692, 2347), (1692, 2348), (1692, 2349), (1693, 2408), (1695, 2133), (1696, 1713), (1697, 1986), (1697, 2253), (1698, 2160), (1701, 1799), (1701, 1820), (1701, 1846), (1701, 1852), (1701, 1853), (1701, 1854), (1701, 1855), (1701, 1856), (1701, 1857), (1701, 1858), (1701, 1859), (1701, 1860), (1701, 1861), (1701, 1862), (1701, 1863), (1701, 1864), (1701, 1865), (1701, 1866), (1701, 1867), (1701, 1868), (1701, 1869), (1701, 1870), (1701, 1871), (1701, 1872), (1701, 1873), (1701, 1874), (1701, 1875), (1701, 1876), (1701, 1877), (1702, 1703), (1702, 1966), (1702, 1970), (1702, 1971), (1702, 2238), (1703, 1906), (1703, 1966), (1703, 1967), (1703, 1968), (1703, 1969), (1703, 1970), (1703, 1971), (1703, 2238), (1704, 1912), (1704, 1986), (1704, 2077), (1705, 2081), (1705, 2322), (1706, 2585), (1708, 1857), (1708, 2313), (1708, 2314), (1709, 1738), (1709, 1739), (1709, 1986), (1709, 2365), (1710, 2444), (1711, 1730), (1711, 1731), (1711, 1765), (1712, 1725), (1712, 2446), (1713, 1898), (1714, 1727), (1716, 2446), (1717, 1731), (1717, 2560), (1718, 2685), (1719, 1765), (1720, 1765), (1721, 1761), (1721, 2476), (1723, 1724), (1724, 2215), (1724, 2216), (1725, 1734), (1725, 1740), (1725, 1745), (1725, 2334), (1725, 2413), (1725, 2596), (1725, 2597), (1726, 2168), (1728, 2257), (1728, 2555), (1728, 2599), (1731, 1755), (1734, 2597), (1735, 1776), (1735, 2324), (1736, 1763), (1737, 1888), (1737, 2616), (1738, 2365), (1738, 2366), (1739, 1750), (1739, 1766), (1739, 1886), (1739, 2221), (1740, 1804), (1740, 2389), (1740, 2390), (1740, 2391), (1740, 2392), (1741, 2593), (1742, 1749), (1742, 1758), (1742, 2307), (1742, 2443), (1742, 2444), (1742, 2445), (1743, 2113), (1743, 2450), (1744, 1765), (1745, 2596), (1749, 2446), (1750, 1765), (1750, 1766), (1751, 2596), (1752, 1754), (1755, 1765), (1756, 2642), (1757, 2451), (1758, 2466), (1761, 2175), (1765, 2492), (1767, 1783), (1768, 1837), (1768, 2325), (1770, 2080), (1771, 1778), (1772, 1782), (1772, 2045), (1773, 1780), (1773, 1789), (1776, 2045), (1776, 2078), (1776, 2324), (1777, 2143), (1778, 2327), (1779, 2318), (1781, 1998), (1781, 2107), (1782, 1798), (1782, 2326), (1784, 2045), (1784, 2096), (1787, 1810), (1787, 2045), (1787, 2143), (1791, 2045), (1792, 2485), (1794, 1795), (1794, 1796), (1795, 1796), (1795, 2299), (1795, 2464), (1796, 2297), (1797, 2088), (1801, 2203), (1801, 2451), (1802, 2079), (1804, 2451), (1806, 1809), (1807, 2034), (1808, 1810), (1809, 1810), (1810, 1811), (1810, 1812), (1810, 1813), (1810, 1814), (1810, 1815), (1810, 1816), (1810, 1817), (1810, 1818), (1810, 1819), (1810, 1820), (1810, 1821), (1810, 1822), (1810, 1823), (1810, 1869), (1811, 1822), (1812, 1986), (1812, 2034), (1812, 2550), (1815, 1950), (1818, 2305), (1818, 2306), (1819, 1948), (1820, 1873), (1824, 1825), (1824, 1826), (1826, 1827), (1826, 1829), (1827, 1828), (1829, 1902), (1830, 2045), (1833, 1834), (1834, 2359), (1835, 2157), (1835, 2160), (1838, 2182), (1838, 2219), (1839, 2424), (1839, 2453), (1840, 2071), (1841, 2056), (1842, 1979), (1842, 1980), (1842, 2281), (1842, 2405), (1844, 2276), (1846, 1867), (1846, 2117), (1846, 2357), (1848, 1909), (1848, 2419), (1849, 1914), (1851, 2485), (1852, 2045), (1856, 2045), (1856, 2096), (1859, 1986), (1862, 2582), (1867, 2117), (1869, 2309), (1870, 1986), (1873, 1986), (1874, 2500), (1874, 2501), (1875, 1986), (1876, 1986), (1877, 2573), (1878, 2256), (1881, 1958), (1884, 1885), (1884, 1958), (1885, 2644), (1887, 1888), (1889, 1890), (1889, 1891), (1889, 1892), (1889, 1893), (1889, 2034), (1889, 2039), (1889, 2130), (1890, 2130), (1891, 2034), (1891, 2130), (1894, 2034), (1894, 2117), (1894, 2118), (1896, 1897), (1897, 1903), (1899, 1902), (1899, 2491), (1899, 2510), (1900, 2608), (1901, 1954), (1901, 2284), (1901, 2286), (1902, 1903), (1902, 1904), (1903, 1960), (1903, 2269), (1903, 2592), (1904, 1960), (1905, 1914), (1906, 1907), (1906, 1964), (1906, 2059), (1909, 2305), (1911, 2553), (1912, 2102), (1912, 2103), (1912, 2404), (1914, 1915), (1914, 1916), (1914, 1917), (1914, 1918), (1914, 1919), (1914, 1920), (1914, 2388), (1915, 2649), (1917, 2457), (1920, 1926), (1920, 2310), (1920, 2422), (1920, 2653), (1923, 1927), (1924, 1927), (1925, 2620), (1926, 2051), (1926, 2052), (1926, 2189), (1927, 1928), (1927, 1929), (1927, 1930), (1928, 2317), (1928, 2475), (1929, 2034), (1932, 1936), (1937, 1938), (1941, 2508), (1944, 1945), (1944, 1946), (1944, 1950), (1945, 1946), (1945, 1947), (1946, 1950), (1947, 1950), (1948, 1950), (1951, 1952), (1951, 2204), (1951, 2206), (1952, 2204), (1952, 2205), (1952, 2206), (1954, 1955), (1954, 1956), (1954, 1957), (1954, 1958), (1954, 2275), (1955, 1956), (1955, 2235), (1957, 2241), (1957, 2630), (1959, 2621), (1960, 2491), (1962, 1963), (1964, 1965), (1964, 1966), (1966, 1971), (1968, 2034), (1969, 2236), (1969, 2238), (1973, 1974), (1973, 1975), (1973, 1976), (1975, 2109), (1975, 2110), (1979, 1980), (1979, 2178), (1979, 2405), (1980, 2405), (1983, 2034), (1986, 1987), (1986, 1988), (1986, 1989), (1986, 1990), (1986, 1991), (1986, 1992), (1986, 1993), (1986, 1994), (1986, 1995), (1986, 1996), (1986, 1997), (1986, 1998), (1986, 1999), (1986, 2000), (1986, 2001), (1986, 2002), (1986, 2003), (1986, 2004), (1986, 2005), (1986, 2006), (1986, 2007), (1986, 2008), (1986, 2009), (1987, 2004), (1987, 2509), (1991, 2325), (1996, 2063), (1996, 2064), (1997, 2412), (1998, 2326), (2001, 2002), (2001, 2003), (2001, 2044), (2001, 2121), (2001, 2123), (2001, 2335), (2001, 2348), (2001, 2378), (2001, 2379), (2001, 2380), (2001, 2381), (2002, 2379), (2003, 2123), (2006, 2477), (2008, 2301), (2009, 2025), (2010, 2016), (2015, 2071), (2016, 2071), (2017, 2467), (2018, 2019), (2021, 2418), (2022, 2190), (2023, 2217), (2024, 2156), (2024, 2178), (2025, 2026), (2025, 2027), (2025, 2028), (2026, 2045), (2026, 2096), (2027, 2360), (2030, 2112), (2031, 2436), (2034, 2035), (2034, 2036), (2034, 2037), (2034, 2038), (2034, 2039), (2034, 2040), (2034, 2041), (2034, 2042), (2034, 2130), (2039, 2042), (2040, 2120), (2040, 2122), (2043, 2406), (2045, 2046), (2045, 2047), (2045, 2048), (2046, 2048), (2050, 2485), (2051, 2364), (2054, 2133), (2055, 2198), (2056, 2311), (2056, 2576), (2058, 2150), (2065, 2066), (2065, 2067), (2066, 2122), (2069, 2070), (2072, 2182), (2074, 2181), (2074, 2277), (2075, 2076), (2075, 2077), (2075, 2091), (2075, 2667), (2075, 2668), (2076, 2077), (2076, 2667), (2083, 2168), (2085, 2089), (2086, 2094), (2094, 2106), (2095, 2145), (2095, 2329), (2095, 2504), (2097, 2098), (2099, 2425), (2100, 2101), (2102, 2385), (2103, 2385), (2109, 2110), (2112, 2436), (2113, 2450), (2114, 2509), (2114, 2519), (2114, 2588), (2115, 2117), (2115, 2519), (2117, 2118), (2120, 2637), (2121, 2122), (2122, 2123), (2123, 2380), (2124, 2125), (2124, 2126), (2124, 2127), (2125, 2126), (2127, 2130), (2128, 2129), (2130, 2249), (2131, 2133), (2131, 2182), (2133, 2182), (2135, 2282), (2139, 2140), (2139, 2141), (2141, 2142), (2144, 2145), (2144, 2329), (2144, 2331), (2144, 2504), (2146, 2147), (2146, 2148), (2147, 2486), (2151, 2423), (2152, 2385), (2153, 2155), (2155, 2293), (2155, 2294), (2155, 2295), (2157, 2158), (2157, 2159), (2157, 2160), (2159, 2160), (2160, 2161), (2162, 2163), (2164, 2217), (2164, 2282), (2168, 2169), (2170, 2171), (2172, 2182), (2173, 2174), (2175, 2176), (2177, 2367), (2177, 2371), (2180, 2182), (2180, 2183), (2181, 2196), (2181, 2197), (2181, 2202), (2182, 2198), (2182, 2231), (2182, 2232), (2182, 2233), (2186, 2199), (2193, 2194), (2194, 2195), (2199, 2200), (2199, 2201), (2203, 2330), (2203, 2511), (2204, 2521), (2207, 2241), (2211, 2356), (2212, 2216), (2214, 2216), (2215, 2216), (2220, 2221), (2220, 2525), (2221, 2507), (2222, 2224), (2222, 2225), (2223, 2224), (2224, 2225), (2224, 2226), (2227, 2228), (2228, 2394), (2228, 2395), (2230, 2296), (2231, 2292), (2233, 2291), (2236, 2237), (2237, 2238), (2238, 2239), (2238, 2240), (2240, 2399), (2241, 2242), (2242, 2539), (2243, 2244), (2243, 2245), (2243, 2246), (2245, 2246), (2246, 2247), (2247, 2509), (2247, 2543), (2248, 2249), (2249, 2518), (2249, 2671), (2251, 2252), (2259, 2335), (2259, 2337), (2263, 2490), (2266, 2267), (2266, 2321), (2266, 2364), (2268, 2291), (2269, 2270), (2270, 2375), (2279, 2466), (2281, 2405), (2284, 2285), (2285, 2286), (2287, 2288), (2289, 2464), (2290, 2464), (2290, 2496), (2291, 2292), (2297, 2298), (2297, 2299), (2303, 2541), (2304, 2385), (2305, 2306), (2306, 2552), (2308, 2559), (2311, 2576), (2327, 2328), (2329, 2330), (2329, 2331), (2335, 2336), (2336, 2524), (2338, 2555), (2339, 2340), (2343, 2344), (2344, 2475), (2346, 2349), (2349, 2358), (2355, 2356), (2355, 2357), (2356, 2357), (2359, 2372), (2360, 2578), (2367, 2368), (2367, 2369), (2367, 2370), (2367, 2371), (2368, 2370), (2369, 2370), (2382, 2383), (2389, 2451), (2390, 2391), (2390, 2451), (2391, 2451), (2392, 2451), (2394, 2395), (2394, 2396), (2394, 2397), (2398, 2493), (2399, 2434), (2401, 2434), (2401, 2435), (2402, 2403), (2410, 2411), (2413, 2414), (2413, 2415), (2415, 2597), (2416, 2417), (2425, 2426), (2427, 2428), (2431, 2432), (2437, 2438), (2439, 2530), (2439, 2652), (2440, 2530), (2442, 2530), (2442, 2614), (2444, 2503), (2445, 2503), (2446, 2447), (2446, 2448), (2451, 2452), (2452, 2685), (2457, 2458), (2457, 2649), (2459, 2689), (2464, 2465), (2467, 2468), (2471, 2493), (2473, 2648), (2476, 2651), (2483, 2484), (2494, 2495), (2509, 2519), (2514, 2515), (2515, 2530), (2516, 2517), (2518, 2538), (2522, 2656), (2534, 2535), (2539, 2540), (2539, 2632), (2554, 2689), (2555, 2599), (2560, 2561), (2565, 2566), (2565, 2567), (2570, 2572), (2570, 2573), (2594, 2680), (2601, 2609), (2602, 2603), (2615, 2696), (2618, 2619), (2624, 2701), (2625, 2626), (2630, 2699), (2634, 2635), (2634, 2636), (2636, 2693), (2654, 2655), (2665, 2666), (2667, 2668), (2670, 2679), (2671, 2672), (2671, 2673), (2671, 2674), (2671, 2675), (2674, 2675), (2679, 2682), (2681, 2683), (2687, 2688), (2694, 2695), (2706, 2707)]\n"
     ]
    }
   ],
   "source": [
    "print(f\"Graph name: {G}\")\n",
    "print(\"Nodes:\", G.nodes())\n",
    "print(\"Edges:\", G.edges())"
   ]
  },
  {
   "cell_type": "code",
   "execution_count": null,
   "id": "bf3e08f7",
   "metadata": {
    "ExecuteTime": {
     "end_time": "2023-09-03T13:32:15.698156Z",
     "start_time": "2023-09-03T13:32:15.680168Z"
    }
   },
   "outputs": [],
   "source": [
    "# Find the number of nodes and edges\n",
    "num_nodes = G.number_of_nodes()\n",
    "num_edges = G.number_of_edges()\n",
    "print(\"Number of nodes:\", num_nodes)\n",
    "print(\"Number of edges:\", num_edges)"
   ]
  },
  {
   "cell_type": "code",
   "execution_count": null,
   "id": "8dbc6228",
   "metadata": {
    "ExecuteTime": {
     "end_time": "2023-09-03T13:32:38.390085Z",
     "start_time": "2023-09-03T13:32:16.192392Z"
    }
   },
   "outputs": [],
   "source": [
    "G = to_networkx(data, to_undirected=True)\n",
    "pos = nx.spring_layout(G, seed=42)\n",
    "cent = nx.degree_centrality(G)\n",
    "node_size = list(map(lambda x: x * 500, cent.values()))\n",
    "cent_array = np.array(list(cent.values()))\n",
    "threshold = sorted(cent_array, reverse=True)[10]\n",
    "print(\"threshold\", threshold)\n",
    "cent_bin = np.where(cent_array >= threshold, 1, 0.1)\n",
    "plt.figure(figsize=(12, 12))\n",
    "nodes = nx.draw_networkx_nodes(G, pos, node_size=node_size,\n",
    "#                                cmap=plt.cm.plasma,\n",
    "                               node_color=cent_bin,\n",
    "                               nodelist=list(cent.keys()),\n",
    "                               alpha=cent_bin)\n",
    "edges = nx.draw_networkx_edges(G, pos, width=0.25, alpha=0.3)\n",
    "plt.show()"
   ]
  },
  {
   "cell_type": "code",
   "execution_count": null,
   "id": "5b4c1b92",
   "metadata": {
    "ExecuteTime": {
     "end_time": "2023-09-03T13:32:38.405551Z",
     "start_time": "2023-09-03T13:32:38.392181Z"
    }
   },
   "outputs": [],
   "source": [
    "# check training nodes\n",
    "print(\"# of nodes to train on: \", data.train_mask.sum().item())\n",
    "\n",
    "# check test nodes\n",
    "print(\"# of nodes to test on: \", data.test_mask.sum().item())\n",
    "\n",
    "# check validation nodes\n",
    "print(\"# of nodes to validate on: \", data.val_mask.sum().item())"
   ]
  },
  {
   "cell_type": "code",
   "execution_count": null,
   "id": "acdec1b5",
   "metadata": {
    "ExecuteTime": {
     "end_time": "2023-09-03T16:00:53.759270Z",
     "start_time": "2023-09-03T16:00:53.737255Z"
    }
   },
   "outputs": [],
   "source": [
    "print(f'Number of features: {data.num_node_features}')"
   ]
  },
  {
   "cell_type": "code",
   "execution_count": null,
   "id": "a705de89",
   "metadata": {
    "ExecuteTime": {
     "end_time": "2023-09-03T16:01:01.610507Z",
     "start_time": "2023-09-03T16:01:01.542546Z"
    }
   },
   "outputs": [],
   "source": [
    "print(len(data.x[0]))\n",
    "data.x[0][:20]"
   ]
  },
  {
   "cell_type": "code",
   "execution_count": null,
   "id": "9f5db986",
   "metadata": {
    "ExecuteTime": {
     "end_time": "2023-09-03T16:01:14.694680Z",
     "start_time": "2023-09-03T16:01:14.683007Z"
    }
   },
   "outputs": [],
   "source": [
    "print(f'Number of edge features: {data.num_edge_features}')\n",
    "# Number of edge features: 0"
   ]
  },
  {
   "cell_type": "code",
   "execution_count": null,
   "id": "1d8b2e0f",
   "metadata": {
    "ExecuteTime": {
     "end_time": "2023-09-03T16:01:30.142555Z",
     "start_time": "2023-09-03T16:01:30.127004Z"
    }
   },
   "outputs": [],
   "source": [
    "print(f'Number of classes: {dataset.num_classes}')\n",
    "# Number of classes: 7"
   ]
  },
  {
   "cell_type": "code",
   "execution_count": null,
   "id": "bb2cc3e2",
   "metadata": {
    "ExecuteTime": {
     "end_time": "2023-09-03T16:01:48.098232Z",
     "start_time": "2023-09-03T16:01:48.064620Z"
    }
   },
   "outputs": [],
   "source": [
    "dataset.num_classes"
   ]
  },
  {
   "cell_type": "code",
   "execution_count": null,
   "id": "f8fe75b9",
   "metadata": {
    "ExecuteTime": {
     "end_time": "2023-09-03T16:02:04.139653Z",
     "start_time": "2023-09-03T16:02:04.120672Z"
    }
   },
   "outputs": [],
   "source": [
    "label_dict = {\n",
    "    0: \"Theory\",\n",
    "    1: \"Reinforcement_Learning\",\n",
    "    2: \"Genetic_Algorithms\",\n",
    "    3: \"Neural_Networks\",\n",
    "    4: \"Probabilistic_Methods\",\n",
    "    5: \"Case_Based\",\n",
    "    6: \"Rule_Learning\"}"
   ]
  },
  {
   "cell_type": "code",
   "execution_count": null,
   "id": "1e125a5f",
   "metadata": {
    "ExecuteTime": {
     "end_time": "2023-09-04T16:55:03.483133Z",
     "start_time": "2023-09-04T16:55:03.471135Z"
    }
   },
   "outputs": [],
   "source": [
    "G"
   ]
  },
  {
   "cell_type": "code",
   "execution_count": null,
   "id": "4b5e03be",
   "metadata": {
    "ExecuteTime": {
     "end_time": "2023-09-03T16:02:16.389896Z",
     "start_time": "2023-09-03T16:02:16.374344Z"
    }
   },
   "outputs": [],
   "source": [
    "data.y[:20]"
   ]
  },
  {
   "cell_type": "code",
   "execution_count": null,
   "id": "9c014c0f",
   "metadata": {
    "ExecuteTime": {
     "end_time": "2023-09-03T16:02:40.186082Z",
     "start_time": "2023-09-03T16:02:39.995719Z"
    }
   },
   "outputs": [],
   "source": [
    "counter = collections.Counter(data.y.numpy())\n",
    "counter = dict(counter)\n",
    "print(counter)\n",
    "count = [x[1] for x in sorted(counter.items())]\n",
    "plt.figure(figsize=(10, 6))\n",
    "plt.bar(range(7), count)\n",
    "plt.xlabel(\"class\", size=20)\n",
    "plt.show()"
   ]
  },
  {
   "cell_type": "code",
   "execution_count": null,
   "id": "0e6a9661",
   "metadata": {
    "ExecuteTime": {
     "end_time": "2023-09-03T16:03:18.308525Z",
     "start_time": "2023-09-03T16:02:52.917387Z"
    }
   },
   "outputs": [],
   "source": [
    "G = to_networkx(data, to_undirected=True)\n",
    "node_color = []\n",
    "nodelist = [[], [], [], [], [], [], []]\n",
    "colorlist = ['#e41a1c', '#377eb8', '#4daf4a', '#984ea3', '#ff7f00', '#ffff33', '#a65628']\n",
    "labels = data.y\n",
    "for n, i in enumerate(labels):\n",
    "    node_color.append(colorlist[i])\n",
    "    nodelist[i].append(n)\n",
    "pos = nx.spring_layout(G, seed = 42)\n",
    "plt.figure(figsize = (10, 10))\n",
    "labellist = list(label_dict.values())\n",
    "for num, i in enumerate(zip(nodelist, labellist)):\n",
    "    n, l = i[0], i[1]\n",
    "    nx.draw_networkx_nodes(G, pos, nodelist=n, node_size = 5, node_color = colorlist[num], label=l)\n",
    "nx.draw_networkx_edges(G, pos, width = 0.25)\n",
    "plt.legend(bbox_to_anchor=(1, 1), loc='upper left')"
   ]
  },
  {
   "cell_type": "code",
   "execution_count": null,
   "id": "9b03fa26",
   "metadata": {
    "ExecuteTime": {
     "end_time": "2023-09-03T16:03:18.696730Z",
     "start_time": "2023-09-03T16:03:18.311528Z"
    }
   },
   "outputs": [],
   "source": [
    "labels = data.y.numpy()\n",
    "connected_labels_set = list(map(lambda x: labels[x], data.edge_index.numpy()))\n",
    "connected_labels_set = np.array(connected_labels_set)\n",
    "def add_missing_keys(counter, classes):\n",
    "    for x in classes:\n",
    "        if x not in counter.keys():\n",
    "            counter[x] = 0\n",
    "    return counter\n",
    "label_connection_counts = []\n",
    "for i in range(7):\n",
    "    print(f\"label: {i}\")\n",
    "    connected_labels = connected_labels_set[:, np.where(connected_labels_set[0] == i)[0]]\n",
    "    print(connected_labels.shape[1], \"edges\")\n",
    "    counter = collections.Counter(connected_labels[1])\n",
    "    counter = dict(counter)\n",
    "    print(counter)\n",
    "    counter = add_missing_keys(counter, range(7))\n",
    "    items = sorted(counter.items())\n",
    "    items = [x[1] for x in items]\n",
    "    label_connection_counts.append(items)\n",
    "label_connection_counts = np.array(label_connection_counts)\n",
    "plt.figure(figsize=(9, 7))\n",
    "plt.rcParams[\"font.size\"] = 13\n",
    "hm = sns.heatmap(label_connection_counts, annot=True, cmap='hot_r', cbar=True, square=True)\n",
    "plt.xlabel(\"class\",size=20)\n",
    "plt.ylabel(\"class\",size=20)\n",
    "plt.tight_layout()\n",
    "plt.show()"
   ]
  },
  {
   "cell_type": "code",
   "execution_count": null,
   "id": "3d5700ae",
   "metadata": {
    "ExecuteTime": {
     "end_time": "2023-09-03T16:03:18.712246Z",
     "start_time": "2023-09-03T16:03:18.699730Z"
    }
   },
   "outputs": [],
   "source": [
    "label_connection_counts.diagonal().sum() / label_connection_counts.sum()\n",
    "# 0.8099658961727927"
   ]
  },
  {
   "cell_type": "code",
   "execution_count": null,
   "id": "448640c2",
   "metadata": {
    "ExecuteTime": {
     "end_time": "2023-09-03T16:03:34.188546Z",
     "start_time": "2023-09-03T16:03:33.502240Z"
    }
   },
   "outputs": [],
   "source": [
    "def scaling(array):\n",
    "    return array / sum(array)\n",
    "label_connection_counts_scaled = np.apply_along_axis(scaling, 1, label_connection_counts)\n",
    "plt.figure(figsize=(9, 7))\n",
    "plt.rcParams[\"font.size\"] = 13\n",
    "hm = sns.heatmap(\n",
    "    label_connection_counts_scaled,\n",
    "    annot=True,\n",
    "    cmap='hot_r',\n",
    "    fmt=\"1.2f\",\n",
    "    cbar=True,\n",
    "    square=True)\n",
    "plt.xlabel(\"class\",size=20)\n",
    "plt.ylabel(\"class\",size=20)\n",
    "plt.tight_layout()\n",
    "plt.show()"
   ]
  },
  {
   "cell_type": "code",
   "execution_count": null,
   "id": "8e3d865f",
   "metadata": {
    "ExecuteTime": {
     "end_time": "2023-09-03T16:03:43.556300Z",
     "start_time": "2023-09-03T16:03:43.550804Z"
    }
   },
   "outputs": [],
   "source": [
    "print(f'Number of training nodes: {data.train_mask.sum()}')\n",
    "print(f'Number of validation nodes: {data.val_mask.sum()}')\n",
    "print(f'Number of test nodes: {data.test_mask.sum()}')"
   ]
  },
  {
   "cell_type": "code",
   "execution_count": null,
   "id": "15288f78",
   "metadata": {
    "ExecuteTime": {
     "end_time": "2023-09-03T16:03:48.473564Z",
     "start_time": "2023-09-03T16:03:48.319922Z"
    }
   },
   "outputs": [],
   "source": [
    "split_type_array = np.zeros(data.num_nodes)\n",
    "split_type_array[np.where(data.train_mask == True)[0]] = 1\n",
    "split_type_array[np.where(data.val_mask == True)[0]] = 2\n",
    "split_type_array[np.where(data.test_mask == True)[0]] = 3\n",
    "split_type_array\n",
    "plt.scatter(range(2708), split_type_array)\n",
    "plt.xlabel(\"index\")\n",
    "plt.show()"
   ]
  },
  {
   "cell_type": "code",
   "execution_count": null,
   "id": "0c24a385",
   "metadata": {
    "ExecuteTime": {
     "end_time": "2023-09-03T16:04:43.236510Z",
     "start_time": "2023-09-03T16:04:42.775871Z"
    }
   },
   "outputs": [],
   "source": [
    "titles = [\"Training\", \"Validation\", \"Test\"]\n",
    "fig, axes = plt.subplots(ncols=3, figsize=(21, 6))\n",
    "for i in range(3):\n",
    "    counter = collections.Counter(data.y.numpy()[np.where(split_type_array == i + 1)[0]])\n",
    "    counter = dict(counter)\n",
    "    print(titles[i], counter)\n",
    "    count = [x[1] for x in sorted(counter.items())]\n",
    "# plt.figure(figsize=(10, 6))\n",
    "    axes[i].bar(range(7), count)\n",
    "    axes[i].set_xlabel(\"class\", size=20)\n",
    "    axes[i].set_title(titles[i])\n",
    "plt.show()"
   ]
  },
  {
   "cell_type": "code",
   "execution_count": 23,
   "id": "912d4718",
   "metadata": {
    "ExecuteTime": {
     "end_time": "2023-09-04T16:55:47.021540Z",
     "start_time": "2023-09-04T16:55:47.013572Z"
    }
   },
   "outputs": [],
   "source": [
    "import os\n",
    "import collections\n",
    "import numpy as np\n",
    "import pandas as pd\n",
    "import matplotlib.pyplot as plt\n",
    "import seaborn as sns\n",
    "import scipy.sparse as sp\n",
    "import torch\n",
    "from torch import Tensor\n",
    "import torch_geometric\n",
    "from torch_geometric.utils import to_networkx\n",
    "from torch_geometric.datasets import Planetoid\n",
    "import networkx as nx\n",
    "from networkx.algorithms import community"
   ]
  },
  {
   "cell_type": "code",
   "execution_count": 24,
   "id": "b6e37438",
   "metadata": {
    "ExecuteTime": {
     "end_time": "2023-09-04T16:55:47.702640Z",
     "start_time": "2023-09-04T16:55:47.684373Z"
    }
   },
   "outputs": [],
   "source": [
    "# Set random seed for reproducibility\n",
    "import numpy as np\n",
    "\n",
    "seed_value = 42\n",
    "np.random.seed(seed_value)"
   ]
  },
  {
   "cell_type": "code",
   "execution_count": null,
   "id": "f2a5b4a0",
   "metadata": {
    "ExecuteTime": {
     "end_time": "2023-09-04T16:35:54.477640Z",
     "start_time": "2023-09-04T16:35:54.465651Z"
    }
   },
   "outputs": [],
   "source": [
    "# Create a graph\n",
    "G = nx.karate_club_graph()\n"
   ]
  },
  {
   "cell_type": "code",
   "execution_count": null,
   "id": "114536c0",
   "metadata": {
    "ExecuteTime": {
     "end_time": "2023-09-04T16:35:54.489445Z",
     "start_time": "2023-09-04T16:35:54.479640Z"
    }
   },
   "outputs": [],
   "source": [
    "G"
   ]
  },
  {
   "cell_type": "code",
   "execution_count": 25,
   "id": "6c16c5c7",
   "metadata": {
    "ExecuteTime": {
     "end_time": "2023-09-04T16:56:02.888025Z",
     "start_time": "2023-09-04T16:56:02.763457Z"
    }
   },
   "outputs": [],
   "source": [
    "from node2vec_def.node2vec import Node2Vec"
   ]
  },
  {
   "cell_type": "code",
   "execution_count": 26,
   "id": "9ff1162e",
   "metadata": {
    "ExecuteTime": {
     "end_time": "2023-09-04T16:56:03.372156Z",
     "start_time": "2023-09-04T16:56:03.361159Z"
    }
   },
   "outputs": [
    {
     "name": "stdout",
     "output_type": "stream",
     "text": [
      "Number of nodes: 2708\n",
      "Number of edges: 5278\n"
     ]
    }
   ],
   "source": [
    "# Find the number of nodes and edges\n",
    "num_nodes = G.number_of_nodes()\n",
    "num_edges = G.number_of_edges()\n",
    "print(\"Number of nodes:\", num_nodes)\n",
    "print(\"Number of edges:\", num_edges)"
   ]
  },
  {
   "cell_type": "code",
   "execution_count": 27,
   "id": "37343049",
   "metadata": {
    "ExecuteTime": {
     "end_time": "2023-09-04T16:56:04.754567Z",
     "start_time": "2023-09-04T16:56:04.748155Z"
    }
   },
   "outputs": [],
   "source": [
    "# Set hyperparameters\n",
    "dimensions = 64\n",
    "walk_length = 30\n",
    "num_walks = 50\n",
    "p = 1.0\n",
    "q = 1.0\n",
    "T = 10  # Length of random walks for similarity\n",
    "learning_rate = 0.01"
   ]
  },
  {
   "cell_type": "code",
   "execution_count": 28,
   "id": "e36d7286",
   "metadata": {
    "ExecuteTime": {
     "end_time": "2023-09-04T16:56:06.674488Z",
     "start_time": "2023-09-04T16:56:05.624255Z"
    }
   },
   "outputs": [],
   "source": [
    "node2vec = Node2Vec(graph=G, dimensions=dimensions, walk_length=walk_length, num_walks=num_walks, p=p, q=q, T=T, learning_rate=learning_rate,window_size=10)\n"
   ]
  },
  {
   "cell_type": "code",
   "execution_count": null,
   "id": "41773298",
   "metadata": {
    "ExecuteTime": {
     "start_time": "2023-09-04T16:56:06.724Z"
    }
   },
   "outputs": [
    {
     "name": "stderr",
     "output_type": "stream",
     "text": [
      "\r",
      "Total Walks:   0%|                                                                                                                  | 0/50 [00:00<?, ?it/s]"
     ]
    }
   ],
   "source": [
    "node2vec.train()\n"
   ]
  },
  {
   "cell_type": "code",
   "execution_count": null,
   "id": "ef89f30b",
   "metadata": {
    "ExecuteTime": {
     "start_time": "2023-09-04T16:56:10.425Z"
    }
   },
   "outputs": [],
   "source": [
    "embeddings = node2vec.get_embeddings()\n"
   ]
  },
  {
   "cell_type": "code",
   "execution_count": null,
   "id": "2b9ba775",
   "metadata": {
    "ExecuteTime": {
     "start_time": "2023-09-04T16:56:11.033Z"
    }
   },
   "outputs": [],
   "source": [
    "embeddings"
   ]
  },
  {
   "cell_type": "code",
   "execution_count": null,
   "id": "b5d804e0",
   "metadata": {
    "ExecuteTime": {
     "start_time": "2023-09-04T16:56:13.158Z"
    }
   },
   "outputs": [],
   "source": [
    "import networkx as nx\n",
    "import torch\n",
    "import random\n",
    "from sklearn.decomposition import PCA\n",
    "import matplotlib.pyplot as plt\n",
    "import community  # Install this library using 'pip install python-louvain'\n",
    "import matplotlib.pyplot as plt\n",
    "from sklearn.decomposition import PCA"
   ]
  },
  {
   "cell_type": "code",
   "execution_count": null,
   "id": "dc710a6e",
   "metadata": {
    "ExecuteTime": {
     "start_time": "2023-09-04T16:56:15.363Z"
    }
   },
   "outputs": [],
   "source": [
    "# Extract the node names and their corresponding embeddings\n",
    "nodes = list(embeddings.keys())\n",
    "embedding_vectors = [embeddings[node] for node in nodes]\n",
    "\n",
    "# Perform PCA to reduce dimensionality (e.g., to 2 dimensions)\n",
    "pca = PCA(n_components=2)\n",
    "principal_components = pca.fit_transform(embedding_vectors)\n",
    "\n",
    "# Create a scatter plot of the PCA components\n",
    "plt.figure(figsize=(8, 6))\n",
    "plt.scatter(principal_components[:, 0], principal_components[:, 1], alpha=0.5)\n",
    "plt.title('PCA of Node Embeddings')\n",
    "plt.xlabel('Principal Component 1')\n",
    "plt.ylabel('Principal Component 2')\n",
    "\n",
    "# Annotate the points with node labels (optional)\n",
    "for i, node in enumerate(nodes):\n",
    "    plt.annotate(node, (principal_components[i, 0], principal_components[i, 1]), fontsize=8)\n",
    "\n",
    "plt.show()"
   ]
  },
  {
   "cell_type": "code",
   "execution_count": null,
   "id": "fd75cfde",
   "metadata": {
    "ExecuteTime": {
     "start_time": "2023-09-04T16:56:16.522Z"
    }
   },
   "outputs": [],
   "source": [
    "# Perform community detection using the Louvain algorithm\n",
    "partition = community.best_partition(G)\n",
    "\n",
    "# Extract the node names and their corresponding embeddings\n",
    "nodes = list(embeddings.keys())\n",
    "embedding_vectors = [embeddings[node] for node in nodes]\n",
    "\n",
    "# Perform PCA to reduce dimensionality (e.g., to 2 dimensions)\n",
    "pca = PCA(n_components=2)\n",
    "principal_components = pca.fit_transform(embedding_vectors)\n",
    "\n"
   ]
  },
  {
   "cell_type": "code",
   "execution_count": null,
   "id": "8fd7a5c7",
   "metadata": {
    "ExecuteTime": {
     "start_time": "2023-09-04T16:56:17.110Z"
    }
   },
   "outputs": [],
   "source": [
    "# Create a scatter plot of the PCA components, colored by clusters\n",
    "plt.figure(figsize=(8, 6))\n",
    "\n",
    "# Define a color map for clusters\n",
    "cmap = plt.get_cmap('tab20')\n",
    "\n",
    "# Plot nodes in different colors based on their clusters\n",
    "for cluster_id in set(partition.values()):\n",
    "    cluster_nodes = [node for node, cluster in partition.items() if cluster == cluster_id]\n",
    "    cluster_embeddings = [principal_components[nodes.index(node)] for node in cluster_nodes]\n",
    "    x, y = zip(*cluster_embeddings)\n",
    "    plt.scatter(x, y, alpha=0.5, label=f'Cluster {cluster_id}', color=cmap(cluster_id))\n",
    "\n",
    "plt.title('PCA of Node Embeddings with Clusters')\n",
    "plt.xlabel('Principal Component 1')\n",
    "plt.ylabel('Principal Component 2')\n",
    "\n",
    "# Annotate the points with node labels (optional)\n",
    "for i, node in enumerate(nodes):\n",
    "    plt.annotate(node, (principal_components[i, 0], principal_components[i, 1]), fontsize=8)\n",
    "\n",
    "# Add a legend\n",
    "plt.legend()\n",
    "\n",
    "plt.show()"
   ]
  },
  {
   "cell_type": "code",
   "execution_count": null,
   "id": "f0e33f18",
   "metadata": {},
   "outputs": [],
   "source": []
  }
 ],
 "metadata": {
  "kernelspec": {
   "display_name": "torch",
   "language": "python",
   "name": "torch"
  },
  "language_info": {
   "codemirror_mode": {
    "name": "ipython",
    "version": 3
   },
   "file_extension": ".py",
   "mimetype": "text/x-python",
   "name": "python",
   "nbconvert_exporter": "python",
   "pygments_lexer": "ipython3",
   "version": "3.9.16"
  },
  "toc": {
   "base_numbering": 1,
   "nav_menu": {},
   "number_sections": true,
   "sideBar": true,
   "skip_h1_title": false,
   "title_cell": "Table of Contents",
   "title_sidebar": "Contents",
   "toc_cell": false,
   "toc_position": {},
   "toc_section_display": true,
   "toc_window_display": false
  }
 },
 "nbformat": 4,
 "nbformat_minor": 5
}
