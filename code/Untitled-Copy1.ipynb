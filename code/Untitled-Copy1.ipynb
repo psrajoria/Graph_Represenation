{
 "cells": [
  {
   "cell_type": "code",
   "execution_count": null,
   "id": "75fea846",
   "metadata": {
    "ExecuteTime": {
     "end_time": "2023-09-05T10:47:17.430057Z",
     "start_time": "2023-09-05T10:47:12.129108Z"
    }
   },
   "outputs": [],
   "source": [
    "import os\n",
    "import collections\n",
    "import numpy as np\n",
    "import pandas as pd\n",
    "import matplotlib.pyplot as plt\n",
    "import seaborn as sns\n",
    "import scipy.sparse as sp\n",
    "import torch\n",
    "from torch import Tensor\n",
    "import torch_geometric\n",
    "from torch_geometric.utils import to_networkx\n",
    "from torch_geometric.datasets import Planetoid\n",
    "import networkx as nx\n",
    "from networkx.algorithms import community"
   ]
  },
  {
   "cell_type": "code",
   "execution_count": null,
   "id": "5d8d9ccf",
   "metadata": {
    "ExecuteTime": {
     "end_time": "2023-09-05T06:27:12.818423Z",
     "start_time": "2023-09-05T06:27:12.811427Z"
    }
   },
   "outputs": [],
   "source": [
    "device = torch.device('cuda' if torch.cuda.is_available() else 'cpu')"
   ]
  },
  {
   "cell_type": "code",
   "execution_count": null,
   "id": "f83b5cfc",
   "metadata": {
    "ExecuteTime": {
     "end_time": "2023-09-05T06:27:13.149761Z",
     "start_time": "2023-09-05T06:27:13.134501Z"
    }
   },
   "outputs": [],
   "source": [
    "device"
   ]
  },
  {
   "cell_type": "code",
   "execution_count": null,
   "id": "b11c0cf4",
   "metadata": {
    "ExecuteTime": {
     "end_time": "2023-09-05T06:27:15.969368Z",
     "start_time": "2023-09-05T06:27:15.965364Z"
    }
   },
   "outputs": [],
   "source": [
    "data_dir = \"Data/\""
   ]
  },
  {
   "cell_type": "code",
   "execution_count": null,
   "id": "8a798aee",
   "metadata": {
    "ExecuteTime": {
     "end_time": "2023-09-05T06:27:16.267251Z",
     "start_time": "2023-09-05T06:27:16.251697Z"
    }
   },
   "outputs": [],
   "source": [
    "os.makedirs(data_dir, exist_ok=True)"
   ]
  },
  {
   "cell_type": "code",
   "execution_count": null,
   "id": "c884022f",
   "metadata": {
    "ExecuteTime": {
     "end_time": "2023-09-05T06:27:16.650291Z",
     "start_time": "2023-09-05T06:27:16.619664Z"
    }
   },
   "outputs": [],
   "source": [
    "dataset = Planetoid(root=data_dir, name='Cora')"
   ]
  },
  {
   "cell_type": "code",
   "execution_count": null,
   "id": "547f3e41",
   "metadata": {
    "ExecuteTime": {
     "end_time": "2023-09-05T06:27:18.077394Z",
     "start_time": "2023-09-05T06:27:18.071630Z"
    }
   },
   "outputs": [],
   "source": [
    "dataset[0]"
   ]
  },
  {
   "cell_type": "code",
   "execution_count": null,
   "id": "d0021fc5",
   "metadata": {
    "ExecuteTime": {
     "end_time": "2023-09-04T16:55:28.536786Z",
     "start_time": "2023-09-04T16:55:28.524744Z"
    }
   },
   "outputs": [],
   "source": [
    "data = dataset[0]"
   ]
  },
  {
   "cell_type": "code",
   "execution_count": null,
   "id": "dab04b38",
   "metadata": {
    "ExecuteTime": {
     "end_time": "2023-09-04T16:55:28.762908Z",
     "start_time": "2023-09-04T16:55:28.747403Z"
    }
   },
   "outputs": [],
   "source": [
    "data"
   ]
  },
  {
   "cell_type": "code",
   "execution_count": null,
   "id": "e9c7e2bb",
   "metadata": {
    "ExecuteTime": {
     "end_time": "2023-09-04T16:55:28.957246Z",
     "start_time": "2023-09-04T16:55:28.942100Z"
    }
   },
   "outputs": [],
   "source": [
    "data.num_nodes"
   ]
  },
  {
   "cell_type": "code",
   "execution_count": null,
   "id": "497107b8",
   "metadata": {
    "ExecuteTime": {
     "end_time": "2023-09-04T16:55:29.165512Z",
     "start_time": "2023-09-04T16:55:29.142907Z"
    }
   },
   "outputs": [],
   "source": [
    "data.num_edges"
   ]
  },
  {
   "cell_type": "code",
   "execution_count": null,
   "id": "2b5e53df",
   "metadata": {
    "ExecuteTime": {
     "end_time": "2023-09-04T16:55:30.107957Z",
     "start_time": "2023-09-04T16:55:30.088742Z"
    }
   },
   "outputs": [],
   "source": [
    "print(f'Has isolated nodes: {data.has_isolated_nodes()}')  # False\n",
    "print(f'Has self-loops: {data.has_self_loops()}')  # False\n",
    "print(f'Is undirected: {data.is_undirected()}')  # True"
   ]
  },
  {
   "cell_type": "code",
   "execution_count": null,
   "id": "f5ba56a3",
   "metadata": {
    "ExecuteTime": {
     "end_time": "2023-09-04T16:55:30.728238Z",
     "start_time": "2023-09-04T16:55:30.712857Z"
    }
   },
   "outputs": [],
   "source": [
    "edge_index = data.edge_index.numpy()\n"
   ]
  },
  {
   "cell_type": "code",
   "execution_count": null,
   "id": "e8941f35",
   "metadata": {
    "ExecuteTime": {
     "end_time": "2023-09-04T16:55:30.952054Z",
     "start_time": "2023-09-04T16:55:30.936644Z"
    }
   },
   "outputs": [],
   "source": [
    "print(edge_index.shape)"
   ]
  },
  {
   "cell_type": "code",
   "execution_count": null,
   "id": "052bfae8",
   "metadata": {
    "ExecuteTime": {
     "end_time": "2023-09-04T16:55:31.172133Z",
     "start_time": "2023-09-04T16:55:31.156159Z"
    }
   },
   "outputs": [],
   "source": [
    "edge_example = edge_index[:, np.where(edge_index[0]==466)[0]]\n"
   ]
  },
  {
   "cell_type": "code",
   "execution_count": null,
   "id": "be1d65f3",
   "metadata": {
    "ExecuteTime": {
     "end_time": "2023-09-04T16:55:31.401221Z",
     "start_time": "2023-09-04T16:55:31.385982Z"
    }
   },
   "outputs": [],
   "source": [
    "edge_example"
   ]
  },
  {
   "cell_type": "code",
   "execution_count": null,
   "id": "663be494",
   "metadata": {
    "ExecuteTime": {
     "end_time": "2023-09-04T16:55:31.837695Z",
     "start_time": "2023-09-04T16:55:31.825688Z"
    }
   },
   "outputs": [],
   "source": [
    "node_example = np.unique(edge_example.flatten())"
   ]
  },
  {
   "cell_type": "code",
   "execution_count": null,
   "id": "4723f7fb",
   "metadata": {
    "ExecuteTime": {
     "end_time": "2023-09-04T16:55:32.430188Z",
     "start_time": "2023-09-04T16:55:32.241316Z"
    }
   },
   "outputs": [],
   "source": [
    "plt.figure(figsize=(10, 6))\n",
    "G = nx.Graph()\n",
    "G.add_nodes_from(node_example)\n",
    "G.add_edges_from(list(zip(edge_example[0], edge_example[1])))\n",
    "nx.draw_networkx(G, with_labels=True)"
   ]
  },
  {
   "cell_type": "code",
   "execution_count": null,
   "id": "adc63d44",
   "metadata": {
    "ExecuteTime": {
     "end_time": "2023-09-04T16:55:32.470443Z",
     "start_time": "2023-09-04T16:55:32.461439Z"
    }
   },
   "outputs": [],
   "source": [
    "print(f'Average node degree: {data.num_edges / data.num_nodes:.2f}')\n",
    "# Average node degree: 3.90"
   ]
  },
  {
   "cell_type": "code",
   "execution_count": null,
   "id": "2c2a6a5d",
   "metadata": {
    "ExecuteTime": {
     "end_time": "2023-09-04T16:55:34.180391Z",
     "start_time": "2023-09-04T16:55:33.816845Z"
    }
   },
   "outputs": [],
   "source": [
    "G = to_networkx(data, to_undirected=True)\n",
    "degrees = [val for (node, val) in G.degree()]\n",
    "display(pd.DataFrame(pd.Series(degrees).describe()).transpose().round(2))\n",
    "print(len(degrees))\n",
    "print(sum(degrees))\n",
    "plt.figure(figsize=(10, 6))\n",
    "plt.hist(degrees, bins=50)\n",
    "plt.xlabel(\"node degree\")\n",
    "plt.show()"
   ]
  },
  {
   "cell_type": "code",
   "execution_count": null,
   "id": "80f3ee5a",
   "metadata": {
    "ExecuteTime": {
     "end_time": "2023-09-04T16:55:38.067442Z",
     "start_time": "2023-09-04T16:55:38.040715Z"
    }
   },
   "outputs": [],
   "source": [
    "print(f\"Graph name: {G}\")\n",
    "print(\"Nodes:\", G.nodes())\n",
    "print(\"Edges:\", G.edges())"
   ]
  },
  {
   "cell_type": "code",
   "execution_count": null,
   "id": "494c64a5",
   "metadata": {
    "ExecuteTime": {
     "end_time": "2023-09-03T13:32:15.698156Z",
     "start_time": "2023-09-03T13:32:15.680168Z"
    }
   },
   "outputs": [],
   "source": [
    "# Find the number of nodes and edges\n",
    "num_nodes = G.number_of_nodes()\n",
    "num_edges = G.number_of_edges()\n",
    "print(\"Number of nodes:\", num_nodes)\n",
    "print(\"Number of edges:\", num_edges)"
   ]
  },
  {
   "cell_type": "code",
   "execution_count": null,
   "id": "3a692d71",
   "metadata": {
    "ExecuteTime": {
     "end_time": "2023-09-03T13:32:38.390085Z",
     "start_time": "2023-09-03T13:32:16.192392Z"
    }
   },
   "outputs": [],
   "source": [
    "G = to_networkx(data, to_undirected=True)\n",
    "pos = nx.spring_layout(G, seed=42)\n",
    "cent = nx.degree_centrality(G)\n",
    "node_size = list(map(lambda x: x * 500, cent.values()))\n",
    "cent_array = np.array(list(cent.values()))\n",
    "threshold = sorted(cent_array, reverse=True)[10]\n",
    "print(\"threshold\", threshold)\n",
    "cent_bin = np.where(cent_array >= threshold, 1, 0.1)\n",
    "plt.figure(figsize=(12, 12))\n",
    "nodes = nx.draw_networkx_nodes(G, pos, node_size=node_size,\n",
    "#                                cmap=plt.cm.plasma,\n",
    "                               node_color=cent_bin,\n",
    "                               nodelist=list(cent.keys()),\n",
    "                               alpha=cent_bin)\n",
    "edges = nx.draw_networkx_edges(G, pos, width=0.25, alpha=0.3)\n",
    "plt.show()"
   ]
  },
  {
   "cell_type": "code",
   "execution_count": null,
   "id": "f3f433d9",
   "metadata": {
    "ExecuteTime": {
     "end_time": "2023-09-03T13:32:38.405551Z",
     "start_time": "2023-09-03T13:32:38.392181Z"
    }
   },
   "outputs": [],
   "source": [
    "# check training nodes\n",
    "print(\"# of nodes to train on: \", data.train_mask.sum().item())\n",
    "\n",
    "# check test nodes\n",
    "print(\"# of nodes to test on: \", data.test_mask.sum().item())\n",
    "\n",
    "# check validation nodes\n",
    "print(\"# of nodes to validate on: \", data.val_mask.sum().item())"
   ]
  },
  {
   "cell_type": "code",
   "execution_count": null,
   "id": "1b0717eb",
   "metadata": {
    "ExecuteTime": {
     "end_time": "2023-09-03T16:00:53.759270Z",
     "start_time": "2023-09-03T16:00:53.737255Z"
    }
   },
   "outputs": [],
   "source": [
    "print(f'Number of features: {data.num_node_features}')"
   ]
  },
  {
   "cell_type": "code",
   "execution_count": null,
   "id": "d5587230",
   "metadata": {
    "ExecuteTime": {
     "end_time": "2023-09-03T16:01:01.610507Z",
     "start_time": "2023-09-03T16:01:01.542546Z"
    }
   },
   "outputs": [],
   "source": [
    "print(len(data.x[0]))\n",
    "data.x[0][:20]"
   ]
  },
  {
   "cell_type": "code",
   "execution_count": null,
   "id": "6856a6c0",
   "metadata": {
    "ExecuteTime": {
     "end_time": "2023-09-03T16:01:14.694680Z",
     "start_time": "2023-09-03T16:01:14.683007Z"
    }
   },
   "outputs": [],
   "source": [
    "print(f'Number of edge features: {data.num_edge_features}')\n",
    "# Number of edge features: 0"
   ]
  },
  {
   "cell_type": "code",
   "execution_count": null,
   "id": "fbfaa237",
   "metadata": {
    "ExecuteTime": {
     "end_time": "2023-09-03T16:01:30.142555Z",
     "start_time": "2023-09-03T16:01:30.127004Z"
    }
   },
   "outputs": [],
   "source": [
    "print(f'Number of classes: {dataset.num_classes}')\n",
    "# Number of classes: 7"
   ]
  },
  {
   "cell_type": "code",
   "execution_count": null,
   "id": "e4e0dc5a",
   "metadata": {
    "ExecuteTime": {
     "end_time": "2023-09-03T16:01:48.098232Z",
     "start_time": "2023-09-03T16:01:48.064620Z"
    }
   },
   "outputs": [],
   "source": [
    "dataset.num_classes"
   ]
  },
  {
   "cell_type": "code",
   "execution_count": null,
   "id": "0ae761f0",
   "metadata": {
    "ExecuteTime": {
     "end_time": "2023-09-03T16:02:04.139653Z",
     "start_time": "2023-09-03T16:02:04.120672Z"
    }
   },
   "outputs": [],
   "source": [
    "label_dict = {\n",
    "    0: \"Theory\",\n",
    "    1: \"Reinforcement_Learning\",\n",
    "    2: \"Genetic_Algorithms\",\n",
    "    3: \"Neural_Networks\",\n",
    "    4: \"Probabilistic_Methods\",\n",
    "    5: \"Case_Based\",\n",
    "    6: \"Rule_Learning\"}"
   ]
  },
  {
   "cell_type": "code",
   "execution_count": null,
   "id": "51eadbf9",
   "metadata": {
    "ExecuteTime": {
     "end_time": "2023-09-04T16:55:03.483133Z",
     "start_time": "2023-09-04T16:55:03.471135Z"
    }
   },
   "outputs": [],
   "source": [
    "G"
   ]
  },
  {
   "cell_type": "code",
   "execution_count": null,
   "id": "25d09f1f",
   "metadata": {
    "ExecuteTime": {
     "end_time": "2023-09-03T16:02:16.389896Z",
     "start_time": "2023-09-03T16:02:16.374344Z"
    }
   },
   "outputs": [],
   "source": [
    "data.y[:20]"
   ]
  },
  {
   "cell_type": "code",
   "execution_count": null,
   "id": "2cc3e143",
   "metadata": {
    "ExecuteTime": {
     "end_time": "2023-09-03T16:02:40.186082Z",
     "start_time": "2023-09-03T16:02:39.995719Z"
    }
   },
   "outputs": [],
   "source": [
    "counter = collections.Counter(data.y.numpy())\n",
    "counter = dict(counter)\n",
    "print(counter)\n",
    "count = [x[1] for x in sorted(counter.items())]\n",
    "plt.figure(figsize=(10, 6))\n",
    "plt.bar(range(7), count)\n",
    "plt.xlabel(\"class\", size=20)\n",
    "plt.show()"
   ]
  },
  {
   "cell_type": "code",
   "execution_count": null,
   "id": "f5319f82",
   "metadata": {
    "ExecuteTime": {
     "end_time": "2023-09-03T16:03:18.308525Z",
     "start_time": "2023-09-03T16:02:52.917387Z"
    }
   },
   "outputs": [],
   "source": [
    "G = to_networkx(data, to_undirected=True)\n",
    "node_color = []\n",
    "nodelist = [[], [], [], [], [], [], []]\n",
    "colorlist = ['#e41a1c', '#377eb8', '#4daf4a', '#984ea3', '#ff7f00', '#ffff33', '#a65628']\n",
    "labels = data.y\n",
    "for n, i in enumerate(labels):\n",
    "    node_color.append(colorlist[i])\n",
    "    nodelist[i].append(n)\n",
    "pos = nx.spring_layout(G, seed = 42)\n",
    "plt.figure(figsize = (10, 10))\n",
    "labellist = list(label_dict.values())\n",
    "for num, i in enumerate(zip(nodelist, labellist)):\n",
    "    n, l = i[0], i[1]\n",
    "    nx.draw_networkx_nodes(G, pos, nodelist=n, node_size = 5, node_color = colorlist[num], label=l)\n",
    "nx.draw_networkx_edges(G, pos, width = 0.25)\n",
    "plt.legend(bbox_to_anchor=(1, 1), loc='upper left')"
   ]
  },
  {
   "cell_type": "code",
   "execution_count": null,
   "id": "d027cf0b",
   "metadata": {
    "ExecuteTime": {
     "end_time": "2023-09-03T16:03:18.696730Z",
     "start_time": "2023-09-03T16:03:18.311528Z"
    }
   },
   "outputs": [],
   "source": [
    "labels = data.y.numpy()\n",
    "connected_labels_set = list(map(lambda x: labels[x], data.edge_index.numpy()))\n",
    "connected_labels_set = np.array(connected_labels_set)\n",
    "def add_missing_keys(counter, classes):\n",
    "    for x in classes:\n",
    "        if x not in counter.keys():\n",
    "            counter[x] = 0\n",
    "    return counter\n",
    "label_connection_counts = []\n",
    "for i in range(7):\n",
    "    print(f\"label: {i}\")\n",
    "    connected_labels = connected_labels_set[:, np.where(connected_labels_set[0] == i)[0]]\n",
    "    print(connected_labels.shape[1], \"edges\")\n",
    "    counter = collections.Counter(connected_labels[1])\n",
    "    counter = dict(counter)\n",
    "    print(counter)\n",
    "    counter = add_missing_keys(counter, range(7))\n",
    "    items = sorted(counter.items())\n",
    "    items = [x[1] for x in items]\n",
    "    label_connection_counts.append(items)\n",
    "label_connection_counts = np.array(label_connection_counts)\n",
    "plt.figure(figsize=(9, 7))\n",
    "plt.rcParams[\"font.size\"] = 13\n",
    "hm = sns.heatmap(label_connection_counts, annot=True, cmap='hot_r', cbar=True, square=True)\n",
    "plt.xlabel(\"class\",size=20)\n",
    "plt.ylabel(\"class\",size=20)\n",
    "plt.tight_layout()\n",
    "plt.show()"
   ]
  },
  {
   "cell_type": "code",
   "execution_count": null,
   "id": "f0fdd444",
   "metadata": {
    "ExecuteTime": {
     "end_time": "2023-09-03T16:03:18.712246Z",
     "start_time": "2023-09-03T16:03:18.699730Z"
    }
   },
   "outputs": [],
   "source": [
    "label_connection_counts.diagonal().sum() / label_connection_counts.sum()\n",
    "# 0.8099658961727927"
   ]
  },
  {
   "cell_type": "code",
   "execution_count": null,
   "id": "bf0fdcf2",
   "metadata": {
    "ExecuteTime": {
     "end_time": "2023-09-03T16:03:34.188546Z",
     "start_time": "2023-09-03T16:03:33.502240Z"
    }
   },
   "outputs": [],
   "source": [
    "def scaling(array):\n",
    "    return array / sum(array)\n",
    "label_connection_counts_scaled = np.apply_along_axis(scaling, 1, label_connection_counts)\n",
    "plt.figure(figsize=(9, 7))\n",
    "plt.rcParams[\"font.size\"] = 13\n",
    "hm = sns.heatmap(\n",
    "    label_connection_counts_scaled,\n",
    "    annot=True,\n",
    "    cmap='hot_r',\n",
    "    fmt=\"1.2f\",\n",
    "    cbar=True,\n",
    "    square=True)\n",
    "plt.xlabel(\"class\",size=20)\n",
    "plt.ylabel(\"class\",size=20)\n",
    "plt.tight_layout()\n",
    "plt.show()"
   ]
  },
  {
   "cell_type": "code",
   "execution_count": null,
   "id": "8eab0cf5",
   "metadata": {
    "ExecuteTime": {
     "end_time": "2023-09-03T16:03:43.556300Z",
     "start_time": "2023-09-03T16:03:43.550804Z"
    }
   },
   "outputs": [],
   "source": [
    "print(f'Number of training nodes: {data.train_mask.sum()}')\n",
    "print(f'Number of validation nodes: {data.val_mask.sum()}')\n",
    "print(f'Number of test nodes: {data.test_mask.sum()}')"
   ]
  },
  {
   "cell_type": "code",
   "execution_count": null,
   "id": "ce2fd0fd",
   "metadata": {
    "ExecuteTime": {
     "end_time": "2023-09-03T16:03:48.473564Z",
     "start_time": "2023-09-03T16:03:48.319922Z"
    }
   },
   "outputs": [],
   "source": [
    "split_type_array = np.zeros(data.num_nodes)\n",
    "split_type_array[np.where(data.train_mask == True)[0]] = 1\n",
    "split_type_array[np.where(data.val_mask == True)[0]] = 2\n",
    "split_type_array[np.where(data.test_mask == True)[0]] = 3\n",
    "split_type_array\n",
    "plt.scatter(range(2708), split_type_array)\n",
    "plt.xlabel(\"index\")\n",
    "plt.show()"
   ]
  },
  {
   "cell_type": "code",
   "execution_count": null,
   "id": "be68742a",
   "metadata": {
    "ExecuteTime": {
     "end_time": "2023-09-03T16:04:43.236510Z",
     "start_time": "2023-09-03T16:04:42.775871Z"
    }
   },
   "outputs": [],
   "source": [
    "titles = [\"Training\", \"Validation\", \"Test\"]\n",
    "fig, axes = plt.subplots(ncols=3, figsize=(21, 6))\n",
    "for i in range(3):\n",
    "    counter = collections.Counter(data.y.numpy()[np.where(split_type_array == i + 1)[0]])\n",
    "    counter = dict(counter)\n",
    "    print(titles[i], counter)\n",
    "    count = [x[1] for x in sorted(counter.items())]\n",
    "# plt.figure(figsize=(10, 6))\n",
    "    axes[i].bar(range(7), count)\n",
    "    axes[i].set_xlabel(\"class\", size=20)\n",
    "    axes[i].set_title(titles[i])\n",
    "plt.show()"
   ]
  },
  {
   "cell_type": "code",
   "execution_count": 1,
   "id": "049722e4",
   "metadata": {
    "ExecuteTime": {
     "end_time": "2023-09-05T16:59:31.555130Z",
     "start_time": "2023-09-05T16:59:27.532388Z"
    }
   },
   "outputs": [],
   "source": [
    "import os\n",
    "import collections\n",
    "import numpy as np\n",
    "import pandas as pd\n",
    "import matplotlib.pyplot as plt\n",
    "import seaborn as sns\n",
    "import scipy.sparse as sp\n",
    "import torch\n",
    "from torch import Tensor\n",
    "import torch_geometric\n",
    "from torch_geometric.utils import to_networkx\n",
    "from torch_geometric.datasets import Planetoid\n",
    "import networkx as nx\n",
    "from networkx.algorithms import community"
   ]
  },
  {
   "cell_type": "code",
   "execution_count": 2,
   "id": "4bbe2e6b",
   "metadata": {
    "ExecuteTime": {
     "end_time": "2023-09-05T16:59:31.566687Z",
     "start_time": "2023-09-05T16:59:31.555130Z"
    }
   },
   "outputs": [],
   "source": [
    "# Set random seed for reproducibility\n",
    "import numpy as np\n",
    "\n",
    "seed_value = 42\n",
    "np.random.seed(seed_value)"
   ]
  },
  {
   "cell_type": "code",
   "execution_count": 4,
   "id": "46812319",
   "metadata": {
    "ExecuteTime": {
     "end_time": "2023-09-05T16:59:43.908141Z",
     "start_time": "2023-09-05T16:59:43.902142Z"
    }
   },
   "outputs": [],
   "source": [
    "# # Create a graph\n",
    "G = nx.karate_club_graph()\n",
    "# G = nx.Graph()\n",
    "# G.add_edges_from([(1, 2), (1, 3), (2, 4), (2, 5), (3, 6), (4, 5), (5, 6)])"
   ]
  },
  {
   "cell_type": "code",
   "execution_count": 5,
   "id": "a91114c3",
   "metadata": {
    "ExecuteTime": {
     "end_time": "2023-09-05T16:59:44.598869Z",
     "start_time": "2023-09-05T16:59:44.585868Z"
    }
   },
   "outputs": [
    {
     "data": {
      "text/plain": [
       "<networkx.classes.graph.Graph at 0x1815145ed30>"
      ]
     },
     "execution_count": 5,
     "metadata": {},
     "output_type": "execute_result"
    }
   ],
   "source": [
    "G"
   ]
  },
  {
   "cell_type": "code",
   "execution_count": 6,
   "id": "33adcb54",
   "metadata": {
    "ExecuteTime": {
     "end_time": "2023-09-05T16:59:45.602512Z",
     "start_time": "2023-09-05T16:59:45.392724Z"
    }
   },
   "outputs": [
    {
     "data": {
      "image/png": "[encoded data removed]",
      "text/plain": [
       "<Figure size 640x480 with 1 Axes>"
      ]
     },
     "metadata": {},
     "output_type": "display_data"
    }
   ],
   "source": [
    "# Define node positions using a spring layout\n",
    "import matplotlib.pyplot as plt\n",
    "pos = nx.spring_layout(G, seed=42)\n",
    "\n",
    "# Create a Matplotlib figure and axis\n",
    "fig, ax = plt.subplots()\n",
    "\n",
    "# Draw nodes and edges\n",
    "nx.draw(G, pos, with_labels=True, node_size=300, node_color='skyblue', font_size=12, font_color='black', font_weight='bold', edge_color='gray', ax=ax)\n",
    "\n",
    "# Add a title\n",
    "ax.set_title('Graph with High Structural and Community Similarity')\n",
    "\n",
    "# Show the plot\n",
    "plt.axis('off')\n",
    "plt.show()"
   ]
  },
  {
   "cell_type": "code",
   "execution_count": 7,
   "id": "adbae452",
   "metadata": {
    "ExecuteTime": {
     "end_time": "2023-09-05T16:59:48.347160Z",
     "start_time": "2023-09-05T16:59:48.326146Z"
    }
   },
   "outputs": [],
   "source": [
    "from node2vec_def.node2vec import Node2Vec"
   ]
  },
  {
   "cell_type": "code",
   "execution_count": 8,
   "id": "dba4bd85",
   "metadata": {
    "ExecuteTime": {
     "end_time": "2023-09-05T16:59:50.057514Z",
     "start_time": "2023-09-05T16:59:50.006708Z"
    }
   },
   "outputs": [],
   "source": [
    "import networkx as nx\n",
    "import torch\n",
    "import torch.nn as nn\n",
    "import torch.optim as optim\n",
    "import random\n",
    "import numpy as np\n",
    "from hyperopt import fmin, tpe, hp\n",
    "from scipy.optimize import minimize"
   ]
  },
  {
   "cell_type": "code",
   "execution_count": 14,
   "id": "00adfbd6",
   "metadata": {
    "ExecuteTime": {
     "end_time": "2023-09-05T17:01:55.869451Z",
     "start_time": "2023-09-05T17:01:55.857451Z"
    }
   },
   "outputs": [],
   "source": [
    "# Define Node2Vec parameters\n",
    "dimensions = 3\n",
    "walk_length = 3\n",
    "num_walks = 3\n",
    "p = 4.0\n",
    "q = 2.0\n",
    "learning_rate = 0.01\n",
    "window_size = 5\n",
    "epochs = 20\n",
    "negative_samples = 2"
   ]
  },
  {
   "cell_type": "code",
   "execution_count": 31,
   "id": "3707b378",
   "metadata": {
    "ExecuteTime": {
     "end_time": "2023-09-05T17:04:19.500762Z",
     "start_time": "2023-09-05T17:04:19.491764Z"
    }
   },
   "outputs": [],
   "source": [
    "def objective_function(Z, S):\n",
    "    \"\"\"\n",
    "    Calculate the objective function ||Z^T*Z - S||^2.\n",
    "\n",
    "    Args:\n",
    "        Z (numpy.ndarray): The node embeddings as a numpy array.\n",
    "        S (numpy.ndarray): The similarity matrix.\n",
    "\n",
    "    Returns:\n",
    "        float: The value of the objective function.\n",
    "    \"\"\"\n",
    "    Z_transpose = np.transpose(Z)\n",
    "    diff = np.dot(Z_transpose, Z) - S\n",
    "    obj_func = np.linalg.norm(diff) ** 2\n",
    "    return obj_func"
   ]
  },
  {
   "cell_type": "code",
   "execution_count": 16,
   "id": "a20b4f03",
   "metadata": {
    "ExecuteTime": {
     "end_time": "2023-09-05T17:01:56.837213Z",
     "start_time": "2023-09-05T17:01:56.819214Z"
    }
   },
   "outputs": [],
   "source": [
    "# import networkx as nx\n",
    "# import numpy as np\n",
    "# from scipy.optimize import minimize\n",
    "# import torch\n",
    "# import torch.nn as nn\n",
    "# import torch.optim as optim\n",
    "# import random\n",
    "# import matplotlib.pyplot as plt"
   ]
  },
  {
   "cell_type": "code",
   "execution_count": 17,
   "id": "d6e25c25",
   "metadata": {
    "ExecuteTime": {
     "end_time": "2023-09-05T17:01:57.339925Z",
     "start_time": "2023-09-05T17:01:57.324927Z"
    }
   },
   "outputs": [],
   "source": [
    "# # Define your objective function\n",
    "# def objective_function(params):\n",
    "#     dimensions, walk_length, num_walks, p, q, learning_rate, window_size, epochs, negative_samples = params\n",
    "\n",
    "#     # Create and train the Node2Vec model\n",
    "#     node2vec_model = Node2Vec(G, int(dimensions), int(walk_length), int(num_walks), p, q, learning_rate, int(window_size), int(epochs), int(negative_samples))\n",
    "#     node2vec_model.train()\n",
    "#     S = node2vec_model.compute_similarity_matrix()\n",
    "\n",
    "#     # Calculate the objective function value\n",
    "#     embeddings = node2vec_model.get_embeddings()\n",
    "#     Z_transpose = np.transpose(embeddings)\n",
    "#     diff = np.dot(Z_transpose, embeddings) - S\n",
    "#     obj_func = np.linalg.norm(diff) ** 2\n",
    "#     return obj_func"
   ]
  },
  {
   "cell_type": "code",
   "execution_count": 18,
   "id": "9b64d3c9",
   "metadata": {
    "ExecuteTime": {
     "end_time": "2023-09-05T17:01:57.732230Z",
     "start_time": "2023-09-05T17:01:57.723224Z"
    }
   },
   "outputs": [],
   "source": [
    "model = Node2Vec(G, dimensions, walk_length, num_walks, p, q, learning_rate, window_size, epochs, negative_samples)\n"
   ]
  },
  {
   "cell_type": "code",
   "execution_count": 19,
   "id": "23385482",
   "metadata": {
    "ExecuteTime": {
     "end_time": "2023-09-05T17:01:58.192193Z",
     "start_time": "2023-09-05T17:01:58.180194Z"
    }
   },
   "outputs": [],
   "source": [
    "embeddings_bt = model.get_embeddings()\n"
   ]
  },
  {
   "cell_type": "code",
   "execution_count": 20,
   "id": "409c2445",
   "metadata": {
    "ExecuteTime": {
     "end_time": "2023-09-05T17:01:58.919001Z",
     "start_time": "2023-09-05T17:01:58.900005Z"
    }
   },
   "outputs": [
    {
     "data": {
      "text/plain": [
       "array([[-0.17969583, -0.39954722, -0.12632106,  0.11996083, -0.19816828,\n",
       "        -0.00122153, -0.057229  ,  0.26668805,  0.25218278,  0.01959264,\n",
       "         0.07071773,  0.34186432,  0.27775633,  0.2932274 , -0.04830053,\n",
       "         0.07068326,  0.2240324 ,  0.37233055,  0.31076714, -0.01866694,\n",
       "         0.2948184 , -0.0837524 , -0.00261463,  0.17161618, -0.37828186,\n",
       "         0.12447036,  0.4014386 , -0.00051932,  0.3538147 , -0.21855201,\n",
       "         0.38851273,  0.0199208 ,  0.25267968,  0.106223  ],\n",
       "       [-0.18151523, -0.26630548, -0.05049817, -0.14764783, -0.38847172,\n",
       "        -0.1751179 ,  0.06991907, -0.04126737,  0.22361764, -0.0825156 ,\n",
       "         0.13186915,  0.36267692,  0.05400979, -0.03425828,  0.07874524,\n",
       "         0.06073944,  0.24698174, -0.37548587, -0.39493752, -0.3967616 ,\n",
       "        -0.10772234, -0.06491747, -0.2724668 ,  0.25199637,  0.33138818,\n",
       "         0.21361992,  0.09652992,  0.33277816,  0.32477877,  0.13829373,\n",
       "        -0.26225594, -0.20336461, -0.39451542,  0.22312425],\n",
       "       [-0.23550007, -0.0920744 ,  0.18832618,  0.01927106, -0.21433616,\n",
       "         0.0365537 , -0.06311736,  0.1552029 , -0.14858383,  0.3070892 ,\n",
       "         0.13985984,  0.16540258,  0.18745954, -0.1885376 , -0.39036253,\n",
       "        -0.05648471, -0.15664388, -0.20914583, -0.1215779 , -0.14510794,\n",
       "        -0.04376043,  0.36494923, -0.25256398,  0.30770835, -0.3811841 ,\n",
       "        -0.00325773, -0.11753649, -0.14619823,  0.39725724,  0.346528  ,\n",
       "         0.12944749, -0.02403364,  0.0257062 ,  0.19819525]],\n",
       "      dtype=float32)"
      ]
     },
     "execution_count": 20,
     "metadata": {},
     "output_type": "execute_result"
    }
   ],
   "source": [
    "embeddings_bt"
   ]
  },
  {
   "cell_type": "code",
   "execution_count": 21,
   "id": "a6a9d813",
   "metadata": {
    "ExecuteTime": {
     "end_time": "2023-09-05T17:03:02.990209Z",
     "start_time": "2023-09-05T17:02:00.190439Z"
    }
   },
   "outputs": [
    {
     "name": "stderr",
     "output_type": "stream",
     "text": [
      "\n",
      "Epoch 1/20:   0%|                                                                                                                    | 0/3 [00:00<?, ?it/s]\u001b[A\n",
      "Epoch 1/20:  67%|████████████████████████████████████████████████████████████████████████                                    | 2/3 [00:01<00:00,  1.54it/s]\u001b[A\n",
      "Epoch 1/20: 100%|████████████████████████████████████████████████████████████████████████████████████████████████████████████| 3/3 [00:03<00:00,  1.12s/it]\u001b[A\n",
      "\n",
      "Epoch 2/20:   0%|                                                                                                                    | 0/3 [00:00<?, ?it/s]\u001b[A\n",
      "Epoch 2/20:  67%|████████████████████████████████████████████████████████████████████████                                    | 2/3 [00:01<00:00,  1.99it/s]\u001b[A\n",
      "Epoch 2/20: 100%|████████████████████████████████████████████████████████████████████████████████████████████████████████████| 3/3 [00:03<00:00,  1.03s/it]\u001b[A\n",
      "\n",
      "Epoch 3/20:   0%|                                                                                                                    | 0/3 [00:00<?, ?it/s]\u001b[A\n",
      "Epoch 3/20:  67%|████████████████████████████████████████████████████████████████████████                                    | 2/3 [00:01<00:00,  1.96it/s]\u001b[A\n",
      "Epoch 3/20: 100%|████████████████████████████████████████████████████████████████████████████████████████████████████████████| 3/3 [00:03<00:00,  1.04s/it]\u001b[A\n",
      "\n",
      "Epoch 4/20:   0%|                                                                                                                    | 0/3 [00:00<?, ?it/s]\u001b[A\n",
      "Epoch 4/20:  67%|████████████████████████████████████████████████████████████████████████                                    | 2/3 [00:01<00:00,  1.91it/s]\u001b[A\n",
      "Epoch 4/20: 100%|████████████████████████████████████████████████████████████████████████████████████████████████████████████| 3/3 [00:03<00:00,  1.03s/it]\u001b[A\n",
      "\n",
      "Epoch 5/20:   0%|                                                                                                                    | 0/3 [00:00<?, ?it/s]\u001b[A\n",
      "Epoch 5/20:  67%|████████████████████████████████████████████████████████████████████████                                    | 2/3 [00:01<00:00,  1.86it/s]\u001b[A\n",
      "Epoch 5/20: 100%|████████████████████████████████████████████████████████████████████████████████████████████████████████████| 3/3 [00:03<00:00,  1.05s/it]\u001b[A\n",
      "\n",
      "Epoch 6/20:   0%|                                                                                                                    | 0/3 [00:00<?, ?it/s]\u001b[A\n",
      "Epoch 6/20:  67%|████████████████████████████████████████████████████████████████████████                                    | 2/3 [00:01<00:00,  1.94it/s]\u001b[A\n",
      "Epoch 6/20: 100%|████████████████████████████████████████████████████████████████████████████████████████████████████████████| 3/3 [00:03<00:00,  1.03s/it]\u001b[A\n",
      "\n",
      "Epoch 7/20:   0%|                                                                                                                    | 0/3 [00:00<?, ?it/s]\u001b[A\n",
      "Epoch 7/20:  67%|████████████████████████████████████████████████████████████████████████                                    | 2/3 [00:01<00:00,  1.93it/s]\u001b[A\n",
      "Epoch 7/20: 100%|████████████████████████████████████████████████████████████████████████████████████████████████████████████| 3/3 [00:03<00:00,  1.03s/it]\u001b[A\n",
      "\n",
      "Epoch 8/20:   0%|                                                                                                                    | 0/3 [00:00<?, ?it/s]\u001b[A\n",
      "Epoch 8/20:  67%|████████████████████████████████████████████████████████████████████████                                    | 2/3 [00:01<00:00,  1.94it/s]\u001b[A\n",
      "Epoch 8/20: 100%|████████████████████████████████████████████████████████████████████████████████████████████████████████████| 3/3 [00:03<00:00,  1.04s/it]\u001b[A\n",
      "\n",
      "Epoch 9/20:   0%|                                                                                                                    | 0/3 [00:00<?, ?it/s]\u001b[A\n",
      "Epoch 9/20:  67%|████████████████████████████████████████████████████████████████████████                                    | 2/3 [00:00<00:00,  2.01it/s]\u001b[A\n",
      "Epoch 9/20: 100%|████████████████████████████████████████████████████████████████████████████████████████████████████████████| 3/3 [00:03<00:00,  1.02s/it]\u001b[A\n",
      "\n",
      "Epoch 10/20:   0%|                                                                                                                   | 0/3 [00:00<?, ?it/s]\u001b[A\n",
      "Epoch 10/20:  67%|███████████████████████████████████████████████████████████████████████▎                                   | 2/3 [00:01<00:00,  1.98it/s]\u001b[A\n",
      "Epoch 10/20: 100%|███████████████████████████████████████████████████████████████████████████████████████████████████████████| 3/3 [00:03<00:00,  1.03s/it]\u001b[A\n",
      "\n",
      "Epoch 11/20:   0%|                                                                                                                   | 0/3 [00:00<?, ?it/s]\u001b[A\n",
      "Epoch 11/20:  67%|███████████████████████████████████████████████████████████████████████▎                                   | 2/3 [00:01<00:00,  1.91it/s]\u001b[A\n",
      "Epoch 11/20: 100%|███████████████████████████████████████████████████████████████████████████████████████████████████████████| 3/3 [00:03<00:00,  1.04s/it]\u001b[A\n",
      "\n",
      "Epoch 12/20:   0%|                                                                                                                   | 0/3 [00:00<?, ?it/s]\u001b[A\n",
      "Epoch 12/20:  67%|███████████████████████████████████████████████████████████████████████▎                                   | 2/3 [00:01<00:00,  1.96it/s]\u001b[A\n",
      "Epoch 12/20: 100%|███████████████████████████████████████████████████████████████████████████████████████████████████████████| 3/3 [00:03<00:00,  1.05s/it]\u001b[A\n",
      "\n",
      "Epoch 13/20:   0%|                                                                                                                   | 0/3 [00:00<?, ?it/s]\u001b[A\n",
      "Epoch 13/20:  67%|███████████████████████████████████████████████████████████████████████▎                                   | 2/3 [00:01<00:00,  1.91it/s]\u001b[A\n",
      "Epoch 13/20: 100%|███████████████████████████████████████████████████████████████████████████████████████████████████████████| 3/3 [00:03<00:00,  1.05s/it]\u001b[A\n",
      "\n",
      "Epoch 14/20:   0%|                                                                                                                   | 0/3 [00:00<?, ?it/s]\u001b[A\n",
      "Epoch 14/20:  67%|███████████████████████████████████████████████████████████████████████▎                                   | 2/3 [00:01<00:00,  1.94it/s]\u001b[A\n",
      "Epoch 14/20: 100%|███████████████████████████████████████████████████████████████████████████████████████████████████████████| 3/3 [00:03<00:00,  1.04s/it]\u001b[A\n",
      "\n",
      "Epoch 15/20:   0%|                                                                                                                   | 0/3 [00:00<?, ?it/s]\u001b[A\n",
      "Epoch 15/20:  67%|███████████████████████████████████████████████████████████████████████▎                                   | 2/3 [00:01<00:00,  1.95it/s]\u001b[A\n",
      "Epoch 15/20: 100%|███████████████████████████████████████████████████████████████████████████████████████████████████████████| 3/3 [00:03<00:00,  1.03s/it]\u001b[A\n",
      "\n",
      "Epoch 16/20:   0%|                                                                                                                   | 0/3 [00:00<?, ?it/s]\u001b[A\n",
      "Epoch 16/20:  67%|███████████████████████████████████████████████████████████████████████▎                                   | 2/3 [00:01<00:00,  1.99it/s]\u001b[A\n",
      "Epoch 16/20: 100%|███████████████████████████████████████████████████████████████████████████████████████████████████████████| 3/3 [00:03<00:00,  1.02s/it]\u001b[A\n",
      "\n",
      "Epoch 17/20:   0%|                                                                                                                   | 0/3 [00:00<?, ?it/s]\u001b[A\n",
      "Epoch 17/20:  67%|███████████████████████████████████████████████████████████████████████▎                                   | 2/3 [00:01<00:00,  1.95it/s]\u001b[A\n",
      "Epoch 17/20: 100%|███████████████████████████████████████████████████████████████████████████████████████████████████████████| 3/3 [00:03<00:00,  1.03s/it]\u001b[A\n",
      "\n"
     ]
    },
    {
     "name": "stderr",
     "output_type": "stream",
     "text": [
      "Epoch 18/20:   0%|                                                                                                                   | 0/3 [00:00<?, ?it/s]\u001b[A\n",
      "Epoch 18/20:  67%|███████████████████████████████████████████████████████████████████████▎                                   | 2/3 [00:01<00:00,  1.95it/s]\u001b[A\n",
      "Epoch 18/20: 100%|███████████████████████████████████████████████████████████████████████████████████████████████████████████| 3/3 [00:03<00:00,  1.03s/it]\u001b[A\n",
      "\n",
      "Epoch 19/20:   0%|                                                                                                                   | 0/3 [00:00<?, ?it/s]\u001b[A\n",
      "Epoch 19/20:  67%|███████████████████████████████████████████████████████████████████████▎                                   | 2/3 [00:01<00:00,  1.89it/s]\u001b[A\n",
      "Epoch 19/20: 100%|███████████████████████████████████████████████████████████████████████████████████████████████████████████| 3/3 [00:03<00:00,  1.07s/it]\u001b[A\n",
      "\n",
      "Epoch 20/20:   0%|                                                                                                                   | 0/3 [00:00<?, ?it/s]\u001b[A\n",
      "Epoch 20/20:  67%|███████████████████████████████████████████████████████████████████████▎                                   | 2/3 [00:01<00:00,  1.93it/s]\u001b[A\n",
      "Epoch 20/20: 100%|███████████████████████████████████████████████████████████████████████████████████████████████████████████| 3/3 [00:03<00:00,  1.05s/it]\u001b[A\n"
     ]
    },
    {
     "data": {
      "image/png": "[encoded data removed]",
      "text/plain": [
       "<Figure size 1000x600 with 1 Axes>"
      ]
     },
     "metadata": {},
     "output_type": "display_data"
    }
   ],
   "source": [
    "model.train()"
   ]
  },
  {
   "cell_type": "code",
   "execution_count": 22,
   "id": "afd968ea",
   "metadata": {
    "ExecuteTime": {
     "end_time": "2023-09-05T17:03:28.865031Z",
     "start_time": "2023-09-05T17:03:28.849828Z"
    }
   },
   "outputs": [],
   "source": [
    "embeddings = model.get_embeddings()"
   ]
  },
  {
   "cell_type": "code",
   "execution_count": 23,
   "id": "8f4dcb49",
   "metadata": {
    "ExecuteTime": {
     "end_time": "2023-09-05T17:03:29.806239Z",
     "start_time": "2023-09-05T17:03:29.798240Z"
    }
   },
   "outputs": [
    {
     "data": {
      "text/plain": [
       "array([[-0.90211993, -0.47016144, -0.17726122, -0.30466422, -0.68456763,\n",
       "        -0.66279465, -0.75848985, -0.4189235 ,  0.4741018 ,  0.11930168,\n",
       "        -0.6008562 , -0.32619336, -0.13908496, -0.07078983,  0.51887524,\n",
       "         0.4504041 , -0.4913362 , -0.17396894,  0.7200754 , -0.1670662 ,\n",
       "         0.6095417 , -0.5962195 ,  0.76228684,  0.32231095, -0.43162182,\n",
       "        -0.11697823,  0.47828123, -0.16119987,  0.20694692,  0.36984184,\n",
       "         0.5412948 , -0.01078044,  1.0088174 ,  1.0241014 ],\n",
       "       [-0.7258076 , -0.94228405, -0.2669598 , -0.64308065, -0.4178974 ,\n",
       "        -0.16911419, -0.14720602, -0.5920535 , -0.02316272, -0.01594575,\n",
       "        -0.28591734, -0.11244863, -0.3532218 , -0.30843404,  0.22713237,\n",
       "         0.23004688,  0.07003922, -0.7157927 , -0.09985785, -0.54111034,\n",
       "         0.08710491, -0.42548212,  0.01176682,  0.79598826,  1.1661106 ,\n",
       "         0.88626355,  0.29341528,  0.8397771 ,  0.47260788,  0.5385268 ,\n",
       "        -0.31977478,  0.7969642 ,  0.21849564,  0.4202725 ],\n",
       "       [-0.3008863 ,  0.0501124 ,  0.49327722,  0.20534872, -0.4549349 ,\n",
       "        -0.51013047, -0.6511141 ,  0.18032867,  0.06694864,  0.50225586,\n",
       "        -0.26181945, -0.11441722,  0.07646263,  0.01211163, -0.14746097,\n",
       "         0.01416065, -0.66678774, -0.28323805,  0.0196491 , -0.13958089,\n",
       "         0.08939195,  0.21786584, -0.0625071 ,  0.43379843, -0.40803957,\n",
       "        -0.07819766,  0.10247685,  0.05465508,  0.3550026 ,  0.55689275,\n",
       "         0.10452688,  0.00412667,  0.23430783,  0.37213406]],\n",
       "      dtype=float32)"
      ]
     },
     "execution_count": 23,
     "metadata": {},
     "output_type": "execute_result"
    }
   ],
   "source": [
    "embeddings"
   ]
  },
  {
   "cell_type": "code",
   "execution_count": 24,
   "id": "c0d6d43c",
   "metadata": {
    "ExecuteTime": {
     "end_time": "2023-09-05T17:03:35.503008Z",
     "start_time": "2023-09-05T17:03:35.486017Z"
    }
   },
   "outputs": [],
   "source": [
    "# Get the node embeddings\n",
    "Z =model.get_embeddings()"
   ]
  },
  {
   "cell_type": "code",
   "execution_count": 25,
   "id": "1286300f",
   "metadata": {
    "ExecuteTime": {
     "end_time": "2023-09-05T17:03:36.319934Z",
     "start_time": "2023-09-05T17:03:36.311901Z"
    }
   },
   "outputs": [
    {
     "data": {
      "text/plain": [
       "array([[-0.90211993, -0.47016144, -0.17726122, -0.30466422, -0.68456763,\n",
       "        -0.66279465, -0.75848985, -0.4189235 ,  0.4741018 ,  0.11930168,\n",
       "        -0.6008562 , -0.32619336, -0.13908496, -0.07078983,  0.51887524,\n",
       "         0.4504041 , -0.4913362 , -0.17396894,  0.7200754 , -0.1670662 ,\n",
       "         0.6095417 , -0.5962195 ,  0.76228684,  0.32231095, -0.43162182,\n",
       "        -0.11697823,  0.47828123, -0.16119987,  0.20694692,  0.36984184,\n",
       "         0.5412948 , -0.01078044,  1.0088174 ,  1.0241014 ],\n",
       "       [-0.7258076 , -0.94228405, -0.2669598 , -0.64308065, -0.4178974 ,\n",
       "        -0.16911419, -0.14720602, -0.5920535 , -0.02316272, -0.01594575,\n",
       "        -0.28591734, -0.11244863, -0.3532218 , -0.30843404,  0.22713237,\n",
       "         0.23004688,  0.07003922, -0.7157927 , -0.09985785, -0.54111034,\n",
       "         0.08710491, -0.42548212,  0.01176682,  0.79598826,  1.1661106 ,\n",
       "         0.88626355,  0.29341528,  0.8397771 ,  0.47260788,  0.5385268 ,\n",
       "        -0.31977478,  0.7969642 ,  0.21849564,  0.4202725 ],\n",
       "       [-0.3008863 ,  0.0501124 ,  0.49327722,  0.20534872, -0.4549349 ,\n",
       "        -0.51013047, -0.6511141 ,  0.18032867,  0.06694864,  0.50225586,\n",
       "        -0.26181945, -0.11441722,  0.07646263,  0.01211163, -0.14746097,\n",
       "         0.01416065, -0.66678774, -0.28323805,  0.0196491 , -0.13958089,\n",
       "         0.08939195,  0.21786584, -0.0625071 ,  0.43379843, -0.40803957,\n",
       "        -0.07819766,  0.10247685,  0.05465508,  0.3550026 ,  0.55689275,\n",
       "         0.10452688,  0.00412667,  0.23430783,  0.37213406]],\n",
       "      dtype=float32)"
      ]
     },
     "execution_count": 25,
     "metadata": {},
     "output_type": "execute_result"
    }
   ],
   "source": [
    "Z"
   ]
  },
  {
   "cell_type": "code",
   "execution_count": 26,
   "id": "87dbc09e",
   "metadata": {
    "ExecuteTime": {
     "end_time": "2023-09-05T17:03:38.397943Z",
     "start_time": "2023-09-05T17:03:38.384941Z"
    }
   },
   "outputs": [
    {
     "data": {
      "text/plain": [
       "(3, 34)"
      ]
     },
     "execution_count": 26,
     "metadata": {},
     "output_type": "execute_result"
    }
   ],
   "source": [
    "Z.shape"
   ]
  },
  {
   "cell_type": "code",
   "execution_count": 27,
   "id": "0663e69e",
   "metadata": {
    "ExecuteTime": {
     "end_time": "2023-09-05T17:03:39.356682Z",
     "start_time": "2023-09-05T17:03:39.311531Z"
    }
   },
   "outputs": [],
   "source": [
    "# Compute the similarity matrix\n",
    "S = model.compute_similarity_matrix()"
   ]
  },
  {
   "cell_type": "code",
   "execution_count": 28,
   "id": "abb812fe",
   "metadata": {
    "ExecuteTime": {
     "end_time": "2023-09-05T17:03:41.428113Z",
     "start_time": "2023-09-05T17:03:41.416080Z"
    }
   },
   "outputs": [
    {
     "data": {
      "text/plain": [
       "(34, 34)"
      ]
     },
     "execution_count": 28,
     "metadata": {},
     "output_type": "execute_result"
    }
   ],
   "source": [
    "S.shape"
   ]
  },
  {
   "cell_type": "code",
   "execution_count": 29,
   "id": "d34b8779",
   "metadata": {
    "ExecuteTime": {
     "end_time": "2023-09-05T17:03:46.868243Z",
     "start_time": "2023-09-05T17:03:46.859083Z"
    }
   },
   "outputs": [
    {
     "data": {
      "text/plain": [
       "array([[1.        , 0.33333333, 0.        , ..., 0.        , 0.        ,\n",
       "        0.        ],\n",
       "       [0.33333333, 1.        , 0.33333333, ..., 0.        , 0.        ,\n",
       "        0.        ],\n",
       "       [0.        , 0.33333333, 1.        , ..., 0.        , 0.        ,\n",
       "        0.66666667],\n",
       "       ...,\n",
       "       [0.        , 0.        , 0.        , ..., 1.        , 0.        ,\n",
       "        0.33333333],\n",
       "       [0.        , 0.        , 0.        , ..., 0.        , 1.        ,\n",
       "        0.33333333],\n",
       "       [0.        , 0.        , 0.66666667, ..., 0.33333333, 0.33333333,\n",
       "        1.        ]])"
      ]
     },
     "execution_count": 29,
     "metadata": {},
     "output_type": "execute_result"
    }
   ],
   "source": [
    "S"
   ]
  },
  {
   "cell_type": "code",
   "execution_count": 32,
   "id": "3e410d36",
   "metadata": {
    "ExecuteTime": {
     "end_time": "2023-09-05T17:04:23.871442Z",
     "start_time": "2023-09-05T17:04:23.861288Z"
    }
   },
   "outputs": [],
   "source": [
    "# \n",
    "# Calculate the objective function\n",
    "obj_value = objective_function(Z, S)\n"
   ]
  },
  {
   "cell_type": "code",
   "execution_count": 33,
   "id": "d35cc231",
   "metadata": {
    "ExecuteTime": {
     "end_time": "2023-09-05T17:04:25.004811Z",
     "start_time": "2023-09-05T17:04:24.992813Z"
    }
   },
   "outputs": [
    {
     "name": "stdout",
     "output_type": "stream",
     "text": [
      "Objective Function Value: 193.78671621132764\n"
     ]
    }
   ],
   "source": [
    "print(\"Objective Function Value:\", obj_value)"
   ]
  },
  {
   "cell_type": "code",
   "execution_count": 47,
   "id": "9a606a77",
   "metadata": {
    "ExecuteTime": {
     "end_time": "2023-09-05T16:29:13.166405Z",
     "start_time": "2023-09-05T16:29:13.161426Z"
    }
   },
   "outputs": [],
   "source": [
    "initial_hyperparameters = {\n",
    "    'dimensions': 2.0,\n",
    "    'walk_length': 20.0,\n",
    "    'num_walks': 20.0,\n",
    "    'p': 0.5,\n",
    "    'q': 0.5,\n",
    "    'learning_rate': 0.1,\n",
    "    'window_size': 5.0,\n",
    "    'epochs': 20.0,\n",
    "    'negative_samples': 10.0\n",
    "}"
   ]
  },
  {
   "cell_type": "code",
   "execution_count": 48,
   "id": "a8196043",
   "metadata": {
    "ExecuteTime": {
     "end_time": "2023-09-05T16:29:17.725985Z",
     "start_time": "2023-09-05T16:29:17.714953Z"
    }
   },
   "outputs": [],
   "source": [
    "# Initial guess for hyperparameters\n",
    "initial_guess = list(initial_hyperparameters.values())"
   ]
  },
  {
   "cell_type": "code",
   "execution_count": 49,
   "id": "2a38e6c5",
   "metadata": {
    "ExecuteTime": {
     "end_time": "2023-09-05T16:29:18.627943Z",
     "start_time": "2023-09-05T16:29:18.608937Z"
    }
   },
   "outputs": [
    {
     "data": {
      "text/plain": [
       "[2.0, 20.0, 20.0, 0.5, 0.5, 0.1, 5.0, 20.0, 10.0]"
      ]
     },
     "execution_count": 49,
     "metadata": {},
     "output_type": "execute_result"
    }
   ],
   "source": [
    "initial_guess"
   ]
  },
  {
   "cell_type": "code",
   "execution_count": null,
   "id": "8458ea3b",
   "metadata": {
    "ExecuteTime": {
     "start_time": "2023-09-05T16:29:40.912Z"
    }
   },
   "outputs": [
    {
     "name": "stderr",
     "output_type": "stream",
     "text": [
      "Epoch 1/20: 100%|██████████████████████████████████████████████████████████████████████████████████████████████████████████| 20/20 [04:23<00:00, 13.17s/it]\n",
      "Epoch 2/20: 100%|██████████████████████████████████████████████████████████████████████████████████████████████████████████| 20/20 [04:38<00:00, 13.92s/it]\n",
      "Epoch 3/20: 100%|██████████████████████████████████████████████████████████████████████████████████████████████████████████| 20/20 [04:46<00:00, 14.33s/it]\n",
      "Epoch 4/20: 100%|██████████████████████████████████████████████████████████████████████████████████████████████████████████| 20/20 [04:45<00:00, 14.27s/it]\n",
      "Epoch 5/20: 100%|██████████████████████████████████████████████████████████████████████████████████████████████████████████| 20/20 [04:32<00:00, 13.60s/it]\n",
      "Epoch 6/20: 100%|██████████████████████████████████████████████████████████████████████████████████████████████████████████| 20/20 [04:42<00:00, 14.11s/it]\n",
      "Epoch 7/20:   0%|                                                                                                                   | 0/20 [00:00<?, ?it/s]"
     ]
    }
   ],
   "source": [
    "# Minimize the objective function to find optimal hyperparameters\n",
    "result = minimize(objective_function, initial_guess, method='Nelder-Mead', options={'disp': True})\n"
   ]
  },
  {
   "cell_type": "code",
   "execution_count": null,
   "id": "8c120eab",
   "metadata": {
    "ExecuteTime": {
     "start_time": "2023-09-05T16:42:33.833Z"
    }
   },
   "outputs": [],
   "source": [
    "# Extract the best hyperparameters\n",
    "best_hyperparameters = dict(zip(initial_hyperparameters.keys(), result.x))\n"
   ]
  },
  {
   "cell_type": "code",
   "execution_count": null,
   "id": "773480f5",
   "metadata": {
    "ExecuteTime": {
     "start_time": "2023-09-05T16:42:34.408Z"
    }
   },
   "outputs": [],
   "source": [
    "# Print the best hyperparameters and the corresponding objective function value\n",
    "print(\"Best Hyperparameters:\", best_hyperparameters)\n",
    "print(\"Objective Function Value:\", result.fun)"
   ]
  },
  {
   "cell_type": "code",
   "execution_count": null,
   "id": "9ad95cc9",
   "metadata": {},
   "outputs": [],
   "source": []
  }
 ],
 "metadata": {
  "kernelspec": {
   "display_name": "torch",
   "language": "python",
   "name": "torch"
  },
  "language_info": {
   "codemirror_mode": {
    "name": "ipython",
    "version": 3
   },
   "file_extension": ".py",
   "mimetype": "text/x-python",
   "name": "python",
   "nbconvert_exporter": "python",
   "pygments_lexer": "ipython3",
   "version": "3.9.16"
  },
  "toc": {
   "base_numbering": 1,
   "nav_menu": {},
   "number_sections": true,
   "sideBar": true,
   "skip_h1_title": false,
   "title_cell": "Table of Contents",
   "title_sidebar": "Contents",
   "toc_cell": false,
   "toc_position": {},
   "toc_section_display": true,
   "toc_window_display": false
  }
 },
 "nbformat": 4,
 "nbformat_minor": 5
}
