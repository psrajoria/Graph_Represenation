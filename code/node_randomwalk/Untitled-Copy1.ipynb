{
 "cells": [
  {
   "cell_type": "code",
   "execution_count": null,
   "id": "4f0d4000",
   "metadata": {
    "ExecuteTime": {
     "end_time": "2023-09-07T20:56:25.545135Z",
     "start_time": "2023-09-07T20:56:25.423748Z"
    }
   },
   "outputs": [],
   "source": [
    "%load_ext nb_black"
   ]
  },
  {
   "cell_type": "code",
   "execution_count": null,
   "id": "ff111e6c",
   "metadata": {
    "ExecuteTime": {
     "end_time": "2023-09-07T20:56:26.931069Z",
     "start_time": "2023-09-07T20:56:25.616727Z"
    }
   },
   "outputs": [],
   "source": [
    "import networkx as nx\n",
    "import random\n",
    "import numpy as np\n",
    "from typing import List\n",
    "from tqdm import tqdm\n",
    "from gensim.models.word2vec import Word2Vec\n",
    "\n",
    "import matplotlib.pyplot as plt\n",
    "from IPython.display import display\n",
    "from PIL import Image"
   ]
  },
  {
   "cell_type": "code",
   "execution_count": null,
   "id": "24a73c78",
   "metadata": {
    "ExecuteTime": {
     "end_time": "2023-09-07T13:22:06.590122Z",
     "start_time": "2023-09-07T13:22:06.563708Z"
    }
   },
   "outputs": [],
   "source": [
    "# computer transition probabilities\n",
    "\n",
    "\n",
    "def transition_probabilities(graph, probs, p, q):\n",
    "    G = graph\n",
    "    for source_node in G.nodes():\n",
    "        for current_node in G.neighbors(source_node):\n",
    "            probs_ = list()\n",
    "            for destination in G.neighbors(current_node):\n",
    "                if source_node == destination:\n",
    "                    prob_ = G[current_node][destination].get(\"wieght\", 1) * (1 / p)\n",
    "                elif destination in G.neighbors(source_node):\n",
    "                    prob_ = G[current_node][destination].get(\"weight\", 1)\n",
    "                else:\n",
    "                    prob_ = G[current_node][destination].get(\"weight\", 1) * (1 / q)\n",
    "\n",
    "                probs_.append(prob_)\n",
    "            probs[source_node][\"probabilities\"][current_node] = probs_ / np.sum(probs_)\n",
    "\n",
    "    return probs"
   ]
  },
  {
   "cell_type": "code",
   "execution_count": null,
   "id": "c3c5e6da",
   "metadata": {
    "ExecuteTime": {
     "end_time": "2023-09-07T13:22:06.617037Z",
     "start_time": "2023-09-07T13:22:06.590122Z"
    }
   },
   "outputs": [],
   "source": [
    "## Baised random walk\n",
    "\n",
    "\n",
    "def random_walks(graph, probs, num_walks, walk_len):\n",
    "    G = graph\n",
    "    walks = list()\n",
    "    for start_node in G.nodes():\n",
    "        for i in range(num_walks):\n",
    "            walk = [start_node]\n",
    "            walk_options = list(G[start_node])\n",
    "            if len(walk_options) == 0:\n",
    "                break\n",
    "            first_step = np.random.choice(walk_options)\n",
    "            walk.append(first_step)\n",
    "            for k in range(walk_len - 2):\n",
    "                walk_options = list(G[walk[-1]])\n",
    "                if len(walk_options) == 0:\n",
    "                    break\n",
    "                probabilities = probs[walk[-2]][\"probabilities\"][walk[-1]]\n",
    "                next_step = np.random.choice(walk_options, p=probabilities)\n",
    "                walk.append(next_step)\n",
    "            walks.append(walk)\n",
    "    np.random.shuffle(walks)\n",
    "    walks = [list(map(str, walk)) for walk in walks]\n",
    "    return walks"
   ]
  },
  {
   "cell_type": "code",
   "execution_count": null,
   "id": "37f2f27f",
   "metadata": {
    "ExecuteTime": {
     "end_time": "2023-09-07T13:22:06.626502Z",
     "start_time": "2023-09-07T13:22:06.617037Z"
    }
   },
   "outputs": [],
   "source": [
    "def training(walks, window_size, dim):\n",
    "    model = Word2Vec(sentences=walks, window=window_size, vector_size=dim)\n",
    "\n",
    "    return model.wv"
   ]
  },
  {
   "cell_type": "code",
   "execution_count": null,
   "id": "19c8a954",
   "metadata": {
    "ExecuteTime": {
     "end_time": "2023-09-07T17:35:58.659923Z",
     "start_time": "2023-09-07T17:35:58.469138Z"
    }
   },
   "outputs": [],
   "source": [
    "import numpy as np\n",
    "from gensim.models import Word2Vec\n",
    "import networkx as nx\n",
    "\n",
    "\n",
    "class GraphEmbedding:\n",
    "    \"\"\"\n",
    "    A class for computing node embeddings from a graph using random walks and Word2Vec.\n",
    "\n",
    "    Args:\n",
    "        graph (networkx.Graph): The input graph.\n",
    "        p (float): Return parameter p for the node2vec algorithm.\n",
    "        q (float): In-out parameter q for the node2vec algorithm.\n",
    "        num_walks (int): Number of random walks to perform per node.\n",
    "        walk_len (int): Length of each random walk.\n",
    "        window_size (int): The window size for the Word2Vec model.\n",
    "        dim (int): The dimensionality of the node embeddings.\n",
    "        negative (int): Number of negative samples to use for negative sampling.\n",
    "\n",
    "    Attributes:\n",
    "        graph (networkx.Graph): The input graph.\n",
    "        p (float): Return parameter p for the node2vec algorithm.\n",
    "        q (float): In-out parameter q for the node2vec algorithm.\n",
    "        num_walks (int): Number of random walks to perform per node.\n",
    "        walk_len (int): Length of each random walk.\n",
    "        window_size (int): The window size for the Word2Vec model.\n",
    "        dim (int): The dimensionality of the node embeddings.\n",
    "        negative (int): Number of negative samples to use for negative sampling.\n",
    "        probs (dict): Store transition probabilities.\n",
    "    \"\"\"\n",
    "\n",
    "    def __init__(self, graph, p, q, num_walks, walk_len, window_size, dim, negative):\n",
    "        self.graph = graph\n",
    "        self.p = p\n",
    "        self.q = q\n",
    "        self.num_walks = num_walks\n",
    "        self.walk_len = walk_len\n",
    "        self.window_size = window_size\n",
    "        self.dim = dim\n",
    "        self.negative = negative\n",
    "        self.probs = None  # Store transition probabilities\n",
    "\n",
    "    def transition_probabilities(self):\n",
    "        \"\"\"\n",
    "        Compute transition probabilities for random walks on the graph.\n",
    "\n",
    "        Returns:\n",
    "            dict: A dictionary containing the transition probabilities for each node.\n",
    "        \"\"\"\n",
    "        G = self.graph\n",
    "        probs = {}\n",
    "\n",
    "        for source_node in G.nodes():\n",
    "            probs[source_node] = {\"probabilities\": {}}\n",
    "            for current_node in G.neighbors(source_node):\n",
    "                probs_ = list()\n",
    "                for destination in G.neighbors(current_node):\n",
    "                    if source_node == destination:\n",
    "                        prob_ = G[current_node][destination].get(\"weight\", 1) * (\n",
    "                            1 / self.p\n",
    "                        )\n",
    "                    elif destination in G.neighbors(source_node):\n",
    "                        prob_ = G[current_node][destination].get(\"weight\", 1)\n",
    "                    else:\n",
    "                        prob_ = G[current_node][destination].get(\"weight\", 1) * (\n",
    "                            1 / self.q\n",
    "                        )\n",
    "\n",
    "                    probs_.append(prob_)\n",
    "                probs[source_node][\"probabilities\"][current_node] = probs_ / np.sum(\n",
    "                    probs_\n",
    "                )\n",
    "\n",
    "        self.probs = probs  # Store transition probabilities\n",
    "        return probs\n",
    "    \n",
    "\n",
    "    def random_walks(self):\n",
    "        \"\"\"\n",
    "        Generate random walks on the graph.\n",
    "\n",
    "        Returns:\n",
    "            list: A list of random walks as sequences of node IDs.\n",
    "        \"\"\"\n",
    "        G = self.graph\n",
    "        walks = list()\n",
    "        num_nodes = len(G.nodes())\n",
    "        S = np.zeros((num_nodes, num_nodes))  # Initialize the similarity matrix\n",
    "\n",
    "\n",
    "        for start_node in G.nodes():\n",
    "            for i in range(self.num_walks):\n",
    "                walk = [start_node]\n",
    "                walk_options = list(G[start_node])\n",
    "\n",
    "                if len(walk_options) == 0:\n",
    "                    break\n",
    "\n",
    "                first_step = np.random.choice(walk_options)\n",
    "                walk.append(first_step)\n",
    "\n",
    "                for k in range(self.walk_len - 2):\n",
    "                    walk_options = list(G[walk[-1]])\n",
    "\n",
    "                    if len(walk_options) == 0:\n",
    "                        break\n",
    "\n",
    "                    probabilities = self.probs[walk[-2]][\"probabilities\"][walk[-1]]\n",
    "                    next_step = np.random.choice(walk_options, p=probabilities)\n",
    "                    walk.append(next_step)\n",
    "\n",
    "                walks.append(walk)\n",
    "                # Update the similarity matrix\n",
    "                for node_j in G.nodes():\n",
    "                    if node_j == start_node:\n",
    "                        S[start_node][node_j] = 1.000  # Probability of visiting itself is 1\n",
    "                    elif node_j not in walk:\n",
    "                        S[start_node][node_j] = 0.000  # Probability of not visiting is 0\n",
    "                    else:\n",
    "                        # Calculate the probability of visiting node_j during the walk\n",
    "                        prob_ij = walk.count(node_j) / (self.walk_len - 1)\n",
    "                        S[start_node][node_j] += prob_ij\n",
    "        np.random.shuffle(walks)\n",
    "        walks = [list(map(str, walk)) for walk in walks]\n",
    "\n",
    "        return walks, S\n",
    "\n",
    "\n",
    "    def train_embedding(self, walks, dim=None, window_size=None, negative=None):\n",
    "        \"\"\"\n",
    "        Train node embeddings using Word2Vec.\n",
    "\n",
    "        Args:\n",
    "            walks (list): List of random walks.\n",
    "            dim (int, optional): The dimensionality of the node embeddings. If None, use the class's dim.\n",
    "            window_size (int, optional): The window size for the Word2Vec model. If None, use the class's window_size.\n",
    "            negative (int, optional): Number of negative samples to use for negative sampling.\n",
    "                If None, use the class's negative value.\n",
    "\n",
    "        Returns:\n",
    "            gensim.models.keyedvectors.KeyedVectors: Trained Word2Vec model.\n",
    "        \"\"\"\n",
    "        if dim is None:\n",
    "            dim = self.dim\n",
    "        if window_size is None:\n",
    "            window_size = self.window_size\n",
    "        if negative is None:\n",
    "            negative = self.negative\n",
    "\n",
    "        model = Word2Vec(\n",
    "            sentences=walks,\n",
    "            window=window_size,\n",
    "            vector_size=dim,\n",
    "            sg=1,\n",
    "            negative=negative,\n",
    "        )\n",
    "        return model.wv"
   ]
  },
  {
   "cell_type": "code",
   "execution_count": null,
   "id": "b0677406",
   "metadata": {
    "ExecuteTime": {
     "end_time": "2023-09-07T18:54:15.571951Z",
     "start_time": "2023-09-07T18:54:15.510956Z"
    }
   },
   "outputs": [],
   "source": [
    "# Define your objective function\n",
    "def loss_function(params):\n",
    "    (\n",
    "        dimensions,\n",
    "        walk_length,\n",
    "        num_walks,\n",
    "        p,\n",
    "        q,\n",
    "        learning_rate,\n",
    "        window_size,\n",
    "        epochs,\n",
    "        negative_samples,\n",
    "        batch_size,\n",
    "    ) = params\n",
    "\n",
    "    # Create and train the Node2Vec model\n",
    "    node2vec_model = Node2Vec(\n",
    "        G,\n",
    "        int(dimensions),\n",
    "        int(walk_length),\n",
    "        int(num_walks),\n",
    "        p,\n",
    "        q,\n",
    "        learning_rate,\n",
    "        int(window_size),\n",
    "        int(epochs),\n",
    "        int(negative_samples),\n",
    "    )\n",
    "    node2vec_model.train(int(batch_size))\n",
    "    S = node2vec_model.compute_similarity_matrix()\n",
    "\n",
    "    # Calculate the objective function value\n",
    "    embeddings = node2vec_model.get_embeddings()\n",
    "    Z_transpose = np.transpose(embeddings)\n",
    "    diff = np.dot(Z_transpose, embeddings) - S\n",
    "    #     loss_func = np.linalg.norm(diff) ** 2\n",
    "    loss_func = np.linalg.norm(diff)\n",
    "    return loss_func"
   ]
  },
  {
   "cell_type": "code",
   "execution_count": null,
   "id": "29aa0e3b",
   "metadata": {},
   "outputs": [],
   "source": []
  },
  {
   "cell_type": "code",
   "execution_count": null,
   "id": "564e37d3",
   "metadata": {
    "ExecuteTime": {
     "end_time": "2023-09-07T17:36:04.569114Z",
     "start_time": "2023-09-07T17:36:04.552553Z"
    }
   },
   "outputs": [],
   "source": [
    "G = nx.karate_club_graph()"
   ]
  },
  {
   "cell_type": "code",
   "execution_count": null,
   "id": "11170ba5",
   "metadata": {
    "ExecuteTime": {
     "end_time": "2023-09-07T17:36:05.003561Z",
     "start_time": "2023-09-07T17:36:04.971793Z"
    }
   },
   "outputs": [],
   "source": [
    "G"
   ]
  },
  {
   "cell_type": "code",
   "execution_count": null,
   "id": "9943a76b",
   "metadata": {
    "ExecuteTime": {
     "end_time": "2023-09-07T17:36:05.337082Z",
     "start_time": "2023-09-07T17:36:05.326740Z"
    }
   },
   "outputs": [],
   "source": [
    "# from collections import defaultdict\n",
    "\n",
    "# probs = defaultdict(dict)\n"
   ]
  },
  {
   "cell_type": "code",
   "execution_count": null,
   "id": "b47f9386",
   "metadata": {
    "ExecuteTime": {
     "end_time": "2023-09-07T17:36:05.604491Z",
     "start_time": "2023-09-07T17:36:05.593943Z"
    }
   },
   "outputs": [],
   "source": [
    "# for node in G.nodes():\n",
    "#     #     print(node)\n",
    "#     probs[node][\"probabilities\"] = dict()"
   ]
  },
  {
   "cell_type": "code",
   "execution_count": null,
   "id": "f24fdc17",
   "metadata": {
    "ExecuteTime": {
     "end_time": "2023-09-07T17:58:48.354240Z",
     "start_time": "2023-09-07T17:58:48.332273Z"
    }
   },
   "outputs": [],
   "source": [
    "embedding = GraphEmbedding(\n",
    "    G, p=3.5, q=1.5, num_walks=10, walk_len=10, window_size=5, dim=8, negative=6\n",
    ")"
   ]
  },
  {
   "cell_type": "code",
   "execution_count": null,
   "id": "d548ba80",
   "metadata": {
    "ExecuteTime": {
     "end_time": "2023-09-07T17:58:48.892148Z",
     "start_time": "2023-09-07T17:58:48.861384Z"
    }
   },
   "outputs": [],
   "source": [
    "# Compute transition probabilities\n",
    "probs = embedding.transition_probabilities()"
   ]
  },
  {
   "cell_type": "code",
   "execution_count": null,
   "id": "b132b7c0",
   "metadata": {
    "ExecuteTime": {
     "end_time": "2023-09-07T17:58:49.617971Z",
     "start_time": "2023-09-07T17:58:49.586006Z"
    }
   },
   "outputs": [],
   "source": [
    "probs"
   ]
  },
  {
   "cell_type": "code",
   "execution_count": null,
   "id": "9c38fdb3",
   "metadata": {
    "ExecuteTime": {
     "end_time": "2023-09-07T17:58:50.235171Z",
     "start_time": "2023-09-07T17:58:50.121229Z"
    }
   },
   "outputs": [],
   "source": [
    "# Generate random walks\n",
    "walks, S = embedding.random_walks()"
   ]
  },
  {
   "cell_type": "code",
   "execution_count": null,
   "id": "73f1bed4",
   "metadata": {
    "ExecuteTime": {
     "end_time": "2023-09-07T17:58:51.202162Z",
     "start_time": "2023-09-07T17:58:51.127018Z"
    }
   },
   "outputs": [],
   "source": [
    "walks"
   ]
  },
  {
   "cell_type": "code",
   "execution_count": null,
   "id": "ae140d52",
   "metadata": {
    "ExecuteTime": {
     "end_time": "2023-09-07T17:47:15.349898Z",
     "start_time": "2023-09-07T17:47:15.342899Z"
    }
   },
   "outputs": [],
   "source": [
    "S[0]"
   ]
  },
  {
   "cell_type": "code",
   "execution_count": null,
   "id": "f6edbddc",
   "metadata": {
    "ExecuteTime": {
     "end_time": "2023-09-07T17:47:16.078621Z",
     "start_time": "2023-09-07T17:47:16.071604Z"
    }
   },
   "outputs": [],
   "source": [
    "S[1]"
   ]
  },
  {
   "cell_type": "code",
   "execution_count": null,
   "id": "ae6be09a",
   "metadata": {
    "ExecuteTime": {
     "end_time": "2023-09-07T17:47:19.875553Z",
     "start_time": "2023-09-07T17:47:19.857210Z"
    }
   },
   "outputs": [],
   "source": [
    "S[33]"
   ]
  },
  {
   "cell_type": "code",
   "execution_count": null,
   "id": "724ca9ca",
   "metadata": {
    "ExecuteTime": {
     "end_time": "2023-09-07T17:47:23.129324Z",
     "start_time": "2023-09-07T17:47:23.108670Z"
    }
   },
   "outputs": [],
   "source": [
    "len(walks)"
   ]
  },
  {
   "cell_type": "code",
   "execution_count": null,
   "id": "060d2e43",
   "metadata": {
    "ExecuteTime": {
     "end_time": "2023-09-07T17:52:28.930976Z",
     "start_time": "2023-09-07T17:52:28.909283Z"
    }
   },
   "outputs": [],
   "source": [
    "def loss_function(Z, S):\n",
    "    \"\"\"\n",
    "    Calculate the objective function ||Z^T*Z - S||^2.\n",
    "\n",
    "    Args:\n",
    "        Z (numpy.ndarray): The node embeddings as a numpy array.\n",
    "        S (numpy.ndarray): The similarity matrix.\n",
    "\n",
    "    Returns:\n",
    "        float: The value of the objective function.\n",
    "    \"\"\"\n",
    "    Z_transpose = np.transpose(Z)\n",
    "    diff = np.dot(Z_transpose, Z) - S\n",
    "    #     obj_func = np.linalg.norm(diff) ** 2\n",
    "    obj_func = np.linalg.norm(diff)\n",
    "    return obj_func"
   ]
  },
  {
   "cell_type": "code",
   "execution_count": null,
   "id": "0a3f8064",
   "metadata": {
    "ExecuteTime": {
     "end_time": "2023-09-07T17:52:29.236292Z",
     "start_time": "2023-09-07T17:52:29.221062Z"
    }
   },
   "outputs": [],
   "source": [
    "los = loss_function(all_emb, S)"
   ]
  },
  {
   "cell_type": "code",
   "execution_count": null,
   "id": "2c1f0211",
   "metadata": {
    "ExecuteTime": {
     "end_time": "2023-09-07T17:52:29.562755Z",
     "start_time": "2023-09-07T17:52:29.547272Z"
    }
   },
   "outputs": [],
   "source": [
    "los"
   ]
  },
  {
   "cell_type": "code",
   "execution_count": null,
   "id": "a34d9b23",
   "metadata": {
    "ExecuteTime": {
     "end_time": "2023-09-07T17:44:37.905668Z",
     "start_time": "2023-09-07T17:44:37.896676Z"
    }
   },
   "outputs": [],
   "source": [
    "Z_transpose = np.transpose(all_emb)"
   ]
  },
  {
   "cell_type": "code",
   "execution_count": null,
   "id": "faf64349",
   "metadata": {
    "ExecuteTime": {
     "end_time": "2023-09-07T17:46:22.060363Z",
     "start_time": "2023-09-07T17:46:22.030972Z"
    }
   },
   "outputs": [],
   "source": [
    "all_emb"
   ]
  },
  {
   "cell_type": "code",
   "execution_count": null,
   "id": "c6eb999d",
   "metadata": {
    "ExecuteTime": {
     "end_time": "2023-09-07T17:47:35.278601Z",
     "start_time": "2023-09-07T17:47:35.271596Z"
    }
   },
   "outputs": [],
   "source": [
    "all_emb.shape"
   ]
  },
  {
   "cell_type": "code",
   "execution_count": null,
   "id": "7798fd3e",
   "metadata": {
    "ExecuteTime": {
     "end_time": "2023-09-07T17:43:36.511156Z",
     "start_time": "2023-09-07T17:43:36.496158Z"
    }
   },
   "outputs": [],
   "source": [
    "S.shape"
   ]
  },
  {
   "cell_type": "code",
   "execution_count": null,
   "id": "5ff16de6",
   "metadata": {
    "ExecuteTime": {
     "end_time": "2023-09-07T17:47:28.436464Z",
     "start_time": "2023-09-07T17:47:28.399492Z"
    }
   },
   "outputs": [],
   "source": [
    "# Train node embeddings using Word2Vec with custom dimensions, window size, and negative sampling\n",
    "node_embeddings = embedding.train_embedding(walks, dim=20, window_size=5, negative=6)"
   ]
  },
  {
   "cell_type": "code",
   "execution_count": null,
   "id": "d085061c",
   "metadata": {
    "ExecuteTime": {
     "end_time": "2023-09-07T17:42:40.099177Z",
     "start_time": "2023-09-07T17:42:40.078211Z"
    }
   },
   "outputs": [],
   "source": [
    "node_embeddings."
   ]
  },
  {
   "cell_type": "code",
   "execution_count": null,
   "id": "217de987",
   "metadata": {
    "ExecuteTime": {
     "end_time": "2023-09-07T17:47:31.629194Z",
     "start_time": "2023-09-07T17:47:31.616161Z"
    }
   },
   "outputs": [],
   "source": [
    "all_emb = node_embeddings.vectors.T"
   ]
  },
  {
   "cell_type": "code",
   "execution_count": null,
   "id": "1d9bf121",
   "metadata": {
    "ExecuteTime": {
     "end_time": "2023-09-07T17:36:38.966165Z",
     "start_time": "2023-09-07T17:36:38.943273Z"
    }
   },
   "outputs": [],
   "source": [
    "# Get the number of nodes in the graph\n",
    "num_nodes = len(G.nodes())"
   ]
  },
  {
   "cell_type": "code",
   "execution_count": null,
   "id": "161bf2b6",
   "metadata": {
    "ExecuteTime": {
     "end_time": "2023-09-07T16:49:33.128156Z",
     "start_time": "2023-09-07T16:49:33.114477Z"
    }
   },
   "outputs": [],
   "source": [
    "similarity_matrix[0]"
   ]
  },
  {
   "cell_type": "code",
   "execution_count": null,
   "id": "1fbd717a",
   "metadata": {
    "ExecuteTime": {
     "end_time": "2023-09-07T14:51:33.993040Z",
     "start_time": "2023-09-07T14:51:33.904066Z"
    }
   },
   "outputs": [],
   "source": [
    "walks"
   ]
  },
  {
   "cell_type": "code",
   "execution_count": null,
   "id": "d9f0aaf2",
   "metadata": {
    "ExecuteTime": {
     "end_time": "2023-09-07T13:22:17.648375Z",
     "start_time": "2023-09-07T13:22:17.636340Z"
    }
   },
   "outputs": [],
   "source": [
    "cp = transition_probabilities(G, probs, 1, 0.5)"
   ]
  },
  {
   "cell_type": "code",
   "execution_count": null,
   "id": "eb43c2f9",
   "metadata": {
    "ExecuteTime": {
     "end_time": "2023-09-07T13:22:18.655038Z",
     "start_time": "2023-09-07T13:22:18.640832Z"
    }
   },
   "outputs": [],
   "source": [
    "G.neighbors"
   ]
  },
  {
   "cell_type": "code",
   "execution_count": null,
   "id": "13d289f5",
   "metadata": {
    "ExecuteTime": {
     "end_time": "2023-09-07T13:22:19.095040Z",
     "start_time": "2023-09-07T13:22:19.057135Z"
    }
   },
   "outputs": [],
   "source": [
    "cp"
   ]
  },
  {
   "cell_type": "code",
   "execution_count": null,
   "id": "40920566",
   "metadata": {
    "ExecuteTime": {
     "end_time": "2023-09-07T13:22:24.360980Z",
     "start_time": "2023-09-07T13:22:24.167724Z"
    }
   },
   "outputs": [],
   "source": [
    "walks = random_walks(G, cp, 10, 20)\n",
    "\n",
    "\n",
    "# model = Node2Vec(\n",
    "#     walk_length=20, dimensions=20, p=1.0, q=0.5, window_size=20, walk_number=10\n",
    "# )"
   ]
  },
  {
   "cell_type": "code",
   "execution_count": null,
   "id": "590219d3",
   "metadata": {
    "ExecuteTime": {
     "end_time": "2023-09-07T13:22:25.782584Z",
     "start_time": "2023-09-07T13:22:25.766672Z"
    }
   },
   "outputs": [],
   "source": [
    "len(walks)"
   ]
  },
  {
   "cell_type": "code",
   "execution_count": null,
   "id": "40606f5b",
   "metadata": {
    "ExecuteTime": {
     "end_time": "2023-09-07T13:22:26.908587Z",
     "start_time": "2023-09-07T13:22:26.822068Z"
    }
   },
   "outputs": [],
   "source": [
    "walks"
   ]
  },
  {
   "cell_type": "code",
   "execution_count": null,
   "id": "5c4dd6ed",
   "metadata": {
    "ExecuteTime": {
     "end_time": "2023-09-07T13:22:35.500677Z",
     "start_time": "2023-09-07T13:22:35.472315Z"
    }
   },
   "outputs": [],
   "source": [
    "emb = training(walks, 20, 20)"
   ]
  },
  {
   "cell_type": "code",
   "execution_count": null,
   "id": "35e28127",
   "metadata": {
    "ExecuteTime": {
     "end_time": "2023-09-07T13:22:36.499188Z",
     "start_time": "2023-09-07T13:22:36.490876Z"
    }
   },
   "outputs": [],
   "source": [
    "myyemb = emb.vectors"
   ]
  },
  {
   "cell_type": "code",
   "execution_count": null,
   "id": "0afe34b4",
   "metadata": {
    "ExecuteTime": {
     "end_time": "2023-09-07T13:22:38.062813Z",
     "start_time": "2023-09-07T13:22:38.054812Z"
    }
   },
   "outputs": [],
   "source": [
    "emb.vectors.shape"
   ]
  },
  {
   "cell_type": "markdown",
   "id": "7c7e75c3",
   "metadata": {},
   "source": [
    "## classification "
   ]
  },
  {
   "cell_type": "code",
   "execution_count": null,
   "id": "1ac1265a",
   "metadata": {
    "ExecuteTime": {
     "end_time": "2023-09-07T12:51:04.353132Z",
     "start_time": "2023-09-07T12:51:04.343618Z"
    }
   },
   "outputs": [],
   "source": [
    "import numpy as np\n",
    "import pandas as pd\n",
    "import networkx as nx\n",
    "import torch_geometric\n",
    "import torch"
   ]
  },
  {
   "cell_type": "code",
   "execution_count": null,
   "id": "f7dfc396",
   "metadata": {
    "ExecuteTime": {
     "end_time": "2023-09-07T13:05:55.884643Z",
     "start_time": "2023-09-07T13:05:55.865681Z"
    }
   },
   "outputs": [],
   "source": [
    "from karateclub import Node2Vec"
   ]
  },
  {
   "cell_type": "code",
   "execution_count": null,
   "id": "623c96c0",
   "metadata": {
    "ExecuteTime": {
     "end_time": "2023-09-07T13:06:05.744294Z",
     "start_time": "2023-09-07T13:06:05.723296Z"
    }
   },
   "outputs": [],
   "source": [
    "model = Node2Vec(\n",
    "    walk_length=20, dimensions=20, p=1.0, q=0.5, window_size=20, walk_number=10\n",
    ")"
   ]
  },
  {
   "cell_type": "code",
   "execution_count": null,
   "id": "9e3b79f9",
   "metadata": {
    "ExecuteTime": {
     "end_time": "2023-09-07T13:06:23.473611Z",
     "start_time": "2023-09-07T13:06:22.449201Z"
    }
   },
   "outputs": [],
   "source": [
    "model.fit(G)"
   ]
  },
  {
   "cell_type": "code",
   "execution_count": null,
   "id": "c135bb84",
   "metadata": {
    "ExecuteTime": {
     "end_time": "2023-09-07T13:06:41.070211Z",
     "start_time": "2023-09-07T13:06:41.051181Z"
    }
   },
   "outputs": [],
   "source": [
    "embed = model.get_embedding()"
   ]
  },
  {
   "cell_type": "code",
   "execution_count": null,
   "id": "3847ab2f",
   "metadata": {
    "ExecuteTime": {
     "end_time": "2023-09-07T13:06:47.462294Z",
     "start_time": "2023-09-07T13:06:47.447295Z"
    }
   },
   "outputs": [],
   "source": [
    "embed"
   ]
  },
  {
   "cell_type": "code",
   "execution_count": null,
   "id": "756c21e9",
   "metadata": {
    "ExecuteTime": {
     "end_time": "2023-09-07T13:07:02.885072Z",
     "start_time": "2023-09-07T13:07:02.871967Z"
    }
   },
   "outputs": [],
   "source": [
    "embed.shape"
   ]
  },
  {
   "cell_type": "code",
   "execution_count": null,
   "id": "a6182100",
   "metadata": {
    "ExecuteTime": {
     "end_time": "2023-09-07T13:22:47.115859Z",
     "start_time": "2023-09-07T13:22:47.100586Z"
    }
   },
   "outputs": [],
   "source": [
    "club_labels = nx.get_node_attributes(G, \"club\")"
   ]
  },
  {
   "cell_type": "code",
   "execution_count": null,
   "id": "832e4875",
   "metadata": {
    "ExecuteTime": {
     "end_time": "2023-09-07T13:22:47.410971Z",
     "start_time": "2023-09-07T13:22:47.399972Z"
    }
   },
   "outputs": [],
   "source": [
    "club_labels"
   ]
  },
  {
   "cell_type": "code",
   "execution_count": null,
   "id": "5f5851f6",
   "metadata": {
    "ExecuteTime": {
     "end_time": "2023-09-07T13:22:48.031779Z",
     "start_time": "2023-09-07T13:22:48.019748Z"
    }
   },
   "outputs": [],
   "source": [
    "y = np.array(list(club_labels.values()))"
   ]
  },
  {
   "cell_type": "code",
   "execution_count": null,
   "id": "f4553ce9",
   "metadata": {
    "ExecuteTime": {
     "end_time": "2023-09-07T13:22:49.258850Z",
     "start_time": "2023-09-07T13:22:49.245629Z"
    }
   },
   "outputs": [],
   "source": [
    "y"
   ]
  },
  {
   "cell_type": "code",
   "execution_count": null,
   "id": "274aea6b",
   "metadata": {
    "ExecuteTime": {
     "end_time": "2023-09-07T13:20:04.739500Z",
     "start_time": "2023-09-07T13:20:04.733026Z"
    }
   },
   "outputs": [],
   "source": [
    "y.shape"
   ]
  },
  {
   "cell_type": "code",
   "execution_count": null,
   "id": "67bf35fe",
   "metadata": {
    "ExecuteTime": {
     "end_time": "2023-09-07T13:22:43.717155Z",
     "start_time": "2023-09-07T13:22:43.432661Z"
    }
   },
   "outputs": [],
   "source": [
    "import sklearn\n",
    "from sklearn.linear_model import LogisticRegression\n",
    "from sklearn.model_selection import train_test_split\n",
    "from sklearn.metrics import (\n",
    "    classification_report,\n",
    "    confusion_matrix,\n",
    "    accuracy_score,\n",
    "    f1_score,\n",
    ")"
   ]
  },
  {
   "cell_type": "code",
   "execution_count": null,
   "id": "76145d30",
   "metadata": {
    "ExecuteTime": {
     "end_time": "2023-09-07T13:11:48.983914Z",
     "start_time": "2023-09-07T13:11:48.962914Z"
    }
   },
   "outputs": [],
   "source": [
    "X_train, X_test, y_train, y_test = train_test_split(\n",
    "    embed, y, test_size=0.2, random_state=42\n",
    ")"
   ]
  },
  {
   "cell_type": "code",
   "execution_count": null,
   "id": "b7f02007",
   "metadata": {
    "ExecuteTime": {
     "end_time": "2023-09-07T13:12:26.160813Z",
     "start_time": "2023-09-07T13:12:26.152815Z"
    }
   },
   "outputs": [],
   "source": [
    "X_train.shape"
   ]
  },
  {
   "cell_type": "code",
   "execution_count": null,
   "id": "9eee2d23",
   "metadata": {
    "ExecuteTime": {
     "end_time": "2023-09-07T13:12:00.128409Z",
     "start_time": "2023-09-07T13:12:00.119411Z"
    }
   },
   "outputs": [],
   "source": [
    "logreg = LogisticRegression()"
   ]
  },
  {
   "cell_type": "code",
   "execution_count": null,
   "id": "b8480b2f",
   "metadata": {
    "ExecuteTime": {
     "end_time": "2023-09-07T13:12:35.541845Z",
     "start_time": "2023-09-07T13:12:35.500646Z"
    }
   },
   "outputs": [],
   "source": [
    "logreg.fit(X_train, y_train)"
   ]
  },
  {
   "cell_type": "code",
   "execution_count": null,
   "id": "2223888f",
   "metadata": {
    "ExecuteTime": {
     "end_time": "2023-09-07T13:12:59.615057Z",
     "start_time": "2023-09-07T13:12:59.602057Z"
    }
   },
   "outputs": [],
   "source": [
    "y_pred = logreg.predict(X_test)"
   ]
  },
  {
   "cell_type": "code",
   "execution_count": null,
   "id": "6af13333",
   "metadata": {
    "ExecuteTime": {
     "end_time": "2023-09-07T13:13:02.670398Z",
     "start_time": "2023-09-07T13:13:02.663398Z"
    }
   },
   "outputs": [],
   "source": [
    "y_pred"
   ]
  },
  {
   "cell_type": "code",
   "execution_count": null,
   "id": "ece61074",
   "metadata": {
    "ExecuteTime": {
     "end_time": "2023-09-07T13:13:20.028265Z",
     "start_time": "2023-09-07T13:13:20.002266Z"
    }
   },
   "outputs": [],
   "source": [
    "print(classification_report(y_test, y_pred))"
   ]
  },
  {
   "cell_type": "code",
   "execution_count": null,
   "id": "321459a2",
   "metadata": {
    "ExecuteTime": {
     "end_time": "2023-09-07T13:22:54.317956Z",
     "start_time": "2023-09-07T13:22:54.301955Z"
    }
   },
   "outputs": [],
   "source": [
    "X_train_d, X_test_d, y_train_d, y_test_d = train_test_split(\n",
    "    myyemb, y, test_size=0.2, random_state=42\n",
    ")"
   ]
  },
  {
   "cell_type": "code",
   "execution_count": null,
   "id": "15ef7ff1",
   "metadata": {
    "ExecuteTime": {
     "end_time": "2023-09-07T13:22:55.123334Z",
     "start_time": "2023-09-07T13:22:55.109328Z"
    }
   },
   "outputs": [],
   "source": [
    "myyemb.shape"
   ]
  },
  {
   "cell_type": "code",
   "execution_count": null,
   "id": "e1446cf4",
   "metadata": {
    "ExecuteTime": {
     "end_time": "2023-09-07T13:22:57.807713Z",
     "start_time": "2023-09-07T13:22:57.797169Z"
    }
   },
   "outputs": [],
   "source": [
    "logreg_d = LogisticRegression()"
   ]
  },
  {
   "cell_type": "code",
   "execution_count": null,
   "id": "00509833",
   "metadata": {
    "ExecuteTime": {
     "end_time": "2023-09-07T13:22:58.569569Z",
     "start_time": "2023-09-07T13:22:58.550465Z"
    }
   },
   "outputs": [],
   "source": [
    "logreg_d.fit(X_train_d, y_train_d)"
   ]
  },
  {
   "cell_type": "code",
   "execution_count": null,
   "id": "b9ace391",
   "metadata": {
    "ExecuteTime": {
     "end_time": "2023-09-07T13:23:00.924222Z",
     "start_time": "2023-09-07T13:23:00.911833Z"
    }
   },
   "outputs": [],
   "source": [
    "y_pred_d = logreg_d.predict(X_test_d)"
   ]
  },
  {
   "cell_type": "code",
   "execution_count": null,
   "id": "0116532d",
   "metadata": {
    "ExecuteTime": {
     "end_time": "2023-09-07T13:23:01.700139Z",
     "start_time": "2023-09-07T13:23:01.684171Z"
    }
   },
   "outputs": [],
   "source": [
    "y_pred_d"
   ]
  },
  {
   "cell_type": "code",
   "execution_count": null,
   "id": "0324d738",
   "metadata": {
    "ExecuteTime": {
     "end_time": "2023-09-07T13:23:03.515183Z",
     "start_time": "2023-09-07T13:23:03.494124Z"
    }
   },
   "outputs": [],
   "source": [
    "print(classification_report(y_test_d, y_pred_d))"
   ]
  },
  {
   "cell_type": "code",
   "execution_count": null,
   "id": "8fd6e280",
   "metadata": {
    "ExecuteTime": {
     "end_time": "2023-09-07T22:27:08.309090Z",
     "start_time": "2023-09-07T22:27:04.026622Z"
    }
   },
   "outputs": [],
   "source": [
    "import os\n",
    "import collections\n",
    "import numpy as np\n",
    "import pandas as pd\n",
    "import matplotlib.pyplot as plt\n",
    "import seaborn as sns\n",
    "import scipy.sparse as sp\n",
    "import torch\n",
    "from torch import Tensor\n",
    "import random\n",
    "import torch_geometric\n",
    "from torch_geometric.utils import to_networkx\n",
    "from torch_geometric.datasets import Planetoid\n",
    "import networkx as nx\n",
    "from networkx.algorithms import community\n",
    "import numpy as np\n",
    "from gensim.models import Word2Vec\n",
    "import networkx as nx\n",
    "import random"
   ]
  },
  {
   "cell_type": "code",
   "execution_count": null,
   "id": "a69cc1fa",
   "metadata": {
    "ExecuteTime": {
     "end_time": "2023-09-07T22:27:08.322302Z",
     "start_time": "2023-09-07T22:27:08.309090Z"
    }
   },
   "outputs": [],
   "source": [
    "device = torch.device(\"cuda\" if torch.cuda.is_available() else \"cpu\")\n",
    "data_dir = \"Data/\"\n",
    "os.makedirs(data_dir, exist_ok=True)\n",
    "SEED = 42"
   ]
  },
  {
   "cell_type": "code",
   "execution_count": null,
   "id": "1fbbd9ef",
   "metadata": {
    "ExecuteTime": {
     "end_time": "2023-09-07T22:14:37.309940Z",
     "start_time": "2023-09-07T22:14:37.286344Z"
    }
   },
   "outputs": [],
   "source": [
    "dataset = Planetoid(root=data_dir, name=\"Cora\")\n",
    "data = dataset[0]"
   ]
  },
  {
   "cell_type": "code",
   "execution_count": null,
   "id": "e010c426",
   "metadata": {
    "ExecuteTime": {
     "end_time": "2023-09-07T22:14:37.542395Z",
     "start_time": "2023-09-07T22:14:37.312226Z"
    }
   },
   "outputs": [],
   "source": [
    "G = to_networkx(data, to_undirected=True)"
   ]
  },
  {
   "cell_type": "code",
   "execution_count": null,
   "id": "04ee3e9f",
   "metadata": {
    "ExecuteTime": {
     "end_time": "2023-09-08T09:02:18.704906Z",
     "start_time": "2023-09-08T09:02:14.989663Z"
    }
   },
   "outputs": [],
   "source": [
    "import networkx as nx\n",
    "import random\n",
    "import numpy as np\n",
    "from typing import List\n",
    "from tqdm import tqdm\n",
    "from gensim.models.word2vec import Word2Vec\n",
    "\n",
    "import matplotlib.pyplot as plt\n",
    "from IPython.display import display\n",
    "from PIL import Image"
   ]
  },
  {
   "cell_type": "code",
   "execution_count": null,
   "id": "59b6d08f",
   "metadata": {
    "ExecuteTime": {
     "end_time": "2023-09-08T09:02:23.027727Z",
     "start_time": "2023-09-08T09:02:18.704906Z"
    }
   },
   "outputs": [],
   "source": [
    "from node_random.randomwalk import GraphEmbedding"
   ]
  },
  {
   "cell_type": "code",
   "execution_count": null,
   "id": "77c5686e",
   "metadata": {
    "ExecuteTime": {
     "end_time": "2023-09-08T09:02:23.594676Z",
     "start_time": "2023-09-08T09:02:23.571145Z"
    }
   },
   "outputs": [],
   "source": [
    "G = nx.karate_club_graph()"
   ]
  },
  {
   "cell_type": "code",
   "execution_count": null,
   "id": "579a4992",
   "metadata": {
    "ExecuteTime": {
     "end_time": "2023-09-08T09:02:25.380370Z",
     "start_time": "2023-09-08T09:02:25.364360Z"
    }
   },
   "outputs": [],
   "source": [
    "# # graph, return_param, in_out_param, num_walks, walk_length, window_size, embedding_dimension, negative_samples\n",
    "\n",
    "# Best Hyperparameters: {'return_param': 0.780188065757644, 'in_out_param': 1.0504386209768906, \n",
    "# 'num_walks': 6, 'walk_length': 11, 'window_size': 7, 'dimension': 128, 'epochs': 100, 'negative': 5, 'batch_words': 100}\n",
    "# Best Loss: 62.610528542536336"
   ]
  },
  {
   "cell_type": "code",
   "execution_count": null,
   "id": "c9ef4bed",
   "metadata": {
    "ExecuteTime": {
     "end_time": "2023-09-08T09:02:26.112793Z",
     "start_time": "2023-09-08T09:02:26.104747Z"
    }
   },
   "outputs": [],
   "source": [
    "embedding = GraphEmbedding(\n",
    "    graph=G,\n",
    "    return_param=0.78,\n",
    "    in_out_param=1.05,\n",
    "    num_walks=10,\n",
    "    walk_length=5,\n",
    ")"
   ]
  },
  {
   "cell_type": "code",
   "execution_count": null,
   "id": "e2f17485",
   "metadata": {
    "ExecuteTime": {
     "end_time": "2023-09-08T09:02:27.646179Z",
     "start_time": "2023-09-08T09:02:27.613693Z"
    }
   },
   "outputs": [],
   "source": [
    "probab = embedding.calculate_transition_probabilities()"
   ]
  },
  {
   "cell_type": "code",
   "execution_count": null,
   "id": "2733da2d",
   "metadata": {
    "ExecuteTime": {
     "end_time": "2023-09-08T01:07:10.641842Z",
     "start_time": "2023-09-08T01:07:10.617797Z"
    }
   },
   "outputs": [],
   "source": [
    "len(probab)"
   ]
  },
  {
   "cell_type": "code",
   "execution_count": null,
   "id": "9cc8490b",
   "metadata": {
    "ExecuteTime": {
     "end_time": "2023-09-07T23:46:31.415083Z",
     "start_time": "2023-09-07T23:46:31.402084Z"
    }
   },
   "outputs": [],
   "source": [
    "# Determine the size of the square matrix\n",
    "num_nodes = len(probab)\n",
    "\n",
    "# Initialize an empty square matrix\n",
    "transition_matrix = np.zeros((num_nodes, num_nodes))\n",
    "\n",
    "# Fill in the matrix with transition probabilities\n",
    "for i in range(num_nodes):\n",
    "    for j in range(num_nodes):\n",
    "        # Check if there are probabilities defined for this transition\n",
    "        if j in probab[i]['probabilities']:\n",
    "            transition_matrix[i][j] = sum(probab[i]['probabilities'][j])"
   ]
  },
  {
   "cell_type": "code",
   "execution_count": null,
   "id": "9d3d8a76",
   "metadata": {
    "ExecuteTime": {
     "end_time": "2023-09-07T22:59:41.607773Z",
     "start_time": "2023-09-07T22:59:41.590558Z"
    }
   },
   "outputs": [],
   "source": [
    "# Normalize the rows of the matrix to ensure they sum to 1\n",
    "row_sums = transition_matrix.sum(axis=1)\n",
    "transition_matrix_normalized = transition_matrix / row_sums[:, np.newaxis]"
   ]
  },
  {
   "cell_type": "code",
   "execution_count": null,
   "id": "04e66401",
   "metadata": {
    "ExecuteTime": {
     "end_time": "2023-09-07T22:36:41.424616Z",
     "start_time": "2023-09-07T22:36:41.415617Z"
    }
   },
   "outputs": [],
   "source": [
    "transition_matrix_normalized[0]"
   ]
  },
  {
   "cell_type": "code",
   "execution_count": null,
   "id": "bb81915d",
   "metadata": {
    "ExecuteTime": {
     "end_time": "2023-09-07T22:36:54.674613Z",
     "start_time": "2023-09-07T22:36:54.655436Z"
    }
   },
   "outputs": [],
   "source": [
    "transition_matrix_normalized[5]"
   ]
  },
  {
   "cell_type": "code",
   "execution_count": null,
   "id": "a01656e5",
   "metadata": {
    "ExecuteTime": {
     "end_time": "2023-09-08T09:02:37.677534Z",
     "start_time": "2023-09-08T09:02:34.484164Z"
    }
   },
   "outputs": [],
   "source": [
    "walks, unsh = embedding.generate_random_walks()"
   ]
  },
  {
   "cell_type": "code",
   "execution_count": null,
   "id": "0851170a",
   "metadata": {
    "ExecuteTime": {
     "end_time": "2023-09-08T09:02:39.013246Z",
     "start_time": "2023-09-08T09:02:38.948603Z"
    }
   },
   "outputs": [],
   "source": [
    "unsh"
   ]
  },
  {
   "cell_type": "code",
   "execution_count": null,
   "id": "9bfee4fc",
   "metadata": {
    "ExecuteTime": {
     "end_time": "2023-09-08T00:51:50.406861Z",
     "start_time": "2023-09-08T00:51:50.390817Z"
    }
   },
   "outputs": [],
   "source": [
    "def calculate_probability_matrix(random_walks,num_walks,walk_length):\n",
    "    num_nodes = len(random_walks) // num_walks\n",
    "    prob_matrix = np.zeros((num_nodes, num_nodes))\n",
    "\n",
    "    visited_nodes = [set() for _ in range(len(random_walks))]\n",
    "\n",
    "    for i, walk_i in enumerate(random_walks):\n",
    "        for step in range(walk_length):\n",
    "            visited_nodes[i].add(walk_i[step])\n",
    "\n",
    "    def compute_probability(i, j):\n",
    "        if i == j:\n",
    "            return 1.0\n",
    "\n",
    "        common_count = 0\n",
    "\n",
    "        for k in range(num_walks):\n",
    "            common_count += len(visited_nodes[i].intersection(visited_nodes[j]))\n",
    "\n",
    "        return common_count / num_walks\n",
    "\n",
    "    with concurrent.futures.ThreadPoolExecutor() as executor:\n",
    "        futures = []\n",
    "        for i in tqdm(range(num_nodes), desc=\"Calculating Probabilities\"):\n",
    "            for j in range(num_nodes):\n",
    "                futures.append(executor.submit(compute_probability, i, j))\n",
    "\n",
    "        for i in tqdm(range(num_nodes * num_nodes), desc=\"Collecting Results\"):\n",
    "            row = i // num_nodes\n",
    "            col = i % num_nodes\n",
    "            prob_matrix[row, col] = futures[i].result()\n",
    "\n",
    "    return prob_matrix"
   ]
  },
  {
   "cell_type": "code",
   "execution_count": null,
   "id": "f77af086",
   "metadata": {
    "ExecuteTime": {
     "end_time": "2023-09-08T09:02:50.812858Z",
     "start_time": "2023-09-08T09:02:50.761264Z"
    }
   },
   "outputs": [],
   "source": [
    "prob_matrix = embedding.calculate_probability_matrix(unsh)\n"
   ]
  },
  {
   "cell_type": "code",
   "execution_count": null,
   "id": "c1d08103",
   "metadata": {
    "ExecuteTime": {
     "end_time": "2023-09-08T09:02:51.592844Z",
     "start_time": "2023-09-08T09:02:51.576830Z"
    }
   },
   "outputs": [],
   "source": [
    "prob_matrix[0]"
   ]
  },
  {
   "cell_type": "code",
   "execution_count": null,
   "id": "a688034b",
   "metadata": {
    "ExecuteTime": {
     "end_time": "2023-09-08T09:30:03.572542Z",
     "start_time": "2023-09-08T09:30:03.521703Z"
    }
   },
   "outputs": [],
   "source": [
    "probability_matrix = calculate_probability_matrix(unsh, 10,5)\n",
    "\n",
    "# Convert the probability_matrix to a NumPy array\n",
    "probability_matrix = np.array(probability_matrix)"
   ]
  },
  {
   "cell_type": "code",
   "execution_count": null,
   "id": "834f6798",
   "metadata": {
    "ExecuteTime": {
     "end_time": "2023-09-08T09:30:24.720605Z",
     "start_time": "2023-09-08T09:30:24.713606Z"
    }
   },
   "outputs": [],
   "source": [
    "probability_matrix"
   ]
  },
  {
   "cell_type": "code",
   "execution_count": null,
   "id": "edc385c4",
   "metadata": {
    "ExecuteTime": {
     "end_time": "2023-09-08T00:52:58.989801Z",
     "start_time": "2023-09-08T00:52:58.973419Z"
    }
   },
   "outputs": [],
   "source": [
    "def calculate_probability(list, num_walks, length):\n",
    "  \"\"\"\n",
    "  Calculates the probability of visiting a node j when started from node i.\n",
    "\n",
    "  Args:\n",
    "    list: A list of lists, where each sublist represents a random walk.\n",
    "    num_walks: The number of walks in the list.\n",
    "    length: The length of each walk.\n",
    "\n",
    "  Returns:\n",
    "    A list of lists, where each sublist contains the probabilities of visiting each node\n",
    "    when started from the corresponding node in the input list.\n",
    "  \"\"\"\n",
    "\n",
    "  num_nodes = len(list[0])\n",
    "  prob = [[0 for _ in range(num_nodes)] for _ in range(num_nodes)]\n",
    "\n",
    "  for i in range(num_walks):\n",
    "    for j in range(length):\n",
    "      if len(list[i]) >= j + 1:\n",
    "        prob[list[i][0]][list[i][j]] += 1\n",
    "\n",
    "  for i in range(num_nodes):\n",
    "    for j in range(num_nodes):\n",
    "      if i == j:\n",
    "        prob[i][j] = 1\n",
    "      else:\n",
    "        prob[i][j] /= num_walks\n",
    "\n",
    "  return prob"
   ]
  },
  {
   "cell_type": "code",
   "execution_count": null,
   "id": "bd7714b8",
   "metadata": {
    "ExecuteTime": {
     "end_time": "2023-09-08T01:17:13.299039Z",
     "start_time": "2023-09-08T01:17:13.282992Z"
    }
   },
   "outputs": [],
   "source": [
    "def calculate_probability_matrix(random_walks, num_walks):\n",
    "    # Convert strings to integers in the random_walks list\n",
    "    random_walks = [[int(node) for node in walk] for walk in random_walks]\n",
    "\n",
    "    # Determine the number of nodes\n",
    "    num_nodes = max(max(walk) for walk in random_walks)\n",
    "\n",
    "    # Initialize the probability matrix with zeros using NumPy\n",
    "    prob_matrix = np.zeros((num_nodes, num_nodes))\n",
    "\n",
    "    # Count the number of times each node is visited from each starting node\n",
    "    visit_counts = np.zeros((num_nodes, num_nodes), dtype=int)\n",
    "    start_counts = np.zeros(num_nodes, dtype=int)\n",
    "\n",
    "    for walk in random_walks:\n",
    "        start_node = walk[0]\n",
    "        visited_nodes = set(walk[1:])  # Use a set to keep track of visited nodes in each walk\n",
    "        start_counts[start_node - 1] += 1\n",
    "        for visited_node in visited_nodes:\n",
    "            visit_counts[start_node - 1][visited_node - 1] += 1\n",
    "\n",
    "    # Calculate the probabilities based on the counts\n",
    "    for i in range(num_nodes):\n",
    "        for j in range(num_nodes):\n",
    "            if i == j:\n",
    "                prob_matrix[i][j] = 1.0\n",
    "            else:\n",
    "                prob_matrix[i][j] = visit_counts[i][j] / start_counts[i] * num_walks\n",
    "\n",
    "    return prob_matrix"
   ]
  },
  {
   "cell_type": "code",
   "execution_count": null,
   "id": "850fe620",
   "metadata": {
    "ExecuteTime": {
     "end_time": "2023-09-08T01:02:31.594012Z",
     "start_time": "2023-09-08T01:02:31.577968Z"
    }
   },
   "outputs": [],
   "source": [
    "def calculate_probability_matrix(random_walks, num_walks):\n",
    "    # Convert strings to integers in the random_walks list\n",
    "    random_walks = [[int(node) for node in walk] for walk in random_walks]\n",
    "\n",
    "    # Determine the number of nodes\n",
    "    num_nodes = max(max(walk) for walk in random_walks)\n",
    "\n",
    "    # Initialize the probability matrix with zeros\n",
    "    prob_matrix = [[0.0] * num_nodes for _ in range(num_nodes)]\n",
    "\n",
    "    # Count the number of times each node is visited from each starting node\n",
    "    for start_node, *visited_nodes in random_walks:\n",
    "        for visited_node in visited_nodes:\n",
    "            prob_matrix[start_node - 1][visited_node - 1] += 1\n",
    "\n",
    "    # Calculate the probabilities based on the counts\n",
    "    for i in range(num_nodes):\n",
    "        for j in range(num_nodes):\n",
    "            if i == j:\n",
    "                prob_matrix[i][j] = 1.0\n",
    "            else:\n",
    "                prob_matrix[i][j] /= num_walks\n",
    "\n",
    "    return prob_matrix\n",
    "\n",
    "# Example usage:\n",
    "random_walks = [\n",
    "    ['1', '2', '3'],\n",
    "    ['1', '2', '4'],\n",
    "    ['2', '1', '3'],\n",
    "    ['2', '4', '2'],\n",
    "    ['3', '1', '4'],\n",
    "    ['3', '1', '2'],\n",
    "    ['4', '1', '3'],\n",
    "    ['4', '2', '1']\n",
    "]\n",
    "num_walks = 2\n",
    "\n",
    "probability_matrix = calculate_probability_matrix(random_walks, num_walks)\n",
    "for row in probability_matrix:\n",
    "    print(row)\n"
   ]
  },
  {
   "cell_type": "code",
   "execution_count": null,
   "id": "6c8b6e18",
   "metadata": {
    "ExecuteTime": {
     "end_time": "2023-09-08T00:15:37.958671Z",
     "start_time": "2023-09-08T00:15:37.930611Z"
    }
   },
   "outputs": [],
   "source": [
    "calculate_probability_matrix(unsh,len(G.nodes()))"
   ]
  },
  {
   "cell_type": "code",
   "execution_count": null,
   "id": "272eb3bd",
   "metadata": {},
   "outputs": [],
   "source": []
  },
  {
   "cell_type": "code",
   "execution_count": null,
   "id": "57227dcb",
   "metadata": {},
   "outputs": [],
   "source": []
  },
  {
   "cell_type": "code",
   "execution_count": null,
   "id": "728e782c",
   "metadata": {
    "ExecuteTime": {
     "end_time": "2023-09-08T00:00:07.071842Z",
     "start_time": "2023-09-08T00:00:07.041564Z"
    }
   },
   "outputs": [],
   "source": [
    "S = embedding.calculate_probability_matrix(unsh)"
   ]
  },
  {
   "cell_type": "code",
   "execution_count": null,
   "id": "a1277541",
   "metadata": {
    "ExecuteTime": {
     "end_time": "2023-09-08T00:00:38.287667Z",
     "start_time": "2023-09-08T00:00:38.277635Z"
    }
   },
   "outputs": [],
   "source": [
    "S[0]"
   ]
  },
  {
   "cell_type": "code",
   "execution_count": null,
   "id": "d7e5d03c",
   "metadata": {
    "ExecuteTime": {
     "end_time": "2023-09-07T23:28:03.319155Z",
     "start_time": "2023-09-07T23:28:03.306163Z"
    }
   },
   "outputs": [],
   "source": [
    "S[1]"
   ]
  },
  {
   "cell_type": "code",
   "execution_count": null,
   "id": "0a2e1db5",
   "metadata": {
    "ExecuteTime": {
     "end_time": "2023-09-07T22:30:16.400512Z",
     "start_time": "2023-09-07T22:30:16.387544Z"
    }
   },
   "outputs": [],
   "source": [
    "def generate_probability_matrix(unshuffled_random_walks, num_nodes, max_walk_length):\n",
    "    probability_matrix = np.zeros((num_nodes, num_nodes), dtype=np.float32)\n",
    "\n",
    "    def update_probability_matrix(walk):\n",
    "        start_node = int(walk[0])\n",
    "        for j in range(1, len(walk)):\n",
    "            node_j = int(walk[j])\n",
    "            for t in range(1, max_walk_length + 1):\n",
    "                if j + t < len(walk):\n",
    "                    node_i = int(walk[j + t])\n",
    "                    probability_matrix[node_i, node_j] += 1.0\n",
    "\n",
    "    for walk in tqdm(unshuffled_random_walks, desc=\"Generating Probability Matrix\"):\n",
    "        update_probability_matrix(walk)\n",
    "\n",
    "    # Normalize the probability matrix by dividing each entry by the total number of walks\n",
    "#     probability_matrix /= len(unshuffled_random_walks)\n",
    "\n",
    "    return probability_matrix"
   ]
  },
  {
   "cell_type": "code",
   "execution_count": null,
   "id": "e8debfd6",
   "metadata": {
    "ExecuteTime": {
     "end_time": "2023-09-08T02:10:30.454678Z",
     "start_time": "2023-09-08T02:10:30.434479Z"
    }
   },
   "outputs": [],
   "source": [
    "def calculate_probability_matrix(unshuffled_random_walks, num_nodes, max_walk_length):\n",
    "    probability_matrix = np.zeros((num_nodes, num_nodes), dtype=np.float32)\n",
    "    count_matrix = np.zeros((num_nodes, num_nodes), dtype=np.float32)\n",
    "\n",
    "    for walk in tqdm(unshuffled_random_walks, desc=\"Calculating Probability Matrix\"):\n",
    "        for i in range(len(walk)):\n",
    "            for j in range(i + 1, min(i + max_walk_length + 1, len(walk))):\n",
    "                node_i = int(walk[i])\n",
    "                node_j = int(walk[j])\n",
    "                count_matrix[node_i, node_j] += 1\n",
    "\n",
    "    for i in range(num_nodes):\n",
    "        for j in range(i + 1, num_nodes):\n",
    "            if count_matrix[i, i] > 0:\n",
    "                probability_matrix[i, j] = count_matrix[i, j] / count_matrix[i, i]\n",
    "            if count_matrix[j, j] > 0:\n",
    "                probability_matrix[j, i] = count_matrix[j, i] / count_matrix[j, j]\n",
    "\n",
    "    # Set the diagonal elements to 1.0\n",
    "    np.fill_diagonal(probability_matrix, 1.0)\n",
    "\n",
    "    return probability_matrix"
   ]
  },
  {
   "cell_type": "code",
   "execution_count": null,
   "id": "f8165af9",
   "metadata": {
    "ExecuteTime": {
     "end_time": "2023-09-08T02:10:34.159361Z",
     "start_time": "2023-09-08T02:10:34.138063Z"
    }
   },
   "outputs": [],
   "source": [
    "probability_matrix = calculate_probability_matrix(unsh, len(G.nodes()), max_walk_length=5)\n"
   ]
  },
  {
   "cell_type": "code",
   "execution_count": null,
   "id": "2a30250d",
   "metadata": {
    "ExecuteTime": {
     "end_time": "2023-09-08T02:10:44.629013Z",
     "start_time": "2023-09-08T02:10:44.622016Z"
    }
   },
   "outputs": [],
   "source": [
    "probability_matrix.shape"
   ]
  },
  {
   "cell_type": "code",
   "execution_count": null,
   "id": "05cdbc1a",
   "metadata": {
    "ExecuteTime": {
     "end_time": "2023-09-07T22:42:33.402146Z",
     "start_time": "2023-09-07T22:42:33.383147Z"
    }
   },
   "outputs": [],
   "source": [
    "probability_matrix[0]"
   ]
  },
  {
   "cell_type": "code",
   "execution_count": null,
   "id": "41c90163",
   "metadata": {
    "ExecuteTime": {
     "end_time": "2023-09-07T22:42:43.836226Z",
     "start_time": "2023-09-07T22:42:43.825210Z"
    }
   },
   "outputs": [],
   "source": [
    "probability_matrix[1]"
   ]
  },
  {
   "cell_type": "code",
   "execution_count": null,
   "id": "dba20b84",
   "metadata": {
    "ExecuteTime": {
     "end_time": "2023-09-07T22:30:16.918549Z",
     "start_time": "2023-09-07T22:30:16.913518Z"
    }
   },
   "outputs": [],
   "source": [
    "import numpy as np\n",
    "from tqdm import tqdm\n",
    "from scipy.sparse import lil_matrix"
   ]
  },
  {
   "cell_type": "code",
   "execution_count": null,
   "id": "5acdaeae",
   "metadata": {
    "ExecuteTime": {
     "end_time": "2023-09-07T22:30:17.293494Z",
     "start_time": "2023-09-07T22:30:17.271454Z"
    }
   },
   "outputs": [],
   "source": [
    "probability_matrix = generate_probability_matrix(unsh, len(G.nodes()), max_walk_length=5)\n"
   ]
  },
  {
   "cell_type": "code",
   "execution_count": null,
   "id": "6fd86744",
   "metadata": {
    "ExecuteTime": {
     "end_time": "2023-09-07T22:30:18.667348Z",
     "start_time": "2023-09-07T22:30:18.657349Z"
    }
   },
   "outputs": [],
   "source": [
    "probability_matrix[0]"
   ]
  },
  {
   "cell_type": "code",
   "execution_count": null,
   "id": "c6136e07",
   "metadata": {
    "ExecuteTime": {
     "end_time": "2023-09-07T22:28:03.670921Z",
     "start_time": "2023-09-07T22:28:03.659639Z"
    }
   },
   "outputs": [],
   "source": [
    "len(G.nodes())"
   ]
  },
  {
   "cell_type": "code",
   "execution_count": null,
   "id": "6376826a",
   "metadata": {
    "ExecuteTime": {
     "end_time": "2023-09-07T21:27:11.479213Z",
     "start_time": "2023-09-07T21:27:11.475214Z"
    }
   },
   "outputs": [],
   "source": [
    "# train_embedding(self, walks, dim=None, window_size=None, negative=None)\n",
    "# training(walks, window_size, dim):"
   ]
  },
  {
   "cell_type": "code",
   "execution_count": null,
   "id": "df9d6ed9",
   "metadata": {
    "ExecuteTime": {
     "end_time": "2023-09-07T22:43:09.360855Z",
     "start_time": "2023-09-07T22:43:08.491836Z"
    }
   },
   "outputs": [],
   "source": [
    "# Train node embeddings using Word2Vec with custom dimensions, window size, and negative sampling\n",
    "# Train node embeddings using Word2Vec with custom dimensions, window size, and negative sampling\n",
    "window_size = 10  # Set your desired window size\n",
    "dimension = 128  # Set your desired dimension\n",
    "epochs = 200\n",
    "negative=6\n",
    "\n",
    "batch_words=128\n",
    "\n",
    "\n",
    "node_embeddings = embedding.training(\n",
    "    walks, window_size=window_size, dimension=dimension, sg=1,epochs=epochs,negative=negative,batch_words=batch_words\n",
    ")"
   ]
  },
  {
   "cell_type": "code",
   "execution_count": null,
   "id": "db1662b4",
   "metadata": {
    "ExecuteTime": {
     "end_time": "2023-09-07T22:43:12.260852Z",
     "start_time": "2023-09-07T22:43:12.252851Z"
    }
   },
   "outputs": [],
   "source": [
    "Z = node_embeddings.vectors.T"
   ]
  },
  {
   "cell_type": "code",
   "execution_count": null,
   "id": "8e102962",
   "metadata": {
    "ExecuteTime": {
     "end_time": "2023-09-07T22:43:15.206053Z",
     "start_time": "2023-09-07T22:43:15.201419Z"
    }
   },
   "outputs": [],
   "source": [
    "def loss_function(Z, S):\n",
    "    \"\"\"\n",
    "    Calculate the objective function ||Z^T*Z - S||^2.\n",
    "\n",
    "    Args:\n",
    "        Z (numpy.ndarray): The node embeddings as a numpy array.\n",
    "        S (numpy.ndarray): The similarity matrix.\n",
    "\n",
    "    Returns:\n",
    "        float: The value of the objective function.\n",
    "    \"\"\"\n",
    "    Z_transpose = np.transpose(Z)\n",
    "    diff = np.dot(Z_transpose, Z) - S\n",
    "    #     obj_func = np.linalg.norm(diff) ** 2\n",
    "    obj_func = np.linalg.norm(diff)\n",
    "    return obj_func"
   ]
  },
  {
   "cell_type": "code",
   "execution_count": null,
   "id": "73a2054d",
   "metadata": {
    "ExecuteTime": {
     "end_time": "2023-09-07T22:43:21.942209Z",
     "start_time": "2023-09-07T22:43:21.934211Z"
    }
   },
   "outputs": [],
   "source": [
    "loss_function(Z, probability_matrix)"
   ]
  },
  {
   "cell_type": "markdown",
   "id": "76ea4ec5",
   "metadata": {},
   "source": [
    "### Hypertuning"
   ]
  },
  {
   "cell_type": "code",
   "execution_count": null,
   "id": "0d5b40bf",
   "metadata": {
    "ExecuteTime": {
     "end_time": "2023-09-07T21:32:15.256966Z",
     "start_time": "2023-09-07T21:32:15.243545Z"
    }
   },
   "outputs": [],
   "source": [
    "# Define the hyperparameter search space\n",
    "param_space = {\n",
    "    'return_param': np.random.uniform(0.1, 4.0, 10),  # Example: random uniform sampling\n",
    "    'in_out_param': np.random.uniform(0.1, 4.0, 10),  # Example: random uniform sampling\n",
    "    'num_walks': np.random.randint(5, 15, 8),  # Example: random integer sampling\n",
    "    'walk_length': np.random.randint(50, 100,10),  # Example: random integer sampling\n",
    "    'window_size': np.random.randint(5, 15, 5),  # Example: random integer sampling\n",
    "    'dimension': np.random.choice([32,64,16,128,48], 6),  # Example: random choice\n",
    "    'epochs': np.random.choice([50, 75, 100,125,150,200], 5),  # Example: random choice\n",
    "    'negative': np.random.choice([5, 10], 5),  # Example: random choice\n",
    "    'batch_words': np.random.choice([100, 500], 5),  # Example: random choice\n",
    "}\n",
    "\n",
    "best_loss = float('inf')\n",
    "best_params = None"
   ]
  },
  {
   "cell_type": "code",
   "execution_count": null,
   "id": "cee59d10",
   "metadata": {
    "ExecuteTime": {
     "end_time": "2023-09-07T21:32:20.666854Z",
     "start_time": "2023-09-07T21:32:20.659434Z"
    }
   },
   "outputs": [],
   "source": [
    "# Perform random search\n",
    "num_iterations = 10  # Adjust the number of iterations as needed\n"
   ]
  },
  {
   "cell_type": "code",
   "execution_count": null,
   "id": "8a65960a",
   "metadata": {
    "ExecuteTime": {
     "end_time": "2023-09-07T21:38:35.568233Z",
     "start_time": "2023-09-07T21:32:23.118203Z"
    }
   },
   "outputs": [],
   "source": [
    "for _ in range(num_iterations):\n",
    "    # Randomly sample hyperparameters\n",
    "    sampled_params = {param: np.random.choice(values) for param, values in param_space.items()}\n",
    "    \n",
    "    # Create an instance of your GraphEmbedding class with sampled hyperparameters\n",
    "    embedding = GraphEmbedding(\n",
    "        graph=G,\n",
    "        return_param=sampled_params['return_param'],\n",
    "        in_out_param=sampled_params['in_out_param'],\n",
    "        num_walks=sampled_params['num_walks'],\n",
    "        walk_length=sampled_params['walk_length'],\n",
    "    )\n",
    "    \n",
    "    probab = embedding.calculate_transition_probabilities()\n",
    "    # Train and evaluate with the current set of hyperparameters\n",
    "    walks, S = embedding.generate_random_walks()\n",
    "    node_embeddings = embedding.training(\n",
    "        walks,\n",
    "        window_size=sampled_params['window_size'],\n",
    "        dimension=sampled_params['dimension'],\n",
    "        sg=1,\n",
    "        epochs=sampled_params['epochs'],\n",
    "        negative=sampled_params['negative'],\n",
    "        batch_words=sampled_params['batch_words']\n",
    "    )\n",
    "    Z = node_embeddings.vectors.T\n",
    "    current_loss = loss_function(Z, S)\n",
    "    \n",
    "    # Update the best hyperparameters if the current set is better\n",
    "    if current_loss < best_loss:\n",
    "        best_loss = current_loss\n",
    "        best_params = sampled_params"
   ]
  },
  {
   "cell_type": "code",
   "execution_count": null,
   "id": "68fec13a",
   "metadata": {
    "ExecuteTime": {
     "end_time": "2023-09-07T21:19:33.439688Z",
     "start_time": "2023-09-07T21:19:33.425690Z"
    }
   },
   "outputs": [],
   "source": [
    "print(\"Best Hyperparameters:\", best_params)\n",
    "print(\"Best Loss:\", best_loss)"
   ]
  },
  {
   "cell_type": "code",
   "execution_count": null,
   "id": "e7fd4294",
   "metadata": {
    "ExecuteTime": {
     "end_time": "2023-09-08T01:37:02.517937Z",
     "start_time": "2023-09-08T01:37:02.493892Z"
    }
   },
   "outputs": [],
   "source": [
    "def calculate_probability_matrix(random_walks, num_walks, walk_length):\n",
    "    # Convert strings to integers in the random_walks list\n",
    "    random_walks = [[int(node) for node in walk] for walk in random_walks]\n",
    "\n",
    "    # Determine the number of nodes\n",
    "    num_nodes = max(max(walk) for walk in random_walks)\n",
    "\n",
    "    # Initialize the probability matrix with zeros using NumPy\n",
    "    prob_matrix = np.zeros((num_nodes, num_nodes))\n",
    "\n",
    "    # Count the number of times each node is uniquely visited starting from each node\n",
    "    unique_visit_counts = np.zeros((num_nodes, num_nodes), dtype=int)\n",
    "\n",
    "    for walk in random_walks:\n",
    "        start_node = walk[0]\n",
    "        visited_nodes = set(walk[0:walk_length])  # Consider only the first 'walk_length' nodes\n",
    "        for visited_node in visited_nodes:\n",
    "            unique_visit_counts[start_node - 1][visited_node - 1] += 1\n",
    "\n",
    "    # Calculate the probabilities based on the counts and number of walks\n",
    "    for i in range(num_nodes):\n",
    "        for j in range(num_nodes):\n",
    "            if i == j:\n",
    "                prob_matrix[i][j] = 1.0\n",
    "            else:\n",
    "                prob_matrix[i][j] = unique_visit_counts[i][j] / num_walks\n",
    "\n",
    "    return prob_matrix"
   ]
  },
  {
   "cell_type": "code",
   "execution_count": null,
   "id": "c06b874a",
   "metadata": {
    "ExecuteTime": {
     "end_time": "2023-09-08T01:29:13.779250Z",
     "start_time": "2023-09-08T01:29:13.771202Z"
    }
   },
   "outputs": [],
   "source": [
    "random_walks = [[int(node) for node in walk] for walk in unsh]"
   ]
  },
  {
   "cell_type": "code",
   "execution_count": null,
   "id": "bd2742ec",
   "metadata": {
    "ExecuteTime": {
     "end_time": "2023-09-08T01:29:50.228570Z",
     "start_time": "2023-09-08T01:29:50.204555Z"
    }
   },
   "outputs": [],
   "source": [
    "num_nodes = max(max(walk) for walk in random_walks)"
   ]
  },
  {
   "cell_type": "code",
   "execution_count": null,
   "id": "d6e2fddc",
   "metadata": {
    "ExecuteTime": {
     "end_time": "2023-09-08T01:50:22.069301Z",
     "start_time": "2023-09-08T01:50:22.013282Z"
    }
   },
   "outputs": [],
   "source": [
    "unsh"
   ]
  },
  {
   "cell_type": "code",
   "execution_count": null,
   "id": "a66796c7",
   "metadata": {
    "ExecuteTime": {
     "end_time": "2023-09-08T01:51:26.945107Z",
     "start_time": "2023-09-08T01:51:26.934118Z"
    }
   },
   "outputs": [],
   "source": [
    "unique_visit_counts = np.zeros((num_nodes, num_nodes), dtype=int)"
   ]
  },
  {
   "cell_type": "code",
   "execution_count": null,
   "id": "8210cf9f",
   "metadata": {
    "ExecuteTime": {
     "end_time": "2023-09-08T01:51:27.191205Z",
     "start_time": "2023-09-08T01:51:27.167158Z"
    }
   },
   "outputs": [],
   "source": [
    "unique_visit_counts[0]"
   ]
  },
  {
   "cell_type": "code",
   "execution_count": null,
   "id": "c6f65c55",
   "metadata": {
    "ExecuteTime": {
     "end_time": "2023-09-08T01:52:07.036049Z",
     "start_time": "2023-09-08T01:52:07.008458Z"
    }
   },
   "outputs": [],
   "source": [
    "for walk in random_walks:\n",
    "    start_node = walk[0]\n",
    "#     print(start_node)\n",
    "    visited_nodes = set(walk[0:9])\n",
    "    print(visited_nodes)\n",
    "    for visited_node in visited_nodes:\n",
    "#         print(visited_node)\n",
    "        unique_visit_counts[start_node-1][visited_node-1] += 1"
   ]
  },
  {
   "cell_type": "code",
   "execution_count": null,
   "id": "0aeb67cf",
   "metadata": {
    "ExecuteTime": {
     "end_time": "2023-09-08T01:33:13.122759Z",
     "start_time": "2023-09-08T01:33:13.106713Z"
    }
   },
   "outputs": [],
   "source": [
    "start_node"
   ]
  },
  {
   "cell_type": "code",
   "execution_count": null,
   "id": "83c8c0b4",
   "metadata": {
    "ExecuteTime": {
     "end_time": "2023-09-08T08:56:39.420393Z",
     "start_time": "2023-09-08T08:56:39.403982Z"
    }
   },
   "outputs": [],
   "source": [
    "def calculate_probability_matrix(random_walks, num_walks, walk_length):\n",
    "    num_nodes = len(random_walks) // num_walks\n",
    "    prob_matrix = np.zeros((num_nodes, num_nodes))\n",
    "    \n",
    "    for i in range(num_nodes):\n",
    "        for j in range(num_nodes):\n",
    "            if i == j:\n",
    "                prob_matrix[i, j] = 1\n",
    "            else:\n",
    "                common_count = 0\n",
    "                \n",
    "                for k in range(num_walks):\n",
    "                    walk_i = random_walks[i * num_walks + k]\n",
    "                    walk_j = random_walks[j * num_walks + k]\n",
    "                    \n",
    "                    visited_nodes_i = set()\n",
    "                    visited_nodes_j = set()\n",
    "                    \n",
    "                    for step in range(walk_length):\n",
    "                        visited_nodes_i.add(walk_i[step])\n",
    "                        visited_nodes_j.add(walk_j[step])\n",
    "                    \n",
    "                    common_nodes = visited_nodes_i.intersection(visited_nodes_j)\n",
    "                    \n",
    "                    if str(j) in common_nodes:\n",
    "                        common_count += 1\n",
    "                    \n",
    "                prob_matrix[i, j] = common_count / num_walks\n",
    "    \n",
    "    return prob_matrix"
   ]
  },
  {
   "cell_type": "code",
   "execution_count": null,
   "id": "d5205246",
   "metadata": {
    "ExecuteTime": {
     "end_time": "2023-09-08T08:56:40.111776Z",
     "start_time": "2023-09-08T08:56:40.047727Z"
    }
   },
   "outputs": [],
   "source": [
    "unsh"
   ]
  },
  {
   "cell_type": "code",
   "execution_count": null,
   "id": "451e003a",
   "metadata": {
    "ExecuteTime": {
     "end_time": "2023-09-08T08:56:40.876566Z",
     "start_time": "2023-09-08T08:56:40.829004Z"
    }
   },
   "outputs": [],
   "source": [
    "prob_matrix = calculate_probability_matrix(unsh, 10, 5)\n",
    "print(prob_matrix)"
   ]
  },
  {
   "cell_type": "code",
   "execution_count": null,
   "id": "e7eb9bd6",
   "metadata": {
    "ExecuteTime": {
     "end_time": "2023-09-08T08:56:45.302916Z",
     "start_time": "2023-09-08T08:56:45.290041Z"
    }
   },
   "outputs": [],
   "source": [
    "prob_matrix[0]"
   ]
  },
  {
   "cell_type": "code",
   "execution_count": null,
   "id": "d3af9cbb",
   "metadata": {
    "ExecuteTime": {
     "end_time": "2023-09-08T08:40:23.257315Z",
     "start_time": "2023-09-08T08:40:23.241263Z"
    }
   },
   "outputs": [],
   "source": [
    "import numpy as np\n",
    "from collections import Counter\n",
    "\n",
    "def calculate_probability_matrix(random_walks, num_walks, walk_length):\n",
    "    num_nodes = len(random_walks) // num_walks\n",
    "    prob_matrix = np.zeros((num_nodes, num_nodes))\n",
    "\n",
    "    for i in range(num_nodes):\n",
    "        for j in range(num_nodes):\n",
    "            if i == j:\n",
    "                prob_matrix[i, j] = 1\n",
    "            else:\n",
    "                count_i = Counter()\n",
    "                count_j = Counter()\n",
    "                \n",
    "                for k in range(num_walks):\n",
    "                    walk_i = random_walks[i * num_walks + k]\n",
    "                    walk_j = random_walks[j * num_walks + k]\n",
    "                    \n",
    "                    for step in range(walk_length):\n",
    "                        count_i[walk_i[step]] += 1\n",
    "                        count_j[walk_j[step]] += 1\n",
    "                \n",
    "                common_elements = set(count_i.keys()) & set(count_j.keys())\n",
    "                prob = sum(min(count_i[element], count_j[element]) for element in common_elements) / num_walks\n",
    "                prob_matrix[i, j] = prob\n",
    "\n",
    "    return prob_matrix\n",
    "\n",
    "# Example random_walks\n",
    "random_walks = [\n",
    "    ['1', '2', '3'],\n",
    "    ['1', '2', '4'],\n",
    "    ['2', '1', '3'],\n",
    "    ['2', '4', '2'],\n",
    "    ['3', '1', '4'],\n",
    "    ['3', '1', '2'],\n",
    "    ['4', '1', '4'],\n",
    "    ['4', '2', '1']\n",
    "]\n",
    "\n",
    "num_walks = 2\n",
    "walk_length = 3\n",
    "\n",
    "# Calculate the probability matrix\n",
    "probability_matrix = calculate_probability_matrix(random_walks, num_walks, walk_length)\n",
    "print(probability_matrix)\n"
   ]
  },
  {
   "cell_type": "code",
   "execution_count": null,
   "id": "b1e7125d",
   "metadata": {
    "ExecuteTime": {
     "end_time": "2023-09-08T08:40:31.326432Z",
     "start_time": "2023-09-08T08:40:31.310382Z"
    }
   },
   "outputs": [],
   "source": [
    "import numpy as np\n",
    "from collections import Counter\n",
    "\n",
    "def calculate_probability_matrix(random_walks, num_walks, walk_length):\n",
    "    num_nodes = len(random_walks) // num_walks\n",
    "    prob_matrix = np.zeros((num_nodes, num_nodes))\n",
    "\n",
    "    for i in range(num_nodes):\n",
    "        for j in range(num_nodes):\n",
    "            if i == j:\n",
    "                prob_matrix[i, j] = 1\n",
    "            else:\n",
    "                count_i = Counter()\n",
    "                count_j = Counter()\n",
    "                \n",
    "                for k in range(num_walks):\n",
    "                    walk_i = random_walks[i * num_walks + k]\n",
    "                    walk_j = random_walks[j * num_walks + k]\n",
    "                    \n",
    "                    # Count unique visits within the same walk\n",
    "                    unique_elements_i = set()\n",
    "                    unique_elements_j = set()\n",
    "                    \n",
    "                    for step in range(walk_length):\n",
    "                        unique_elements_i.add(walk_i[step])\n",
    "                        unique_elements_j.add(walk_j[step])\n",
    "                    \n",
    "                    common_elements = unique_elements_i.intersection(unique_elements_j)\n",
    "                    \n",
    "                    # Count the number of unique common elements between the walks\n",
    "                    common_count = len(common_elements)\n",
    "                    \n",
    "                    count_i[common_count] += 1\n",
    "                    count_j[common_count] += 1\n",
    "                \n",
    "                prob = sum(min(count_i[element], count_j[element]) * element for element in count_i.keys()) / num_walks\n",
    "                prob_matrix[i, j] = prob\n",
    "\n",
    "    return prob_matrix\n",
    "\n",
    "# Example random_walks\n",
    "random_walks = [\n",
    "    ['1', '2', '3'],\n",
    "    ['1', '2', '4'],\n",
    "    ['2', '1', '3'],\n",
    "    ['2', '4', '2'],\n",
    "    ['3', '1', '4'],\n",
    "    ['3', '1', '2'],\n",
    "    ['4', '1', '4'],\n",
    "    ['4', '2', '1']\n",
    "]\n",
    "\n",
    "num_walks = 2\n",
    "walk_length = 3\n",
    "\n",
    "# Calculate the probability matrix\n",
    "probability_matrix = calculate_probability_matrix(random_walks, num_walks, walk_length)\n",
    "print(probability_matrix)\n"
   ]
  },
  {
   "cell_type": "code",
   "execution_count": null,
   "id": "bdee16ca",
   "metadata": {
    "ExecuteTime": {
     "end_time": "2023-09-08T08:41:54.089899Z",
     "start_time": "2023-09-08T08:41:54.073889Z"
    }
   },
   "outputs": [],
   "source": [
    "num_nodes = len(random_walks) // num_walks\n",
    "prob_matrix = np.zeros((num_nodes, num_nodes))"
   ]
  },
  {
   "cell_type": "code",
   "execution_count": null,
   "id": "fa635f43",
   "metadata": {
    "ExecuteTime": {
     "end_time": "2023-09-08T08:42:18.103455Z",
     "start_time": "2023-09-08T08:42:18.087407Z"
    }
   },
   "outputs": [],
   "source": [
    "prob_matrix"
   ]
  },
  {
   "cell_type": "code",
   "execution_count": null,
   "id": "476b738f",
   "metadata": {
    "ExecuteTime": {
     "end_time": "2023-09-08T08:42:00.579800Z",
     "start_time": "2023-09-08T08:42:00.563779Z"
    }
   },
   "outputs": [],
   "source": [
    "num_nodes"
   ]
  },
  {
   "cell_type": "code",
   "execution_count": null,
   "id": "4c3ba139",
   "metadata": {
    "ExecuteTime": {
     "end_time": "2023-09-08T08:42:11.654864Z",
     "start_time": "2023-09-08T08:42:11.638850Z"
    }
   },
   "outputs": [],
   "source": [
    "for i in range(num_nodes):\n",
    "    for j in range(num_nodes):\n",
    "        if i == j:\n",
    "            prob_matrix[i, j] = 1\n",
    "        else:\n",
    "            count_i = Counter()\n",
    "            count_j = Counter()\n",
    "            print(co)"
   ]
  },
  {
   "cell_type": "code",
   "execution_count": null,
   "id": "e0216c19",
   "metadata": {
    "ExecuteTime": {
     "end_time": "2023-09-08T08:43:31.897755Z",
     "start_time": "2023-09-08T08:43:31.881703Z"
    }
   },
   "outputs": [],
   "source": [
    "import numpy as np\n",
    "from collections import Counter\n",
    "\n",
    "\n",
    "num_nodes = len(random_walks) // num_walks\n",
    "prob_matrix = np.zeros((num_nodes, num_nodes))\n",
    "\n",
    "for i in range(num_nodes):\n",
    "    for j in range(num_nodes):\n",
    "        if i == j:\n",
    "            prob_matrix[i, j] = 1\n",
    "        else:\n",
    "            count_i = Counter()\n",
    "            count_j = Counter()\n",
    "\n",
    "            for k in range(num_walks):\n",
    "                walk_i = random_walks[i * num_walks + k]\n",
    "                print(walk_i)\n",
    "                walk_j = random_walks[j * num_walks + k]\n",
    "\n",
    "                visited_nodes_i = set()\n",
    "                visited_nodes_j = set()\n",
    "\n",
    "                for step in range(walk_length):\n",
    "                    visited_nodes_i.add(walk_i[step])\n",
    "                    visited_nodes_j.add(walk_j[step])\n",
    "\n",
    "                common_nodes = visited_nodes_i.intersection(visited_nodes_j)\n",
    "                count_i.update(common_nodes)\n",
    "                count_j.update(common_nodes)\n",
    "\n",
    "            common_count = sum(min(count_i[element], count_j[element]) for element in count_i.keys())\n",
    "            prob_matrix[i, j] = common_count / num_walks\n",
    "\n",
    "# return prob_matrix\n"
   ]
  },
  {
   "cell_type": "code",
   "execution_count": null,
   "id": "0a662758",
   "metadata": {
    "ExecuteTime": {
     "end_time": "2023-09-08T08:47:54.481251Z",
     "start_time": "2023-09-08T08:47:54.465203Z"
    }
   },
   "outputs": [],
   "source": [
    "\n",
    "import numpy as np\n",
    "\n",
    "def calculate_probability_matrix(random_walks, num_walks, walk_length):\n",
    "    num_nodes = len(random_walks) // num_walks\n",
    "    prob_matrix = np.zeros((num_nodes, num_nodes))\n",
    "\n",
    "    for i in range(num_nodes):\n",
    "        for j in range(num_nodes):\n",
    "            if i == j:\n",
    "                prob_matrix[i, j] = 1\n",
    "            else:\n",
    "                common_count = 0\n",
    "\n",
    "                for k in range(num_walks):\n",
    "                    walk_i = random_walks[i * num_walks + k]\n",
    "                    walk_j = random_walks[j * num_walks + k]\n",
    "\n",
    "                    # Create sets to keep track of visited nodes in each walk\n",
    "                    visited_nodes_i = set()\n",
    "                    visited_nodes_j = set()\n",
    "\n",
    "                    for step in range(walk_length):\n",
    "                        visited_nodes_i.add(walk_i[step])\n",
    "                        visited_nodes_j.add(walk_j[step])\n",
    "\n",
    "                    common_nodes = visited_nodes_i.intersection(visited_nodes_j)\n",
    "\n",
    "                    # If the node being considered is a common node, increment the count\n",
    "                    if str(j + 1) in common_nodes:\n",
    "                        common_count += 1\n",
    "\n",
    "                prob_matrix[i, j] = common_count / num_walks\n",
    "\n",
    "    return prob_matrix\n",
    "\n",
    "# Example random_walks\n",
    "random_walks = [\n",
    "    ['1', '2', '3','5'],\n",
    "    ['1', '2', '4','4'],\n",
    "    ['2', '1', '3','2'],\n",
    "    ['2', '4', '2','3'],\n",
    "    ['3', '1', '4','2'],\n",
    "    ['3', '1', '2','5'],\n",
    "    ['4', '1', '2','4'],\n",
    "    ['4', '1', '1','3'],\n",
    "    ['5', '1', '3','3'],\n",
    "    ['5', '2', '1','1']\n",
    "]\n",
    "\n",
    "num_walks = 2\n",
    "walk_length = 4\n",
    "\n",
    "# Calculate the probability matrix\n",
    "probability_matrix = calculate_probability_matrix(random_walks, num_walks, walk_length)\n",
    "print(probability_matrix)"
   ]
  },
  {
   "cell_type": "code",
   "execution_count": 1,
   "id": "8b3b573b",
   "metadata": {
    "ExecuteTime": {
     "end_time": "2023-09-08T11:40:29.819290Z",
     "start_time": "2023-09-08T11:40:28.780820Z"
    }
   },
   "outputs": [],
   "source": [
    "import networkx as nx\n",
    "import matplotlib.pyplot as plt\n",
    "\n",
    "# Create an empty graph\n",
    "G = nx.Graph()\n",
    "\n",
    "# Read graph data from the file\n",
    "with open('out.moreno_lesmis_lesmis', 'r') as file:\n",
    "    for line in file:\n",
    "        if line.startswith('%') or not line.strip():\n",
    "            continue\n",
    "        parts = line.split()\n",
    "        if len(parts) == 3:\n",
    "            node1, node2, weight = map(int, parts)\n",
    "            G.add_edge(node1, node2, weight=weight)"
   ]
  },
  {
   "cell_type": "code",
   "execution_count": 3,
   "id": "e0cb954a",
   "metadata": {
    "ExecuteTime": {
     "end_time": "2023-09-08T11:40:39.423165Z",
     "start_time": "2023-09-08T11:40:39.410608Z"
    }
   },
   "outputs": [
    {
     "data": {
      "text/plain": [
       "NodeView((1, 2, 3, 4, 5, 6, 7, 8, 9, 10, 11, 12, 13, 14, 15, 16, 24, 25, 26, 27, 28, 29, 30, 32, 33, 34, 35, 36, 37, 38, 39, 44, 45, 49, 50, 52, 56, 59, 65, 69, 70, 71, 72, 73, 17, 18, 19, 20, 21, 22, 23, 31, 42, 43, 51, 40, 41, 76, 55, 46, 53, 58, 63, 47, 48, 60, 61, 62, 64, 66, 67, 74, 75, 77, 57, 54, 68))"
      ]
     },
     "execution_count": 3,
     "metadata": {},
     "output_type": "execute_result"
    }
   ],
   "source": [
    "G.nodes()"
   ]
  },
  {
   "cell_type": "code",
   "execution_count": 13,
   "id": "cc46d143",
   "metadata": {
    "ExecuteTime": {
     "end_time": "2023-09-08T11:44:07.321552Z",
     "start_time": "2023-09-08T11:44:06.893947Z"
    }
   },
   "outputs": [
    {
     "data": {
      "image/png": "[encoded data removed]",
      "text/plain": [
       "<Figure size 1200x1200 with 1 Axes>"
      ]
     },
     "metadata": {},
     "output_type": "display_data"
    }
   ],
   "source": [
    "# Create a Matplotlib figure and axis with a larger size\n",
    "fig, ax = plt.subplots(figsize=(12, 12))\n",
    "\n",
    "# Choose a different layout algorithm (e.g., circular layout)\n",
    "pos = nx.circular_layout(G)\n",
    "\n",
    "# Plot the graph\n",
    "nx.draw(G, pos, with_labels=True, node_size=100, node_color='skyblue', font_size=6, ax=ax)\n",
    "labels = nx.get_edge_attributes(G, 'weight')\n",
    "nx.draw_networkx_edge_labels(G, pos, edge_labels=labels, font_size=6)\n",
    "\n",
    "# Show the plot\n",
    "plt.show()"
   ]
  },
  {
   "cell_type": "code",
   "execution_count": 9,
   "id": "527bbfc7",
   "metadata": {
    "ExecuteTime": {
     "end_time": "2023-09-08T11:42:40.278231Z",
     "start_time": "2023-09-08T11:42:39.326829Z"
    }
   },
   "outputs": [
    {
     "data": {
      "image/png": "[encoded data removed]",
      "text/plain": [
       "<Figure size 1200x1200 with 1 Axes>"
      ]
     },
     "metadata": {},
     "output_type": "display_data"
    }
   ],
   "source": []
  },
  {
   "cell_type": "code",
   "execution_count": null,
   "id": "7996983e",
   "metadata": {},
   "outputs": [],
   "source": []
  }
 ],
 "metadata": {
  "kernelspec": {
   "display_name": "torch",
   "language": "python",
   "name": "torch"
  },
  "language_info": {
   "codemirror_mode": {
    "name": "ipython",
    "version": 3
   },
   "file_extension": ".py",
   "mimetype": "text/x-python",
   "name": "python",
   "nbconvert_exporter": "python",
   "pygments_lexer": "ipython3",
   "version": "3.9.16"
  },
  "toc": {
   "base_numbering": 1,
   "nav_menu": {},
   "number_sections": true,
   "sideBar": true,
   "skip_h1_title": false,
   "title_cell": "Table of Contents",
   "title_sidebar": "Contents",
   "toc_cell": false,
   "toc_position": {},
   "toc_section_display": true,
   "toc_window_display": false
  }
 },
 "nbformat": 4,
 "nbformat_minor": 5
}
