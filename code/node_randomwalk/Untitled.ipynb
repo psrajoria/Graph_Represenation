{
 "cells": [
  {
   "cell_type": "code",
   "execution_count": 47,
   "id": "4f0d4000",
   "metadata": {
    "ExecuteTime": {
     "end_time": "2023-09-08T13:58:57.828718Z",
     "start_time": "2023-09-08T13:58:57.683368Z"
    }
   },
   "outputs": [
    {
     "data": {
      "application/javascript": [
       "\n",
       "            setTimeout(function() {\n",
       "                var nbb_cell_id = 47;\n",
       "                var nbb_unformatted_code = \"%load_ext nb_black\";\n",
       "                var nbb_formatted_code = \"%load_ext nb_black\";\n",
       "                var nbb_cells = Jupyter.notebook.get_cells();\n",
       "                for (var i = 0; i < nbb_cells.length; ++i) {\n",
       "                    if (nbb_cells[i].input_prompt_number == nbb_cell_id) {\n",
       "                        if (nbb_cells[i].get_text() == nbb_unformatted_code) {\n",
       "                             nbb_cells[i].set_text(nbb_formatted_code);\n",
       "                        }\n",
       "                        break;\n",
       "                    }\n",
       "                }\n",
       "            }, 500);\n",
       "            "
      ],
      "text/plain": [
       "<IPython.core.display.Javascript object>"
      ]
     },
     "metadata": {},
     "output_type": "display_data"
    }
   ],
   "source": [
    "%load_ext nb_black"
   ]
  },
  {
   "cell_type": "code",
   "execution_count": null,
   "id": "ff111e6c",
   "metadata": {
    "ExecuteTime": {
     "end_time": "2023-09-07T20:56:26.931069Z",
     "start_time": "2023-09-07T20:56:25.616727Z"
    }
   },
   "outputs": [],
   "source": [
    "import networkx as nx\n",
    "import random\n",
    "import numpy as np\n",
    "from typing import List\n",
    "from tqdm import tqdm\n",
    "from gensim.models.word2vec import Word2Vec\n",
    "\n",
    "import matplotlib.pyplot as plt\n",
    "from IPython.display import display\n",
    "from PIL import Image"
   ]
  },
  {
   "cell_type": "code",
   "execution_count": 49,
   "id": "65a8ceed",
   "metadata": {
    "ExecuteTime": {
     "end_time": "2023-09-08T13:59:44.297094Z",
     "start_time": "2023-09-08T13:59:44.108339Z"
    }
   },
   "outputs": [
    {
     "data": {
      "application/javascript": [
       "\n",
       "            setTimeout(function() {\n",
       "                var nbb_cell_id = 49;\n",
       "                var nbb_unformatted_code = \"import numpy as np\\nimport torch\\nimport networkx as nx\\nimport matplotlib.pyplot as plt\\nfrom tqdm import tqdm\\nimport os\\nimport datetime\\nfrom scipy.sparse import lil_matrix\\n\\n# Import PyTorch libraries\\nimport torch\\nimport torch.nn as nn\\nimport torch.optim as optim\\n\\n# Define the SkipGram model\\nclass SkipGram(nn.Module):\\n    \\\"\\\"\\\"\\n    SkipGram model for word embeddings.\\n\\n    Args:\\n        vocab_size (int): Vocabulary size, the number of unique words.\\n        embedding_dim (int): Dimension of word embeddings.\\n        weight_decay (float, optional): Weight decay for the optimizer (L2 regularization). Default is 1e-5.\\n\\n    Attributes:\\n        in_embed (nn.Embedding): Input embedding layer.\\n        out_embed (nn.Embedding): Output embedding layer.\\n        weight_decay (float): Weight decay for regularization.\\n\\n    Methods:\\n        forward(target, context): Forward pass of the model.\\n    \\\"\\\"\\\"\\n\\n    def __init__(self, vocab_size, embedding_dim, weight_decay=1e-5):\\n        super(SkipGram, self).__init__()\\n        self.in_embed = nn.Embedding(vocab_size, embedding_dim)\\n        self.out_embed = nn.Embedding(vocab_size, embedding_dim)\\n        self.weight_decay = weight_decay\\n\\n    def forward(self, target, context):\\n        \\\"\\\"\\\"\\n        Forward pass of the SkipGram model.\\n\\n        Args:\\n            target (torch.Tensor): Target word indices.\\n            context (torch.Tensor): Context word indices.\\n\\n        Returns:\\n            scores (torch.Tensor): Word similarity scores.\\n        \\\"\\\"\\\"\\n        target_embeds = self.in_embed(target)\\n        context_embeds = self.out_embed(context)\\n        scores = target_embeds @ context_embeds.t()\\n        return scores\\n\\n\\nclass GraphEmbedding:\\n    \\\"\\\"\\\"\\n    GraphEmbedding class for node embeddings using random walks on a graph.\\n\\n    Args:\\n        graph (nx.Graph): Input graph.\\n        return_param (float): Return parameter for random walks.\\n        in_out_param (float): In-Out parameter for random walks.\\n        num_walks (int): Number of random walks per node.\\n        walk_length (int): Length of each random walk.\\n\\n    Attributes:\\n        graph (nx.Graph): Input graph.\\n        return_param (float): Return parameter for random walks.\\n        in_out_param (float): In-Out parameter for random walks.\\n        num_walks (int): Number of random walks per node.\\n        walk_length (int): Length of each random walk.\\n        transition_probs (dict): Transition probabilities for nodes.\\n\\n    Methods:\\n        calculate_transition_probabilities(): Calculate transition probabilities for random walks.\\n        generate_random_walks(): Generate random walks on the graph.\\n        training(walks, window_size, dimension, epochs, weight_decay=1e-5, learning_rate=0.025): Train word embeddings using SkipGram.\\n        calculate_probability_matrix(random_walks): Calculate a probability matrix based on common node visits in walks.\\n    \\\"\\\"\\\"\\n\\n    def __init__(self, graph, return_param, in_out_param, num_walks, walk_length):\\n        self.graph = graph\\n        self.return_param = return_param\\n        self.in_out_param = in_out_param\\n        self.num_walks = num_walks\\n        self.walk_length = walk_length\\n        self.transition_probs = None\\n\\n    def calculate_transition_probabilities(self):\\n        \\\"\\\"\\\"\\n        Calculate transition probabilities for random walks.\\n\\n        Returns:\\n            transition_probs (dict): Transition probabilities for nodes.\\n        \\\"\\\"\\\"\\n        G = self.graph\\n        transition_probs = {}\\n        return_param = self.return_param\\n        in_out_param = self.in_out_param\\n\\n        for source_node in tqdm(G.nodes(), desc=\\\"Calculating Transition Probabilities\\\"):\\n            transition_probs[source_node] = {\\\"probabilities\\\": {}}\\n            for current_node in G.neighbors(source_node):\\n                probabilities = list()\\n\\n                for destination_node in G.neighbors(current_node):\\n                    if source_node == destination_node:\\n                        probability = G[current_node][destination_node].get(\\\"weight\\\", 1) * (1 / return_param)\\n                    elif destination_node in G.neighbors(source_node):\\n                        probability = G[current_node][destination_node].get(\\\"weight\\\", 1)\\n                    else:\\n                        probability = G[current_node][destination_node].get(\\\"weight\\\", 1) * (1 / in_out_param)\\n\\n                    probabilities.append(probability)\\n\\n                sum_probabilities = np.sum(probabilities)\\n                transition_probs[source_node][\\\"probabilities\\\"][current_node] = [p / sum_probabilities for p in probabilities]\\n\\n        self.transition_probs = transition_probs\\n        return transition_probs\\n\\n    def generate_random_walks(self):\\n        \\\"\\\"\\\"\\n        Generate random walks on the graph.\\n\\n        Returns:\\n            random_walks (list): List of random walks.\\n            unshuffled_random_walks (list): List of unshuffled random walks.\\n        \\\"\\\"\\\"\\n        G = self.graph\\n        random_walks = list()\\n        device = 'cuda' if torch.cuda.is_available() else 'cpu'\\n\\n        for start_node in tqdm(G.nodes(), desc=\\\"Generating Random Walks\\\"):\\n            for i in range(self.num_walks):\\n                walk = [start_node]\\n                walk_options = list(G[start_node])\\n\\n                if len(walk_options) == 0:\\n                    break\\n                first_step = np.random.choice(walk_options)\\n                walk.append(first_step)\\n\\n                for _ in range(self.walk_length - 2):\\n                    walk_options = list(G[walk[-1]])\\n                    if len(walk_options) == 0:\\n                        break\\n                    current_node = walk[-1]\\n                    probabilities = self.transition_probs[walk[-2]][\\\"probabilities\\\"][current_node]\\n\\n                    # Move probabilities to the GPU if available\\n                    probabilities = torch.tensor(probabilities, device=device)\\n\\n                    next_step = np.random.choice(walk_options, p=probabilities.cpu().numpy())\\n                    walk.append(next_step)\\n\\n                random_walks.append(walk)\\n        unshuffled_random_walks = [list(map(str, walk)) for walk in random_walks]\\n        np.random.shuffle(random_walks)\\n\\n        random_walks = [list(map(str, walk)) for walk in random_walks]\\n        return random_walks, unshuffled_random_walks\\n\\n    def training(self, walks, window_size, dimension, epochs, weight_decay=1e-5, learning_rate=0.025):\\n        \\\"\\\"\\\"\\n        Train word embeddings using SkipGram.\\n\\n        Args:\\n            walks (list): List of random walks.\\n            window_size (int): Window size for SkipGram.\\n            dimension (int): Dimension of word embeddings.\\n            epochs (int): Number of training epochs.\\n            weight_decay (float, optional): Weight decay for the optimizer (L2 regularization). Default is 1e-5.\\n            learning_rate (float, optional): Learning rate for optimization. Default is 0.025.\\n\\n        Returns:\\n            model (SkipGram): Trained SkipGram model.\\n        \\\"\\\"\\\"\\n        # Build vocabulary\\n        vocab = set(word for walk in walks for word in walk)\\n        word_to_index = {word: i for i, word in enumerate(vocab)}\\n        index_to_word = {i: word for word, i in word_to_index.items()}\\n        vocab_size = len(vocab)\\n\\n        # Create the SkipGram model\\n        model = SkipGram(vocab_size, dimension, weight_decay)\\n        optimizer = optim.SGD(model.parameters(), lr=learning_rate, weight_decay=weight_decay)\\n\\n        loss_values = []\\n\\n        for epoch in tqdm(range(epochs), desc=\\\"Training Word2Vec\\\"):\\n            total_loss = 0\\n            for walk in walks:\\n                for target_pos in range(len(walk)):\\n                    target_word = word_to_index[walk[target_pos]]\\n                    context_words = [\\n                        word_to_index[walk[i]]\\n                        for i in range(\\n                            max(0, target_pos - window_size),\\n                            min(len(walk), target_pos + window_size + 1)\\n                        )\\n                        if i != target_pos  # Exclude the target word itself\\n                    ]\\n\\n                    target = torch.tensor([target_word], dtype=torch.long)\\n                    context = torch.tensor(context_words, dtype=torch.long)\\n\\n                    scores = model(target, context)\\n                    loss = -torch.log(torch.sigmoid(scores)).mean()\\n\\n                    optimizer.zero_grad()\\n                    loss.backward()\\n                    optimizer.step()\\n\\n                    total_loss += loss.item()\\n\\n            loss_values.append(total_loss)\\n\\n        plt.plot(loss_values, label='Training Loss')\\n        plt.xlabel('Epoch')\\n        plt.ylabel('Loss')\\n        plt.title('Word2Vec Training Loss')\\n\\n        # Create a folder with the current date and time, and training parameters as the name\\n        timestamp = datetime.datetime.now().strftime(\\\"%Y%m%d%H%M%S\\\")\\n        today_date = datetime.date.today().strftime(\\\"%d_%m_%Y\\\")\\n        param_names = f\\\"window{window_size}_dim{dimension}_epochs{epochs}_lr{learning_rate}\\\"\\n        folder_name = f\\\"loss_plots_{today_date}\\\"\\n\\n        # Check if the folder exists, and if not, create it\\n        if not os.path.exists(folder_name):\\n            os.makedirs(folder_name)\\n\\n        # Save the plot in the folder with a filename including the timestamp\\n        plot_filename = os.path.join(folder_name, f\\\"word2vec_training_loss_{param_names}_{timestamp}.png\\\")\\n        plt.savefig(plot_filename)\\n\\n        # Show the plot (optional)\\n        plt.show()\\n\\n        return model\\n\\n    def calculate_probability_matrix(self, random_walks):\\n        \\\"\\\"\\\"\\n        Calculate a probability matrix based on common node visits in walks.\\n\\n        Args:\\n            random_walks (list): List of random walks.\\n\\n        Returns:\\n            prob_matrix (np.ndarray): Probability matrix.\\n        \\\"\\\"\\\"\\n        num_nodes = len(random_walks) // self.num_walks\\n        prob_matrix = np.zeros((num_nodes, num_nodes))\\n\\n        for i in tqdm(range(num_nodes), desc=\\\"Calculating Probabilities\\\"):\\n            for j in range(num_nodes):\\n                if i == j:\\n                    prob_matrix[i, j] = 1\\n                else:\\n                    common_count = 0\\n\\n                    for k in range(self.num_walks):\\n                        walk_i = random_walks[i * self.num_walks + k]\\n                        walk_j = random_walks[j * self.num_walks + k]\\n\\n                        visited_nodes_i = set()\\n                        visited_nodes_j = set()\\n\\n                        for step in range(self.walk_length):\\n                            visited_nodes_i.add(walk_i[step])\\n                            visited_nodes_j.add(walk_j[step])\\n\\n                        common_nodes = visited_nodes_i.intersection(visited_nodes_j)\\n\\n                        if str(j) in common_nodes:\\n                            common_count += 1\\n\\n                    prob_matrix[i, j] = common_count / self.num_walks\\n\\n        return prob_matrix\";\n",
       "                var nbb_formatted_code = \"import numpy as np\\nimport torch\\nimport networkx as nx\\nimport matplotlib.pyplot as plt\\nfrom tqdm import tqdm\\nimport os\\nimport datetime\\nfrom scipy.sparse import lil_matrix\\n\\n# Import PyTorch libraries\\nimport torch\\nimport torch.nn as nn\\nimport torch.optim as optim\\n\\n\\n# Define the SkipGram model\\nclass SkipGram(nn.Module):\\n    \\\"\\\"\\\"\\n    SkipGram model for word embeddings.\\n\\n    Args:\\n        vocab_size (int): Vocabulary size, the number of unique words.\\n        embedding_dim (int): Dimension of word embeddings.\\n        weight_decay (float, optional): Weight decay for the optimizer (L2 regularization). Default is 1e-5.\\n\\n    Attributes:\\n        in_embed (nn.Embedding): Input embedding layer.\\n        out_embed (nn.Embedding): Output embedding layer.\\n        weight_decay (float): Weight decay for regularization.\\n\\n    Methods:\\n        forward(target, context): Forward pass of the model.\\n    \\\"\\\"\\\"\\n\\n    def __init__(self, vocab_size, embedding_dim, weight_decay=1e-5):\\n        super(SkipGram, self).__init__()\\n        self.in_embed = nn.Embedding(vocab_size, embedding_dim)\\n        self.out_embed = nn.Embedding(vocab_size, embedding_dim)\\n        self.weight_decay = weight_decay\\n\\n    def forward(self, target, context):\\n        \\\"\\\"\\\"\\n        Forward pass of the SkipGram model.\\n\\n        Args:\\n            target (torch.Tensor): Target word indices.\\n            context (torch.Tensor): Context word indices.\\n\\n        Returns:\\n            scores (torch.Tensor): Word similarity scores.\\n        \\\"\\\"\\\"\\n        target_embeds = self.in_embed(target)\\n        context_embeds = self.out_embed(context)\\n        scores = target_embeds @ context_embeds.t()\\n        return scores\\n\\n\\nclass GraphEmbedding:\\n    \\\"\\\"\\\"\\n    GraphEmbedding class for node embeddings using random walks on a graph.\\n\\n    Args:\\n        graph (nx.Graph): Input graph.\\n        return_param (float): Return parameter for random walks.\\n        in_out_param (float): In-Out parameter for random walks.\\n        num_walks (int): Number of random walks per node.\\n        walk_length (int): Length of each random walk.\\n\\n    Attributes:\\n        graph (nx.Graph): Input graph.\\n        return_param (float): Return parameter for random walks.\\n        in_out_param (float): In-Out parameter for random walks.\\n        num_walks (int): Number of random walks per node.\\n        walk_length (int): Length of each random walk.\\n        transition_probs (dict): Transition probabilities for nodes.\\n\\n    Methods:\\n        calculate_transition_probabilities(): Calculate transition probabilities for random walks.\\n        generate_random_walks(): Generate random walks on the graph.\\n        training(walks, window_size, dimension, epochs, weight_decay=1e-5, learning_rate=0.025): Train word embeddings using SkipGram.\\n        calculate_probability_matrix(random_walks): Calculate a probability matrix based on common node visits in walks.\\n    \\\"\\\"\\\"\\n\\n    def __init__(self, graph, return_param, in_out_param, num_walks, walk_length):\\n        self.graph = graph\\n        self.return_param = return_param\\n        self.in_out_param = in_out_param\\n        self.num_walks = num_walks\\n        self.walk_length = walk_length\\n        self.transition_probs = None\\n\\n    def calculate_transition_probabilities(self):\\n        \\\"\\\"\\\"\\n        Calculate transition probabilities for random walks.\\n\\n        Returns:\\n            transition_probs (dict): Transition probabilities for nodes.\\n        \\\"\\\"\\\"\\n        G = self.graph\\n        transition_probs = {}\\n        return_param = self.return_param\\n        in_out_param = self.in_out_param\\n\\n        for source_node in tqdm(G.nodes(), desc=\\\"Calculating Transition Probabilities\\\"):\\n            transition_probs[source_node] = {\\\"probabilities\\\": {}}\\n            for current_node in G.neighbors(source_node):\\n                probabilities = list()\\n\\n                for destination_node in G.neighbors(current_node):\\n                    if source_node == destination_node:\\n                        probability = G[current_node][destination_node].get(\\n                            \\\"weight\\\", 1\\n                        ) * (1 / return_param)\\n                    elif destination_node in G.neighbors(source_node):\\n                        probability = G[current_node][destination_node].get(\\\"weight\\\", 1)\\n                    else:\\n                        probability = G[current_node][destination_node].get(\\n                            \\\"weight\\\", 1\\n                        ) * (1 / in_out_param)\\n\\n                    probabilities.append(probability)\\n\\n                sum_probabilities = np.sum(probabilities)\\n                transition_probs[source_node][\\\"probabilities\\\"][current_node] = [\\n                    p / sum_probabilities for p in probabilities\\n                ]\\n\\n        self.transition_probs = transition_probs\\n        return transition_probs\\n\\n    def generate_random_walks(self):\\n        \\\"\\\"\\\"\\n        Generate random walks on the graph.\\n\\n        Returns:\\n            random_walks (list): List of random walks.\\n            unshuffled_random_walks (list): List of unshuffled random walks.\\n        \\\"\\\"\\\"\\n        G = self.graph\\n        random_walks = list()\\n        device = \\\"cuda\\\" if torch.cuda.is_available() else \\\"cpu\\\"\\n\\n        for start_node in tqdm(G.nodes(), desc=\\\"Generating Random Walks\\\"):\\n            for i in range(self.num_walks):\\n                walk = [start_node]\\n                walk_options = list(G[start_node])\\n\\n                if len(walk_options) == 0:\\n                    break\\n                first_step = np.random.choice(walk_options)\\n                walk.append(first_step)\\n\\n                for _ in range(self.walk_length - 2):\\n                    walk_options = list(G[walk[-1]])\\n                    if len(walk_options) == 0:\\n                        break\\n                    current_node = walk[-1]\\n                    probabilities = self.transition_probs[walk[-2]][\\\"probabilities\\\"][\\n                        current_node\\n                    ]\\n\\n                    # Move probabilities to the GPU if available\\n                    probabilities = torch.tensor(probabilities, device=device)\\n\\n                    next_step = np.random.choice(\\n                        walk_options, p=probabilities.cpu().numpy()\\n                    )\\n                    walk.append(next_step)\\n\\n                random_walks.append(walk)\\n        unshuffled_random_walks = [list(map(str, walk)) for walk in random_walks]\\n        np.random.shuffle(random_walks)\\n\\n        random_walks = [list(map(str, walk)) for walk in random_walks]\\n        return random_walks, unshuffled_random_walks\\n\\n    def training(\\n        self,\\n        walks,\\n        window_size,\\n        dimension,\\n        epochs,\\n        weight_decay=1e-5,\\n        learning_rate=0.025,\\n    ):\\n        \\\"\\\"\\\"\\n        Train word embeddings using SkipGram.\\n\\n        Args:\\n            walks (list): List of random walks.\\n            window_size (int): Window size for SkipGram.\\n            dimension (int): Dimension of word embeddings.\\n            epochs (int): Number of training epochs.\\n            weight_decay (float, optional): Weight decay for the optimizer (L2 regularization). Default is 1e-5.\\n            learning_rate (float, optional): Learning rate for optimization. Default is 0.025.\\n\\n        Returns:\\n            model (SkipGram): Trained SkipGram model.\\n        \\\"\\\"\\\"\\n        # Build vocabulary\\n        vocab = set(word for walk in walks for word in walk)\\n        word_to_index = {word: i for i, word in enumerate(vocab)}\\n        index_to_word = {i: word for word, i in word_to_index.items()}\\n        vocab_size = len(vocab)\\n\\n        # Create the SkipGram model\\n        model = SkipGram(vocab_size, dimension, weight_decay)\\n        optimizer = optim.SGD(\\n            model.parameters(), lr=learning_rate, weight_decay=weight_decay\\n        )\\n\\n        loss_values = []\\n\\n        for epoch in tqdm(range(epochs), desc=\\\"Training Word2Vec\\\"):\\n            total_loss = 0\\n            for walk in walks:\\n                for target_pos in range(len(walk)):\\n                    target_word = word_to_index[walk[target_pos]]\\n                    context_words = [\\n                        word_to_index[walk[i]]\\n                        for i in range(\\n                            max(0, target_pos - window_size),\\n                            min(len(walk), target_pos + window_size + 1),\\n                        )\\n                        if i != target_pos  # Exclude the target word itself\\n                    ]\\n\\n                    target = torch.tensor([target_word], dtype=torch.long)\\n                    context = torch.tensor(context_words, dtype=torch.long)\\n\\n                    scores = model(target, context)\\n                    loss = -torch.log(torch.sigmoid(scores)).mean()\\n\\n                    optimizer.zero_grad()\\n                    loss.backward()\\n                    optimizer.step()\\n\\n                    total_loss += loss.item()\\n\\n            loss_values.append(total_loss)\\n\\n        plt.plot(loss_values, label=\\\"Training Loss\\\")\\n        plt.xlabel(\\\"Epoch\\\")\\n        plt.ylabel(\\\"Loss\\\")\\n        plt.title(\\\"Word2Vec Training Loss\\\")\\n\\n        # Create a folder with the current date and time, and training parameters as the name\\n        timestamp = datetime.datetime.now().strftime(\\\"%Y%m%d%H%M%S\\\")\\n        today_date = datetime.date.today().strftime(\\\"%d_%m_%Y\\\")\\n        param_names = (\\n            f\\\"window{window_size}_dim{dimension}_epochs{epochs}_lr{learning_rate}\\\"\\n        )\\n        folder_name = f\\\"loss_plots_{today_date}\\\"\\n\\n        # Check if the folder exists, and if not, create it\\n        if not os.path.exists(folder_name):\\n            os.makedirs(folder_name)\\n\\n        # Save the plot in the folder with a filename including the timestamp\\n        plot_filename = os.path.join(\\n            folder_name, f\\\"word2vec_training_loss_{param_names}_{timestamp}.png\\\"\\n        )\\n        plt.savefig(plot_filename)\\n\\n        # Show the plot (optional)\\n        plt.show()\\n\\n        return model\\n\\n    def calculate_probability_matrix(self, random_walks):\\n        \\\"\\\"\\\"\\n        Calculate a probability matrix based on common node visits in walks.\\n\\n        Args:\\n            random_walks (list): List of random walks.\\n\\n        Returns:\\n            prob_matrix (np.ndarray): Probability matrix.\\n        \\\"\\\"\\\"\\n        num_nodes = len(random_walks) // self.num_walks\\n        prob_matrix = np.zeros((num_nodes, num_nodes))\\n\\n        for i in tqdm(range(num_nodes), desc=\\\"Calculating Probabilities\\\"):\\n            for j in range(num_nodes):\\n                if i == j:\\n                    prob_matrix[i, j] = 1\\n                else:\\n                    common_count = 0\\n\\n                    for k in range(self.num_walks):\\n                        walk_i = random_walks[i * self.num_walks + k]\\n                        walk_j = random_walks[j * self.num_walks + k]\\n\\n                        visited_nodes_i = set()\\n                        visited_nodes_j = set()\\n\\n                        for step in range(self.walk_length):\\n                            visited_nodes_i.add(walk_i[step])\\n                            visited_nodes_j.add(walk_j[step])\\n\\n                        common_nodes = visited_nodes_i.intersection(visited_nodes_j)\\n\\n                        if str(j) in common_nodes:\\n                            common_count += 1\\n\\n                    prob_matrix[i, j] = common_count / self.num_walks\\n\\n        return prob_matrix\";\n",
       "                var nbb_cells = Jupyter.notebook.get_cells();\n",
       "                for (var i = 0; i < nbb_cells.length; ++i) {\n",
       "                    if (nbb_cells[i].input_prompt_number == nbb_cell_id) {\n",
       "                        if (nbb_cells[i].get_text() == nbb_unformatted_code) {\n",
       "                             nbb_cells[i].set_text(nbb_formatted_code);\n",
       "                        }\n",
       "                        break;\n",
       "                    }\n",
       "                }\n",
       "            }, 500);\n",
       "            "
      ],
      "text/plain": [
       "<IPython.core.display.Javascript object>"
      ]
     },
     "metadata": {},
     "output_type": "display_data"
    }
   ],
   "source": []
  },
  {
   "cell_type": "code",
   "execution_count": null,
   "id": "24a73c78",
   "metadata": {
    "ExecuteTime": {
     "end_time": "2023-09-07T13:22:06.590122Z",
     "start_time": "2023-09-07T13:22:06.563708Z"
    }
   },
   "outputs": [],
   "source": [
    "# computer transition probabilities\n",
    "\n",
    "\n",
    "def transition_probabilities(graph, probs, p, q):\n",
    "    G = graph\n",
    "    for source_node in G.nodes():\n",
    "        for current_node in G.neighbors(source_node):\n",
    "            probs_ = list()\n",
    "            for destination in G.neighbors(current_node):\n",
    "                if source_node == destination:\n",
    "                    prob_ = G[current_node][destination].get(\"wieght\", 1) * (1 / p)\n",
    "                elif destination in G.neighbors(source_node):\n",
    "                    prob_ = G[current_node][destination].get(\"weight\", 1)\n",
    "                else:\n",
    "                    prob_ = G[current_node][destination].get(\"weight\", 1) * (1 / q)\n",
    "\n",
    "                probs_.append(prob_)\n",
    "            probs[source_node][\"probabilities\"][current_node] = probs_ / np.sum(probs_)\n",
    "\n",
    "    return probs"
   ]
  },
  {
   "cell_type": "code",
   "execution_count": null,
   "id": "c3c5e6da",
   "metadata": {
    "ExecuteTime": {
     "end_time": "2023-09-07T13:22:06.617037Z",
     "start_time": "2023-09-07T13:22:06.590122Z"
    }
   },
   "outputs": [],
   "source": [
    "## Baised random walk\n",
    "\n",
    "\n",
    "def random_walks(graph, probs, num_walks, walk_len):\n",
    "    G = graph\n",
    "    walks = list()\n",
    "    for start_node in G.nodes():\n",
    "        for i in range(num_walks):\n",
    "            walk = [start_node]\n",
    "            walk_options = list(G[start_node])\n",
    "            if len(walk_options) == 0:\n",
    "                break\n",
    "            first_step = np.random.choice(walk_options)\n",
    "            walk.append(first_step)\n",
    "            for k in range(walk_len - 2):\n",
    "                walk_options = list(G[walk[-1]])\n",
    "                if len(walk_options) == 0:\n",
    "                    break\n",
    "                probabilities = probs[walk[-2]][\"probabilities\"][walk[-1]]\n",
    "                next_step = np.random.choice(walk_options, p=probabilities)\n",
    "                walk.append(next_step)\n",
    "            walks.append(walk)\n",
    "    np.random.shuffle(walks)\n",
    "    walks = [list(map(str, walk)) for walk in walks]\n",
    "    return walks"
   ]
  },
  {
   "cell_type": "code",
   "execution_count": null,
   "id": "37f2f27f",
   "metadata": {
    "ExecuteTime": {
     "end_time": "2023-09-07T13:22:06.626502Z",
     "start_time": "2023-09-07T13:22:06.617037Z"
    }
   },
   "outputs": [],
   "source": [
    "def training(walks, window_size, dim):\n",
    "    model = Word2Vec(sentences=walks, window=window_size, vector_size=dim)\n",
    "\n",
    "    return model.wv"
   ]
  },
  {
   "cell_type": "code",
   "execution_count": null,
   "id": "19c8a954",
   "metadata": {
    "ExecuteTime": {
     "end_time": "2023-09-07T17:35:58.659923Z",
     "start_time": "2023-09-07T17:35:58.469138Z"
    }
   },
   "outputs": [],
   "source": [
    "import numpy as np\n",
    "from gensim.models import Word2Vec\n",
    "import networkx as nx\n",
    "\n",
    "\n",
    "class GraphEmbedding:\n",
    "    \"\"\"\n",
    "    A class for computing node embeddings from a graph using random walks and Word2Vec.\n",
    "\n",
    "    Args:\n",
    "        graph (networkx.Graph): The input graph.\n",
    "        p (float): Return parameter p for the node2vec algorithm.\n",
    "        q (float): In-out parameter q for the node2vec algorithm.\n",
    "        num_walks (int): Number of random walks to perform per node.\n",
    "        walk_len (int): Length of each random walk.\n",
    "        window_size (int): The window size for the Word2Vec model.\n",
    "        dim (int): The dimensionality of the node embeddings.\n",
    "        negative (int): Number of negative samples to use for negative sampling.\n",
    "\n",
    "    Attributes:\n",
    "        graph (networkx.Graph): The input graph.\n",
    "        p (float): Return parameter p for the node2vec algorithm.\n",
    "        q (float): In-out parameter q for the node2vec algorithm.\n",
    "        num_walks (int): Number of random walks to perform per node.\n",
    "        walk_len (int): Length of each random walk.\n",
    "        window_size (int): The window size for the Word2Vec model.\n",
    "        dim (int): The dimensionality of the node embeddings.\n",
    "        negative (int): Number of negative samples to use for negative sampling.\n",
    "        probs (dict): Store transition probabilities.\n",
    "    \"\"\"\n",
    "\n",
    "    def __init__(self, graph, p, q, num_walks, walk_len, window_size, dim, negative):\n",
    "        self.graph = graph\n",
    "        self.p = p\n",
    "        self.q = q\n",
    "        self.num_walks = num_walks\n",
    "        self.walk_len = walk_len\n",
    "        self.window_size = window_size\n",
    "        self.dim = dim\n",
    "        self.negative = negative\n",
    "        self.probs = None  # Store transition probabilities\n",
    "\n",
    "    def transition_probabilities(self):\n",
    "        \"\"\"\n",
    "        Compute transition probabilities for random walks on the graph.\n",
    "\n",
    "        Returns:\n",
    "            dict: A dictionary containing the transition probabilities for each node.\n",
    "        \"\"\"\n",
    "        G = self.graph\n",
    "        probs = {}\n",
    "\n",
    "        for source_node in G.nodes():\n",
    "            probs[source_node] = {\"probabilities\": {}}\n",
    "            for current_node in G.neighbors(source_node):\n",
    "                probs_ = list()\n",
    "                for destination in G.neighbors(current_node):\n",
    "                    if source_node == destination:\n",
    "                        prob_ = G[current_node][destination].get(\"weight\", 1) * (\n",
    "                            1 / self.p\n",
    "                        )\n",
    "                    elif destination in G.neighbors(source_node):\n",
    "                        prob_ = G[current_node][destination].get(\"weight\", 1)\n",
    "                    else:\n",
    "                        prob_ = G[current_node][destination].get(\"weight\", 1) * (\n",
    "                            1 / self.q\n",
    "                        )\n",
    "\n",
    "                    probs_.append(prob_)\n",
    "                probs[source_node][\"probabilities\"][current_node] = probs_ / np.sum(\n",
    "                    probs_\n",
    "                )\n",
    "\n",
    "        self.probs = probs  # Store transition probabilities\n",
    "        return probs\n",
    "    \n",
    "\n",
    "    def random_walks(self):\n",
    "        \"\"\"\n",
    "        Generate random walks on the graph.\n",
    "\n",
    "        Returns:\n",
    "            list: A list of random walks as sequences of node IDs.\n",
    "        \"\"\"\n",
    "        G = self.graph\n",
    "        walks = list()\n",
    "        num_nodes = len(G.nodes())\n",
    "        S = np.zeros((num_nodes, num_nodes))  # Initialize the similarity matrix\n",
    "\n",
    "\n",
    "        for start_node in G.nodes():\n",
    "            for i in range(self.num_walks):\n",
    "                walk = [start_node]\n",
    "                walk_options = list(G[start_node])\n",
    "\n",
    "                if len(walk_options) == 0:\n",
    "                    break\n",
    "\n",
    "                first_step = np.random.choice(walk_options)\n",
    "                walk.append(first_step)\n",
    "\n",
    "                for k in range(self.walk_len - 2):\n",
    "                    walk_options = list(G[walk[-1]])\n",
    "\n",
    "                    if len(walk_options) == 0:\n",
    "                        break\n",
    "\n",
    "                    probabilities = self.probs[walk[-2]][\"probabilities\"][walk[-1]]\n",
    "                    next_step = np.random.choice(walk_options, p=probabilities)\n",
    "                    walk.append(next_step)\n",
    "\n",
    "                walks.append(walk)\n",
    "                # Update the similarity matrix\n",
    "                for node_j in G.nodes():\n",
    "                    if node_j == start_node:\n",
    "                        S[start_node][node_j] = 1.000  # Probability of visiting itself is 1\n",
    "                    elif node_j not in walk:\n",
    "                        S[start_node][node_j] = 0.000  # Probability of not visiting is 0\n",
    "                    else:\n",
    "                        # Calculate the probability of visiting node_j during the walk\n",
    "                        prob_ij = walk.count(node_j) / (self.walk_len - 1)\n",
    "                        S[start_node][node_j] += prob_ij\n",
    "        np.random.shuffle(walks)\n",
    "        walks = [list(map(str, walk)) for walk in walks]\n",
    "\n",
    "        return walks, S\n",
    "\n",
    "\n",
    "    def train_embedding(self, walks, dim=None, window_size=None, negative=None):\n",
    "        \"\"\"\n",
    "        Train node embeddings using Word2Vec.\n",
    "\n",
    "        Args:\n",
    "            walks (list): List of random walks.\n",
    "            dim (int, optional): The dimensionality of the node embeddings. If None, use the class's dim.\n",
    "            window_size (int, optional): The window size for the Word2Vec model. If None, use the class's window_size.\n",
    "            negative (int, optional): Number of negative samples to use for negative sampling.\n",
    "                If None, use the class's negative value.\n",
    "\n",
    "        Returns:\n",
    "            gensim.models.keyedvectors.KeyedVectors: Trained Word2Vec model.\n",
    "        \"\"\"\n",
    "        if dim is None:\n",
    "            dim = self.dim\n",
    "        if window_size is None:\n",
    "            window_size = self.window_size\n",
    "        if negative is None:\n",
    "            negative = self.negative\n",
    "\n",
    "        model = Word2Vec(\n",
    "            sentences=walks,\n",
    "            window=window_size,\n",
    "            vector_size=dim,\n",
    "            sg=1,\n",
    "            negative=negative,\n",
    "        )\n",
    "        return model.wv"
   ]
  },
  {
   "cell_type": "code",
   "execution_count": null,
   "id": "b0677406",
   "metadata": {
    "ExecuteTime": {
     "end_time": "2023-09-07T18:54:15.571951Z",
     "start_time": "2023-09-07T18:54:15.510956Z"
    }
   },
   "outputs": [],
   "source": [
    "# Define your objective function\n",
    "def loss_function(params):\n",
    "    (\n",
    "        dimensions,\n",
    "        walk_length,\n",
    "        num_walks,\n",
    "        p,\n",
    "        q,\n",
    "        learning_rate,\n",
    "        window_size,\n",
    "        epochs,\n",
    "        negative_samples,\n",
    "        batch_size,\n",
    "    ) = params\n",
    "\n",
    "    # Create and train the Node2Vec model\n",
    "    node2vec_model = Node2Vec(\n",
    "        G,\n",
    "        int(dimensions),\n",
    "        int(walk_length),\n",
    "        int(num_walks),\n",
    "        p,\n",
    "        q,\n",
    "        learning_rate,\n",
    "        int(window_size),\n",
    "        int(epochs),\n",
    "        int(negative_samples),\n",
    "    )\n",
    "    node2vec_model.train(int(batch_size))\n",
    "    S = node2vec_model.compute_similarity_matrix()\n",
    "\n",
    "    # Calculate the objective function value\n",
    "    embeddings = node2vec_model.get_embeddings()\n",
    "    Z_transpose = np.transpose(embeddings)\n",
    "    diff = np.dot(Z_transpose, embeddings) - S\n",
    "    #     loss_func = np.linalg.norm(diff) ** 2\n",
    "    loss_func = np.linalg.norm(diff)\n",
    "    return loss_func"
   ]
  },
  {
   "cell_type": "code",
   "execution_count": null,
   "id": "29aa0e3b",
   "metadata": {},
   "outputs": [],
   "source": []
  },
  {
   "cell_type": "code",
   "execution_count": null,
   "id": "564e37d3",
   "metadata": {
    "ExecuteTime": {
     "end_time": "2023-09-07T17:36:04.569114Z",
     "start_time": "2023-09-07T17:36:04.552553Z"
    }
   },
   "outputs": [],
   "source": [
    "G = nx.karate_club_graph()"
   ]
  },
  {
   "cell_type": "code",
   "execution_count": null,
   "id": "11170ba5",
   "metadata": {
    "ExecuteTime": {
     "end_time": "2023-09-07T17:36:05.003561Z",
     "start_time": "2023-09-07T17:36:04.971793Z"
    }
   },
   "outputs": [],
   "source": [
    "G"
   ]
  },
  {
   "cell_type": "code",
   "execution_count": null,
   "id": "9943a76b",
   "metadata": {
    "ExecuteTime": {
     "end_time": "2023-09-07T17:36:05.337082Z",
     "start_time": "2023-09-07T17:36:05.326740Z"
    }
   },
   "outputs": [],
   "source": [
    "# from collections import defaultdict\n",
    "\n",
    "# probs = defaultdict(dict)\n"
   ]
  },
  {
   "cell_type": "code",
   "execution_count": null,
   "id": "b47f9386",
   "metadata": {
    "ExecuteTime": {
     "end_time": "2023-09-07T17:36:05.604491Z",
     "start_time": "2023-09-07T17:36:05.593943Z"
    }
   },
   "outputs": [],
   "source": [
    "# for node in G.nodes():\n",
    "#     #     print(node)\n",
    "#     probs[node][\"probabilities\"] = dict()"
   ]
  },
  {
   "cell_type": "code",
   "execution_count": null,
   "id": "f24fdc17",
   "metadata": {
    "ExecuteTime": {
     "end_time": "2023-09-07T17:58:48.354240Z",
     "start_time": "2023-09-07T17:58:48.332273Z"
    }
   },
   "outputs": [],
   "source": [
    "embedding = GraphEmbedding(\n",
    "    G, p=3.5, q=1.5, num_walks=10, walk_len=10, window_size=5, dim=8, negative=6\n",
    ")"
   ]
  },
  {
   "cell_type": "code",
   "execution_count": null,
   "id": "d548ba80",
   "metadata": {
    "ExecuteTime": {
     "end_time": "2023-09-07T17:58:48.892148Z",
     "start_time": "2023-09-07T17:58:48.861384Z"
    }
   },
   "outputs": [],
   "source": [
    "# Compute transition probabilities\n",
    "probs = embedding.transition_probabilities()"
   ]
  },
  {
   "cell_type": "code",
   "execution_count": null,
   "id": "b132b7c0",
   "metadata": {
    "ExecuteTime": {
     "end_time": "2023-09-07T17:58:49.617971Z",
     "start_time": "2023-09-07T17:58:49.586006Z"
    }
   },
   "outputs": [],
   "source": [
    "probs"
   ]
  },
  {
   "cell_type": "code",
   "execution_count": null,
   "id": "9c38fdb3",
   "metadata": {
    "ExecuteTime": {
     "end_time": "2023-09-07T17:58:50.235171Z",
     "start_time": "2023-09-07T17:58:50.121229Z"
    }
   },
   "outputs": [],
   "source": [
    "# Generate random walks\n",
    "walks, S = embedding.random_walks()"
   ]
  },
  {
   "cell_type": "code",
   "execution_count": null,
   "id": "73f1bed4",
   "metadata": {
    "ExecuteTime": {
     "end_time": "2023-09-07T17:58:51.202162Z",
     "start_time": "2023-09-07T17:58:51.127018Z"
    }
   },
   "outputs": [],
   "source": [
    "walks"
   ]
  },
  {
   "cell_type": "code",
   "execution_count": null,
   "id": "ae140d52",
   "metadata": {
    "ExecuteTime": {
     "end_time": "2023-09-07T17:47:15.349898Z",
     "start_time": "2023-09-07T17:47:15.342899Z"
    }
   },
   "outputs": [],
   "source": [
    "S[0]"
   ]
  },
  {
   "cell_type": "code",
   "execution_count": null,
   "id": "f6edbddc",
   "metadata": {
    "ExecuteTime": {
     "end_time": "2023-09-07T17:47:16.078621Z",
     "start_time": "2023-09-07T17:47:16.071604Z"
    }
   },
   "outputs": [],
   "source": [
    "S[1]"
   ]
  },
  {
   "cell_type": "code",
   "execution_count": null,
   "id": "ae6be09a",
   "metadata": {
    "ExecuteTime": {
     "end_time": "2023-09-07T17:47:19.875553Z",
     "start_time": "2023-09-07T17:47:19.857210Z"
    }
   },
   "outputs": [],
   "source": [
    "S[33]"
   ]
  },
  {
   "cell_type": "code",
   "execution_count": null,
   "id": "724ca9ca",
   "metadata": {
    "ExecuteTime": {
     "end_time": "2023-09-07T17:47:23.129324Z",
     "start_time": "2023-09-07T17:47:23.108670Z"
    }
   },
   "outputs": [],
   "source": [
    "len(walks)"
   ]
  },
  {
   "cell_type": "code",
   "execution_count": null,
   "id": "060d2e43",
   "metadata": {
    "ExecuteTime": {
     "end_time": "2023-09-07T17:52:28.930976Z",
     "start_time": "2023-09-07T17:52:28.909283Z"
    }
   },
   "outputs": [],
   "source": [
    "def loss_function(Z, S):\n",
    "    \"\"\"\n",
    "    Calculate the objective function ||Z^T*Z - S||^2.\n",
    "\n",
    "    Args:\n",
    "        Z (numpy.ndarray): The node embeddings as a numpy array.\n",
    "        S (numpy.ndarray): The similarity matrix.\n",
    "\n",
    "    Returns:\n",
    "        float: The value of the objective function.\n",
    "    \"\"\"\n",
    "    Z_transpose = np.transpose(Z)\n",
    "    diff = np.dot(Z_transpose, Z) - S\n",
    "    #     obj_func = np.linalg.norm(diff) ** 2\n",
    "    obj_func = np.linalg.norm(diff)\n",
    "    return obj_func"
   ]
  },
  {
   "cell_type": "code",
   "execution_count": null,
   "id": "0a3f8064",
   "metadata": {
    "ExecuteTime": {
     "end_time": "2023-09-07T17:52:29.236292Z",
     "start_time": "2023-09-07T17:52:29.221062Z"
    }
   },
   "outputs": [],
   "source": [
    "los = loss_function(all_emb, S)"
   ]
  },
  {
   "cell_type": "code",
   "execution_count": null,
   "id": "2c1f0211",
   "metadata": {
    "ExecuteTime": {
     "end_time": "2023-09-07T17:52:29.562755Z",
     "start_time": "2023-09-07T17:52:29.547272Z"
    }
   },
   "outputs": [],
   "source": [
    "los"
   ]
  },
  {
   "cell_type": "code",
   "execution_count": null,
   "id": "a34d9b23",
   "metadata": {
    "ExecuteTime": {
     "end_time": "2023-09-07T17:44:37.905668Z",
     "start_time": "2023-09-07T17:44:37.896676Z"
    }
   },
   "outputs": [],
   "source": [
    "Z_transpose = np.transpose(all_emb)"
   ]
  },
  {
   "cell_type": "code",
   "execution_count": null,
   "id": "faf64349",
   "metadata": {
    "ExecuteTime": {
     "end_time": "2023-09-07T17:46:22.060363Z",
     "start_time": "2023-09-07T17:46:22.030972Z"
    }
   },
   "outputs": [],
   "source": [
    "all_emb"
   ]
  },
  {
   "cell_type": "code",
   "execution_count": null,
   "id": "c6eb999d",
   "metadata": {
    "ExecuteTime": {
     "end_time": "2023-09-07T17:47:35.278601Z",
     "start_time": "2023-09-07T17:47:35.271596Z"
    }
   },
   "outputs": [],
   "source": [
    "all_emb.shape"
   ]
  },
  {
   "cell_type": "code",
   "execution_count": null,
   "id": "7798fd3e",
   "metadata": {
    "ExecuteTime": {
     "end_time": "2023-09-07T17:43:36.511156Z",
     "start_time": "2023-09-07T17:43:36.496158Z"
    }
   },
   "outputs": [],
   "source": [
    "S.shape"
   ]
  },
  {
   "cell_type": "code",
   "execution_count": null,
   "id": "5ff16de6",
   "metadata": {
    "ExecuteTime": {
     "end_time": "2023-09-07T17:47:28.436464Z",
     "start_time": "2023-09-07T17:47:28.399492Z"
    }
   },
   "outputs": [],
   "source": [
    "# Train node embeddings using Word2Vec with custom dimensions, window size, and negative sampling\n",
    "node_embeddings = embedding.train_embedding(walks, dim=20, window_size=5, negative=6)"
   ]
  },
  {
   "cell_type": "code",
   "execution_count": null,
   "id": "d085061c",
   "metadata": {
    "ExecuteTime": {
     "end_time": "2023-09-07T17:42:40.099177Z",
     "start_time": "2023-09-07T17:42:40.078211Z"
    }
   },
   "outputs": [],
   "source": [
    "node_embeddings."
   ]
  },
  {
   "cell_type": "code",
   "execution_count": null,
   "id": "217de987",
   "metadata": {
    "ExecuteTime": {
     "end_time": "2023-09-07T17:47:31.629194Z",
     "start_time": "2023-09-07T17:47:31.616161Z"
    }
   },
   "outputs": [],
   "source": [
    "all_emb = node_embeddings.vectors.T"
   ]
  },
  {
   "cell_type": "code",
   "execution_count": null,
   "id": "1d9bf121",
   "metadata": {
    "ExecuteTime": {
     "end_time": "2023-09-07T17:36:38.966165Z",
     "start_time": "2023-09-07T17:36:38.943273Z"
    }
   },
   "outputs": [],
   "source": [
    "# Get the number of nodes in the graph\n",
    "num_nodes = len(G.nodes())"
   ]
  },
  {
   "cell_type": "code",
   "execution_count": null,
   "id": "161bf2b6",
   "metadata": {
    "ExecuteTime": {
     "end_time": "2023-09-07T16:49:33.128156Z",
     "start_time": "2023-09-07T16:49:33.114477Z"
    }
   },
   "outputs": [],
   "source": [
    "similarity_matrix[0]"
   ]
  },
  {
   "cell_type": "code",
   "execution_count": null,
   "id": "1fbd717a",
   "metadata": {
    "ExecuteTime": {
     "end_time": "2023-09-07T14:51:33.993040Z",
     "start_time": "2023-09-07T14:51:33.904066Z"
    }
   },
   "outputs": [],
   "source": [
    "walks"
   ]
  },
  {
   "cell_type": "code",
   "execution_count": null,
   "id": "d9f0aaf2",
   "metadata": {
    "ExecuteTime": {
     "end_time": "2023-09-07T13:22:17.648375Z",
     "start_time": "2023-09-07T13:22:17.636340Z"
    }
   },
   "outputs": [],
   "source": [
    "cp = transition_probabilities(G, probs, 1, 0.5)"
   ]
  },
  {
   "cell_type": "code",
   "execution_count": null,
   "id": "eb43c2f9",
   "metadata": {
    "ExecuteTime": {
     "end_time": "2023-09-07T13:22:18.655038Z",
     "start_time": "2023-09-07T13:22:18.640832Z"
    }
   },
   "outputs": [],
   "source": [
    "G.neighbors"
   ]
  },
  {
   "cell_type": "code",
   "execution_count": null,
   "id": "13d289f5",
   "metadata": {
    "ExecuteTime": {
     "end_time": "2023-09-07T13:22:19.095040Z",
     "start_time": "2023-09-07T13:22:19.057135Z"
    }
   },
   "outputs": [],
   "source": [
    "cp"
   ]
  },
  {
   "cell_type": "code",
   "execution_count": null,
   "id": "40920566",
   "metadata": {
    "ExecuteTime": {
     "end_time": "2023-09-07T13:22:24.360980Z",
     "start_time": "2023-09-07T13:22:24.167724Z"
    }
   },
   "outputs": [],
   "source": [
    "walks = random_walks(G, cp, 10, 20)\n",
    "\n",
    "\n",
    "# model = Node2Vec(\n",
    "#     walk_length=20, dimensions=20, p=1.0, q=0.5, window_size=20, walk_number=10\n",
    "# )"
   ]
  },
  {
   "cell_type": "code",
   "execution_count": null,
   "id": "590219d3",
   "metadata": {
    "ExecuteTime": {
     "end_time": "2023-09-07T13:22:25.782584Z",
     "start_time": "2023-09-07T13:22:25.766672Z"
    }
   },
   "outputs": [],
   "source": [
    "len(walks)"
   ]
  },
  {
   "cell_type": "code",
   "execution_count": null,
   "id": "40606f5b",
   "metadata": {
    "ExecuteTime": {
     "end_time": "2023-09-07T13:22:26.908587Z",
     "start_time": "2023-09-07T13:22:26.822068Z"
    }
   },
   "outputs": [],
   "source": [
    "walks"
   ]
  },
  {
   "cell_type": "code",
   "execution_count": null,
   "id": "5c4dd6ed",
   "metadata": {
    "ExecuteTime": {
     "end_time": "2023-09-07T13:22:35.500677Z",
     "start_time": "2023-09-07T13:22:35.472315Z"
    }
   },
   "outputs": [],
   "source": [
    "emb = training(walks, 20, 20)"
   ]
  },
  {
   "cell_type": "code",
   "execution_count": null,
   "id": "35e28127",
   "metadata": {
    "ExecuteTime": {
     "end_time": "2023-09-07T13:22:36.499188Z",
     "start_time": "2023-09-07T13:22:36.490876Z"
    }
   },
   "outputs": [],
   "source": [
    "myyemb = emb.vectors"
   ]
  },
  {
   "cell_type": "code",
   "execution_count": null,
   "id": "0afe34b4",
   "metadata": {
    "ExecuteTime": {
     "end_time": "2023-09-07T13:22:38.062813Z",
     "start_time": "2023-09-07T13:22:38.054812Z"
    }
   },
   "outputs": [],
   "source": [
    "emb.vectors.shape"
   ]
  },
  {
   "cell_type": "markdown",
   "id": "7c7e75c3",
   "metadata": {},
   "source": [
    "## classification "
   ]
  },
  {
   "cell_type": "code",
   "execution_count": null,
   "id": "1ac1265a",
   "metadata": {
    "ExecuteTime": {
     "end_time": "2023-09-07T12:51:04.353132Z",
     "start_time": "2023-09-07T12:51:04.343618Z"
    }
   },
   "outputs": [],
   "source": [
    "import numpy as np\n",
    "import pandas as pd\n",
    "import networkx as nx\n",
    "import torch_geometric\n",
    "import torch"
   ]
  },
  {
   "cell_type": "code",
   "execution_count": null,
   "id": "f7dfc396",
   "metadata": {
    "ExecuteTime": {
     "end_time": "2023-09-07T13:05:55.884643Z",
     "start_time": "2023-09-07T13:05:55.865681Z"
    }
   },
   "outputs": [],
   "source": [
    "from karateclub import Node2Vec"
   ]
  },
  {
   "cell_type": "code",
   "execution_count": null,
   "id": "623c96c0",
   "metadata": {
    "ExecuteTime": {
     "end_time": "2023-09-07T13:06:05.744294Z",
     "start_time": "2023-09-07T13:06:05.723296Z"
    }
   },
   "outputs": [],
   "source": [
    "model = Node2Vec(\n",
    "    walk_length=20, dimensions=20, p=1.0, q=0.5, window_size=20, walk_number=10\n",
    ")"
   ]
  },
  {
   "cell_type": "code",
   "execution_count": null,
   "id": "9e3b79f9",
   "metadata": {
    "ExecuteTime": {
     "end_time": "2023-09-07T13:06:23.473611Z",
     "start_time": "2023-09-07T13:06:22.449201Z"
    }
   },
   "outputs": [],
   "source": [
    "model.fit(G)"
   ]
  },
  {
   "cell_type": "code",
   "execution_count": null,
   "id": "c135bb84",
   "metadata": {
    "ExecuteTime": {
     "end_time": "2023-09-07T13:06:41.070211Z",
     "start_time": "2023-09-07T13:06:41.051181Z"
    }
   },
   "outputs": [],
   "source": [
    "embed = model.get_embedding()"
   ]
  },
  {
   "cell_type": "code",
   "execution_count": null,
   "id": "3847ab2f",
   "metadata": {
    "ExecuteTime": {
     "end_time": "2023-09-07T13:06:47.462294Z",
     "start_time": "2023-09-07T13:06:47.447295Z"
    }
   },
   "outputs": [],
   "source": [
    "embed"
   ]
  },
  {
   "cell_type": "code",
   "execution_count": null,
   "id": "756c21e9",
   "metadata": {
    "ExecuteTime": {
     "end_time": "2023-09-07T13:07:02.885072Z",
     "start_time": "2023-09-07T13:07:02.871967Z"
    }
   },
   "outputs": [],
   "source": [
    "embed.shape"
   ]
  },
  {
   "cell_type": "code",
   "execution_count": null,
   "id": "a6182100",
   "metadata": {
    "ExecuteTime": {
     "end_time": "2023-09-07T13:22:47.115859Z",
     "start_time": "2023-09-07T13:22:47.100586Z"
    }
   },
   "outputs": [],
   "source": [
    "club_labels = nx.get_node_attributes(G, \"club\")"
   ]
  },
  {
   "cell_type": "code",
   "execution_count": null,
   "id": "832e4875",
   "metadata": {
    "ExecuteTime": {
     "end_time": "2023-09-07T13:22:47.410971Z",
     "start_time": "2023-09-07T13:22:47.399972Z"
    }
   },
   "outputs": [],
   "source": [
    "club_labels"
   ]
  },
  {
   "cell_type": "code",
   "execution_count": null,
   "id": "5f5851f6",
   "metadata": {
    "ExecuteTime": {
     "end_time": "2023-09-07T13:22:48.031779Z",
     "start_time": "2023-09-07T13:22:48.019748Z"
    }
   },
   "outputs": [],
   "source": [
    "y = np.array(list(club_labels.values()))"
   ]
  },
  {
   "cell_type": "code",
   "execution_count": null,
   "id": "f4553ce9",
   "metadata": {
    "ExecuteTime": {
     "end_time": "2023-09-07T13:22:49.258850Z",
     "start_time": "2023-09-07T13:22:49.245629Z"
    }
   },
   "outputs": [],
   "source": [
    "y"
   ]
  },
  {
   "cell_type": "code",
   "execution_count": null,
   "id": "274aea6b",
   "metadata": {
    "ExecuteTime": {
     "end_time": "2023-09-07T13:20:04.739500Z",
     "start_time": "2023-09-07T13:20:04.733026Z"
    }
   },
   "outputs": [],
   "source": [
    "y.shape"
   ]
  },
  {
   "cell_type": "code",
   "execution_count": null,
   "id": "67bf35fe",
   "metadata": {
    "ExecuteTime": {
     "end_time": "2023-09-07T13:22:43.717155Z",
     "start_time": "2023-09-07T13:22:43.432661Z"
    }
   },
   "outputs": [],
   "source": [
    "import sklearn\n",
    "from sklearn.linear_model import LogisticRegression\n",
    "from sklearn.model_selection import train_test_split\n",
    "from sklearn.metrics import (\n",
    "    classification_report,\n",
    "    confusion_matrix,\n",
    "    accuracy_score,\n",
    "    f1_score,\n",
    ")"
   ]
  },
  {
   "cell_type": "code",
   "execution_count": null,
   "id": "76145d30",
   "metadata": {
    "ExecuteTime": {
     "end_time": "2023-09-07T13:11:48.983914Z",
     "start_time": "2023-09-07T13:11:48.962914Z"
    }
   },
   "outputs": [],
   "source": [
    "X_train, X_test, y_train, y_test = train_test_split(\n",
    "    embed, y, test_size=0.2, random_state=42\n",
    ")"
   ]
  },
  {
   "cell_type": "code",
   "execution_count": null,
   "id": "b7f02007",
   "metadata": {
    "ExecuteTime": {
     "end_time": "2023-09-07T13:12:26.160813Z",
     "start_time": "2023-09-07T13:12:26.152815Z"
    }
   },
   "outputs": [],
   "source": [
    "X_train.shape"
   ]
  },
  {
   "cell_type": "code",
   "execution_count": null,
   "id": "9eee2d23",
   "metadata": {
    "ExecuteTime": {
     "end_time": "2023-09-07T13:12:00.128409Z",
     "start_time": "2023-09-07T13:12:00.119411Z"
    }
   },
   "outputs": [],
   "source": [
    "logreg = LogisticRegression()"
   ]
  },
  {
   "cell_type": "code",
   "execution_count": null,
   "id": "b8480b2f",
   "metadata": {
    "ExecuteTime": {
     "end_time": "2023-09-07T13:12:35.541845Z",
     "start_time": "2023-09-07T13:12:35.500646Z"
    }
   },
   "outputs": [],
   "source": [
    "logreg.fit(X_train, y_train)"
   ]
  },
  {
   "cell_type": "code",
   "execution_count": null,
   "id": "2223888f",
   "metadata": {
    "ExecuteTime": {
     "end_time": "2023-09-07T13:12:59.615057Z",
     "start_time": "2023-09-07T13:12:59.602057Z"
    }
   },
   "outputs": [],
   "source": [
    "y_pred = logreg.predict(X_test)"
   ]
  },
  {
   "cell_type": "code",
   "execution_count": null,
   "id": "6af13333",
   "metadata": {
    "ExecuteTime": {
     "end_time": "2023-09-07T13:13:02.670398Z",
     "start_time": "2023-09-07T13:13:02.663398Z"
    }
   },
   "outputs": [],
   "source": [
    "y_pred"
   ]
  },
  {
   "cell_type": "code",
   "execution_count": null,
   "id": "ece61074",
   "metadata": {
    "ExecuteTime": {
     "end_time": "2023-09-07T13:13:20.028265Z",
     "start_time": "2023-09-07T13:13:20.002266Z"
    }
   },
   "outputs": [],
   "source": [
    "print(classification_report(y_test, y_pred))"
   ]
  },
  {
   "cell_type": "code",
   "execution_count": null,
   "id": "321459a2",
   "metadata": {
    "ExecuteTime": {
     "end_time": "2023-09-07T13:22:54.317956Z",
     "start_time": "2023-09-07T13:22:54.301955Z"
    }
   },
   "outputs": [],
   "source": [
    "X_train_d, X_test_d, y_train_d, y_test_d = train_test_split(\n",
    "    myyemb, y, test_size=0.2, random_state=42\n",
    ")"
   ]
  },
  {
   "cell_type": "code",
   "execution_count": null,
   "id": "15ef7ff1",
   "metadata": {
    "ExecuteTime": {
     "end_time": "2023-09-07T13:22:55.123334Z",
     "start_time": "2023-09-07T13:22:55.109328Z"
    }
   },
   "outputs": [],
   "source": [
    "myyemb.shape"
   ]
  },
  {
   "cell_type": "code",
   "execution_count": null,
   "id": "e1446cf4",
   "metadata": {
    "ExecuteTime": {
     "end_time": "2023-09-07T13:22:57.807713Z",
     "start_time": "2023-09-07T13:22:57.797169Z"
    }
   },
   "outputs": [],
   "source": [
    "logreg_d = LogisticRegression()"
   ]
  },
  {
   "cell_type": "code",
   "execution_count": null,
   "id": "00509833",
   "metadata": {
    "ExecuteTime": {
     "end_time": "2023-09-07T13:22:58.569569Z",
     "start_time": "2023-09-07T13:22:58.550465Z"
    }
   },
   "outputs": [],
   "source": [
    "logreg_d.fit(X_train_d, y_train_d)"
   ]
  },
  {
   "cell_type": "code",
   "execution_count": null,
   "id": "b9ace391",
   "metadata": {
    "ExecuteTime": {
     "end_time": "2023-09-07T13:23:00.924222Z",
     "start_time": "2023-09-07T13:23:00.911833Z"
    }
   },
   "outputs": [],
   "source": [
    "y_pred_d = logreg_d.predict(X_test_d)"
   ]
  },
  {
   "cell_type": "code",
   "execution_count": null,
   "id": "0116532d",
   "metadata": {
    "ExecuteTime": {
     "end_time": "2023-09-07T13:23:01.700139Z",
     "start_time": "2023-09-07T13:23:01.684171Z"
    }
   },
   "outputs": [],
   "source": [
    "y_pred_d"
   ]
  },
  {
   "cell_type": "code",
   "execution_count": null,
   "id": "0324d738",
   "metadata": {
    "ExecuteTime": {
     "end_time": "2023-09-07T13:23:03.515183Z",
     "start_time": "2023-09-07T13:23:03.494124Z"
    }
   },
   "outputs": [],
   "source": [
    "print(classification_report(y_test_d, y_pred_d))"
   ]
  },
  {
   "cell_type": "code",
   "execution_count": null,
   "id": "8fd6e280",
   "metadata": {
    "ExecuteTime": {
     "end_time": "2023-09-08T09:25:12.595224Z",
     "start_time": "2023-09-08T09:25:09.120619Z"
    }
   },
   "outputs": [],
   "source": [
    "import os\n",
    "import collections\n",
    "import numpy as np\n",
    "import pandas as pd\n",
    "import matplotlib.pyplot as plt\n",
    "import seaborn as sns\n",
    "import scipy.sparse as sp\n",
    "import torch\n",
    "from torch import Tensor\n",
    "import random\n",
    "import torch_geometric\n",
    "from torch_geometric.utils import to_networkx\n",
    "from torch_geometric.datasets import Planetoid\n",
    "import networkx as nxa\n",
    "from networkx.algorithms import community\n",
    "import numpy as np\n",
    "from gensim.models import Word2Vec\n",
    "import networkx as nx\n",
    "import random"
   ]
  },
  {
   "cell_type": "code",
   "execution_count": null,
   "id": "a69cc1fa",
   "metadata": {
    "ExecuteTime": {
     "end_time": "2023-09-08T09:25:12.606858Z",
     "start_time": "2023-09-08T09:25:12.595224Z"
    }
   },
   "outputs": [],
   "source": [
    "device = torch.device(\"cuda\" if torch.cuda.is_available() else \"cpu\")\n",
    "data_dir = \"Data/\"\n",
    "os.makedirs(data_dir, exist_ok=True)\n",
    "SEED = 42"
   ]
  },
  {
   "cell_type": "code",
   "execution_count": null,
   "id": "1fbbd9ef",
   "metadata": {
    "ExecuteTime": {
     "end_time": "2023-09-08T09:25:12.631548Z",
     "start_time": "2023-09-08T09:25:12.610338Z"
    }
   },
   "outputs": [],
   "source": [
    "dataset = Planetoid(root=data_dir, name=\"Cora\")\n",
    "data = dataset[0]"
   ]
  },
  {
   "cell_type": "code",
   "execution_count": null,
   "id": "edf3b131",
   "metadata": {
    "ExecuteTime": {
     "end_time": "2023-09-08T09:25:13.773904Z",
     "start_time": "2023-09-08T09:25:13.600630Z"
    }
   },
   "outputs": [],
   "source": [
    "G = to_networkx(data, to_undirected=True)"
   ]
  },
  {
   "cell_type": "code",
   "execution_count": null,
   "id": "04330df8",
   "metadata": {
    "ExecuteTime": {
     "end_time": "2023-09-08T12:58:33.610110Z",
     "start_time": "2023-09-08T12:58:33.601107Z"
    }
   },
   "outputs": [],
   "source": [
    "import torch\n",
    "import torch.nn as nn\n",
    "import torch.optim as optim\n",
    "from tqdm import tqdm\n",
    "import matplotlib.pyplot as plt\n",
    "import os\n",
    "import datetime\n",
    "\n",
    "# Define the SkipGram model\n",
    "class SkipGram(nn.Module):\n",
    "    def __init__(self, vocab_size, embedding_dim):\n",
    "        super(SkipGram, self).__init__()\n",
    "        self.in_embed = nn.Embedding(vocab_size, embedding_dim)\n",
    "        self.out_embed = nn.Embedding(vocab_size, embedding_dim)\n",
    "\n",
    "    def forward(self, target, context):\n",
    "        target_embeds = self.in_embed(target)\n",
    "        context_embeds = self.out_embed(context)\n",
    "        scores = target_embeds @ context_embeds.t()\n",
    "        return scores\n"
   ]
  },
  {
   "cell_type": "code",
   "execution_count": 1,
   "id": "04ee3e9f",
   "metadata": {
    "ExecuteTime": {
     "end_time": "2023-09-08T13:28:16.620108Z",
     "start_time": "2023-09-08T13:28:15.409000Z"
    }
   },
   "outputs": [],
   "source": [
    "import networkx as nx\n",
    "import random\n",
    "import numpy as np\n",
    "from typing import List\n",
    "from tqdm import tqdm\n",
    "from gensim.models.word2vec import Word2Vec\n",
    "\n",
    "import matplotlib.pyplot as plt\n",
    "from IPython.display import display\n",
    "from PIL import Image"
   ]
  },
  {
   "cell_type": "code",
   "execution_count": null,
   "id": "59b6d08f",
   "metadata": {
    "ExecuteTime": {
     "end_time": "2023-09-08T13:03:13.861060Z",
     "start_time": "2023-09-08T13:03:12.747057Z"
    }
   },
   "outputs": [],
   "source": [
    "# from node_random.randomwalk import GraphEmbedding\n",
    "from node_random.pytorchwrd2vec import GraphEmbedding"
   ]
  },
  {
   "cell_type": "code",
   "execution_count": 21,
   "id": "c306c31e",
   "metadata": {
    "ExecuteTime": {
     "end_time": "2023-09-08T13:42:27.098809Z",
     "start_time": "2023-09-08T13:42:27.025430Z"
    }
   },
   "outputs": [],
   "source": [
    "import networkx as nx\n",
    "import matplotlib.pyplot as plt\n",
    "\n",
    "# Create an empty graph\n",
    "G = nx.Graph()\n",
    "\n",
    "# Read graph data from the file\n",
    "with open('out.moreno_lesmis_lesmis', 'r') as file:\n",
    "    for line in file:\n",
    "        if line.startswith('%') or not line.strip():\n",
    "            continue\n",
    "        parts = line.split()\n",
    "        if len(parts) == 3:\n",
    "            node1, node2, weight = map(int, parts)\n",
    "            G.add_edge(node1, node2, weight=weight)"
   ]
  },
  {
   "cell_type": "code",
   "execution_count": 44,
   "id": "4b780d57",
   "metadata": {
    "ExecuteTime": {
     "end_time": "2023-09-08T13:51:36.313530Z",
     "start_time": "2023-09-08T13:51:36.304120Z"
    }
   },
   "outputs": [
    {
     "name": "stdout",
     "output_type": "stream",
     "text": [
      "The weight of the edge (2, 9) is 2\n"
     ]
    }
   ],
   "source": [
    "# Access the weight of an edge\n",
    "node1 = 2\n",
    "node2 = 9\n",
    "if G.has_edge(node1, node2):\n",
    "    edge_data = G.get_edge_data(node1, node2)\n",
    "    weight = edge_data['weight']\n",
    "    print(f'The weight of the edge ({node1}, {node2}) is {weight}')\n",
    "else:\n",
    "    print(f'The edge ({node1}, {node2}) does not exist in the graph.')"
   ]
  },
  {
   "cell_type": "code",
   "execution_count": 45,
   "id": "3db33a22",
   "metadata": {
    "ExecuteTime": {
     "end_time": "2023-09-08T13:51:40.877974Z",
     "start_time": "2023-09-08T13:51:40.869954Z"
    }
   },
   "outputs": [],
   "source": [
    "weight = G[2][9].get(\"weight\", 1)"
   ]
  },
  {
   "cell_type": "code",
   "execution_count": 46,
   "id": "b6c5c7e7",
   "metadata": {
    "ExecuteTime": {
     "end_time": "2023-09-08T13:51:42.681993Z",
     "start_time": "2023-09-08T13:51:42.667994Z"
    }
   },
   "outputs": [
    {
     "data": {
      "text/plain": [
       "2"
      ]
     },
     "execution_count": 46,
     "metadata": {},
     "output_type": "execute_result"
    }
   ],
   "source": [
    "weight"
   ]
  },
  {
   "cell_type": "code",
   "execution_count": 29,
   "id": "4c956190",
   "metadata": {
    "ExecuteTime": {
     "end_time": "2023-09-08T13:43:38.563169Z",
     "start_time": "2023-09-08T13:43:38.543035Z"
    }
   },
   "outputs": [
    {
     "data": {
      "text/plain": [
       "dict"
      ]
     },
     "execution_count": 29,
     "metadata": {},
     "output_type": "execute_result"
    }
   ],
   "source": [
    "aa"
   ]
  },
  {
   "cell_type": "code",
   "execution_count": 7,
   "id": "873a3a69",
   "metadata": {
    "ExecuteTime": {
     "end_time": "2023-09-08T13:30:14.950577Z",
     "start_time": "2023-09-08T13:30:13.084337Z"
    }
   },
   "outputs": [],
   "source": [
    "from node_random.pytorchwrd2 import GraphEmbedding, SkipGram"
   ]
  },
  {
   "cell_type": "code",
   "execution_count": 8,
   "id": "77c5686e",
   "metadata": {
    "ExecuteTime": {
     "end_time": "2023-09-08T13:30:16.275677Z",
     "start_time": "2023-09-08T13:30:16.271676Z"
    }
   },
   "outputs": [],
   "source": [
    "G = nx.karate_club_graph()"
   ]
  },
  {
   "cell_type": "code",
   "execution_count": 4,
   "id": "63718669",
   "metadata": {
    "ExecuteTime": {
     "end_time": "2023-09-08T13:28:20.330804Z",
     "start_time": "2023-09-08T13:28:20.312755Z"
    }
   },
   "outputs": [],
   "source": [
    "# # graph, return_param, in_out_param, num_walks, walk_length, window_size, embedding_dimension, negative_samples\n",
    "\n",
    "# Best Hyperparameters: {'return_param': 0.780188065757644, 'in_out_param': 1.0504386209768906, \n",
    "# 'num_walks': 6, 'walk_length': 11, 'window_size': 7, 'dimension': 128, 'epochs': 100, 'negative': 5, 'batch_words': 100}\n",
    "# Best Loss: 62.610528542536336"
   ]
  },
  {
   "cell_type": "code",
   "execution_count": 9,
   "id": "c9ef4bed",
   "metadata": {
    "ExecuteTime": {
     "end_time": "2023-09-08T13:30:17.133317Z",
     "start_time": "2023-09-08T13:30:17.114011Z"
    }
   },
   "outputs": [],
   "source": [
    "embedding = GraphEmbedding(\n",
    "    graph=G,\n",
    "    return_param=2.13,\n",
    "    in_out_param=0.2,\n",
    "    num_walks=5,\n",
    "    walk_length=5,\n",
    ")"
   ]
  },
  {
   "cell_type": "code",
   "execution_count": 10,
   "id": "a13dd022",
   "metadata": {
    "ExecuteTime": {
     "end_time": "2023-09-08T13:30:19.067356Z",
     "start_time": "2023-09-08T13:30:19.041340Z"
    }
   },
   "outputs": [
    {
     "name": "stderr",
     "output_type": "stream",
     "text": [
      "Calculating Transition Probabilities: 100%|██████████████████████████████████████████████████████████████████████████████| 34/34 [00:00<00:00, 6801.47it/s]\n"
     ]
    }
   ],
   "source": [
    "probab = embedding.calculate_transition_probabilities()"
   ]
  },
  {
   "cell_type": "code",
   "execution_count": 11,
   "id": "79bcb2da",
   "metadata": {
    "ExecuteTime": {
     "end_time": "2023-09-08T13:30:19.553421Z",
     "start_time": "2023-09-08T13:30:19.326102Z"
    }
   },
   "outputs": [
    {
     "name": "stderr",
     "output_type": "stream",
     "text": [
      "Generating Random Walks: 100%|████████████████████████████████████████████████████████████████████████████████████████████| 34/34 [00:00<00:00, 178.91it/s]\n"
     ]
    }
   ],
   "source": [
    "walks, unsh = embedding.generate_random_walks()"
   ]
  },
  {
   "cell_type": "code",
   "execution_count": null,
   "id": "307be6ed",
   "metadata": {
    "ExecuteTime": {
     "end_time": "2023-09-08T13:23:39.911842Z",
     "start_time": "2023-09-08T13:23:39.884852Z"
    }
   },
   "outputs": [],
   "source": [
    "walks"
   ]
  },
  {
   "cell_type": "code",
   "execution_count": null,
   "id": "194fe155",
   "metadata": {
    "ExecuteTime": {
     "end_time": "2023-09-08T13:23:40.461729Z",
     "start_time": "2023-09-08T13:23:40.451731Z"
    }
   },
   "outputs": [],
   "source": [
    "walks_ra = [list(map(str, walk)) for walk in walks]"
   ]
  },
  {
   "cell_type": "code",
   "execution_count": null,
   "id": "b81622e7",
   "metadata": {
    "ExecuteTime": {
     "end_time": "2023-09-08T12:08:57.850581Z",
     "start_time": "2023-09-08T12:08:57.847551Z"
    }
   },
   "outputs": [],
   "source": [
    "aa = [[1,2],[11,44]]"
   ]
  },
  {
   "cell_type": "code",
   "execution_count": null,
   "id": "60329296",
   "metadata": {
    "ExecuteTime": {
     "end_time": "2023-09-08T12:09:07.735135Z",
     "start_time": "2023-09-08T12:09:07.727964Z"
    }
   },
   "outputs": [],
   "source": [
    "walks_ra = [list(map(str, walk)) for walk in aa]"
   ]
  },
  {
   "cell_type": "code",
   "execution_count": null,
   "id": "7cdcf981",
   "metadata": {
    "ExecuteTime": {
     "end_time": "2023-09-08T12:09:09.282565Z",
     "start_time": "2023-09-08T12:09:09.267427Z"
    }
   },
   "outputs": [],
   "source": [
    "walks_ra"
   ]
  },
  {
   "cell_type": "code",
   "execution_count": null,
   "id": "dc56ea92",
   "metadata": {
    "ExecuteTime": {
     "end_time": "2023-09-08T09:27:05.642787Z",
     "start_time": "2023-09-08T09:27:05.633783Z"
    }
   },
   "outputs": [],
   "source": [
    "# {'return_param': 2.1257697440212895, 'in_out_param': 0.20047393504471897, 'num_walks': 5, \n",
    "# 'walk_length': 52, 'window_size': 8, 'dimension': 48, 'epochs': 2, 'negative': 10, 'batch_words': 500}\n",
    "# Best Loss: 16319.960704831274"
   ]
  },
  {
   "cell_type": "code",
   "execution_count": null,
   "id": "abb498b6",
   "metadata": {
    "ExecuteTime": {
     "end_time": "2023-09-08T09:27:07.240643Z",
     "start_time": "2023-09-08T09:27:07.233349Z"
    }
   },
   "outputs": [],
   "source": [
    "# train_embedding(self, walks, dim=None, window_size=None, negative=None)\n",
    "# training(walks, window_size, dim):\n",
    "# Best Hyperparameters: {'return_param': 3.772450896108167, 'in_out_param': 1.3046561528620453, 'num_walks': 14,\n",
    "# 'walk_length': 73, 'window_size': 11, 'dimension': 32, 'epochs': 2, 'negative': 10, 'batch_words': 100}"
   ]
  },
  {
   "cell_type": "code",
   "execution_count": 13,
   "id": "f4ee0fc6",
   "metadata": {
    "ExecuteTime": {
     "end_time": "2023-09-08T13:34:30.907484Z",
     "start_time": "2023-09-08T13:31:53.689362Z"
    }
   },
   "outputs": [
    {
     "name": "stderr",
     "output_type": "stream",
     "text": [
      "Training Word2Vec: 100%|█████████████████████████████████████████████████████████████████████████████████████████████████| 500/500 [02:36<00:00,  3.18it/s]\n"
     ]
    },
    {
     "data": {
      "image/png": "[encoded data removed]",
      "text/plain": [
       "<Figure size 640x480 with 1 Axes>"
      ]
     },
     "metadata": {},
     "output_type": "display_data"
    }
   ],
   "source": [
    "# Train node embeddings using Word2Vec with custom dimensions, window size, and negative sampling\n",
    "# Train node embeddings using Word2Vec with custom dimensions, window size, and negative sampling\n",
    "window_size = 8  # Set your desired window size\n",
    "dimension = 32  # Set your desired dimension\n",
    "epochs = 500\n",
    "# negative=10\n",
    "learning_rate = 0.001\n",
    "weight_decay= 1e-5\n",
    "# batch_words=500\n",
    "\n",
    "\n",
    "node_embeddings = embedding.training(\n",
    "#     walks, window_size=window_size, dimension=dimension, sg=1,epochs=epochs,negative=negative,batch_words=batch_words,learning_rate=learning_rate\n",
    "    walks, window_size=window_size, dimension=dimension,epochs=epochs,learning_rate=learning_rate,weight_decay=weight_decay\n",
    ")"
   ]
  },
  {
   "cell_type": "code",
   "execution_count": 14,
   "id": "262899d2",
   "metadata": {
    "ExecuteTime": {
     "end_time": "2023-09-08T13:34:41.913756Z",
     "start_time": "2023-09-08T13:34:41.902249Z"
    }
   },
   "outputs": [],
   "source": [
    "embeddings = node_embeddings.in_embed.weight.data.numpy()"
   ]
  },
  {
   "cell_type": "code",
   "execution_count": 15,
   "id": "c3bb232f",
   "metadata": {
    "ExecuteTime": {
     "end_time": "2023-09-08T13:34:42.876733Z",
     "start_time": "2023-09-08T13:34:42.858397Z"
    }
   },
   "outputs": [
    {
     "data": {
      "text/plain": [
       "array([[ 1.0870283 , -0.57400364, -0.72128594, ..., -0.36965042,\n",
       "         1.1681918 ,  2.09849   ],\n",
       "       [-1.7206445 ,  0.03122066,  0.37317446, ..., -0.7103805 ,\n",
       "        -1.0135448 , -0.29361674],\n",
       "       [ 1.0830121 ,  1.0382742 , -0.5489604 , ..., -1.5808293 ,\n",
       "         0.49438465,  0.52752715],\n",
       "       ...,\n",
       "       [-1.0172098 ,  1.9145172 , -1.7334164 , ..., -1.4159423 ,\n",
       "        -0.01724284,  0.85381186],\n",
       "       [ 1.1370748 ,  0.160061  ,  0.14435835, ..., -0.6668974 ,\n",
       "         0.6691276 ,  1.0659354 ],\n",
       "       [-0.33354032,  0.29413125, -0.16264345, ..., -1.0298501 ,\n",
       "         0.5097951 ,  1.9456618 ]], dtype=float32)"
      ]
     },
     "execution_count": 15,
     "metadata": {},
     "output_type": "execute_result"
    }
   ],
   "source": [
    "embeddings"
   ]
  },
  {
   "cell_type": "code",
   "execution_count": 16,
   "id": "b9957ce8",
   "metadata": {
    "ExecuteTime": {
     "end_time": "2023-09-08T13:34:46.847841Z",
     "start_time": "2023-09-08T13:34:46.821274Z"
    }
   },
   "outputs": [
    {
     "name": "stderr",
     "output_type": "stream",
     "text": [
      "Calculating Probabilities: 100%|█████████████████████████████████████████████████████████████████████████████████████████| 34/34 [00:00<00:00, 2704.10it/s]\n"
     ]
    }
   ],
   "source": [
    "S= embedding.calculate_probability_matrix(unsh)"
   ]
  },
  {
   "cell_type": "code",
   "execution_count": 17,
   "id": "7d6bb673",
   "metadata": {
    "ExecuteTime": {
     "end_time": "2023-09-08T13:34:50.393322Z",
     "start_time": "2023-09-08T13:34:50.388337Z"
    }
   },
   "outputs": [],
   "source": [
    "Z = embeddings.T"
   ]
  },
  {
   "cell_type": "code",
   "execution_count": 18,
   "id": "b5186b64",
   "metadata": {
    "ExecuteTime": {
     "end_time": "2023-09-08T13:34:53.261373Z",
     "start_time": "2023-09-08T13:34:53.250180Z"
    }
   },
   "outputs": [
    {
     "data": {
      "text/plain": [
       "array([[ 1.0870283 , -1.7206445 ,  1.0830121 , ..., -1.0172098 ,\n",
       "         1.1370748 , -0.33354032],\n",
       "       [-0.57400364,  0.03122066,  1.0382742 , ...,  1.9145172 ,\n",
       "         0.160061  ,  0.29413125],\n",
       "       [-0.72128594,  0.37317446, -0.5489604 , ..., -1.7334164 ,\n",
       "         0.14435835, -0.16264345],\n",
       "       ...,\n",
       "       [-0.36965042, -0.7103805 , -1.5808293 , ..., -1.4159423 ,\n",
       "        -0.6668974 , -1.0298501 ],\n",
       "       [ 1.1681918 , -1.0135448 ,  0.49438465, ..., -0.01724284,\n",
       "         0.6691276 ,  0.5097951 ],\n",
       "       [ 2.09849   , -0.29361674,  0.52752715, ...,  0.85381186,\n",
       "         1.0659354 ,  1.9456618 ]], dtype=float32)"
      ]
     },
     "execution_count": 18,
     "metadata": {},
     "output_type": "execute_result"
    }
   ],
   "source": [
    "Z"
   ]
  },
  {
   "cell_type": "code",
   "execution_count": 19,
   "id": "1f746d23",
   "metadata": {
    "ExecuteTime": {
     "end_time": "2023-09-08T13:34:55.100786Z",
     "start_time": "2023-09-08T13:34:55.080787Z"
    }
   },
   "outputs": [],
   "source": [
    "def loss_function(Z, S):\n",
    "    \"\"\"\n",
    "    Calculate the objective function ||Z^T*Z - S||^2.\n",
    "\n",
    "    Args:\n",
    "        Z (numpy.ndarray): The node embeddings as a numpy array.\n",
    "        S (numpy.ndarray): The similarity matrix.\n",
    "\n",
    "    Returns:\n",
    "        float: The value of the objective function.\n",
    "    \"\"\"\n",
    "    Z_transpose = np.transpose(Z)\n",
    "    diff = np.dot(Z_transpose, Z) - S\n",
    "    #     obj_func = np.linalg.norm(diff) ** 2\n",
    "    obj_func = np.linalg.norm(diff)\n",
    "    return obj_func"
   ]
  },
  {
   "cell_type": "code",
   "execution_count": 20,
   "id": "242120f3",
   "metadata": {
    "ExecuteTime": {
     "end_time": "2023-09-08T13:34:55.883950Z",
     "start_time": "2023-09-08T13:34:55.876961Z"
    }
   },
   "outputs": [
    {
     "data": {
      "text/plain": [
       "266.8119837224696"
      ]
     },
     "execution_count": 20,
     "metadata": {},
     "output_type": "execute_result"
    }
   ],
   "source": [
    "loss_function(Z, S)"
   ]
  },
  {
   "cell_type": "markdown",
   "id": "f0ab81f5",
   "metadata": {},
   "source": [
    "### Hypertuning"
   ]
  },
  {
   "cell_type": "code",
   "execution_count": null,
   "id": "7f92e1b9",
   "metadata": {
    "ExecuteTime": {
     "end_time": "2023-09-08T12:01:04.441707Z",
     "start_time": "2023-09-08T12:01:04.424300Z"
    }
   },
   "outputs": [],
   "source": [
    "# Define the hyperparameter search space\n",
    "param_space = {\n",
    "    'return_param': np.random.uniform(0.0, 4.0, 50),  # Example: random uniform sampling\n",
    "    'in_out_param': np.random.uniform(0.0, 4.0, 50),  # Example: random uniform sampling\n",
    "    'num_walks': np.random.randint(5, 15, 8),  # Example: random integer sampling\n",
    "    'walk_length': np.random.randint(5, 15,10),  # Example: random integer sampling\n",
    "    'window_size': np.random.randint(5, 10, 5),  # Example: random integer sampling\n",
    "    'dimension': np.random.choice([2,4,6,8,10], 6),  # Example: random choice\n",
    "    'epochs': np.random.choice([100, 150,200,125,300], 5),  # Example: random choice\n",
    "    'negative': np.random.choice([3, 6], 5),  # Example: random choice\n",
    "    'batch_words': np.random.choice([8, 16], 5),  # Example: random choice\n",
    "    'learning_rate': np.random.choice([0.01, 0.0001, 0.02],10),\n",
    "    'min_count': np.random.choice([0, 1,2], 6),\n",
    "}\n",
    "\n",
    "best_loss = float('inf')\n",
    "best_params = None"
   ]
  },
  {
   "cell_type": "code",
   "execution_count": null,
   "id": "98155bee",
   "metadata": {
    "ExecuteTime": {
     "end_time": "2023-09-08T12:01:04.811270Z",
     "start_time": "2023-09-08T12:01:04.801233Z"
    }
   },
   "outputs": [],
   "source": [
    "# Perform random search\n",
    "num_iterations = 20  # Adjust the number of iterations as needed\n"
   ]
  },
  {
   "cell_type": "code",
   "execution_count": null,
   "id": "e8742653",
   "metadata": {
    "ExecuteTime": {
     "end_time": "2023-09-08T12:06:31.241472Z",
     "start_time": "2023-09-08T12:01:05.426188Z"
    }
   },
   "outputs": [],
   "source": [
    "for _ in range(num_iterations):\n",
    "    # Randomly sample hyperparameters\n",
    "    sampled_params = {param: np.random.choice(values) for param, values in param_space.items()}\n",
    "    \n",
    "    # Create an instance of your GraphEmbedding class with sampled hyperparameters\n",
    "    embedding = GraphEmbedding(\n",
    "        graph=G,\n",
    "        return_param=sampled_params['return_param'],\n",
    "        in_out_param=sampled_params['in_out_param'],\n",
    "        num_walks=sampled_params['num_walks'],\n",
    "        walk_length=sampled_params['walk_length'],\n",
    "    )\n",
    "    \n",
    "    probab = embedding.calculate_transition_probabilities()\n",
    "    # Train and evaluate with the current set of hyperparameters\n",
    "    walks, uns = embedding.generate_random_walks()\n",
    "    S = embedding.calculate_probability_matrix(uns)\n",
    "    node_embeddings = embedding.training(\n",
    "        walks,\n",
    "        window_size=sampled_params['window_size'],\n",
    "        dimension=sampled_params['dimension'],\n",
    "        sg=1,\n",
    "        epochs=sampled_params['epochs'],\n",
    "        negative=sampled_params['negative'],\n",
    "        batch_words=sampled_params['batch_words'],\n",
    "        learning_rate = sampled_params['learning_rate']\n",
    "    )\n",
    "    Z = node_embeddings.vectors.T\n",
    "    current_loss = loss_function(Z, S)\n",
    "    \n",
    "    # Update the best hyperparameters if the current set is better\n",
    "    if current_loss < best_loss:\n",
    "        best_loss = current_loss\n",
    "        best_params = sampled_params"
   ]
  },
  {
   "cell_type": "code",
   "execution_count": null,
   "id": "f8568d53",
   "metadata": {
    "ExecuteTime": {
     "end_time": "2023-09-08T12:00:19.955064Z",
     "start_time": "2023-09-08T12:00:19.955064Z"
    }
   },
   "outputs": [],
   "source": [
    "S.shape"
   ]
  },
  {
   "cell_type": "code",
   "execution_count": null,
   "id": "d14d512b",
   "metadata": {
    "ExecuteTime": {
     "end_time": "2023-09-08T12:00:19.958064Z",
     "start_time": "2023-09-08T12:00:19.958064Z"
    }
   },
   "outputs": [],
   "source": [
    "print(\"Best Hyperparameters:\", best_params)\n",
    "print(\"Best Loss:\", best_loss)"
   ]
  },
  {
   "cell_type": "code",
   "execution_count": null,
   "id": "4b6f28b1",
   "metadata": {},
   "outputs": [],
   "source": []
  }
 ],
 "metadata": {
  "kernelspec": {
   "display_name": "torch",
   "language": "python",
   "name": "torch"
  },
  "language_info": {
   "codemirror_mode": {
    "name": "ipython",
    "version": 3
   },
   "file_extension": ".py",
   "mimetype": "text/x-python",
   "name": "python",
   "nbconvert_exporter": "python",
   "pygments_lexer": "ipython3",
   "version": "3.9.16"
  },
  "toc": {
   "base_numbering": 1,
   "nav_menu": {},
   "number_sections": true,
   "sideBar": true,
   "skip_h1_title": false,
   "title_cell": "Table of Contents",
   "title_sidebar": "Contents",
   "toc_cell": false,
   "toc_position": {},
   "toc_section_display": true,
   "toc_window_display": false
  }
 },
 "nbformat": 4,
 "nbformat_minor": 5
}
