{
 "cells": [
  {
   "cell_type": "code",
   "execution_count": 1,
   "id": "dc24005f",
   "metadata": {
    "ExecuteTime": {
     "end_time": "2023-09-07T16:03:41.668817Z",
     "start_time": "2023-09-07T16:03:41.417087Z"
    }
   },
   "outputs": [
    {
     "data": {
      "application/javascript": [
       "\n",
       "            setTimeout(function() {\n",
       "                var nbb_cell_id = 1;\n",
       "                var nbb_unformatted_code = \"%load_ext nb_black\";\n",
       "                var nbb_formatted_code = \"%load_ext nb_black\";\n",
       "                var nbb_cells = Jupyter.notebook.get_cells();\n",
       "                for (var i = 0; i < nbb_cells.length; ++i) {\n",
       "                    if (nbb_cells[i].input_prompt_number == nbb_cell_id) {\n",
       "                        if (nbb_cells[i].get_text() == nbb_unformatted_code) {\n",
       "                             nbb_cells[i].set_text(nbb_formatted_code);\n",
       "                        }\n",
       "                        break;\n",
       "                    }\n",
       "                }\n",
       "            }, 500);\n",
       "            "
      ],
      "text/plain": [
       "<IPython.core.display.Javascript object>"
      ]
     },
     "metadata": {},
     "output_type": "display_data"
    }
   ],
   "source": [
    "%load_ext nb_black"
   ]
  },
  {
   "cell_type": "code",
   "execution_count": 5,
   "id": "cfd035e0",
   "metadata": {
    "ExecuteTime": {
     "end_time": "2023-09-07T16:03:52.202602Z",
     "start_time": "2023-09-07T16:03:52.150610Z"
    }
   },
   "outputs": [
    {
     "name": "stdout",
     "output_type": "stream",
     "text": [
      "2.0.1\n"
     ]
    },
    {
     "data": {
      "application/javascript": [
       "\n",
       "            setTimeout(function() {\n",
       "                var nbb_cell_id = 5;\n",
       "                var nbb_unformatted_code = \"# install required packages\\nimport os\\nimport torch\\n\\nos.environ[\\\"TORCH\\\"] = torch.__version__\\nprint(torch.__version__)\\n# Helper function for visualization.\\n%matplotlib inline\\nimport networkx as nx\\nimport matplotlib.pyplot as plt\\nimport os\\nimport collections\\nimport numpy as np\\nimport pandas as pd\\nimport matplotlib.pyplot as plt\\nimport seaborn as sns\\nimport scipy.sparse as sp\\nimport torch\\nfrom torch import Tensor\\nimport torch_geometric\\nfrom torch_geometric.utils import to_networkx\\nfrom torch_geometric.datasets import Planetoid\\nimport networkx as nx\\nfrom networkx.algorithms import community\\n# Set random seed for reproducibility\\nimport numpy as np\";\n",
       "                var nbb_formatted_code = \"# install required packages\\nimport os\\nimport torch\\n\\nos.environ[\\\"TORCH\\\"] = torch.__version__\\nprint(torch.__version__)\\n# Helper function for visualization.\\n%matplotlib inline\\nimport networkx as nx\\nimport matplotlib.pyplot as plt\\nimport os\\nimport collections\\nimport numpy as np\\nimport pandas as pd\\nimport matplotlib.pyplot as plt\\nimport seaborn as sns\\nimport scipy.sparse as sp\\nimport torch\\nfrom torch import Tensor\\nimport torch_geometric\\nfrom torch_geometric.utils import to_networkx\\nfrom torch_geometric.datasets import Planetoid\\nimport networkx as nx\\nfrom networkx.algorithms import community\\n\\n# Set random seed for reproducibility\\nimport numpy as np\";\n",
       "                var nbb_cells = Jupyter.notebook.get_cells();\n",
       "                for (var i = 0; i < nbb_cells.length; ++i) {\n",
       "                    if (nbb_cells[i].input_prompt_number == nbb_cell_id) {\n",
       "                        if (nbb_cells[i].get_text() == nbb_unformatted_code) {\n",
       "                             nbb_cells[i].set_text(nbb_formatted_code);\n",
       "                        }\n",
       "                        break;\n",
       "                    }\n",
       "                }\n",
       "            }, 500);\n",
       "            "
      ],
      "text/plain": [
       "<IPython.core.display.Javascript object>"
      ]
     },
     "metadata": {},
     "output_type": "display_data"
    }
   ],
   "source": [
    "# install required packages\n",
    "import os\n",
    "import torch\n",
    "\n",
    "os.environ[\"TORCH\"] = torch.__version__\n",
    "print(torch.__version__)\n",
    "# Helper function for visualization.\n",
    "%matplotlib inline\n",
    "import networkx as nx\n",
    "import matplotlib.pyplot as plt\n",
    "import os\n",
    "import collections\n",
    "import numpy as np\n",
    "import pandas as pd\n",
    "import matplotlib.pyplot as plt\n",
    "import seaborn as sns\n",
    "import scipy.sparse as sp\n",
    "import torch\n",
    "from torch import Tensor\n",
    "import torch_geometric\n",
    "from torch_geometric.utils import to_networkx\n",
    "from torch_geometric.datasets import Planetoid\n",
    "import networkx as nx\n",
    "from networkx.algorithms import community\n",
    "# Set random seed for reproducibility\n",
    "import numpy as np\n",
    "\n"
   ]
  },
  {
   "cell_type": "code",
   "execution_count": 6,
   "id": "4a3d1cd5",
   "metadata": {
    "ExecuteTime": {
     "end_time": "2023-09-07T16:03:53.211547Z",
     "start_time": "2023-09-07T16:03:53.195493Z"
    }
   },
   "outputs": [
    {
     "data": {
      "application/javascript": [
       "\n",
       "            setTimeout(function() {\n",
       "                var nbb_cell_id = 6;\n",
       "                var nbb_unformatted_code = \"from node2vec_def.node2vec import Node2Vec\";\n",
       "                var nbb_formatted_code = \"from node2vec_def.node2vec import Node2Vec\";\n",
       "                var nbb_cells = Jupyter.notebook.get_cells();\n",
       "                for (var i = 0; i < nbb_cells.length; ++i) {\n",
       "                    if (nbb_cells[i].input_prompt_number == nbb_cell_id) {\n",
       "                        if (nbb_cells[i].get_text() == nbb_unformatted_code) {\n",
       "                             nbb_cells[i].set_text(nbb_formatted_code);\n",
       "                        }\n",
       "                        break;\n",
       "                    }\n",
       "                }\n",
       "            }, 500);\n",
       "            "
      ],
      "text/plain": [
       "<IPython.core.display.Javascript object>"
      ]
     },
     "metadata": {},
     "output_type": "display_data"
    }
   ],
   "source": [
    "from node2vec_def.node2vec import Node2Vec"
   ]
  },
  {
   "cell_type": "code",
   "execution_count": 7,
   "id": "14fdc2d5",
   "metadata": {
    "ExecuteTime": {
     "end_time": "2023-09-07T16:03:53.577958Z",
     "start_time": "2023-09-07T16:03:53.553911Z"
    }
   },
   "outputs": [
    {
     "data": {
      "application/javascript": [
       "\n",
       "            setTimeout(function() {\n",
       "                var nbb_cell_id = 7;\n",
       "                var nbb_unformatted_code = \"SEED = 42\\nnp.random.seed(SEED)\";\n",
       "                var nbb_formatted_code = \"SEED = 42\\nnp.random.seed(SEED)\";\n",
       "                var nbb_cells = Jupyter.notebook.get_cells();\n",
       "                for (var i = 0; i < nbb_cells.length; ++i) {\n",
       "                    if (nbb_cells[i].input_prompt_number == nbb_cell_id) {\n",
       "                        if (nbb_cells[i].get_text() == nbb_unformatted_code) {\n",
       "                             nbb_cells[i].set_text(nbb_formatted_code);\n",
       "                        }\n",
       "                        break;\n",
       "                    }\n",
       "                }\n",
       "            }, 500);\n",
       "            "
      ],
      "text/plain": [
       "<IPython.core.display.Javascript object>"
      ]
     },
     "metadata": {},
     "output_type": "display_data"
    }
   ],
   "source": [
    "SEED = 42\n",
    "np.random.seed(SEED)"
   ]
  },
  {
   "cell_type": "code",
   "execution_count": 8,
   "id": "223e2274",
   "metadata": {
    "ExecuteTime": {
     "end_time": "2023-09-07T16:03:54.842001Z",
     "start_time": "2023-09-07T16:03:54.825509Z"
    }
   },
   "outputs": [
    {
     "data": {
      "application/javascript": [
       "\n",
       "            setTimeout(function() {\n",
       "                var nbb_cell_id = 8;\n",
       "                var nbb_unformatted_code = \"# def visualize_graph(G, color):\\n#     plt.figure(figsize=(7, 7))\\n#     plt.xticks([])\\n#     plt.yticks([])\\n#     nx.draw_networkx(\\n#         G,\\n#         pos=nx.spring_layout(G, seed=SEED),\\n#         with_labels=False,\\n#         node_color=color,\\n#         cmap=\\\"Set1\\\",\\n#     )\\n#     plt.show()\";\n",
       "                var nbb_formatted_code = \"# def visualize_graph(G, color):\\n#     plt.figure(figsize=(7, 7))\\n#     plt.xticks([])\\n#     plt.yticks([])\\n#     nx.draw_networkx(\\n#         G,\\n#         pos=nx.spring_layout(G, seed=SEED),\\n#         with_labels=False,\\n#         node_color=color,\\n#         cmap=\\\"Set1\\\",\\n#     )\\n#     plt.show()\";\n",
       "                var nbb_cells = Jupyter.notebook.get_cells();\n",
       "                for (var i = 0; i < nbb_cells.length; ++i) {\n",
       "                    if (nbb_cells[i].input_prompt_number == nbb_cell_id) {\n",
       "                        if (nbb_cells[i].get_text() == nbb_unformatted_code) {\n",
       "                             nbb_cells[i].set_text(nbb_formatted_code);\n",
       "                        }\n",
       "                        break;\n",
       "                    }\n",
       "                }\n",
       "            }, 500);\n",
       "            "
      ],
      "text/plain": [
       "<IPython.core.display.Javascript object>"
      ]
     },
     "metadata": {},
     "output_type": "display_data"
    }
   ],
   "source": [
    "# def visualize_graph(G, color):\n",
    "#     plt.figure(figsize=(7, 7))\n",
    "#     plt.xticks([])\n",
    "#     plt.yticks([])\n",
    "#     nx.draw_networkx(\n",
    "#         G,\n",
    "#         pos=nx.spring_layout(G, seed=SEED),\n",
    "#         with_labels=False,\n",
    "#         node_color=color,\n",
    "#         cmap=\"Set1\",\n",
    "#     )\n",
    "#     plt.show()"
   ]
  },
  {
   "cell_type": "code",
   "execution_count": 9,
   "id": "c92bc96f",
   "metadata": {
    "ExecuteTime": {
     "end_time": "2023-09-07T16:03:55.160006Z",
     "start_time": "2023-09-07T16:03:55.135960Z"
    }
   },
   "outputs": [
    {
     "data": {
      "application/javascript": [
       "\n",
       "            setTimeout(function() {\n",
       "                var nbb_cell_id = 9;\n",
       "                var nbb_unformatted_code = \"def visualize_graph(G, color):\\n    plt.figure(figsize=(7, 7))\\n    plt.xticks([])\\n    plt.yticks([])\\n\\n    pos = nx.spring_layout(G, seed=SEED)\\n\\n    # Draw nodes with labels (node numbers)\\n    node_labels = {node: str(node) for node in G.nodes()}\\n    nx.draw_networkx_labels(G, pos, labels=node_labels, font_size=10)\\n\\n    nx.draw_networkx(\\n        G,\\n        pos=pos,\\n        with_labels=False,\\n        node_color=color,\\n        cmap=\\\"Set1\\\",\\n    )\\n\\n    plt.show()\";\n",
       "                var nbb_formatted_code = \"def visualize_graph(G, color):\\n    plt.figure(figsize=(7, 7))\\n    plt.xticks([])\\n    plt.yticks([])\\n\\n    pos = nx.spring_layout(G, seed=SEED)\\n\\n    # Draw nodes with labels (node numbers)\\n    node_labels = {node: str(node) for node in G.nodes()}\\n    nx.draw_networkx_labels(G, pos, labels=node_labels, font_size=10)\\n\\n    nx.draw_networkx(\\n        G,\\n        pos=pos,\\n        with_labels=False,\\n        node_color=color,\\n        cmap=\\\"Set1\\\",\\n    )\\n\\n    plt.show()\";\n",
       "                var nbb_cells = Jupyter.notebook.get_cells();\n",
       "                for (var i = 0; i < nbb_cells.length; ++i) {\n",
       "                    if (nbb_cells[i].input_prompt_number == nbb_cell_id) {\n",
       "                        if (nbb_cells[i].get_text() == nbb_unformatted_code) {\n",
       "                             nbb_cells[i].set_text(nbb_formatted_code);\n",
       "                        }\n",
       "                        break;\n",
       "                    }\n",
       "                }\n",
       "            }, 500);\n",
       "            "
      ],
      "text/plain": [
       "<IPython.core.display.Javascript object>"
      ]
     },
     "metadata": {},
     "output_type": "display_data"
    }
   ],
   "source": [
    "def visualize_graph(G, color):\n",
    "    plt.figure(figsize=(7, 7))\n",
    "    plt.xticks([])\n",
    "    plt.yticks([])\n",
    "\n",
    "    pos = nx.spring_layout(G, seed=SEED)\n",
    "\n",
    "    # Draw nodes with labels (node numbers)\n",
    "    node_labels = {node: str(node) for node in G.nodes()}\n",
    "    nx.draw_networkx_labels(G, pos, labels=node_labels, font_size=10)\n",
    "\n",
    "    nx.draw_networkx(\n",
    "        G,\n",
    "        pos=pos,\n",
    "        with_labels=False,\n",
    "        node_color=color,\n",
    "        cmap=\"Set1\",\n",
    "    )\n",
    "\n",
    "    plt.show()"
   ]
  },
  {
   "cell_type": "code",
   "execution_count": 10,
   "id": "9f4a2c75",
   "metadata": {
    "ExecuteTime": {
     "end_time": "2023-09-07T16:03:56.510250Z",
     "start_time": "2023-09-07T16:03:56.494208Z"
    }
   },
   "outputs": [
    {
     "data": {
      "application/javascript": [
       "\n",
       "            setTimeout(function() {\n",
       "                var nbb_cell_id = 10;\n",
       "                var nbb_unformatted_code = \"from torch_geometric.datasets import KarateClub\\n\\ndataset = KarateClub()\";\n",
       "                var nbb_formatted_code = \"from torch_geometric.datasets import KarateClub\\n\\ndataset = KarateClub()\";\n",
       "                var nbb_cells = Jupyter.notebook.get_cells();\n",
       "                for (var i = 0; i < nbb_cells.length; ++i) {\n",
       "                    if (nbb_cells[i].input_prompt_number == nbb_cell_id) {\n",
       "                        if (nbb_cells[i].get_text() == nbb_unformatted_code) {\n",
       "                             nbb_cells[i].set_text(nbb_formatted_code);\n",
       "                        }\n",
       "                        break;\n",
       "                    }\n",
       "                }\n",
       "            }, 500);\n",
       "            "
      ],
      "text/plain": [
       "<IPython.core.display.Javascript object>"
      ]
     },
     "metadata": {},
     "output_type": "display_data"
    }
   ],
   "source": [
    "from torch_geometric.datasets import KarateClub\n",
    "\n",
    "dataset = KarateClub()"
   ]
  },
  {
   "cell_type": "code",
   "execution_count": 11,
   "id": "c800ac1e",
   "metadata": {
    "ExecuteTime": {
     "end_time": "2023-09-07T16:03:56.883207Z",
     "start_time": "2023-09-07T16:03:56.861037Z"
    }
   },
   "outputs": [
    {
     "data": {
      "text/plain": [
       "KarateClub()"
      ]
     },
     "execution_count": 11,
     "metadata": {},
     "output_type": "execute_result"
    },
    {
     "data": {
      "application/javascript": [
       "\n",
       "            setTimeout(function() {\n",
       "                var nbb_cell_id = 11;\n",
       "                var nbb_unformatted_code = \"dataset\";\n",
       "                var nbb_formatted_code = \"dataset\";\n",
       "                var nbb_cells = Jupyter.notebook.get_cells();\n",
       "                for (var i = 0; i < nbb_cells.length; ++i) {\n",
       "                    if (nbb_cells[i].input_prompt_number == nbb_cell_id) {\n",
       "                        if (nbb_cells[i].get_text() == nbb_unformatted_code) {\n",
       "                             nbb_cells[i].set_text(nbb_formatted_code);\n",
       "                        }\n",
       "                        break;\n",
       "                    }\n",
       "                }\n",
       "            }, 500);\n",
       "            "
      ],
      "text/plain": [
       "<IPython.core.display.Javascript object>"
      ]
     },
     "metadata": {},
     "output_type": "display_data"
    }
   ],
   "source": [
    "dataset"
   ]
  },
  {
   "cell_type": "code",
   "execution_count": 12,
   "id": "1ff99b4c",
   "metadata": {
    "ExecuteTime": {
     "end_time": "2023-09-07T16:03:58.139122Z",
     "start_time": "2023-09-07T16:03:58.107294Z"
    }
   },
   "outputs": [
    {
     "name": "stdout",
     "output_type": "stream",
     "text": [
      "Dataset properties\n",
      "==============================================================\n",
      "Dataset: KarateClub()\n",
      "Number of graphs in the dataset: 1\n",
      "Number of features: 34\n",
      "Number of classes: 4\n"
     ]
    },
    {
     "data": {
      "application/javascript": [
       "\n",
       "            setTimeout(function() {\n",
       "                var nbb_cell_id = 12;\n",
       "                var nbb_unformatted_code = \"print(\\\"Dataset properties\\\")\\nprint(\\\"==============================================================\\\")\\nprint(f\\\"Dataset: {dataset}\\\")  # This prints the name of the dataset\\nprint(f\\\"Number of graphs in the dataset: {len(dataset)}\\\")\\nprint(\\n    f\\\"Number of features: {dataset.num_features}\\\"\\n)  # Number of features each node in the dataset has\\nprint(\\n    f\\\"Number of classes: {dataset.num_classes}\\\"\\n)  # Number of classes that a node can be classified into\";\n",
       "                var nbb_formatted_code = \"print(\\\"Dataset properties\\\")\\nprint(\\\"==============================================================\\\")\\nprint(f\\\"Dataset: {dataset}\\\")  # This prints the name of the dataset\\nprint(f\\\"Number of graphs in the dataset: {len(dataset)}\\\")\\nprint(\\n    f\\\"Number of features: {dataset.num_features}\\\"\\n)  # Number of features each node in the dataset has\\nprint(\\n    f\\\"Number of classes: {dataset.num_classes}\\\"\\n)  # Number of classes that a node can be classified into\";\n",
       "                var nbb_cells = Jupyter.notebook.get_cells();\n",
       "                for (var i = 0; i < nbb_cells.length; ++i) {\n",
       "                    if (nbb_cells[i].input_prompt_number == nbb_cell_id) {\n",
       "                        if (nbb_cells[i].get_text() == nbb_unformatted_code) {\n",
       "                             nbb_cells[i].set_text(nbb_formatted_code);\n",
       "                        }\n",
       "                        break;\n",
       "                    }\n",
       "                }\n",
       "            }, 500);\n",
       "            "
      ],
      "text/plain": [
       "<IPython.core.display.Javascript object>"
      ]
     },
     "metadata": {},
     "output_type": "display_data"
    }
   ],
   "source": [
    "print(\"Dataset properties\")\n",
    "print(\"==============================================================\")\n",
    "print(f\"Dataset: {dataset}\")  # This prints the name of the dataset\n",
    "print(f\"Number of graphs in the dataset: {len(dataset)}\")\n",
    "print(\n",
    "    f\"Number of features: {dataset.num_features}\"\n",
    ")  # Number of features each node in the dataset has\n",
    "print(\n",
    "    f\"Number of classes: {dataset.num_classes}\"\n",
    ")  # Number of classes that a node can be classified into"
   ]
  },
  {
   "cell_type": "code",
   "execution_count": null,
   "id": "40c117bd",
   "metadata": {
    "ExecuteTime": {
     "end_time": "2023-09-07T16:03:05.828993Z",
     "start_time": "2023-09-07T16:03:03.981771Z"
    }
   },
   "outputs": [],
   "source": [
    "print(dataset.weights)"
   ]
  },
  {
   "cell_type": "code",
   "execution_count": 13,
   "id": "2faa759b",
   "metadata": {
    "ExecuteTime": {
     "end_time": "2023-09-07T16:03:59.263209Z",
     "start_time": "2023-09-07T16:03:59.231149Z"
    }
   },
   "outputs": [
    {
     "name": "stdout",
     "output_type": "stream",
     "text": [
      "Graph properties\n",
      "==============================================================\n",
      "Number of nodes: 34\n",
      "Number of edges: 156\n",
      "Average node degree: 4.59\n",
      "Contains isolated nodes: False\n",
      "Contains self-loops: False\n",
      "Is undirected: True\n"
     ]
    },
    {
     "data": {
      "application/javascript": [
       "\n",
       "            setTimeout(function() {\n",
       "                var nbb_cell_id = 13;\n",
       "                var nbb_unformatted_code = \"data = dataset[0]\\nprint(\\\"Graph properties\\\")\\nprint(\\\"==============================================================\\\")\\n\\n# Gather some statistics about the graph.\\nprint(f\\\"Number of nodes: {data.num_nodes}\\\")  # Number of nodes in the graph\\nprint(f\\\"Number of edges: {data.num_edges}\\\")  # Number of edges in the graph\\nprint(\\n    f\\\"Average node degree: {data.num_edges / data.num_nodes:.2f}\\\"\\n)  # Average number of nodes in the graph\\nprint(\\n    f\\\"Contains isolated nodes: {data.has_isolated_nodes()}\\\"\\n)  # Does the graph contains nodes that are not connected\\nprint(\\n    f\\\"Contains self-loops: {data.has_self_loops()}\\\"\\n)  # Does the graph contains nodes that are linked to themselves\\nprint(f\\\"Is undirected: {data.is_undirected()}\\\")  # Is the graph an undirected graph\";\n",
       "                var nbb_formatted_code = \"data = dataset[0]\\nprint(\\\"Graph properties\\\")\\nprint(\\\"==============================================================\\\")\\n\\n# Gather some statistics about the graph.\\nprint(f\\\"Number of nodes: {data.num_nodes}\\\")  # Number of nodes in the graph\\nprint(f\\\"Number of edges: {data.num_edges}\\\")  # Number of edges in the graph\\nprint(\\n    f\\\"Average node degree: {data.num_edges / data.num_nodes:.2f}\\\"\\n)  # Average number of nodes in the graph\\nprint(\\n    f\\\"Contains isolated nodes: {data.has_isolated_nodes()}\\\"\\n)  # Does the graph contains nodes that are not connected\\nprint(\\n    f\\\"Contains self-loops: {data.has_self_loops()}\\\"\\n)  # Does the graph contains nodes that are linked to themselves\\nprint(f\\\"Is undirected: {data.is_undirected()}\\\")  # Is the graph an undirected graph\";\n",
       "                var nbb_cells = Jupyter.notebook.get_cells();\n",
       "                for (var i = 0; i < nbb_cells.length; ++i) {\n",
       "                    if (nbb_cells[i].input_prompt_number == nbb_cell_id) {\n",
       "                        if (nbb_cells[i].get_text() == nbb_unformatted_code) {\n",
       "                             nbb_cells[i].set_text(nbb_formatted_code);\n",
       "                        }\n",
       "                        break;\n",
       "                    }\n",
       "                }\n",
       "            }, 500);\n",
       "            "
      ],
      "text/plain": [
       "<IPython.core.display.Javascript object>"
      ]
     },
     "metadata": {},
     "output_type": "display_data"
    }
   ],
   "source": [
    "data = dataset[0]\n",
    "print(\"Graph properties\")\n",
    "print(\"==============================================================\")\n",
    "\n",
    "# Gather some statistics about the graph.\n",
    "print(f\"Number of nodes: {data.num_nodes}\")  # Number of nodes in the graph\n",
    "print(f\"Number of edges: {data.num_edges}\")  # Number of edges in the graph\n",
    "print(\n",
    "    f\"Average node degree: {data.num_edges / data.num_nodes:.2f}\"\n",
    ")  # Average number of nodes in the graph\n",
    "print(\n",
    "    f\"Contains isolated nodes: {data.has_isolated_nodes()}\"\n",
    ")  # Does the graph contains nodes that are not connected\n",
    "print(\n",
    "    f\"Contains self-loops: {data.has_self_loops()}\"\n",
    ")  # Does the graph contains nodes that are linked to themselves\n",
    "print(f\"Is undirected: {data.is_undirected()}\")  # Is the graph an undirected graph"
   ]
  },
  {
   "cell_type": "code",
   "execution_count": 14,
   "id": "c93cde16",
   "metadata": {
    "ExecuteTime": {
     "end_time": "2023-09-07T16:04:01.883632Z",
     "start_time": "2023-09-07T16:04:01.871613Z"
    }
   },
   "outputs": [
    {
     "data": {
      "text/plain": [
       "torch_geometric.data.data.Data"
      ]
     },
     "execution_count": 14,
     "metadata": {},
     "output_type": "execute_result"
    },
    {
     "data": {
      "application/javascript": [
       "\n",
       "            setTimeout(function() {\n",
       "                var nbb_cell_id = 14;\n",
       "                var nbb_unformatted_code = \"type(data)\";\n",
       "                var nbb_formatted_code = \"type(data)\";\n",
       "                var nbb_cells = Jupyter.notebook.get_cells();\n",
       "                for (var i = 0; i < nbb_cells.length; ++i) {\n",
       "                    if (nbb_cells[i].input_prompt_number == nbb_cell_id) {\n",
       "                        if (nbb_cells[i].get_text() == nbb_unformatted_code) {\n",
       "                             nbb_cells[i].set_text(nbb_formatted_code);\n",
       "                        }\n",
       "                        break;\n",
       "                    }\n",
       "                }\n",
       "            }, 500);\n",
       "            "
      ],
      "text/plain": [
       "<IPython.core.display.Javascript object>"
      ]
     },
     "metadata": {},
     "output_type": "display_data"
    }
   ],
   "source": [
    "type(data)"
   ]
  },
  {
   "cell_type": "code",
   "execution_count": null,
   "id": "5ebf95c3",
   "metadata": {
    "ExecuteTime": {
     "end_time": "2023-09-07T16:03:15.921078Z",
     "start_time": "2023-09-07T16:03:15.896901Z"
    }
   },
   "outputs": [],
   "source": [
    "data"
   ]
  },
  {
   "cell_type": "code",
   "execution_count": null,
   "id": "4ece1407",
   "metadata": {
    "ExecuteTime": {
     "end_time": "2023-09-07T16:03:16.316293Z",
     "start_time": "2023-09-07T16:03:16.300402Z"
    }
   },
   "outputs": [],
   "source": [
    "# Access edge connections (edge_index) and edge attributes (edge_attr)\n",
    "edge_index = data.edge_index\n",
    "edge_attr = data.edge_attr\n",
    "\n",
    "print(\"Edge Index (Connections):\")\n",
    "print(edge_index)\n",
    "\n"
   ]
  },
  {
   "cell_type": "code",
   "execution_count": null,
   "id": "08ed1229",
   "metadata": {
    "ExecuteTime": {
     "end_time": "2023-09-07T16:03:16.745245Z",
     "start_time": "2023-09-07T16:03:16.723012Z"
    }
   },
   "outputs": [],
   "source": [
    "print(\"\\nEdge Attributes (Weights):\")\n",
    "print(edge_attr)"
   ]
  },
  {
   "cell_type": "code",
   "execution_count": null,
   "id": "32161211",
   "metadata": {
    "ExecuteTime": {
     "end_time": "2023-09-07T16:03:17.147963Z",
     "start_time": "2023-09-07T16:03:17.125813Z"
    }
   },
   "outputs": [],
   "source": [
    "# Calculate the number of edges in the graph\n",
    "num_edges = data.edge_index.shape[1]"
   ]
  },
  {
   "cell_type": "code",
   "execution_count": null,
   "id": "49a0cf4a",
   "metadata": {
    "ExecuteTime": {
     "end_time": "2023-09-07T16:03:17.606225Z",
     "start_time": "2023-09-07T16:03:17.584085Z"
    }
   },
   "outputs": [],
   "source": [
    "num_edges"
   ]
  },
  {
   "cell_type": "code",
   "execution_count": null,
   "id": "d17ae9e3",
   "metadata": {
    "ExecuteTime": {
     "end_time": "2023-09-07T16:03:18.057704Z",
     "start_time": "2023-09-07T16:03:18.032512Z"
    }
   },
   "outputs": [],
   "source": [
    "# Generate random weights for each edge (you can replace this with your own weighting logic)\n",
    "edge_weights = torch.rand(num_edges)"
   ]
  },
  {
   "cell_type": "code",
   "execution_count": null,
   "id": "ce8e6972",
   "metadata": {
    "ExecuteTime": {
     "end_time": "2023-09-07T16:03:18.476226Z",
     "start_time": "2023-09-07T16:03:18.438064Z"
    }
   },
   "outputs": [],
   "source": [
    "edge_weights"
   ]
  },
  {
   "cell_type": "code",
   "execution_count": null,
   "id": "197938fa",
   "metadata": {
    "ExecuteTime": {
     "end_time": "2023-09-07T16:03:18.891126Z",
     "start_time": "2023-09-07T16:03:18.875505Z"
    }
   },
   "outputs": [],
   "source": [
    "# Add edge weights as edge attributes to the Data object\n",
    "data.edge_attr = edge_weights"
   ]
  },
  {
   "cell_type": "code",
   "execution_count": null,
   "id": "79110358",
   "metadata": {
    "ExecuteTime": {
     "end_time": "2023-09-07T16:03:19.416773Z",
     "start_time": "2023-09-07T16:03:19.392722Z"
    }
   },
   "outputs": [],
   "source": [
    "# Print the updated Data object with edge weights\n",
    "print(data.edge_attr)"
   ]
  },
  {
   "cell_type": "code",
   "execution_count": 15,
   "id": "17309f44",
   "metadata": {
    "ExecuteTime": {
     "end_time": "2023-09-07T16:04:09.440473Z",
     "start_time": "2023-09-07T16:04:09.408876Z"
    }
   },
   "outputs": [
    {
     "data": {
      "application/javascript": [
       "\n",
       "            setTimeout(function() {\n",
       "                var nbb_cell_id = 15;\n",
       "                var nbb_unformatted_code = \"from torch_geometric.utils import to_networkx\\n\\nG = to_networkx(data, to_undirected=True)\";\n",
       "                var nbb_formatted_code = \"from torch_geometric.utils import to_networkx\\n\\nG = to_networkx(data, to_undirected=True)\";\n",
       "                var nbb_cells = Jupyter.notebook.get_cells();\n",
       "                for (var i = 0; i < nbb_cells.length; ++i) {\n",
       "                    if (nbb_cells[i].input_prompt_number == nbb_cell_id) {\n",
       "                        if (nbb_cells[i].get_text() == nbb_unformatted_code) {\n",
       "                             nbb_cells[i].set_text(nbb_formatted_code);\n",
       "                        }\n",
       "                        break;\n",
       "                    }\n",
       "                }\n",
       "            }, 500);\n",
       "            "
      ],
      "text/plain": [
       "<IPython.core.display.Javascript object>"
      ]
     },
     "metadata": {},
     "output_type": "display_data"
    }
   ],
   "source": [
    "from torch_geometric.utils import to_networkx\n",
    "\n",
    "G = to_networkx(data, to_undirected=True)"
   ]
  },
  {
   "cell_type": "code",
   "execution_count": 16,
   "id": "5fb7e298",
   "metadata": {
    "ExecuteTime": {
     "end_time": "2023-09-07T16:04:10.749346Z",
     "start_time": "2023-09-07T16:04:10.735776Z"
    }
   },
   "outputs": [
    {
     "data": {
      "text/plain": [
       "<networkx.classes.graph.Graph at 0x21f56b2f730>"
      ]
     },
     "execution_count": 16,
     "metadata": {},
     "output_type": "execute_result"
    },
    {
     "data": {
      "application/javascript": [
       "\n",
       "            setTimeout(function() {\n",
       "                var nbb_cell_id = 16;\n",
       "                var nbb_unformatted_code = \"G\";\n",
       "                var nbb_formatted_code = \"G\";\n",
       "                var nbb_cells = Jupyter.notebook.get_cells();\n",
       "                for (var i = 0; i < nbb_cells.length; ++i) {\n",
       "                    if (nbb_cells[i].input_prompt_number == nbb_cell_id) {\n",
       "                        if (nbb_cells[i].get_text() == nbb_unformatted_code) {\n",
       "                             nbb_cells[i].set_text(nbb_formatted_code);\n",
       "                        }\n",
       "                        break;\n",
       "                    }\n",
       "                }\n",
       "            }, 500);\n",
       "            "
      ],
      "text/plain": [
       "<IPython.core.display.Javascript object>"
      ]
     },
     "metadata": {},
     "output_type": "display_data"
    }
   ],
   "source": [
    "G"
   ]
  },
  {
   "cell_type": "code",
   "execution_count": 17,
   "id": "adc767b7",
   "metadata": {
    "ExecuteTime": {
     "end_time": "2023-09-07T16:04:12.280022Z",
     "start_time": "2023-09-07T16:04:12.267030Z"
    }
   },
   "outputs": [
    {
     "data": {
      "text/plain": [
       "tensor([1, 1, 1, 1, 3, 3, 3, 1, 0, 1, 3, 1, 1, 1, 0, 0, 3, 1, 0, 1, 0, 1, 0, 0,\n",
       "        2, 2, 0, 0, 2, 0, 0, 2, 0, 0])"
      ]
     },
     "execution_count": 17,
     "metadata": {},
     "output_type": "execute_result"
    },
    {
     "data": {
      "application/javascript": [
       "\n",
       "            setTimeout(function() {\n",
       "                var nbb_cell_id = 17;\n",
       "                var nbb_unformatted_code = \"data.y\";\n",
       "                var nbb_formatted_code = \"data.y\";\n",
       "                var nbb_cells = Jupyter.notebook.get_cells();\n",
       "                for (var i = 0; i < nbb_cells.length; ++i) {\n",
       "                    if (nbb_cells[i].input_prompt_number == nbb_cell_id) {\n",
       "                        if (nbb_cells[i].get_text() == nbb_unformatted_code) {\n",
       "                             nbb_cells[i].set_text(nbb_formatted_code);\n",
       "                        }\n",
       "                        break;\n",
       "                    }\n",
       "                }\n",
       "            }, 500);\n",
       "            "
      ],
      "text/plain": [
       "<IPython.core.display.Javascript object>"
      ]
     },
     "metadata": {},
     "output_type": "display_data"
    }
   ],
   "source": [
    "data.y"
   ]
  },
  {
   "cell_type": "code",
   "execution_count": null,
   "id": "e50eea54",
   "metadata": {
    "ExecuteTime": {
     "end_time": "2023-09-07T13:28:31.458480Z",
     "start_time": "2023-09-07T13:28:31.437786Z"
    }
   },
   "outputs": [],
   "source": [
    "club_labels"
   ]
  },
  {
   "cell_type": "code",
   "execution_count": null,
   "id": "1f6c4876",
   "metadata": {
    "ExecuteTime": {
     "end_time": "2023-09-07T00:04:25.547742Z",
     "start_time": "2023-09-07T00:04:25.516743Z"
    }
   },
   "outputs": [],
   "source": [
    "\n",
    "# Now you can access the edge weights in the NetworkX graph\n",
    "for u, v, weight in G.edges(data='weight'):\n",
    "    print(f\"Edge ({u}, {v}) has weight {weight:.4f}\")"
   ]
  },
  {
   "cell_type": "code",
   "execution_count": null,
   "id": "652fa49b",
   "metadata": {
    "ExecuteTime": {
     "end_time": "2023-09-07T00:16:21.284855Z",
     "start_time": "2023-09-07T00:16:21.271889Z"
    }
   },
   "outputs": [],
   "source": [
    "# Now you can access the edge weights directly from data.edge_attr\n",
    "for i, (u, v) in enumerate(data.edge_index.T.tolist()):\n",
    "    weight = data.edge_attr[i].item()\n",
    "    print(f\"Edge ({u}, {v}) has weight {weight:.4f}\")"
   ]
  },
  {
   "cell_type": "code",
   "execution_count": null,
   "id": "7975e005",
   "metadata": {
    "ExecuteTime": {
     "end_time": "2023-09-06T23:56:47.446403Z",
     "start_time": "2023-09-06T23:56:47.295783Z"
    }
   },
   "outputs": [],
   "source": [
    "# Define node positions using a spring layout\n",
    "import matplotlib.pyplot as plt\n",
    "\n",
    "pos = nx.spring_layout(G, seed=SEED)\n",
    "\n",
    "# Create a Matplotlib figure and axis\n",
    "fig, ax = plt.subplots()\n",
    "\n",
    "# Draw nodes and edges\n",
    "nx.draw(\n",
    "    G,\n",
    "    pos,\n",
    "    with_labels=True,\n",
    "    node_size=300,\n",
    "    node_color=\"skyblue\",\n",
    "    font_size=12,\n",
    "    font_color=\"black\",\n",
    "    font_weight=\"bold\",\n",
    "    edge_color=\"gray\",\n",
    "    ax=ax,\n",
    ")\n",
    "\n",
    "# Add a title\n",
    "ax.set_title(\"Graph with High Structural and Community Similarity\")\n",
    "\n",
    "# Show the plot\n",
    "plt.axis(\"off\")\n",
    "plt.show()"
   ]
  },
  {
   "cell_type": "code",
   "execution_count": null,
   "id": "63c4680b",
   "metadata": {
    "ExecuteTime": {
     "end_time": "2023-09-06T23:56:57.321486Z",
     "start_time": "2023-09-06T23:56:57.210449Z"
    }
   },
   "outputs": [],
   "source": [
    "visualize_graph(G, color=data.y)"
   ]
  },
  {
   "cell_type": "code",
   "execution_count": null,
   "id": "e31f93d3",
   "metadata": {
    "ExecuteTime": {
     "end_time": "2023-09-06T23:49:20.729771Z",
     "start_time": "2023-09-06T23:49:20.725772Z"
    }
   },
   "outputs": [],
   "source": [
    "# Extract the node labels from the graph\n",
    "node_labels = {node: G.nodes[node]['label'] for node in G.nodes()}\n",
    "\n",
    "# Call the visualize_graph function with the graph and node_labels\n",
    "# visualize_graph(G, node_labels)"
   ]
  },
  {
   "cell_type": "code",
   "execution_count": null,
   "id": "8d25d88d",
   "metadata": {
    "ExecuteTime": {
     "end_time": "2023-09-06T23:49:26.982760Z",
     "start_time": "2023-09-06T23:49:26.976763Z"
    }
   },
   "outputs": [],
   "source": [
    "node_labels"
   ]
  },
  {
   "cell_type": "code",
   "execution_count": null,
   "id": "c4e0a7c6",
   "metadata": {
    "ExecuteTime": {
     "end_time": "2023-09-06T23:55:08.621914Z",
     "start_time": "2023-09-06T23:55:08.613955Z"
    }
   },
   "outputs": [],
   "source": [
    "# Create a simple graph\n",
    "G = nx.Graph()\n",
    "G.add_edge(1, 2, weight=1.0)"
   ]
  },
  {
   "cell_type": "code",
   "execution_count": null,
   "id": "e573cb5e",
   "metadata": {
    "ExecuteTime": {
     "end_time": "2023-09-06T23:51:30.809508Z",
     "start_time": "2023-09-06T23:51:30.787542Z"
    }
   },
   "outputs": [],
   "source": [
    "# import networkx as nx\n",
    "# import random\n",
    "\n",
    "# # Create an empty graph\n",
    "# G = nx.Graph()\n",
    "\n",
    "# # Add nodes from 0 to 9\n",
    "# G.add_nodes_from(range(10))\n",
    "\n",
    "# # Connect nodes randomly with random weights\n",
    "# for i in range(10):\n",
    "#     for j in range(i+1, 15):\n",
    "#         if random.random() < 0.5:  # Adjust the probability as needed\n",
    "#             weight = random.uniform(0.1, 5.0)  # Random weight between 0.1 and 5.0\n",
    "#             G.add_edge(i, j, weight=weight)\n",
    "\n",
    "# # Print the edges with their weights\n",
    "# for edge in G.edges(data=True):\n",
    "#     print(f\"Edge {edge[0]} - {edge[1]}, Weight: {edge[2]['weight']}\")\n",
    "\n",
    "import networkx as nx\n",
    "import random\n",
    "\n",
    "# Create an empty graph\n",
    "G = nx.Graph()\n",
    "\n",
    "# Add nodes from 0 to 9\n",
    "G.add_nodes_from(range(40))\n",
    "\n",
    "# Assign random labels between 0 and 4 to the nodes\n",
    "for node in G.nodes():\n",
    "    label = random.randint(0, 4)  # Random label between 0 and 4\n",
    "    G.nodes[node]['label'] = label\n",
    "\n",
    "# Connect nodes randomly with random weights\n",
    "for i in range(10):\n",
    "    for j in range(i+1, 40):\n",
    "        if random.random() < 0.5:  # Adjust the probability as needed\n",
    "            weight = random.uniform(0.1, 5.0)  # Random weight between 0.1 and 5.0\n",
    "            G.add_edge(i, j, weight=weight)\n",
    "\n",
    "# Print the nodes with their labels and edges with their weights\n",
    "for node in G.nodes(data=True):\n",
    "    print(f\"Node {node[0]}, Label: {node[1]['label']}\")\n",
    "\n",
    "for edge in G.edges(data=True):\n",
    "    print(f\"Edge {edge[0]} - {edge[1]}, Weight: {edge[2]['weight']}\")"
   ]
  },
  {
   "cell_type": "markdown",
   "id": "75537b48",
   "metadata": {
    "ExecuteTime": {
     "end_time": "2023-09-06T15:21:20.487316Z",
     "start_time": "2023-09-06T15:21:20.476308Z"
    }
   },
   "source": [
    "#### 'dimensions': 8, 'walk_length': 6, 'num_walks': 5, 'p': 1.5, 'q': 2.0, 'learning_rate': 0.001, 'window_size': 6, 'epochs': 125, 'negative_samples': 15, 'batch_size': 8\n",
    "#### Best Loss: 111.7859431493728"
   ]
  },
  {
   "cell_type": "code",
   "execution_count": 18,
   "id": "b94e537a",
   "metadata": {
    "ExecuteTime": {
     "end_time": "2023-09-07T16:04:36.321427Z",
     "start_time": "2023-09-07T16:04:36.305376Z"
    }
   },
   "outputs": [
    {
     "data": {
      "application/javascript": [
       "\n",
       "            setTimeout(function() {\n",
       "                var nbb_cell_id = 18;\n",
       "                var nbb_unformatted_code = \"dimensions = 8\\nwalk_length = 10\\nnum_walks = 10\\np = 1.5\\nq = 4.0\\nlearning_rate = 0.01\\nwindow_size = 6\\nepochs = 200\\nnegative_samples = 6\\nbatch_size = 8\";\n",
       "                var nbb_formatted_code = \"dimensions = 8\\nwalk_length = 10\\nnum_walks = 10\\np = 1.5\\nq = 4.0\\nlearning_rate = 0.01\\nwindow_size = 6\\nepochs = 200\\nnegative_samples = 6\\nbatch_size = 8\";\n",
       "                var nbb_cells = Jupyter.notebook.get_cells();\n",
       "                for (var i = 0; i < nbb_cells.length; ++i) {\n",
       "                    if (nbb_cells[i].input_prompt_number == nbb_cell_id) {\n",
       "                        if (nbb_cells[i].get_text() == nbb_unformatted_code) {\n",
       "                             nbb_cells[i].set_text(nbb_formatted_code);\n",
       "                        }\n",
       "                        break;\n",
       "                    }\n",
       "                }\n",
       "            }, 500);\n",
       "            "
      ],
      "text/plain": [
       "<IPython.core.display.Javascript object>"
      ]
     },
     "metadata": {},
     "output_type": "display_data"
    }
   ],
   "source": [
    "dimensions = 8\n",
    "walk_length = 10\n",
    "num_walks = 10\n",
    "p = 1.5\n",
    "q = 4.0\n",
    "learning_rate = 0.01\n",
    "window_size = 6\n",
    "epochs = 200\n",
    "negative_samples = 6\n",
    "batch_size = 8"
   ]
  },
  {
   "cell_type": "code",
   "execution_count": null,
   "id": "3bc414a0",
   "metadata": {
    "ExecuteTime": {
     "end_time": "2023-09-07T00:19:18.275848Z",
     "start_time": "2023-09-07T00:19:18.263821Z"
    }
   },
   "outputs": [],
   "source": [
    "p = 1.0  # Return parameter\n",
    "q = 1.0  # In-out parameter\n",
    "utw = Node2Vec(G, p, q)"
   ]
  },
  {
   "cell_type": "code",
   "execution_count": null,
   "id": "fe826782",
   "metadata": {
    "ExecuteTime": {
     "end_time": "2023-09-07T00:19:47.300010Z",
     "start_time": "2023-09-07T00:19:47.288883Z"
    }
   },
   "outputs": [],
   "source": [
    "# Create a NetworkX graph and add edges with weights\n",
    "G = nx.Graph()\n",
    "\n",
    "# Assuming you have edge data (u, v, weight) in your data\n",
    "for edge in zip(data.edge_index[0], data.edge_index[1], data.edge_attr):\n",
    "    u, v, weight = edge\n",
    "    G.add_edge(u, v, weight=weight)"
   ]
  },
  {
   "cell_type": "code",
   "execution_count": null,
   "id": "3836d770",
   "metadata": {
    "ExecuteTime": {
     "end_time": "2023-09-07T00:19:48.088961Z",
     "start_time": "2023-09-07T00:19:48.061301Z"
    }
   },
   "outputs": [],
   "source": [
    "G.nodes()"
   ]
  },
  {
   "cell_type": "code",
   "execution_count": null,
   "id": "9607c0e3",
   "metadata": {
    "ExecuteTime": {
     "end_time": "2023-09-07T00:19:51.081653Z",
     "start_time": "2023-09-07T00:19:51.047909Z"
    }
   },
   "outputs": [],
   "source": [
    "# Preprocess transition probabilities\n",
    "utw.preprocess_transition_probs()"
   ]
  },
  {
   "cell_type": "code",
   "execution_count": null,
   "id": "0c5e54eb",
   "metadata": {
    "ExecuteTime": {
     "end_time": "2023-09-07T00:14:24.417253Z",
     "start_time": "2023-09-07T00:14:24.406268Z"
    }
   },
   "outputs": [],
   "source": [
    "# Generate random walks\n",
    "num_walks = 10\n",
    "walk_length = 5\n",
    "walks = []\n",
    "# walks = node2vec.simulate_walks(num_walks, walk_length)\n"
   ]
  },
  {
   "cell_type": "code",
   "execution_count": null,
   "id": "696293c5",
   "metadata": {
    "ExecuteTime": {
     "end_time": "2023-09-07T00:14:24.922021Z",
     "start_time": "2023-09-07T00:14:24.886083Z"
    }
   },
   "outputs": [],
   "source": [
    "for node in G.nodes():\n",
    "    if utw.alias_nodes.get(node) is not None:\n",
    "        walks.extend(utw.simulate_walks(num_walks, walk_length))\n",
    "\n",
    "# Print the generated walks\n",
    "for walk in walks:\n",
    "    print(walk)"
   ]
  },
  {
   "cell_type": "code",
   "execution_count": null,
   "id": "c8fc71b6",
   "metadata": {
    "ExecuteTime": {
     "end_time": "2023-09-07T00:14:56.780904Z",
     "start_time": "2023-09-07T00:14:56.756678Z"
    }
   },
   "outputs": [],
   "source": [
    "G.edges()"
   ]
  },
  {
   "cell_type": "code",
   "execution_count": null,
   "id": "bc1ad151",
   "metadata": {
    "ExecuteTime": {
     "end_time": "2023-09-06T23:43:56.978338Z",
     "start_time": "2023-09-06T23:43:56.972339Z"
    }
   },
   "outputs": [],
   "source": [
    "print(G.nodes())"
   ]
  },
  {
   "cell_type": "code",
   "execution_count": null,
   "id": "07454d54",
   "metadata": {
    "ExecuteTime": {
     "end_time": "2023-09-06T23:40:11.723054Z",
     "start_time": "2023-09-06T23:40:11.709054Z"
    }
   },
   "outputs": [],
   "source": [
    "walks"
   ]
  },
  {
   "cell_type": "code",
   "execution_count": null,
   "id": "37dbefe4",
   "metadata": {},
   "outputs": [],
   "source": []
  },
  {
   "cell_type": "code",
   "execution_count": null,
   "id": "1d386400",
   "metadata": {
    "ExecuteTime": {
     "end_time": "2023-09-06T23:35:06.095242Z",
     "start_time": "2023-09-06T23:35:06.079709Z"
    }
   },
   "outputs": [],
   "source": [
    "graph = Node2Vec(G, p, q, num_walks, walk_length)"
   ]
  },
  {
   "cell_type": "code",
   "execution_count": null,
   "id": "ff5544ff",
   "metadata": {
    "ExecuteTime": {
     "end_time": "2023-09-06T23:35:06.428502Z",
     "start_time": "2023-09-06T23:35:06.413356Z"
    }
   },
   "outputs": [],
   "source": [
    "graph"
   ]
  },
  {
   "cell_type": "code",
   "execution_count": null,
   "id": "a9a17cc3",
   "metadata": {
    "ExecuteTime": {
     "end_time": "2023-09-06T23:35:07.551214Z",
     "start_time": "2023-09-06T23:35:07.501659Z"
    }
   },
   "outputs": [],
   "source": [
    "graph.preprocess_transition_probs()"
   ]
  },
  {
   "cell_type": "code",
   "execution_count": null,
   "id": "e8de304c",
   "metadata": {
    "ExecuteTime": {
     "end_time": "2023-09-06T23:04:59.543735Z",
     "start_time": "2023-09-06T23:04:59.534735Z"
    }
   },
   "outputs": [],
   "source": [
    "G.nodes()"
   ]
  },
  {
   "cell_type": "code",
   "execution_count": null,
   "id": "f86618bf",
   "metadata": {
    "ExecuteTime": {
     "end_time": "2023-09-06T23:05:00.083587Z",
     "start_time": "2023-09-06T23:05:00.025266Z"
    }
   },
   "outputs": [],
   "source": [
    "walks = graph.simulate_walks(num_walks, walk_length)"
   ]
  },
  {
   "cell_type": "code",
   "execution_count": null,
   "id": "cc1a9f2a",
   "metadata": {
    "ExecuteTime": {
     "end_time": "2023-09-06T21:59:13.397916Z",
     "start_time": "2023-09-06T21:59:13.354825Z"
    }
   },
   "outputs": [],
   "source": [
    "import matplotlib.pyplot as plt\n",
    "from gensim.models import Word2Vec\n",
    "\n",
    "def learn_embeddings(walks, dimensions=128, window_size=5, epochs=10,negative=negative_samples,):\n",
    "    '''\n",
    "    Learn embeddings by optimizing the Skipgram objective using SGD and plot the loss values.\n",
    "\n",
    "    Parameters:\n",
    "        walks (list of lists): List of walks or sentences for training the Word2Vec model.\n",
    "        dimensions (int): The size of the embedding vectors.\n",
    "        window_size (int): The maximum distance between the current and predicted word within a sentence.\n",
    "        epochs (int): The number of iterations (epochs) over the dataset.\n",
    "\n",
    "    Returns:\n",
    "        (numpy.ndarray, list): A tuple containing the embedding matrix and a list of loss values over epochs.\n",
    "    '''\n",
    "    # Convert the walks to string format if they are not already\n",
    "    walks = [list(map(str, walk)) for walk in walks]\n",
    "\n",
    "    # Create a Word2Vec model and train it\n",
    "    model = Word2Vec(sentences=walks, vector_size=dimensions, window=window_size,negative=negative_samples, min_count=0, sg=1, compute_loss=True, workers=4, epochs=epochs)\n",
    "\n",
    "    # Access the embedding matrix\n",
    "    embedding_matrix = model.wv.vectors\n",
    "\n",
    "    # Collect loss values over epochs\n",
    "    loss_values = []\n",
    "    for epoch in range(epochs):\n",
    "        loss = model.get_latest_training_loss()\n",
    "        loss_values.append(loss)\n",
    "        print(f\"Epoch {epoch + 1}/{epochs}, Loss: {loss}\")\n",
    "\n",
    "    # Plot the loss values\n",
    "    plt.plot(range(1, epochs + 1), loss_values, marker='o')\n",
    "    plt.title('Loss Over Epochs')\n",
    "    plt.xlabel('Epoch')\n",
    "    plt.ylabel('Loss')\n",
    "    plt.grid(True)\n",
    "    plt.show()\n",
    "\n",
    "    return embedding_matrix, loss_values\n",
    "\n",
    "# Example usage\n",
    "# embedding_matrix, loss_values = learn_embeddings(walks, dimensions=128, window_size=5, epochs=10)\n"
   ]
  },
  {
   "cell_type": "code",
   "execution_count": 19,
   "id": "fe8a9eaf",
   "metadata": {
    "ExecuteTime": {
     "end_time": "2023-09-07T16:04:45.527771Z",
     "start_time": "2023-09-07T16:04:40.255983Z"
    }
   },
   "outputs": [
    {
     "data": {
      "application/javascript": [
       "\n",
       "            setTimeout(function() {\n",
       "                var nbb_cell_id = 19;\n",
       "                var nbb_unformatted_code = \"johanna = Node2Vec(\\n    G,\\n    dimensions,\\n    walk_length,\\n    num_walks,\\n    p,\\n    q,\\n    learning_rate,\\n    window_size,\\n    epochs,\\n    negative_samples,\\n)\";\n",
       "                var nbb_formatted_code = \"johanna = Node2Vec(\\n    G,\\n    dimensions,\\n    walk_length,\\n    num_walks,\\n    p,\\n    q,\\n    learning_rate,\\n    window_size,\\n    epochs,\\n    negative_samples,\\n)\";\n",
       "                var nbb_cells = Jupyter.notebook.get_cells();\n",
       "                for (var i = 0; i < nbb_cells.length; ++i) {\n",
       "                    if (nbb_cells[i].input_prompt_number == nbb_cell_id) {\n",
       "                        if (nbb_cells[i].get_text() == nbb_unformatted_code) {\n",
       "                             nbb_cells[i].set_text(nbb_formatted_code);\n",
       "                        }\n",
       "                        break;\n",
       "                    }\n",
       "                }\n",
       "            }, 500);\n",
       "            "
      ],
      "text/plain": [
       "<IPython.core.display.Javascript object>"
      ]
     },
     "metadata": {},
     "output_type": "display_data"
    }
   ],
   "source": [
    "johanna = Node2Vec(\n",
    "    G,\n",
    "    dimensions,\n",
    "    walk_length,\n",
    "    num_walks,\n",
    "    p,\n",
    "    q,\n",
    "    learning_rate,\n",
    "    window_size,\n",
    "    epochs,\n",
    "    negative_samples,\n",
    ")"
   ]
  },
  {
   "cell_type": "code",
   "execution_count": 20,
   "id": "a09f8606",
   "metadata": {
    "ExecuteTime": {
     "end_time": "2023-09-07T16:04:51.217314Z",
     "start_time": "2023-09-07T16:04:51.107661Z"
    }
   },
   "outputs": [
    {
     "data": {
      "application/javascript": [
       "\n",
       "            setTimeout(function() {\n",
       "                var nbb_cell_id = 20;\n",
       "                var nbb_unformatted_code = \"walks = []\\nfor _ in range(num_walks):\\n    for node in G.nodes():\\n        walk = johanna.node2vec_walk(node)\\n        walks.append(walk)\";\n",
       "                var nbb_formatted_code = \"walks = []\\nfor _ in range(num_walks):\\n    for node in G.nodes():\\n        walk = johanna.node2vec_walk(node)\\n        walks.append(walk)\";\n",
       "                var nbb_cells = Jupyter.notebook.get_cells();\n",
       "                for (var i = 0; i < nbb_cells.length; ++i) {\n",
       "                    if (nbb_cells[i].input_prompt_number == nbb_cell_id) {\n",
       "                        if (nbb_cells[i].get_text() == nbb_unformatted_code) {\n",
       "                             nbb_cells[i].set_text(nbb_formatted_code);\n",
       "                        }\n",
       "                        break;\n",
       "                    }\n",
       "                }\n",
       "            }, 500);\n",
       "            "
      ],
      "text/plain": [
       "<IPython.core.display.Javascript object>"
      ]
     },
     "metadata": {},
     "output_type": "display_data"
    }
   ],
   "source": [
    "walks = []\n",
    "for _ in range(num_walks):\n",
    "    for node in G.nodes():\n",
    "        walk = johanna.node2vec_walk(node)\n",
    "        walks.append(walk)"
   ]
  },
  {
   "cell_type": "code",
   "execution_count": 21,
   "id": "03794677",
   "metadata": {
    "ExecuteTime": {
     "end_time": "2023-09-07T16:04:57.639147Z",
     "start_time": "2023-09-07T16:04:57.527921Z"
    }
   },
   "outputs": [
    {
     "data": {
      "text/plain": [
       "[[0, 4, 6, 5, 16, 5, 6, 16, 5, 0],\n",
       " [1, 13, 3, 0, 3, 0, 12, 3, 7, 2],\n",
       " [2, 13, 33, 31, 28, 33, 15, 32, 15, 33],\n",
       " [3, 2, 13, 0, 2, 7, 1, 2, 3, 1],\n",
       " [4, 0, 10, 4, 10, 0, 10, 4, 0, 6],\n",
       " [5, 16, 6, 5, 10, 0, 4, 10, 0, 1],\n",
       " [6, 5, 16, 6, 5, 16, 6, 0, 5, 16],\n",
       " [7, 3, 0, 12, 0, 19, 1, 3, 13, 2],\n",
       " [8, 0, 3, 2, 3, 13, 33, 13, 33, 14],\n",
       " [9, 2, 9, 2, 0, 3, 7, 1, 21, 0],\n",
       " [10, 4, 0, 6, 5, 6, 16, 5, 0, 8],\n",
       " [11, 0, 8, 33, 23, 33, 8, 0, 2, 8],\n",
       " [12, 3, 12, 0, 5, 0, 19, 1, 0, 7],\n",
       " [13, 0, 2, 7, 0, 12, 3, 2, 0, 1],\n",
       " [14, 32, 30, 33, 15, 32, 23, 29, 32, 23],\n",
       " [15, 33, 22, 33, 28, 33, 29, 32, 23, 33],\n",
       " [16, 6, 4, 0, 1, 17, 1, 17, 0, 12],\n",
       " [17, 1, 30, 8, 32, 8, 30, 8, 30, 32],\n",
       " [18, 32, 2, 27, 23, 27, 24, 27, 33, 14],\n",
       " [19, 0, 31, 0, 5, 0, 10, 5, 0, 10],\n",
       " [20, 32, 33, 26, 29, 26, 33, 22, 32, 31],\n",
       " [21, 1, 3, 0, 13, 1, 19, 0, 19, 1],\n",
       " [22, 32, 8, 32, 20, 33, 18, 32, 22, 33],\n",
       " [23, 33, 23, 27, 23, 33, 27, 23, 27, 33],\n",
       " [24, 25, 31, 28, 33, 31, 28, 33, 15, 33],\n",
       " [25, 31, 28, 31, 28, 33, 28, 31, 25, 31],\n",
       " [26, 29, 33, 26, 29, 26, 33, 9, 2, 9],\n",
       " [27, 2, 27, 24, 31, 32, 23, 32, 29, 33],\n",
       " [28, 31, 32, 15, 32, 30, 32, 29, 23, 32],\n",
       " [29, 26, 33, 32, 31, 33, 31, 28, 33, 14],\n",
       " [30, 8, 2, 0, 6, 16, 5, 0, 6, 0],\n",
       " [31, 32, 33, 30, 33, 32, 15, 33, 32, 20],\n",
       " [32, 31, 33, 30, 8, 30, 33, 20, 33, 29],\n",
       " [33, 19, 33, 28, 33, 15, 33, 32, 15, 33],\n",
       " [0, 4, 0, 7, 1, 7, 2, 0, 13, 0],\n",
       " [1, 0, 2, 27, 33, 32, 14, 32, 31, 25],\n",
       " [2, 0, 8, 33, 8, 30, 32, 33, 30, 33],\n",
       " [3, 7, 3, 7, 0, 2, 0, 31, 24, 27],\n",
       " [4, 10, 0, 4, 6, 4, 0, 21, 0, 17],\n",
       " [5, 16, 5, 6, 4, 0, 11, 0, 7, 3],\n",
       " [6, 4, 0, 3, 2, 9, 33, 15, 32, 33],\n",
       " [7, 2, 1, 13, 0, 13, 2, 32, 15, 33],\n",
       " [8, 0, 3, 0, 7, 1, 21, 0, 21, 1],\n",
       " [9, 2, 3, 13, 33, 20, 33, 28, 31, 28],\n",
       " [10, 4, 0, 1, 7, 0, 8, 2, 0, 3],\n",
       " [11, 0, 8, 0, 1, 2, 0, 13, 0, 1],\n",
       " [12, 3, 12, 3, 2, 7, 0, 7, 0, 2],\n",
       " [13, 2, 0, 6, 5, 0, 6, 0, 13, 2],\n",
       " [14, 32, 14, 33, 13, 3, 1, 2, 28, 2],\n",
       " [15, 32, 31, 24, 25, 24, 27, 23, 32, 22],\n",
       " [16, 6, 16, 5, 6, 5, 16, 5, 10, 4],\n",
       " [17, 1, 19, 1, 7, 1, 2, 8, 2, 7],\n",
       " [18, 32, 14, 32, 15, 32, 8, 2, 13, 2],\n",
       " [19, 33, 30, 32, 31, 25, 24, 27, 33, 30],\n",
       " [20, 33, 22, 33, 19, 33, 32, 8, 30, 32],\n",
       " [21, 0, 3, 0, 7, 2, 3, 1, 2, 13],\n",
       " [22, 33, 27, 23, 33, 29, 33, 19, 0, 1],\n",
       " [23, 29, 23, 33, 13, 2, 13, 3, 0, 19],\n",
       " [24, 31, 25, 24, 31, 0, 31, 0, 17, 1],\n",
       " [25, 31, 0, 21, 0, 10, 4, 10, 4, 10],\n",
       " [26, 33, 29, 23, 33, 31, 25, 24, 31, 33],\n",
       " [27, 2, 3, 0, 5, 10, 5, 10, 0, 5],\n",
       " [28, 2, 27, 2, 8, 2, 1, 2, 0, 1],\n",
       " [29, 23, 32, 23, 25, 23, 32, 33, 27, 33],\n",
       " [30, 32, 33, 31, 28, 33, 20, 33, 13, 1],\n",
       " [31, 24, 25, 31, 24, 25, 31, 24, 31, 25],\n",
       " [32, 31, 28, 33, 14, 33, 14, 32, 20, 32],\n",
       " [33, 27, 33, 18, 32, 2, 8, 0, 6, 5],\n",
       " [0, 11, 0, 2, 7, 1, 7, 1, 17, 0],\n",
       " [1, 3, 2, 3, 0, 1, 13, 2, 13, 0],\n",
       " [2, 13, 1, 3, 7, 3, 7, 3, 7, 3],\n",
       " [3, 1, 0, 2, 1, 3, 12, 3, 12, 0],\n",
       " [4, 0, 2, 8, 0, 2, 3, 0, 3, 13],\n",
       " [5, 16, 5, 6, 5, 16, 6, 5, 0, 6],\n",
       " [6, 0, 5, 10, 0, 7, 3, 1, 13, 2],\n",
       " [7, 0, 2, 3, 1, 2, 7, 1, 0, 21],\n",
       " [8, 0, 11, 0, 11, 0, 12, 0, 3, 12],\n",
       " [9, 2, 3, 7, 1, 3, 2, 13, 3, 1],\n",
       " [10, 5, 16, 6, 16, 6, 5, 0, 6, 5],\n",
       " [11, 0, 7, 2, 1, 3, 13, 1, 17, 0],\n",
       " [12, 0, 7, 1, 0, 3, 12, 0, 5, 10],\n",
       " [13, 1, 0, 19, 1, 7, 3, 2, 7, 0],\n",
       " [14, 32, 29, 23, 32, 33, 14, 32, 14, 32],\n",
       " [15, 33, 27, 24, 27, 2, 13, 2, 3, 1],\n",
       " [16, 5, 10, 0, 5, 6, 5, 16, 5, 6],\n",
       " [17, 1, 21, 1, 19, 0, 7, 3, 1, 21],\n",
       " [18, 33, 32, 14, 33, 23, 27, 33, 14, 33],\n",
       " [19, 1, 19, 0, 1, 19, 1, 13, 2, 8],\n",
       " [20, 33, 30, 32, 31, 32, 30, 1, 17, 0],\n",
       " [21, 1, 0, 13, 3, 1, 21, 1, 0, 3],\n",
       " [22, 33, 30, 32, 30, 8, 33, 26, 29, 26],\n",
       " [23, 27, 23, 33, 18, 33, 19, 1, 3, 2],\n",
       " [24, 31, 25, 23, 29, 32, 33, 31, 28, 33],\n",
       " [25, 24, 25, 31, 24, 31, 25, 31, 24, 31],\n",
       " [26, 29, 33, 26, 29, 26, 33, 26, 33, 29],\n",
       " [27, 23, 25, 31, 32, 31, 28, 33, 28, 31],\n",
       " [28, 33, 23, 32, 33, 30, 32, 15, 32, 8],\n",
       " [29, 32, 22, 33, 26, 33, 28, 2, 0, 1],\n",
       " [30, 33, 32, 22, 33, 32, 23, 33, 14, 32],\n",
       " [31, 24, 27, 24, 27, 2, 13, 2, 27, 2],\n",
       " [32, 22, 33, 28, 33, 31, 28, 31, 33, 9],\n",
       " [33, 29, 26, 33, 26, 33, 29, 23, 27, 33],\n",
       " [0, 1, 2, 7, 2, 9, 2, 7, 3, 0],\n",
       " [1, 17, 0, 1, 0, 17, 1, 19, 0, 1],\n",
       " [2, 9, 2, 9, 2, 9, 2, 32, 2, 1],\n",
       " [3, 2, 3, 7, 0, 7, 3, 1, 0, 17],\n",
       " [4, 10, 0, 11, 0, 2, 8, 33, 26, 29],\n",
       " [5, 16, 6, 5, 6, 16, 6, 16, 6, 5],\n",
       " [6, 5, 6, 16, 6, 5, 0, 11, 0, 6],\n",
       " [7, 1, 19, 1, 0, 7, 3, 0, 2, 3],\n",
       " [8, 2, 28, 2, 8, 0, 2, 27, 33, 23],\n",
       " [9, 33, 20, 33, 20, 32, 33, 22, 32, 22],\n",
       " [10, 5, 10, 5, 0, 6, 0, 11, 0, 3],\n",
       " [11, 0, 11, 0, 11, 0, 13, 2, 13, 2],\n",
       " [12, 3, 0, 12, 0, 6, 4, 0, 12, 3],\n",
       " [13, 1, 13, 2, 27, 24, 25, 23, 25, 23],\n",
       " [14, 32, 30, 8, 30, 1, 30, 32, 8, 30],\n",
       " [15, 32, 2, 27, 24, 27, 2, 9, 2, 32],\n",
       " [16, 5, 16, 5, 6, 16, 6, 0, 5, 6],\n",
       " [17, 1, 17, 1, 0, 1, 19, 0, 19, 33],\n",
       " [18, 33, 15, 33, 19, 0, 10, 5, 0, 7],\n",
       " [19, 0, 4, 10, 0, 8, 2, 32, 15, 33],\n",
       " [20, 32, 30, 1, 30, 1, 21, 1, 17, 0],\n",
       " [21, 1, 0, 19, 33, 26, 33, 8, 30, 33],\n",
       " [22, 32, 22, 33, 28, 33, 30, 8, 32, 2],\n",
       " [23, 33, 29, 26, 33, 19, 33, 18, 32, 30],\n",
       " [24, 31, 25, 24, 27, 24, 31, 32, 31, 0],\n",
       " [25, 23, 27, 33, 28, 2, 8, 2, 32, 8],\n",
       " [26, 29, 26, 29, 26, 29, 33, 23, 29, 32],\n",
       " [27, 23, 27, 23, 27, 23, 29, 33, 20, 32],\n",
       " [28, 33, 23, 29, 33, 9, 33, 23, 27, 23],\n",
       " [29, 26, 29, 33, 29, 23, 33, 29, 26, 33],\n",
       " [30, 33, 32, 18, 32, 18, 32, 8, 33, 30],\n",
       " [31, 28, 33, 22, 32, 18, 33, 20, 33, 28],\n",
       " [32, 20, 33, 18, 33, 32, 30, 33, 29, 23],\n",
       " [33, 14, 32, 23, 29, 26, 33, 22, 32, 33],\n",
       " [0, 8, 0, 21, 1, 17, 0, 17, 0, 4],\n",
       " [1, 2, 0, 2, 3, 12, 3, 0, 13, 3],\n",
       " [2, 8, 2, 8, 33, 32, 15, 32, 2, 3],\n",
       " [3, 12, 0, 3, 2, 7, 0, 3, 12, 0],\n",
       " [4, 0, 5, 6, 5, 0, 31, 0, 21, 1],\n",
       " [5, 10, 5, 10, 4, 0, 12, 0, 12, 3],\n",
       " [6, 0, 3, 1, 30, 1, 21, 0, 31, 0],\n",
       " [7, 0, 2, 3, 7, 1, 3, 12, 3, 12],\n",
       " [8, 33, 20, 33, 30, 32, 8, 33, 19, 1],\n",
       " [9, 2, 28, 33, 19, 33, 29, 23, 29, 23],\n",
       " [10, 5, 0, 6, 0, 4, 6, 5, 6, 16],\n",
       " [11, 0, 12, 3, 12, 0, 10, 5, 10, 4],\n",
       " [12, 0, 11, 0, 10, 0, 4, 0, 4, 0],\n",
       " [13, 0, 4, 10, 0, 10, 5, 10, 5, 6],\n",
       " [14, 33, 14, 32, 29, 33, 18, 32, 22, 33],\n",
       " [15, 33, 20, 33, 32, 22, 33, 30, 32, 33],\n",
       " [16, 6, 5, 6, 16, 5, 16, 6, 16, 6],\n",
       " [17, 0, 5, 0, 12, 0, 10, 0, 4, 6],\n",
       " [18, 33, 18, 32, 23, 33, 8, 0, 2, 13],\n",
       " [19, 1, 3, 1, 3, 2, 8, 0, 1, 17],\n",
       " [20, 32, 20, 33, 29, 26, 33, 14, 32, 30],\n",
       " [21, 1, 0, 7, 3, 1, 3, 12, 0, 12],\n",
       " [22, 33, 14, 32, 31, 33, 28, 31, 28, 2],\n",
       " [23, 27, 23, 33, 27, 23, 29, 32, 29, 32],\n",
       " [24, 25, 24, 25, 24, 25, 24, 25, 31, 24],\n",
       " [25, 31, 25, 24, 25, 31, 28, 31, 25, 24],\n",
       " [26, 29, 32, 23, 32, 23, 33, 27, 23, 33],\n",
       " [27, 33, 20, 32, 15, 32, 33, 9, 33, 18],\n",
       " [28, 33, 28, 31, 25, 24, 25, 24, 31, 24],\n",
       " [29, 23, 33, 20, 33, 22, 32, 33, 30, 32],\n",
       " [30, 1, 0, 8, 0, 4, 10, 0, 4, 0],\n",
       " [31, 32, 20, 33, 26, 29, 33, 26, 33, 22],\n",
       " [32, 20, 33, 9, 33, 13, 33, 15, 32, 33],\n",
       " [33, 9, 33, 20, 32, 31, 32, 33, 18, 32],\n",
       " [0, 31, 0, 6, 0, 6, 16, 6, 5, 6],\n",
       " [1, 0, 13, 3, 1, 3, 2, 27, 23, 33],\n",
       " [2, 9, 2, 3, 2, 28, 2, 28, 2, 0],\n",
       " [3, 2, 3, 2, 32, 2, 8, 0, 7, 2],\n",
       " [4, 10, 4, 0, 6, 5, 16, 6, 5, 16],\n",
       " [5, 10, 5, 0, 17, 0, 17, 1, 17, 1],\n",
       " [6, 16, 6, 16, 5, 6, 5, 0, 10, 4],\n",
       " [7, 1, 2, 3, 2, 7, 2, 3, 0, 13],\n",
       " [8, 33, 32, 33, 23, 33, 27, 33, 15, 33],\n",
       " [9, 2, 7, 3, 1, 7, 0, 1, 3, 13],\n",
       " [10, 5, 0, 12, 3, 0, 11, 0, 12, 3],\n",
       " [11, 0, 1, 21, 0, 1, 19, 33, 18, 33],\n",
       " [12, 3, 12, 0, 17, 0, 1, 17, 1, 7],\n",
       " [13, 33, 15, 33, 15, 32, 15, 33, 19, 33],\n",
       " [14, 32, 22, 33, 27, 33, 8, 30, 8, 0],\n",
       " [15, 32, 33, 22, 33, 23, 29, 32, 23, 33],\n",
       " [16, 6, 0, 7, 2, 3, 2, 7, 2, 32],\n",
       " [17, 1, 7, 1, 21, 1, 21, 1, 19, 0],\n",
       " [18, 33, 31, 28, 2, 8, 2, 27, 23, 33],\n",
       " [19, 1, 0, 7, 0, 12, 0, 7, 1, 2],\n",
       " [20, 33, 27, 33, 23, 25, 23, 33, 9, 33],\n",
       " [21, 1, 0, 13, 3, 1, 0, 21, 1, 0],\n",
       " [22, 32, 33, 22, 33, 18, 32, 23, 33, 29],\n",
       " [23, 29, 32, 33, 20, 32, 18, 32, 23, 33],\n",
       " [24, 27, 24, 27, 33, 8, 30, 1, 0, 2],\n",
       " [25, 31, 24, 25, 31, 24, 31, 28, 33, 30],\n",
       " [26, 33, 19, 33, 8, 30, 32, 8, 0, 19],\n",
       " [27, 2, 1, 13, 3, 0, 13, 1, 0, 7],\n",
       " [28, 2, 0, 21, 0, 13, 1, 3, 7, 2],\n",
       " [29, 26, 33, 23, 32, 29, 33, 30, 8, 32],\n",
       " [30, 1, 2, 13, 0, 2, 1, 13, 1, 13],\n",
       " [31, 32, 15, 32, 18, 32, 29, 32, 18, 33],\n",
       " [32, 8, 32, 14, 33, 32, 20, 33, 13, 0],\n",
       " [33, 28, 33, 15, 32, 2, 1, 7, 3, 13],\n",
       " [0, 31, 24, 31, 0, 13, 3, 12, 0, 6],\n",
       " [1, 3, 13, 3, 1, 2, 13, 2, 0, 3],\n",
       " [2, 0, 8, 2, 32, 31, 25, 24, 31, 24],\n",
       " [3, 1, 7, 3, 1, 2, 0, 8, 30, 32],\n",
       " [4, 6, 0, 11, 0, 31, 24, 31, 25, 24],\n",
       " [5, 6, 0, 13, 3, 2, 1, 3, 7, 1],\n",
       " [6, 5, 10, 0, 4, 10, 0, 31, 32, 23],\n",
       " [7, 0, 2, 28, 33, 14, 32, 30, 33, 27],\n",
       " [8, 0, 8, 2, 32, 8, 30, 32, 20, 33],\n",
       " [9, 33, 19, 0, 1, 2, 13, 0, 3, 1],\n",
       " [10, 5, 10, 5, 10, 5, 6, 16, 6, 5],\n",
       " [11, 0, 31, 33, 20, 32, 2, 8, 2, 1],\n",
       " [12, 0, 4, 10, 4, 6, 4, 6, 4, 6],\n",
       " [13, 3, 2, 3, 1, 3, 0, 12, 0, 13],\n",
       " [14, 33, 27, 33, 18, 33, 28, 31, 32, 33],\n",
       " [15, 32, 15, 33, 22, 33, 32, 23, 32, 33],\n",
       " [16, 6, 5, 10, 0, 8, 30, 32, 15, 32],\n",
       " [17, 0, 3, 1, 13, 0, 7, 0, 3, 2],\n",
       " [18, 32, 18, 32, 29, 33, 27, 33, 27, 33],\n",
       " [19, 33, 22, 33, 19, 33, 22, 32, 33, 15],\n",
       " [20, 32, 2, 32, 22, 33, 32, 8, 0, 4],\n",
       " [21, 1, 2, 32, 33, 20, 33, 32, 20, 33],\n",
       " [22, 32, 33, 32, 31, 32, 31, 0, 7, 0],\n",
       " [23, 27, 33, 15, 33, 13, 3, 0, 7, 0],\n",
       " [24, 31, 32, 2, 3, 13, 1, 13, 2, 0],\n",
       " [25, 24, 31, 33, 32, 23, 29, 32, 29, 23],\n",
       " [26, 29, 33, 26, 33, 19, 33, 29, 33, 18],\n",
       " [27, 24, 25, 24, 25, 24, 31, 25, 24, 31],\n",
       " [28, 31, 28, 33, 13, 33, 28, 33, 26, 29],\n",
       " [29, 33, 20, 33, 19, 1, 13, 0, 3, 0],\n",
       " [30, 1, 2, 0, 2, 32, 18, 33, 23, 32],\n",
       " [31, 28, 31, 25, 31, 32, 33, 31, 32, 23],\n",
       " [32, 2, 7, 0, 1, 7, 3, 2, 7, 0],\n",
       " [33, 14, 32, 14, 33, 14, 33, 20, 33, 27],\n",
       " [0, 7, 0, 1, 2, 7, 1, 0, 13, 1],\n",
       " [1, 13, 2, 32, 8, 33, 32, 18, 33, 26],\n",
       " [2, 9, 33, 15, 32, 15, 33, 19, 33, 26],\n",
       " [3, 7, 2, 13, 3, 12, 0, 6, 0, 6],\n",
       " [4, 6, 0, 5, 16, 6, 5, 6, 16, 5],\n",
       " [5, 0, 4, 10, 5, 10, 0, 5, 6, 16],\n",
       " [6, 16, 6, 16, 6, 16, 6, 5, 16, 5],\n",
       " [7, 1, 13, 2, 8, 0, 8, 2, 0, 1],\n",
       " [8, 0, 4, 0, 7, 2, 13, 1, 7, 1],\n",
       " [9, 2, 9, 2, 27, 23, 33, 32, 29, 33],\n",
       " [10, 4, 6, 0, 6, 5, 0, 6, 5, 16],\n",
       " [11, 0, 3, 12, 3, 12, 0, 2, 0, 3],\n",
       " [12, 3, 0, 12, 3, 0, 2, 0, 10, 0],\n",
       " [13, 0, 1, 21, 0, 12, 0, 5, 6, 16],\n",
       " [14, 33, 14, 33, 32, 30, 8, 33, 20, 33],\n",
       " [15, 33, 27, 23, 29, 26, 33, 8, 30, 33],\n",
       " [16, 6, 16, 5, 6, 5, 16, 6, 5, 16],\n",
       " [17, 1, 21, 1, 0, 13, 33, 29, 23, 29],\n",
       " [18, 33, 32, 20, 32, 31, 33, 22, 33, 23],\n",
       " [19, 1, 0, 21, 1, 21, 1, 7, 3, 2],\n",
       " [20, 32, 33, 22, 32, 31, 33, 31, 32, 31],\n",
       " [21, 1, 17, 0, 4, 6, 0, 31, 0, 7],\n",
       " [22, 32, 18, 33, 26, 33, 31, 32, 30, 33],\n",
       " [23, 32, 15, 33, 9, 33, 28, 31, 28, 31],\n",
       " [24, 31, 25, 24, 31, 25, 23, 25, 23, 27],\n",
       " [25, 23, 25, 31, 0, 10, 4, 0, 4, 0],\n",
       " [26, 29, 33, 19, 33, 19, 1, 2, 0, 3],\n",
       " [27, 2, 32, 8, 2, 32, 8, 32, 2, 7],\n",
       " [28, 33, 23, 32, 29, 33, 30, 32, 8, 2],\n",
       " [29, 23, 33, 32, 14, 32, 29, 23, 27, 33],\n",
       " [30, 8, 32, 33, 13, 3, 2, 3, 2, 3],\n",
       " [31, 32, 14, 32, 33, 30, 8, 32, 33, 20],\n",
       " [32, 20, 32, 33, 18, 33, 19, 33, 31, 24],\n",
       " [33, 22, 33, 14, 32, 33, 29, 33, 26, 33],\n",
       " [0, 10, 5, 0, 1, 19, 0, 1, 17, 0],\n",
       " [1, 3, 13, 2, 0, 8, 33, 15, 32, 33],\n",
       " [2, 1, 13, 2, 27, 2, 27, 2, 1, 2],\n",
       " [3, 7, 1, 17, 0, 1, 17, 0, 5, 10],\n",
       " [4, 0, 10, 4, 0, 6, 4, 10, 0, 21],\n",
       " [5, 16, 6, 5, 16, 5, 16, 6, 5, 0],\n",
       " [6, 16, 5, 0, 6, 0, 10, 4, 0, 6],\n",
       " [7, 2, 13, 0, 6, 0, 4, 6, 5, 0],\n",
       " [8, 33, 18, 32, 18, 33, 20, 32, 23, 29],\n",
       " [9, 2, 27, 2, 28, 2, 7, 0, 3, 0],\n",
       " [10, 4, 10, 4, 10, 5, 10, 4, 0, 7],\n",
       " [11, 0, 1, 3, 1, 7, 3, 0, 7, 2],\n",
       " [12, 3, 12, 0, 3, 2, 1, 0, 13, 0],\n",
       " [13, 1, 3, 7, 3, 2, 3, 13, 2, 0],\n",
       " [14, 32, 14, 33, 32, 33, 26, 29, 26, 33],\n",
       " [15, 33, 15, 32, 33, 32, 23, 29, 32, 33],\n",
       " [16, 5, 16, 6, 16, 6, 5, 16, 5, 6],\n",
       " [17, 0, 1, 17, 1, 0, 19, 0, 8, 33],\n",
       " [18, 32, 2, 27, 24, 27, 23, 33, 32, 18],\n",
       " [19, 1, 0, 17, 0, 19, 1, 17, 0, 31],\n",
       " [20, 33, 14, 32, 31, 33, 26, 29, 33, 26],\n",
       " [21, 1, 3, 7, 1, 7, 3, 7, 1, 3],\n",
       " [22, 33, 23, 33, 27, 33, 27, 23, 33, 15],\n",
       " [23, 32, 33, 18, 32, 33, 31, 32, 31, 33],\n",
       " [24, 31, 28, 33, 31, 0, 10, 5, 10, 0],\n",
       " [25, 24, 25, 24, 31, 32, 8, 2, 8, 2],\n",
       " [26, 33, 27, 2, 0, 3, 7, 1, 19, 0],\n",
       " [27, 24, 27, 24, 25, 31, 24, 25, 31, 24],\n",
       " [28, 33, 13, 33, 26, 29, 32, 23, 25, 23],\n",
       " [29, 26, 33, 28, 2, 0, 7, 1, 2, 3],\n",
       " [30, 8, 32, 31, 32, 33, 14, 33, 32, 33],\n",
       " [31, 24, 25, 31, 25, 31, 32, 22, 32, 31],\n",
       " [32, 30, 32, 33, 8, 30, 8, 33, 30, 33],\n",
       " [33, 18, 32, 14, 33, 32, 22, 33, 32, 23],\n",
       " [0, 31, 28, 31, 28, 33, 14, 32, 8, 32],\n",
       " [1, 17, 0, 7, 0, 19, 0, 12, 3, 0],\n",
       " [2, 9, 33, 9, 33, 27, 2, 1, 13, 3],\n",
       " [3, 2, 13, 3, 13, 0, 3, 0, 11, 0],\n",
       " [4, 0, 13, 2, 9, 2, 27, 24, 25, 24],\n",
       " [5, 6, 5, 0, 5, 6, 0, 7, 3, 0],\n",
       " [6, 4, 6, 4, 0, 11, 0, 11, 0, 11],\n",
       " [7, 2, 7, 1, 7, 1, 13, 2, 7, 3],\n",
       " [8, 32, 33, 20, 33, 27, 24, 25, 24, 31],\n",
       " [9, 33, 26, 29, 26, 33, 30, 32, 33, 8],\n",
       " [10, 5, 10, 5, 6, 4, 0, 10, 4, 6],\n",
       " [11, 0, 17, 1, 21, 0, 3, 0, 4, 6],\n",
       " [12, 0, 3, 1, 17, 1, 19, 1, 19, 33],\n",
       " [13, 33, 9, 33, 32, 18, 33, 20, 33, 22],\n",
       " [14, 32, 2, 8, 0, 12, 3, 0, 1, 21],\n",
       " [15, 32, 2, 8, 32, 33, 31, 32, 15, 32],\n",
       " [16, 6, 5, 10, 5, 10, 0, 6, 0, 8],\n",
       " [17, 0, 13, 3, 13, 1, 0, 13, 1, 0],\n",
       " [18, 32, 31, 0, 31, 0, 5, 6, 16, 6],\n",
       " [19, 33, 19, 33, 14, 32, 2, 0, 8, 0],\n",
       " [20, 33, 22, 32, 30, 32, 33, 30, 8, 33],\n",
       " [21, 1, 17, 0, 17, 1, 19, 1, 21, 0],\n",
       " [22, 33, 15, 33, 22, 32, 33, 30, 32, 31],\n",
       " [23, 27, 23, 33, 23, 29, 32, 29, 23, 32],\n",
       " [24, 27, 2, 13, 33, 20, 33, 8, 30, 32],\n",
       " [25, 31, 24, 25, 24, 27, 24, 25, 31, 25],\n",
       " [26, 29, 33, 26, 29, 33, 23, 27, 33, 15],\n",
       " [27, 24, 31, 24, 25, 31, 25, 23, 32, 23],\n",
       " [28, 31, 28, 2, 9, 33, 8, 33, 15, 32],\n",
       " [29, 26, 29, 23, 32, 29, 26, 33, 29, 33],\n",
       " [30, 33, 19, 0, 3, 13, 1, 0, 1, 2],\n",
       " [31, 33, 9, 33, 30, 33, 32, 18, 33, 18],\n",
       " [32, 31, 0, 1, 30, 8, 33, 20, 32, 20],\n",
       " [33, 29, 32, 31, 28, 31, 0, 3, 7, 3]]"
      ]
     },
     "execution_count": 21,
     "metadata": {},
     "output_type": "execute_result"
    },
    {
     "data": {
      "application/javascript": [
       "\n",
       "            setTimeout(function() {\n",
       "                var nbb_cell_id = 21;\n",
       "                var nbb_unformatted_code = \"walks\";\n",
       "                var nbb_formatted_code = \"walks\";\n",
       "                var nbb_cells = Jupyter.notebook.get_cells();\n",
       "                for (var i = 0; i < nbb_cells.length; ++i) {\n",
       "                    if (nbb_cells[i].input_prompt_number == nbb_cell_id) {\n",
       "                        if (nbb_cells[i].get_text() == nbb_unformatted_code) {\n",
       "                             nbb_cells[i].set_text(nbb_formatted_code);\n",
       "                        }\n",
       "                        break;\n",
       "                    }\n",
       "                }\n",
       "            }, 500);\n",
       "            "
      ],
      "text/plain": [
       "<IPython.core.display.Javascript object>"
      ]
     },
     "metadata": {},
     "output_type": "display_data"
    }
   ],
   "source": [
    "walks"
   ]
  },
  {
   "cell_type": "code",
   "execution_count": null,
   "id": "74bbf2cb",
   "metadata": {
    "ExecuteTime": {
     "end_time": "2023-09-06T21:59:45.959179Z",
     "start_time": "2023-09-06T21:59:45.950179Z"
    }
   },
   "outputs": [],
   "source": [
    "from gensim.models import Word2Vec"
   ]
  },
  {
   "cell_type": "code",
   "execution_count": null,
   "id": "b1585f3b",
   "metadata": {
    "ExecuteTime": {
     "end_time": "2023-09-06T21:59:47.286238Z",
     "start_time": "2023-09-06T21:59:46.517050Z"
    }
   },
   "outputs": [],
   "source": [
    "# learn_embeddings(walks, dimensions=dimensions, window_size=window_size, epochs=epochs, output_file=\"embeddings.bin\")\n",
    "embedding_matrix, loss_values = learn_embeddings(\n",
    "    walks,\n",
    "    dimensions=dimensions,\n",
    "    negative=negative_samples,\n",
    "    window_size=window_size,\n",
    "    epochs=epochs,\n",
    ")"
   ]
  },
  {
   "cell_type": "code",
   "execution_count": null,
   "id": "e788aa49",
   "metadata": {},
   "outputs": [],
   "source": []
  },
  {
   "cell_type": "code",
   "execution_count": null,
   "id": "4f789b18",
   "metadata": {},
   "outputs": [],
   "source": []
  },
  {
   "cell_type": "code",
   "execution_count": null,
   "id": "d7c1b1b2",
   "metadata": {},
   "outputs": [],
   "source": []
  },
  {
   "cell_type": "code",
   "execution_count": null,
   "id": "795dbce2",
   "metadata": {
    "ExecuteTime": {
     "end_time": "2023-09-06T22:00:39.217955Z",
     "start_time": "2023-09-06T22:00:39.100749Z"
    }
   },
   "outputs": [],
   "source": [
    "def loss_function(Z, S):\n",
    "    \"\"\"\n",
    "    Calculate the objective function ||Z^T*Z - S||^2.\n",
    "\n",
    "    Args:\n",
    "        Z (numpy.ndarray): The node embeddings as a numpy array.\n",
    "        S (numpy.ndarray): The similarity matrix.\n",
    "\n",
    "    Returns:\n",
    "        float: The value of the objective function.\n",
    "    \"\"\"\n",
    "    Z_transpose = np.transpose(Z)\n",
    "    diff = np.dot(Z_transpose, Z) - S\n",
    "    #     obj_func = np.linalg.norm(diff) ** 2\n",
    "    obj_func = np.linalg.norm(diff)\n",
    "    return obj_func"
   ]
  },
  {
   "cell_type": "code",
   "execution_count": null,
   "id": "97d5fcda",
   "metadata": {},
   "outputs": [],
   "source": []
  },
  {
   "cell_type": "code",
   "execution_count": null,
   "id": "0aea06b2",
   "metadata": {
    "ExecuteTime": {
     "end_time": "2023-09-06T15:14:39.852521Z",
     "start_time": "2023-09-06T15:14:39.837386Z"
    }
   },
   "outputs": [],
   "source": [
    "model = Node2Vec(G, dimensions, walk_length, num_walks, p, q, learning_rate, window_size, epochs, negative_samples)"
   ]
  },
  {
   "cell_type": "code",
   "execution_count": null,
   "id": "91f0b7a9",
   "metadata": {
    "ExecuteTime": {
     "end_time": "2023-09-06T15:14:48.252552Z",
     "start_time": "2023-09-06T15:14:48.245555Z"
    }
   },
   "outputs": [],
   "source": [
    "embeddings_bt = model.get_embeddings()"
   ]
  },
  {
   "cell_type": "code",
   "execution_count": null,
   "id": "d4f20936",
   "metadata": {
    "ExecuteTime": {
     "end_time": "2023-09-06T15:14:51.146813Z",
     "start_time": "2023-09-06T15:14:51.134814Z"
    }
   },
   "outputs": [],
   "source": [
    "embeddings_bt"
   ]
  },
  {
   "cell_type": "code",
   "execution_count": null,
   "id": "e367e3a6",
   "metadata": {
    "ExecuteTime": {
     "end_time": "2023-09-06T15:21:20.472298Z",
     "start_time": "2023-09-06T15:15:01.696909Z"
    }
   },
   "outputs": [],
   "source": [
    "model.train(batch_size)"
   ]
  },
  {
   "cell_type": "code",
   "execution_count": null,
   "id": "5ec31a8d",
   "metadata": {
    "ExecuteTime": {
     "end_time": "2023-09-06T15:22:06.278679Z",
     "start_time": "2023-09-06T15:22:06.267680Z"
    }
   },
   "outputs": [],
   "source": [
    "# Get the node embeddings\n",
    "Z =model.get_embeddings()"
   ]
  },
  {
   "cell_type": "code",
   "execution_count": null,
   "id": "1512811f",
   "metadata": {
    "ExecuteTime": {
     "end_time": "2023-09-06T22:00:57.160697Z",
     "start_time": "2023-09-06T22:00:57.141782Z"
    }
   },
   "outputs": [],
   "source": [
    "Z = embedding_matrix.T"
   ]
  },
  {
   "cell_type": "code",
   "execution_count": 22,
   "id": "c397d242",
   "metadata": {
    "ExecuteTime": {
     "end_time": "2023-09-07T16:05:22.409586Z",
     "start_time": "2023-09-07T16:05:21.492639Z"
    }
   },
   "outputs": [
    {
     "data": {
      "application/javascript": [
       "\n",
       "            setTimeout(function() {\n",
       "                var nbb_cell_id = 22;\n",
       "                var nbb_unformatted_code = \"# Compute the similarity matrix\\nS = johanna.compute_similarity_matrix()\";\n",
       "                var nbb_formatted_code = \"# Compute the similarity matrix\\nS = johanna.compute_similarity_matrix()\";\n",
       "                var nbb_cells = Jupyter.notebook.get_cells();\n",
       "                for (var i = 0; i < nbb_cells.length; ++i) {\n",
       "                    if (nbb_cells[i].input_prompt_number == nbb_cell_id) {\n",
       "                        if (nbb_cells[i].get_text() == nbb_unformatted_code) {\n",
       "                             nbb_cells[i].set_text(nbb_formatted_code);\n",
       "                        }\n",
       "                        break;\n",
       "                    }\n",
       "                }\n",
       "            }, 500);\n",
       "            "
      ],
      "text/plain": [
       "<IPython.core.display.Javascript object>"
      ]
     },
     "metadata": {},
     "output_type": "display_data"
    }
   ],
   "source": [
    "# Compute the similarity matrix\n",
    "S = johanna.compute_similarity_matrix()"
   ]
  },
  {
   "cell_type": "code",
   "execution_count": 29,
   "id": "bf3d9bcf",
   "metadata": {
    "ExecuteTime": {
     "end_time": "2023-09-07T16:06:04.986556Z",
     "start_time": "2023-09-07T16:06:04.971000Z"
    }
   },
   "outputs": [
    {
     "data": {
      "text/plain": [
       "array([1. , 0.3, 0.6, 0.6, 0.1, 0. , 0.1, 0.4, 0.1, 0.1, 0.2, 0.2, 0.1,\n",
       "       0.6, 0. , 0. , 0.1, 0.5, 0. , 0.2, 0. , 0.3, 0. , 0.1, 0.1, 0.1,\n",
       "       0. , 0.2, 0. , 0. , 0.2, 0.3, 0.1, 0.4])"
      ]
     },
     "execution_count": 29,
     "metadata": {},
     "output_type": "execute_result"
    },
    {
     "data": {
      "application/javascript": [
       "\n",
       "            setTimeout(function() {\n",
       "                var nbb_cell_id = 29;\n",
       "                var nbb_unformatted_code = \"S[0]\";\n",
       "                var nbb_formatted_code = \"S[0]\";\n",
       "                var nbb_cells = Jupyter.notebook.get_cells();\n",
       "                for (var i = 0; i < nbb_cells.length; ++i) {\n",
       "                    if (nbb_cells[i].input_prompt_number == nbb_cell_id) {\n",
       "                        if (nbb_cells[i].get_text() == nbb_unformatted_code) {\n",
       "                             nbb_cells[i].set_text(nbb_formatted_code);\n",
       "                        }\n",
       "                        break;\n",
       "                    }\n",
       "                }\n",
       "            }, 500);\n",
       "            "
      ],
      "text/plain": [
       "<IPython.core.display.Javascript object>"
      ]
     },
     "metadata": {},
     "output_type": "display_data"
    }
   ],
   "source": [
    "S[0]"
   ]
  },
  {
   "cell_type": "code",
   "execution_count": 31,
   "id": "048ef682",
   "metadata": {
    "ExecuteTime": {
     "end_time": "2023-09-07T16:42:56.788465Z",
     "start_time": "2023-09-07T16:42:56.772417Z"
    }
   },
   "outputs": [
    {
     "data": {
      "text/plain": [
       "array([0.6, 0.6, 1. , 0.6, 0.1, 0.3, 0.1, 0.5, 0.5, 0.3, 0.2, 0.2, 0.1,\n",
       "       0.2, 0.2, 0. , 0. , 0.1, 0. , 0. , 0. , 0. , 0.2, 0.2, 0.1, 0.2,\n",
       "       0.1, 0.1, 0.1, 0. , 0.1, 0.2, 0.9, 0.6])"
      ]
     },
     "execution_count": 31,
     "metadata": {},
     "output_type": "execute_result"
    },
    {
     "data": {
      "application/javascript": [
       "\n",
       "            setTimeout(function() {\n",
       "                var nbb_cell_id = 31;\n",
       "                var nbb_unformatted_code = \"S[2]\";\n",
       "                var nbb_formatted_code = \"S[2]\";\n",
       "                var nbb_cells = Jupyter.notebook.get_cells();\n",
       "                for (var i = 0; i < nbb_cells.length; ++i) {\n",
       "                    if (nbb_cells[i].input_prompt_number == nbb_cell_id) {\n",
       "                        if (nbb_cells[i].get_text() == nbb_unformatted_code) {\n",
       "                             nbb_cells[i].set_text(nbb_formatted_code);\n",
       "                        }\n",
       "                        break;\n",
       "                    }\n",
       "                }\n",
       "            }, 500);\n",
       "            "
      ],
      "text/plain": [
       "<IPython.core.display.Javascript object>"
      ]
     },
     "metadata": {},
     "output_type": "display_data"
    }
   ],
   "source": [
    "S[2]"
   ]
  },
  {
   "cell_type": "code",
   "execution_count": null,
   "id": "39360637",
   "metadata": {
    "ExecuteTime": {
     "end_time": "2023-09-06T22:01:08.013432Z",
     "start_time": "2023-09-06T22:01:07.992434Z"
    }
   },
   "outputs": [],
   "source": [
    "# Calculate the objective function\n",
    "obj_value = loss_function(Z, S)"
   ]
  },
  {
   "cell_type": "code",
   "execution_count": null,
   "id": "e9e1e4cc",
   "metadata": {
    "ExecuteTime": {
     "end_time": "2023-09-06T22:01:09.248295Z",
     "start_time": "2023-09-06T22:01:09.229302Z"
    }
   },
   "outputs": [],
   "source": [
    "print(\"Objective Function Value:\", obj_value)"
   ]
  },
  {
   "cell_type": "code",
   "execution_count": null,
   "id": "c64874b5",
   "metadata": {},
   "outputs": [],
   "source": []
  }
 ],
 "metadata": {
  "kernelspec": {
   "display_name": "torch",
   "language": "python",
   "name": "torch"
  },
  "language_info": {
   "codemirror_mode": {
    "name": "ipython",
    "version": 3
   },
   "file_extension": ".py",
   "mimetype": "text/x-python",
   "name": "python",
   "nbconvert_exporter": "python",
   "pygments_lexer": "ipython3",
   "version": "3.9.16"
  },
  "toc": {
   "base_numbering": 1,
   "nav_menu": {},
   "number_sections": true,
   "sideBar": true,
   "skip_h1_title": false,
   "title_cell": "Table of Contents",
   "title_sidebar": "Contents",
   "toc_cell": false,
   "toc_position": {},
   "toc_section_display": true,
   "toc_window_display": false
  }
 },
 "nbformat": 4,
 "nbformat_minor": 5
}
