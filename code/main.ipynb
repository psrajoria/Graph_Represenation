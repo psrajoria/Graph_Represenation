{
 "cells": [
  {
   "cell_type": "code",
   "execution_count": 1,
   "id": "89af73c2",
   "metadata": {},
   "outputs": [
    {
     "name": "stdout",
     "output_type": "stream",
     "text": [
      "Num GPUs Available:  1\n"
     ]
    }
   ],
   "source": [
    "import tensorflow as tf\n",
    "print(\"Num GPUs Available: \", len(tf.config.list_physical_devices('GPU')))"
   ]
  },
  {
   "cell_type": "code",
   "execution_count": 5,
   "id": "e33fd0b8",
   "metadata": {},
   "outputs": [
    {
     "data": {
      "application/javascript": [
       "\n",
       "            setTimeout(function() {\n",
       "                var nbb_cell_id = 5;\n",
       "                var nbb_unformatted_code = \"%load_ext nb_black\";\n",
       "                var nbb_formatted_code = \"%load_ext nb_black\";\n",
       "                var nbb_cells = Jupyter.notebook.get_cells();\n",
       "                for (var i = 0; i < nbb_cells.length; ++i) {\n",
       "                    if (nbb_cells[i].input_prompt_number == nbb_cell_id) {\n",
       "                        if (nbb_cells[i].get_text() == nbb_unformatted_code) {\n",
       "                             nbb_cells[i].set_text(nbb_formatted_code);\n",
       "                        }\n",
       "                        break;\n",
       "                    }\n",
       "                }\n",
       "            }, 500);\n",
       "            "
      ],
      "text/plain": [
       "<IPython.core.display.Javascript object>"
      ]
     },
     "metadata": {},
     "output_type": "display_data"
    }
   ],
   "source": [
    "%load_ext nb_black\n"
   ]
  },
  {
   "cell_type": "code",
   "execution_count": 6,
   "id": "57e24404",
   "metadata": {},
   "outputs": [
    {
     "ename": "IndentationError",
     "evalue": "unexpected indent (3212825241.py, line 2)",
     "output_type": "error",
     "traceback": [
      "\u001b[1;36m  Cell \u001b[1;32mIn[6], line 2\u001b[1;36m\u001b[0m\n\u001b[1;33m    import tensorflow_gnn as tfgnn\u001b[0m\n\u001b[1;37m    ^\u001b[0m\n\u001b[1;31mIndentationError\u001b[0m\u001b[1;31m:\u001b[0m unexpected indent\n"
     ]
    },
    {
     "name": "stderr",
     "output_type": "stream",
     "text": [
      "ERROR:root:Cannot parse: 2:0:     import tensorflow_gnn as tfgnn\n",
      "Traceback (most recent call last):\n",
      "  File \"C:\\Users\\psraj\\miniconda3\\envs\\m_l\\lib\\site-packages\\lab_black.py\", line 218, in format_cell\n",
      "    formatted_code = _format_code(cell)\n",
      "  File \"C:\\Users\\psraj\\miniconda3\\envs\\m_l\\lib\\site-packages\\lab_black.py\", line 29, in _format_code\n",
      "    return format_str(src_contents=code, mode=FileMode())\n",
      "  File \"src\\black\\__init__.py\", line 1079, in format_str\n",
      "  File \"src\\black\\__init__.py\", line 1089, in _format_str_once\n",
      "  File \"src\\black\\parsing.py\", line 127, in lib2to3_parse\n",
      "black.parsing.InvalidInput: Cannot parse: 2:0:     import tensorflow_gnn as tfgnn\n"
     ]
    }
   ],
   "source": [
    "import tensorflow as tf\n",
    "import tensorflow_gnn as tfgnn\n",
    "\n",
    "        # Model hyper-parameters:\n",
    "        h_dims = {'user': 256, 'movie': 64, 'genre': 128}\n",
    "\n",
    "        # Model builder initialization:\n",
    "        gnn = tfgnn.keras.ConvGNNBuilder(\n",
    "          lambda edge_set_name: WeightedSumConvolution(),\n",
    "          lambda node_set_name: tfgnn.keras.layers.NextStateFromConcat(\n",
    "             tf.keras.layers.Dense(h_dims[node_set_name]))\n",
    "        )\n",
    "\n",
    "        # Two rounds of message passing to target node sets:\n",
    "        model = tf.keras.models.Sequential([\n",
    "            gnn.Convolve({'genre'}),  # sends messages from movie to genre\n",
    "            gnn.Convolve({'user'}),  # sends messages from movie and genre to users\n",
    "            tfgnn.keras.layers.Readout(node_set_name=\"user\"),\n",
    "            tf.keras.layers.Dense(1)\n",
    "        ])"
   ]
  },
  {
   "cell_type": "code",
   "execution_count": null,
   "id": "6d49135c",
   "metadata": {},
   "outputs": [],
   "source": []
  }
 ],
 "metadata": {
  "kernelspec": {
   "display_name": "Python 3 (ipykernel)",
   "language": "python",
   "name": "python3"
  },
  "language_info": {
   "codemirror_mode": {
    "name": "ipython",
    "version": 3
   },
   "file_extension": ".py",
   "mimetype": "text/x-python",
   "name": "python",
   "nbconvert_exporter": "python",
   "pygments_lexer": "ipython3",
   "version": "3.9.16"
  }
 },
 "nbformat": 4,
 "nbformat_minor": 5
}
