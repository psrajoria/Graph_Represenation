{
 "cells": [
  {
   "cell_type": "code",
   "execution_count": 3,
   "id": "23f36d99",
   "metadata": {
    "ExecuteTime": {
     "end_time": "2023-06-21T21:21:59.875953Z",
     "start_time": "2023-06-21T21:21:59.369158Z"
    }
   },
   "outputs": [],
   "source": [
    "import torch\n",
    "from torch_geometric.data import Data\n",
    "\n"
   ]
  },
  {
   "cell_type": "code",
   "execution_count": 4,
   "id": "57e3d7e4",
   "metadata": {
    "ExecuteTime": {
     "end_time": "2023-06-21T21:22:05.774305Z",
     "start_time": "2023-06-21T21:22:05.758319Z"
    }
   },
   "outputs": [],
   "source": [
    "edge_index = torch.tensor([[0, 1, 1, 2],\n",
    "                           [1, 0, 2, 1]], dtype=torch.long)\n"
   ]
  },
  {
   "cell_type": "code",
   "execution_count": 5,
   "id": "e3c4176a",
   "metadata": {
    "ExecuteTime": {
     "end_time": "2023-06-21T21:22:09.110827Z",
     "start_time": "2023-06-21T21:22:09.102851Z"
    }
   },
   "outputs": [
    {
     "data": {
      "text/plain": [
       "tensor([[0, 1, 1, 2],\n",
       "        [1, 0, 2, 1]])"
      ]
     },
     "execution_count": 5,
     "metadata": {},
     "output_type": "execute_result"
    }
   ],
   "source": [
    "edge_index"
   ]
  },
  {
   "cell_type": "code",
   "execution_count": 6,
   "id": "44f5e55d",
   "metadata": {
    "ExecuteTime": {
     "end_time": "2023-06-21T21:22:13.227724Z",
     "start_time": "2023-06-21T21:22:13.221725Z"
    }
   },
   "outputs": [],
   "source": [
    "x = torch.tensor([[-1], [0], [1]], dtype=torch.float)\n",
    "\n"
   ]
  },
  {
   "cell_type": "code",
   "execution_count": 7,
   "id": "77c6b79b",
   "metadata": {
    "ExecuteTime": {
     "end_time": "2023-06-21T21:22:14.535309Z",
     "start_time": "2023-06-21T21:22:14.523309Z"
    }
   },
   "outputs": [
    {
     "data": {
      "text/plain": [
       "tensor([[-1.],\n",
       "        [ 0.],\n",
       "        [ 1.]])"
      ]
     },
     "execution_count": 7,
     "metadata": {},
     "output_type": "execute_result"
    }
   ],
   "source": [
    "x"
   ]
  },
  {
   "cell_type": "code",
   "execution_count": 8,
   "id": "4e92f3c7",
   "metadata": {
    "ExecuteTime": {
     "end_time": "2023-06-21T21:22:19.271761Z",
     "start_time": "2023-06-21T21:22:19.267748Z"
    }
   },
   "outputs": [],
   "source": [
    "data = Data(x=x, edge_index=edge_index)"
   ]
  },
  {
   "cell_type": "code",
   "execution_count": 9,
   "id": "a5b6aed5",
   "metadata": {
    "ExecuteTime": {
     "end_time": "2023-06-21T21:22:36.843036Z",
     "start_time": "2023-06-21T21:22:36.824038Z"
    }
   },
   "outputs": [
    {
     "data": {
      "text/plain": [
       "Data(x=[3, 1], edge_index=[2, 4])"
      ]
     },
     "execution_count": 9,
     "metadata": {},
     "output_type": "execute_result"
    }
   ],
   "source": [
    "data"
   ]
  },
  {
   "cell_type": "code",
   "execution_count": 10,
   "id": "0848d4ac",
   "metadata": {
    "ExecuteTime": {
     "end_time": "2023-06-21T21:22:38.512544Z",
     "start_time": "2023-06-21T21:22:38.505514Z"
    }
   },
   "outputs": [
    {
     "data": {
      "text/plain": [
       "Data(x=[2], edge_index=[2])"
      ]
     },
     "execution_count": 10,
     "metadata": {},
     "output_type": "execute_result"
    }
   ],
   "source": [
    "Data(edge_index=[2, 4], x=[3, 1])"
   ]
  },
  {
   "cell_type": "code",
   "execution_count": null,
   "id": "2e5ed520",
   "metadata": {},
   "outputs": [],
   "source": []
  }
 ],
 "metadata": {
  "kernelspec": {
   "display_name": "Python 3 (ipykernel)",
   "language": "python",
   "name": "python3"
  },
  "language_info": {
   "codemirror_mode": {
    "name": "ipython",
    "version": 3
   },
   "file_extension": ".py",
   "mimetype": "text/x-python",
   "name": "python",
   "nbconvert_exporter": "python",
   "pygments_lexer": "ipython3",
   "version": "3.9.16"
  },
  "toc": {
   "base_numbering": 1,
   "nav_menu": {},
   "number_sections": true,
   "sideBar": true,
   "skip_h1_title": false,
   "title_cell": "Table of Contents",
   "title_sidebar": "Contents",
   "toc_cell": false,
   "toc_position": {},
   "toc_section_display": true,
   "toc_window_display": false
  }
 },
 "nbformat": 4,
 "nbformat_minor": 5
}
