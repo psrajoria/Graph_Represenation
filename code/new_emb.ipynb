{
 "cells": [
  {
   "cell_type": "code",
   "execution_count": null,
   "id": "75fcb5c2",
   "metadata": {
    "ExecuteTime": {
     "end_time": "2023-09-07T19:27:07.982168Z",
     "start_time": "2023-09-07T19:27:07.863819Z"
    }
   },
   "outputs": [],
   "source": [
    "%load_ext nb_black"
   ]
  },
  {
   "cell_type": "code",
   "execution_count": null,
   "id": "425fb33d",
   "metadata": {
    "ExecuteTime": {
     "end_time": "2023-09-07T19:27:09.325173Z",
     "start_time": "2023-09-07T19:27:08.414868Z"
    }
   },
   "outputs": [],
   "source": [
    "from node2vec_def.randomwalk import GraphEmbedding"
   ]
  },
  {
   "cell_type": "code",
   "execution_count": null,
   "id": "a59a6b08",
   "metadata": {
    "ExecuteTime": {
     "end_time": "2023-09-07T19:27:12.142975Z",
     "start_time": "2023-09-07T19:27:09.357877Z"
    }
   },
   "outputs": [],
   "source": [
    "import os\n",
    "import collections\n",
    "import numpy as np\n",
    "import pandas as pd\n",
    "import matplotlib.pyplot as plt\n",
    "import seaborn as sns\n",
    "import scipy.sparse as sp\n",
    "import torch\n",
    "from torch import Tensor\n",
    "import random\n",
    "import torch_geometric\n",
    "from torch_geometric.utils import to_networkx\n",
    "from torch_geometric.datasets import Planetoid\n",
    "import networkx as nx\n",
    "from networkx.algorithms import community\n",
    "import numpy as np\n",
    "from gensim.models import Word2Vec\n",
    "import networkx as nx\n",
    "import random"
   ]
  },
  {
   "cell_type": "code",
   "execution_count": null,
   "id": "b140774a",
   "metadata": {
    "ExecuteTime": {
     "end_time": "2023-09-07T19:27:12.167949Z",
     "start_time": "2023-09-07T19:27:12.142975Z"
    }
   },
   "outputs": [],
   "source": [
    "def loss_function(graph, params):\n",
    "    # Create an instance of GraphEmbedding with the provided parameters\n",
    "    graph_embedding = GraphEmbedding(graph, params)\n",
    "\n",
    "    # Compute transition probabilities and generate random walks\n",
    "    graph_embedding.transition_probabilities()\n",
    "    walks, S = graph_embedding.random_walks()\n",
    "\n",
    "    # Train node embeddings using Word2Vec\n",
    "    embeddings = graph_embedding.train_embedding(walks, params)\n",
    "\n",
    "    # Calculate the objective function\n",
    "    Z = embeddings.vectors.T\n",
    "    Z_transpose = np.transpose(Z)\n",
    "    diff = np.dot(Z_transpose, Z) - S\n",
    "    loss_func = np.linalg.norm(diff)\n",
    "\n",
    "    return loss_func"
   ]
  },
  {
   "cell_type": "code",
   "execution_count": null,
   "id": "d124618c",
   "metadata": {
    "ExecuteTime": {
     "end_time": "2023-09-07T19:27:12.184363Z",
     "start_time": "2023-09-07T19:27:12.169702Z"
    }
   },
   "outputs": [],
   "source": [
    "device = torch.device(\"cuda\" if torch.cuda.is_available() else \"cpu\")\n",
    "data_dir = \"Data/\"\n",
    "os.makedirs(data_dir, exist_ok=True)\n",
    "SEED = 42"
   ]
  },
  {
   "cell_type": "code",
   "execution_count": null,
   "id": "18bcac4a",
   "metadata": {
    "ExecuteTime": {
     "end_time": "2023-09-07T19:27:14.060529Z",
     "start_time": "2023-09-07T19:27:14.031948Z"
    }
   },
   "outputs": [],
   "source": [
    "dataset = Planetoid(root=data_dir, name=\"Cora\")\n",
    "data = dataset[0]"
   ]
  },
  {
   "cell_type": "code",
   "execution_count": 4,
   "id": "9ce886f1",
   "metadata": {
    "ExecuteTime": {
     "end_time": "2023-09-08T09:36:57.967010Z",
     "start_time": "2023-09-08T09:36:57.947016Z"
    }
   },
   "outputs": [
    {
     "data": {
      "text/plain": [
       "array([0.1   , 0.0001, 0.0001, 0.1   , 0.1   , 0.01  , 0.001 , 0.0001,\n",
       "       0.1   , 0.001 ])"
      ]
     },
     "execution_count": 4,
     "metadata": {},
     "output_type": "execute_result"
    }
   ],
   "source": [
    "import numpy as np\n",
    "np.random.choice([0.01, 0.1, 0.001,0.0001], 10)"
   ]
  },
  {
   "cell_type": "code",
   "execution_count": 13,
   "id": "38c9e961",
   "metadata": {
    "ExecuteTime": {
     "end_time": "2023-09-08T09:46:17.733772Z",
     "start_time": "2023-09-08T09:46:17.722751Z"
    }
   },
   "outputs": [
    {
     "data": {
      "text/plain": [
       "array([0.3954995 , 1.08851884, 3.29159999, 1.64117367, 3.84471808,\n",
       "       0.55133203, 1.66854335, 0.70950104, 2.32040086, 2.0576166 ,\n",
       "       3.6590112 , 3.51967905, 0.90412677, 2.55373185, 2.94813562,\n",
       "       0.9351806 , 1.37018046, 0.42081767, 0.47220347, 3.98646609,\n",
       "       0.55773281, 2.30218931, 1.81357128, 1.74829798, 0.25368243,\n",
       "       1.68290284, 2.82935655, 0.16473638, 2.88389399, 3.30561912,\n",
       "       1.30199194, 0.77321901, 2.32314872, 2.81440336, 0.69992628,\n",
       "       3.887801  , 0.80852634, 0.47160114, 1.18222454, 1.32204467,\n",
       "       3.50861822, 0.01490749, 1.79635725, 1.55414206, 0.7275717 ,\n",
       "       1.77557039, 1.86872234, 1.75445646, 1.81705467, 1.69512143])"
      ]
     },
     "execution_count": 13,
     "metadata": {},
     "output_type": "execute_result"
    }
   ],
   "source": [
    "np.random.uniform(0.0, 4.0, 50)"
   ]
  },
  {
   "cell_type": "code",
   "execution_count": 14,
   "id": "fdf84651",
   "metadata": {
    "ExecuteTime": {
     "end_time": "2023-09-08T10:49:33.687789Z",
     "start_time": "2023-09-08T10:49:33.671773Z"
    }
   },
   "outputs": [],
   "source": [
    "import datetime"
   ]
  },
  {
   "cell_type": "code",
   "execution_count": 25,
   "id": "06664929",
   "metadata": {
    "ExecuteTime": {
     "end_time": "2023-09-08T10:51:47.241922Z",
     "start_time": "2023-09-08T10:51:47.226361Z"
    }
   },
   "outputs": [],
   "source": [
    "today_date = datetime.date.today().strftime(\"%d_%m_%Y\")"
   ]
  },
  {
   "cell_type": "code",
   "execution_count": 26,
   "id": "d916ef28",
   "metadata": {
    "ExecuteTime": {
     "end_time": "2023-09-08T10:51:47.583768Z",
     "start_time": "2023-09-08T10:51:47.568957Z"
    }
   },
   "outputs": [
    {
     "data": {
      "text/plain": [
       "'08_09_2023'"
      ]
     },
     "execution_count": 26,
     "metadata": {},
     "output_type": "execute_result"
    }
   ],
   "source": [
    "today_date"
   ]
  },
  {
   "cell_type": "code",
   "execution_count": null,
   "id": "140ad950",
   "metadata": {},
   "outputs": [],
   "source": [
    "    def generate_random_walks(self):\n",
    "        G = self.graph\n",
    "        random_walks = []\n",
    "        num_nodes = len(G.nodes())\n",
    "        similarity_matrix = torch.zeros((num_nodes, num_nodes), device='cuda' if torch.cuda.is_available() else 'cpu')\n",
    "\n",
    "        for start_node in tqdm(G.nodes(), desc=\"Generating Random Walks\"):\n",
    "            for i in range(self.num_walks):\n",
    "                walk = [start_node]\n",
    "                walk_options = list(G[start_node])\n",
    "\n",
    "                if len(walk_options) == 0:\n",
    "                    break\n",
    "                first_step = np.random.choice(walk_options)\n",
    "                walk.append(first_step)\n",
    "\n",
    "                for _ in range(self.walk_length - 2):\n",
    "                    walk_options = list(G[walk[-1]])\n",
    "                    if len(walk_options) == 0:\n",
    "                        break\n",
    "                    current_node = walk[-1]\n",
    "                    probabilities = self.transition_probs[walk[-2]][\"probabilities\"][current_node]\n",
    "\n",
    "                    # Move probabilities to the GPU if available\n",
    "                    probabilities = torch.tensor(probabilities, device='cuda' if torch.cuda.is_available() else 'cpu')\n",
    "\n",
    "                    next_step = np.random.choice(walk_options, p=probabilities.cpu().numpy())\n",
    "                    walk.append(next_step)\n",
    "\n",
    "                    # Update the similarity matrix\n",
    "                    visited_nodes = set(walk)\n",
    "                    for node_j in G.nodes():\n",
    "                        if node_j == start_node:\n",
    "                            similarity_matrix[start_node][node_j] = 1.00\n",
    "                        elif node_j not in visited_nodes:\n",
    "                            similarity_matrix[start_node][node_j] = 0.00\n",
    "                        else:\n",
    "                            prob_ij = walk.count(node_j) / (self.walk_length - 1)\n",
    "                            similarity_matrix[start_node][node_j] += prob_ij\n",
    "\n",
    "                random_walks.append(walk)\n",
    "\n",
    "        np.random.shuffle(random_walks)\n",
    "\n",
    "        random_walks = [list(map(str, walk)) for walk in random_walks]\n",
    "\n",
    "        return random_walks, similarity_matrix"
   ]
  },
  {
   "cell_type": "code",
   "execution_count": null,
   "id": "167405ed",
   "metadata": {
    "ExecuteTime": {
     "end_time": "2023-09-07T21:31:11.841318Z",
     "start_time": "2023-09-07T21:31:11.830317Z"
    }
   },
   "outputs": [],
   "source": [
    "np.random.choice([32, 64, 6], 5)"
   ]
  },
  {
   "cell_type": "code",
   "execution_count": null,
   "id": "ce3017c2",
   "metadata": {
    "ExecuteTime": {
     "end_time": "2023-09-07T20:00:59.169270Z",
     "start_time": "2023-09-07T20:00:59.155864Z"
    }
   },
   "outputs": [],
   "source": [
    "data"
   ]
  },
  {
   "cell_type": "code",
   "execution_count": null,
   "id": "2916bc17",
   "metadata": {
    "ExecuteTime": {
     "end_time": "2023-09-07T19:27:14.664250Z",
     "start_time": "2023-09-07T19:27:14.467066Z"
    }
   },
   "outputs": [],
   "source": [
    "G = to_networkx(data, to_undirected=True)"
   ]
  },
  {
   "cell_type": "code",
   "execution_count": null,
   "id": "aa046a7d",
   "metadata": {},
   "outputs": [],
   "source": [
    "[\n",
    "    [1,2,3],\n",
    "    [1,2,4],\n",
    "    [2,1,3],\n",
    "    [2,4,2],\n",
    "    [3,1,4],\n",
    "    [3,1,2],\n",
    "    [4,1,4],\n",
    "    [4,2,1]\n",
    "]"
   ]
  },
  {
   "cell_type": "code",
   "execution_count": null,
   "id": "5a03e6f7",
   "metadata": {},
   "outputs": [],
   "source": []
  }
 ],
 "metadata": {
  "kernelspec": {
   "display_name": "torch",
   "language": "python",
   "name": "torch"
  },
  "language_info": {
   "codemirror_mode": {
    "name": "ipython",
    "version": 3
   },
   "file_extension": ".py",
   "mimetype": "text/x-python",
   "name": "python",
   "nbconvert_exporter": "python",
   "pygments_lexer": "ipython3",
   "version": "3.9.16"
  },
  "toc": {
   "base_numbering": 1,
   "nav_menu": {},
   "number_sections": true,
   "sideBar": true,
   "skip_h1_title": false,
   "title_cell": "Table of Contents",
   "title_sidebar": "Contents",
   "toc_cell": false,
   "toc_position": {},
   "toc_section_display": true,
   "toc_window_display": false
  }
 },
 "nbformat": 4,
 "nbformat_minor": 5
}
